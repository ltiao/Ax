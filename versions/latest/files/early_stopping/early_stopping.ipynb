{
 "cells": [
  {
   "attachments": {},
   "cell_type": "markdown",
   "id": "12fe3797",
   "metadata": {
    "papermill": {
     "duration": 0.00457,
     "end_time": "2024-08-22T06:42:49.109955",
     "exception": false,
     "start_time": "2024-08-22T06:42:49.105385",
     "status": "completed"
    },
    "tags": []
   },
   "source": [
    "## Trial-level early stopping in Ax\n",
    "\n",
    "This tutorial illustrates how to add a trial-level early stopping strategy to an Ax hyper-parameter optimization (HPO) loop. The goal of trial-level early stopping is to monitor the results of expensive evaluations and terminate those that are unlikely to produce promising results, freeing up resources to explore more configurations.\n",
    "\n",
    "Most of this tutorial is adapted from the [PyTorch Ax Multiobjective NAS Tutorial](https://pytorch.org/tutorials/intermediate/ax_multiobjective_nas_tutorial.html). The training job is different from the original in that we do not optimize `batch_size` or `epochs`. This was done for illustrative purposes, as each validation curve now has the same number of points. The companion training file `mnist_train_nas.py` has also been altered to log to Tensorboard during training.\n",
    "\n",
    "NOTE: Although the original NAS tutorial is for a multi-objective problem, this tutorial focuses on a single objective (validation accuracy) problem. Early stopping currently does not support \\\"true\\\" multi-objective stopping, although one can use [logical compositions of early stopping strategies](https://github.com/facebook/Ax/blob/main/ax/early_stopping/strategies/logical.py) to target multiple objectives separately. Early stopping for the multi-objective case is currently a work in progress."
   ]
  },
  {
   "cell_type": "code",
   "execution_count": 1,
   "id": "cb953f30",
   "metadata": {
    "execution": {
     "iopub.execute_input": "2024-08-22T06:42:49.120157Z",
     "iopub.status.busy": "2024-08-22T06:42:49.119509Z",
     "iopub.status.idle": "2024-08-22T06:42:53.317639Z",
     "shell.execute_reply": "2024-08-22T06:42:53.316951Z"
    },
    "papermill": {
     "duration": 4.205094,
     "end_time": "2024-08-22T06:42:53.319294",
     "exception": false,
     "start_time": "2024-08-22T06:42:49.114200",
     "status": "completed"
    },
    "tags": []
   },
   "outputs": [],
   "source": [
    "import os\n",
    "import tempfile\n",
    "\n",
    "from pathlib import Path\n",
    "\n",
    "import torchx\n",
    "\n",
    "from ax.core import Experiment, Objective, ParameterType, RangeParameter, SearchSpace\n",
    "from ax.core.optimization_config import OptimizationConfig\n",
    "\n",
    "from ax.early_stopping.strategies import PercentileEarlyStoppingStrategy\n",
    "from ax.metrics.tensorboard import TensorboardMetric\n",
    "\n",
    "from ax.modelbridge.dispatch_utils import choose_generation_strategy\n",
    "\n",
    "from ax.runners.torchx import TorchXRunner\n",
    "\n",
    "from ax.service.scheduler import Scheduler, SchedulerOptions\n",
    "from ax.service.utils.report_utils import exp_to_df\n",
    "\n",
    "from tensorboard.backend.event_processing import plugin_event_multiplexer as event_multiplexer\n",
    "\n",
    "from torchx import specs\n",
    "from torchx.components import utils\n",
    "\n",
    "from matplotlib import pyplot as plt\n",
    "\n",
    "\n",
    "%matplotlib inline"
   ]
  },
  {
   "cell_type": "code",
   "execution_count": 2,
   "id": "8a7bd328",
   "metadata": {
    "execution": {
     "iopub.execute_input": "2024-08-22T06:42:53.329657Z",
     "iopub.status.busy": "2024-08-22T06:42:53.329024Z",
     "iopub.status.idle": "2024-08-22T06:42:53.332571Z",
     "shell.execute_reply": "2024-08-22T06:42:53.331936Z"
    },
    "papermill": {
     "duration": 0.009862,
     "end_time": "2024-08-22T06:42:53.333807",
     "exception": false,
     "start_time": "2024-08-22T06:42:53.323945",
     "status": "completed"
    },
    "tags": []
   },
   "outputs": [],
   "source": [
    "SMOKE_TEST = os.environ.get(\"SMOKE_TEST\")"
   ]
  },
  {
   "attachments": {},
   "cell_type": "markdown",
   "id": "fe2cf6fe",
   "metadata": {
    "papermill": {
     "duration": 0.004208,
     "end_time": "2024-08-22T06:42:53.342404",
     "exception": false,
     "start_time": "2024-08-22T06:42:53.338196",
     "status": "completed"
    },
    "tags": []
   },
   "source": [
    "## Defining the TorchX App\n",
    "\n",
    "Our goal is to optimize the PyTorch Lightning training job defined in\n",
    "[mnist_train_nas.py](https://github.com/pytorch/tutorials/tree/master/intermediate_source/mnist_train_nas.py)_.\n",
    "To do this using TorchX, we write a helper function that takes in\n",
    "the values of the architcture and hyperparameters of the training\n",
    "job and creates a [TorchX AppDef](https://pytorch.org/torchx/latest/basics.html)_\n",
    "with the appropriate settings.\n",
    "\n"
   ]
  },
  {
   "cell_type": "code",
   "execution_count": 3,
   "id": "2e21d309",
   "metadata": {
    "execution": {
     "iopub.execute_input": "2024-08-22T06:42:53.352221Z",
     "iopub.status.busy": "2024-08-22T06:42:53.351642Z",
     "iopub.status.idle": "2024-08-22T06:42:53.355098Z",
     "shell.execute_reply": "2024-08-22T06:42:53.354459Z"
    },
    "papermill": {
     "duration": 0.009998,
     "end_time": "2024-08-22T06:42:53.356482",
     "exception": false,
     "start_time": "2024-08-22T06:42:53.346484",
     "status": "completed"
    },
    "tags": []
   },
   "outputs": [],
   "source": [
    "if SMOKE_TEST:\n",
    "    epochs = 3\n",
    "else:\n",
    "    epochs = 10"
   ]
  },
  {
   "cell_type": "code",
   "execution_count": 4,
   "id": "b423923c",
   "metadata": {
    "execution": {
     "iopub.execute_input": "2024-08-22T06:42:53.366478Z",
     "iopub.status.busy": "2024-08-22T06:42:53.365892Z",
     "iopub.status.idle": "2024-08-22T06:42:53.371119Z",
     "shell.execute_reply": "2024-08-22T06:42:53.370401Z"
    },
    "papermill": {
     "duration": 0.01163,
     "end_time": "2024-08-22T06:42:53.372446",
     "exception": false,
     "start_time": "2024-08-22T06:42:53.360816",
     "status": "completed"
    },
    "tags": []
   },
   "outputs": [],
   "source": [
    "def trainer(\n",
    "    log_path: str,\n",
    "    hidden_size_1: int,\n",
    "    hidden_size_2: int,\n",
    "    learning_rate: float,\n",
    "    dropout: float,\n",
    "    trial_idx: int = -1,\n",
    ") -> specs.AppDef:\n",
    "\n",
    "    # define the log path so we can pass it to the TorchX AppDef\n",
    "    if trial_idx >= 0:\n",
    "        log_path = Path(log_path).joinpath(str(trial_idx)).absolute().as_posix()\n",
    "\n",
    "    batch_size = 32\n",
    "\n",
    "    return utils.python(\n",
    "        # command line args to the training script\n",
    "        \"--log_path\",\n",
    "        log_path,\n",
    "        \"--hidden_size_1\",\n",
    "        str(hidden_size_1),\n",
    "        \"--hidden_size_2\",\n",
    "        str(hidden_size_2),\n",
    "        \"--learning_rate\",\n",
    "        str(learning_rate),\n",
    "        \"--epochs\",\n",
    "        str(epochs),\n",
    "        \"--dropout\",\n",
    "        str(dropout),\n",
    "        \"--batch_size\",\n",
    "        str(batch_size),\n",
    "        # other config options\n",
    "        name=\"trainer\",\n",
    "        script=\"tutorials/early_stopping/mnist_train_nas.py\",\n",
    "        image=torchx.version.TORCHX_IMAGE,\n",
    "    )"
   ]
  },
  {
   "attachments": {},
   "cell_type": "markdown",
   "id": "65f7011d",
   "metadata": {
    "papermill": {
     "duration": 0.004288,
     "end_time": "2024-08-22T06:42:53.381224",
     "exception": false,
     "start_time": "2024-08-22T06:42:53.376936",
     "status": "completed"
    },
    "tags": []
   },
   "source": [
    "## Setting up the Runner\n",
    "\n",
    "Ax’s [Runner](https://ax.dev/api/core.html#ax.core.runner.Runner)\n",
    "abstraction allows writing interfaces to various backends.\n",
    "Ax already comes with Runner for TorchX, so we just need to\n",
    "configure it. For the purpose of this tutorial, we run jobs locally\n",
    "in a fully asynchronous fashion. In order to launch them on a cluster, you can instead specify a\n",
    "different TorchX scheduler and adjust the configuration appropriately.\n",
    "For example, if you have a Kubernetes cluster, you just need to change the\n",
    "scheduler from ``local_cwd`` to ``kubernetes``.\n",
    "\n",
    "The training job launched by this runner will log partial results to Tensorboard, which will then be monitored by the early stopping strategy. We will show how this is done using an Ax \n",
    "[TensorboardMetric](https://ax.dev/api/metrics.html#module-ax.metrics.tensorboard) below."
   ]
  },
  {
   "cell_type": "code",
   "execution_count": 5,
   "id": "998e5835",
   "metadata": {
    "execution": {
     "iopub.execute_input": "2024-08-22T06:42:53.391147Z",
     "iopub.status.busy": "2024-08-22T06:42:53.390633Z",
     "iopub.status.idle": "2024-08-22T06:42:53.405106Z",
     "shell.execute_reply": "2024-08-22T06:42:53.404492Z"
    },
    "papermill": {
     "duration": 0.021501,
     "end_time": "2024-08-22T06:42:53.406863",
     "exception": false,
     "start_time": "2024-08-22T06:42:53.385362",
     "status": "completed"
    },
    "tags": []
   },
   "outputs": [],
   "source": [
    "# Make a temporary dir to log our results into\n",
    "log_dir = tempfile.mkdtemp()\n",
    "\n",
    "ax_runner = TorchXRunner(\n",
    "    tracker_base=\"/tmp/\",\n",
    "    component=trainer,\n",
    "    # NOTE: To launch this job on a cluster instead of locally you can\n",
    "    # specify a different scheduler and adjust args appropriately.\n",
    "    scheduler=\"local_cwd\",\n",
    "    component_const_params={\"log_path\": log_dir},\n",
    "    cfg={},\n",
    ")"
   ]
  },
  {
   "attachments": {},
   "cell_type": "markdown",
   "id": "2fec7495",
   "metadata": {
    "papermill": {
     "duration": 0.004311,
     "end_time": "2024-08-22T06:42:53.415955",
     "exception": false,
     "start_time": "2024-08-22T06:42:53.411644",
     "status": "completed"
    },
    "tags": []
   },
   "source": [
    "## Setting up the SearchSpace\n",
    "\n",
    "First, we define our search space. Ax supports both range parameters\n",
    "of type integer and float as well as choice parameters which can have\n",
    "non-numerical types such as strings.\n",
    "We will tune the hidden sizes, learning rate, and dropout parameters."
   ]
  },
  {
   "cell_type": "code",
   "execution_count": 6,
   "id": "cf6f869f",
   "metadata": {
    "execution": {
     "iopub.execute_input": "2024-08-22T06:42:53.426440Z",
     "iopub.status.busy": "2024-08-22T06:42:53.425750Z",
     "iopub.status.idle": "2024-08-22T06:42:53.431296Z",
     "shell.execute_reply": "2024-08-22T06:42:53.430681Z"
    },
    "papermill": {
     "duration": 0.012287,
     "end_time": "2024-08-22T06:42:53.432593",
     "exception": false,
     "start_time": "2024-08-22T06:42:53.420306",
     "status": "completed"
    },
    "tags": []
   },
   "outputs": [],
   "source": [
    "parameters = [\n",
    "    # NOTE: In a real-world setting, hidden_size_1 and hidden_size_2\n",
    "    # should probably be powers of 2, but in our simple example this\n",
    "    # would mean that num_params can't take on that many values, which\n",
    "    # in turn makes the Pareto frontier look pretty weird.\n",
    "    RangeParameter(\n",
    "        name=\"hidden_size_1\",\n",
    "        lower=16,\n",
    "        upper=128,\n",
    "        parameter_type=ParameterType.INT,\n",
    "        log_scale=True,\n",
    "    ),\n",
    "    RangeParameter(\n",
    "        name=\"hidden_size_2\",\n",
    "        lower=16,\n",
    "        upper=128,\n",
    "        parameter_type=ParameterType.INT,\n",
    "        log_scale=True,\n",
    "    ),\n",
    "    RangeParameter(\n",
    "        name=\"learning_rate\",\n",
    "        lower=1e-4,\n",
    "        upper=1e-2,\n",
    "        parameter_type=ParameterType.FLOAT,\n",
    "        log_scale=True,\n",
    "    ),\n",
    "    RangeParameter(\n",
    "        name=\"dropout\",\n",
    "        lower=0.0,\n",
    "        upper=0.5,\n",
    "        parameter_type=ParameterType.FLOAT,\n",
    "    ),\n",
    "]\n",
    "\n",
    "search_space = SearchSpace(\n",
    "    parameters=parameters,\n",
    "    # NOTE: In practice, it may make sense to add a constraint\n",
    "    # hidden_size_2 <= hidden_size_1\n",
    "    parameter_constraints=[],\n",
    ")"
   ]
  },
  {
   "attachments": {},
   "cell_type": "markdown",
   "id": "a8005e80",
   "metadata": {
    "papermill": {
     "duration": 0.004473,
     "end_time": "2024-08-22T06:42:53.441747",
     "exception": false,
     "start_time": "2024-08-22T06:42:53.437274",
     "status": "completed"
    },
    "tags": []
   },
   "source": [
    "## Setting up Metrics\n",
    "\n",
    "Ax has the concept of a Metric that defines properties of outcomes and how observations are obtained for these outcomes. This allows e.g. encodig how data is fetched from some distributed execution backend and post-processed before being passed as input to Ax.\n",
    "\n",
    "We will optimize the validation accuracy, which is a `TensorboardMetric` that points to the logging directory assigned above. Note that we have set `is_available_while_running`, allowing for the metric to be queried as the trial progresses. This is critical for the early stopping strategy to monitor partial results."
   ]
  },
  {
   "cell_type": "code",
   "execution_count": 7,
   "id": "0775a96e",
   "metadata": {
    "execution": {
     "iopub.execute_input": "2024-08-22T06:42:53.452009Z",
     "iopub.status.busy": "2024-08-22T06:42:53.451457Z",
     "iopub.status.idle": "2024-08-22T06:42:53.456137Z",
     "shell.execute_reply": "2024-08-22T06:42:53.455488Z"
    },
    "papermill": {
     "duration": 0.011368,
     "end_time": "2024-08-22T06:42:53.457504",
     "exception": false,
     "start_time": "2024-08-22T06:42:53.446136",
     "status": "completed"
    },
    "tags": []
   },
   "outputs": [],
   "source": [
    "class MyTensorboardMetric(TensorboardMetric):\n",
    "\n",
    "    # NOTE: We need to tell the new Tensorboard metric how to get the id /\n",
    "    # file handle for the tensorboard logs from a trial. In this case\n",
    "    # our convention is to just save a separate file per trial in\n",
    "    # the pre-specified log dir.\n",
    "    def _get_event_multiplexer_for_trial(self, trial):\n",
    "        mul = event_multiplexer.EventMultiplexer(max_reload_threads=20)\n",
    "        mul.AddRunsFromDirectory(Path(log_dir).joinpath(str(trial.index)).as_posix(), None)\n",
    "        mul.Reload()\n",
    "\n",
    "        return mul\n",
    "\n",
    "    # This indicates whether the metric is queryable while the trial is\n",
    "    # still running. This is required for early stopping to monitor the\n",
    "    # progress of the running trial.ArithmeticError\n",
    "    @classmethod\n",
    "    def is_available_while_running(cls):\n",
    "        return True"
   ]
  },
  {
   "cell_type": "code",
   "execution_count": 8,
   "id": "a5c5a7d0",
   "metadata": {
    "execution": {
     "iopub.execute_input": "2024-08-22T06:42:53.467874Z",
     "iopub.status.busy": "2024-08-22T06:42:53.467353Z",
     "iopub.status.idle": "2024-08-22T06:42:53.470818Z",
     "shell.execute_reply": "2024-08-22T06:42:53.470129Z"
    },
    "papermill": {
     "duration": 0.010051,
     "end_time": "2024-08-22T06:42:53.472103",
     "exception": false,
     "start_time": "2024-08-22T06:42:53.462052",
     "status": "completed"
    },
    "tags": []
   },
   "outputs": [],
   "source": [
    "val_acc = MyTensorboardMetric(\n",
    "    name=\"val_acc\",\n",
    "    tag=\"val_acc\",\n",
    "    lower_is_better=False,\n",
    ")"
   ]
  },
  {
   "attachments": {},
   "cell_type": "markdown",
   "id": "d4f3ba5d",
   "metadata": {
    "papermill": {
     "duration": 0.004285,
     "end_time": "2024-08-22T06:42:53.480857",
     "exception": false,
     "start_time": "2024-08-22T06:42:53.476572",
     "status": "completed"
    },
    "tags": []
   },
   "source": [
    "## Setting up the OptimizationConfig\n",
    "\n",
    "The `OptimizationConfig` specifies the objective for Ax to optimize."
   ]
  },
  {
   "cell_type": "code",
   "execution_count": 9,
   "id": "ada66cf3",
   "metadata": {
    "execution": {
     "iopub.execute_input": "2024-08-22T06:42:53.491647Z",
     "iopub.status.busy": "2024-08-22T06:42:53.491001Z",
     "iopub.status.idle": "2024-08-22T06:42:53.494701Z",
     "shell.execute_reply": "2024-08-22T06:42:53.494067Z"
    },
    "papermill": {
     "duration": 0.010589,
     "end_time": "2024-08-22T06:42:53.496025",
     "exception": false,
     "start_time": "2024-08-22T06:42:53.485436",
     "status": "completed"
    },
    "tags": []
   },
   "outputs": [],
   "source": [
    "opt_config = OptimizationConfig(\n",
    "    objective=Objective(\n",
    "        metric=val_acc,\n",
    "        minimize=False,\n",
    "    )\n",
    ")"
   ]
  },
  {
   "attachments": {},
   "cell_type": "markdown",
   "id": "57aa9cf7",
   "metadata": {
    "papermill": {
     "duration": 0.004368,
     "end_time": "2024-08-22T06:42:53.504819",
     "exception": false,
     "start_time": "2024-08-22T06:42:53.500451",
     "status": "completed"
    },
    "tags": []
   },
   "source": [
    "## Defining an Early Stopping Strategy\n",
    "\n",
    "A `PercentileEarlyStoppingStrategy` is a simple method that stops a trial if its performance falls below a certain percentile of other trials at the same step (e.g., when `percentile_threshold` is 50, at a given point in time, if a trial ranks in the bottom 50% of trials, it is stopped). \n",
    "- We make use of `normalize_progressions` which normalizes the progression column (e.g. timestamp, epochs, training data used) to be in [0, 1]. This is useful because one doesn't need to know the maximum progression values of the curve (which might be, e.g., the total number of data points in the training dataset).\n",
    "- The `min_progression` parameter specifies that trials should only be considered for stopping if the latest progression value is greater than this threshold.\n",
    "- The `min_curves` parameter specifies the minimum number of completed curves (i.e., fully completed training jobs) before early stopping will be considered. This should be larger than zero if `normalize_progression` is used. In general, we want a few completed curves to have a baseline for comparison.\n",
    "\n",
    "Note that `PercentileEarlyStoppingStrategy` does not make use of learning curve modeling or prediction. More sophisticated model-based methods will be available in future versions of Ax."
   ]
  },
  {
   "cell_type": "code",
   "execution_count": 10,
   "id": "949e8ab5",
   "metadata": {
    "execution": {
     "iopub.execute_input": "2024-08-22T06:42:53.514942Z",
     "iopub.status.busy": "2024-08-22T06:42:53.514420Z",
     "iopub.status.idle": "2024-08-22T06:42:53.518201Z",
     "shell.execute_reply": "2024-08-22T06:42:53.517530Z"
    },
    "papermill": {
     "duration": 0.010407,
     "end_time": "2024-08-22T06:42:53.519480",
     "exception": false,
     "start_time": "2024-08-22T06:42:53.509073",
     "status": "completed"
    },
    "tags": []
   },
   "outputs": [],
   "source": [
    "percentile_early_stopping_strategy = PercentileEarlyStoppingStrategy(\n",
    "    # stop if in bottom 70% of runs at the same progression\n",
    "    percentile_threshold=70,\n",
    "    # the trial must have passed `min_progression` steps before early stopping is initiated\n",
    "    # note that we are using `normalize_progressions`, so this is on a scale of [0, 1]\n",
    "    min_progression=0.3,\n",
    "    # there must be `min_curves` completed trials and `min_curves` trials reporting data in\n",
    "    # order for early stopping to be applicable\n",
    "    min_curves=5,\n",
    "    # specify, e.g., [0, 1] if the first two trials should never be stopped\n",
    "    trial_indices_to_ignore=None,\n",
    "    # check for new data every 10 seconds\n",
    "    seconds_between_polls=10,\n",
    "    normalize_progressions=True,\n",
    ")"
   ]
  },
  {
   "attachments": {},
   "cell_type": "markdown",
   "id": "2665ca93",
   "metadata": {
    "papermill": {
     "duration": 0.004182,
     "end_time": "2024-08-22T06:42:53.528217",
     "exception": false,
     "start_time": "2024-08-22T06:42:53.524035",
     "status": "completed"
    },
    "tags": []
   },
   "source": [
    "## Creating the Ax Experiment\n",
    "\n",
    "In Ax, the Experiment object is the object that stores all the information about the problem setup."
   ]
  },
  {
   "cell_type": "code",
   "execution_count": 11,
   "id": "12849b31",
   "metadata": {
    "execution": {
     "iopub.execute_input": "2024-08-22T06:42:53.538753Z",
     "iopub.status.busy": "2024-08-22T06:42:53.538207Z",
     "iopub.status.idle": "2024-08-22T06:42:53.541879Z",
     "shell.execute_reply": "2024-08-22T06:42:53.541220Z"
    },
    "papermill": {
     "duration": 0.01068,
     "end_time": "2024-08-22T06:42:53.543139",
     "exception": false,
     "start_time": "2024-08-22T06:42:53.532459",
     "status": "completed"
    },
    "tags": []
   },
   "outputs": [],
   "source": [
    "experiment = Experiment(\n",
    "    name=\"torchx_mnist\",\n",
    "    search_space=search_space,\n",
    "    optimization_config=opt_config,\n",
    "    runner=ax_runner,\n",
    ")"
   ]
  },
  {
   "attachments": {},
   "cell_type": "markdown",
   "id": "49a4ed0e",
   "metadata": {
    "papermill": {
     "duration": 0.004507,
     "end_time": "2024-08-22T06:42:53.552550",
     "exception": false,
     "start_time": "2024-08-22T06:42:53.548043",
     "status": "completed"
    },
    "tags": []
   },
   "source": [
    "## Choosing the GenerationStrategy\n",
    "\n",
    "A [GenerationStrategy](https://ax.dev/api/modelbridge.html#ax.modelbridge.generation_strategy.GenerationStrategy)\n",
    "is the abstract representation of how we would like to perform the\n",
    "optimization. While this can be customized (if you’d like to do so, see\n",
    "[this tutorial](https://ax.dev/tutorials/generation_strategy.html)),\n",
    "in most cases Ax can automatically determine an appropriate strategy\n",
    "based on the search space, optimization config, and the total number\n",
    "of trials we want to run.\n",
    "\n",
    "Typically, Ax chooses to evaluate a number of random configurations\n",
    "before starting a model-based Bayesian Optimization strategy.\n",
    "\n",
    "We remark that in Ax, generation strategies and early stopping strategies are separate, a design decision motivated by ease-of-use. However, we should acknowledge that jointly considering generation and stopping using a single strategy would likely be the \"proper\" formulation."
   ]
  },
  {
   "cell_type": "code",
   "execution_count": 12,
   "id": "e38d0237",
   "metadata": {
    "execution": {
     "iopub.execute_input": "2024-08-22T06:42:53.563449Z",
     "iopub.status.busy": "2024-08-22T06:42:53.562788Z",
     "iopub.status.idle": "2024-08-22T06:42:53.571202Z",
     "shell.execute_reply": "2024-08-22T06:42:53.570491Z"
    },
    "papermill": {
     "duration": 0.015707,
     "end_time": "2024-08-22T06:42:53.572817",
     "exception": false,
     "start_time": "2024-08-22T06:42:53.557110",
     "status": "completed"
    },
    "tags": []
   },
   "outputs": [
    {
     "name": "stderr",
     "output_type": "stream",
     "text": [
      "[INFO 08-22 06:42:53] ax.modelbridge.dispatch_utils: Using Models.BOTORCH_MODULAR since there is at least one ordered parameter and there are no unordered categorical parameters.\n"
     ]
    },
    {
     "name": "stderr",
     "output_type": "stream",
     "text": [
      "[INFO 08-22 06:42:53] ax.modelbridge.dispatch_utils: Calculating the number of remaining initialization trials based on num_initialization_trials=None max_initialization_trials=None num_tunable_parameters=4 num_trials=15 use_batch_trials=False\n"
     ]
    },
    {
     "name": "stderr",
     "output_type": "stream",
     "text": [
      "[INFO 08-22 06:42:53] ax.modelbridge.dispatch_utils: calculated num_initialization_trials=5\n"
     ]
    },
    {
     "name": "stderr",
     "output_type": "stream",
     "text": [
      "[INFO 08-22 06:42:53] ax.modelbridge.dispatch_utils: num_completed_initialization_trials=0 num_remaining_initialization_trials=5\n"
     ]
    },
    {
     "name": "stderr",
     "output_type": "stream",
     "text": [
      "[INFO 08-22 06:42:53] ax.modelbridge.dispatch_utils: `verbose`, `disable_progbar`, and `jit_compile` are not yet supported when using `choose_generation_strategy` with ModularBoTorchModel, dropping these arguments.\n"
     ]
    },
    {
     "name": "stderr",
     "output_type": "stream",
     "text": [
      "[INFO 08-22 06:42:53] ax.modelbridge.dispatch_utils: Using Bayesian Optimization generation strategy: GenerationStrategy(name='Sobol+BoTorch', steps=[Sobol for 5 trials, BoTorch for subsequent trials]). Iterations after 5 will take longer to generate due to model-fitting.\n"
     ]
    }
   ],
   "source": [
    "if SMOKE_TEST:\n",
    "    total_trials = 6\n",
    "else:\n",
    "    total_trials = 15  # total evaluation budget\n",
    "\n",
    "gs = choose_generation_strategy(\n",
    "    search_space=experiment.search_space,\n",
    "    optimization_config=experiment.optimization_config,\n",
    "    num_trials=total_trials,\n",
    ")"
   ]
  },
  {
   "attachments": {},
   "cell_type": "markdown",
   "id": "78d86fea",
   "metadata": {
    "papermill": {
     "duration": 0.005066,
     "end_time": "2024-08-22T06:42:53.583186",
     "exception": false,
     "start_time": "2024-08-22T06:42:53.578120",
     "status": "completed"
    },
    "tags": []
   },
   "source": [
    "## Configuring the Scheduler\n",
    "\n",
    "The `Scheduler` acts as the loop control for the optimization.\n",
    "It communicates with the backend to launch trials, check their status, retrieve (partial) results, and importantly for this tutorial, calls the early stopping strategy. If the early stopping strategy suggests a trial to be the stopped, the `Scheduler` communicates with the backend to terminate the trial.\n",
    "\n",
    "The ``Scheduler`` requires the ``Experiment`` and the ``GenerationStrategy``.\n",
    "A set of options can be passed in via ``SchedulerOptions``. Here, we\n",
    "configure the number of total evaluations as well as ``max_pending_trials``,\n",
    "the maximum number of trials that should run concurrently. In our\n",
    "local setting, this is the number of training jobs running as individual\n",
    "processes, while in a remote execution setting, this would be the number\n",
    "of machines you want to use in parallel.\n"
   ]
  },
  {
   "cell_type": "code",
   "execution_count": 13,
   "id": "499fb9b5",
   "metadata": {
    "execution": {
     "iopub.execute_input": "2024-08-22T06:42:53.594519Z",
     "iopub.status.busy": "2024-08-22T06:42:53.593997Z",
     "iopub.status.idle": "2024-08-22T06:42:53.598887Z",
     "shell.execute_reply": "2024-08-22T06:42:53.598264Z"
    },
    "papermill": {
     "duration": 0.01211,
     "end_time": "2024-08-22T06:42:53.600160",
     "exception": false,
     "start_time": "2024-08-22T06:42:53.588050",
     "status": "completed"
    },
    "tags": []
   },
   "outputs": [
    {
     "name": "stderr",
     "output_type": "stream",
     "text": [
      "[INFO 08-22 06:42:53] Scheduler: `Scheduler` requires experiment to have immutable search space and optimization config. Setting property immutable_search_space_and_opt_config to `True` on experiment.\n"
     ]
    }
   ],
   "source": [
    "scheduler = Scheduler(\n",
    "    experiment=experiment,\n",
    "    generation_strategy=gs,\n",
    "    options=SchedulerOptions(\n",
    "        total_trials=total_trials,\n",
    "        max_pending_trials=5,\n",
    "        early_stopping_strategy=percentile_early_stopping_strategy,\n",
    "    ),\n",
    ")"
   ]
  },
  {
   "cell_type": "code",
   "execution_count": 14,
   "id": "78257ebb",
   "metadata": {
    "execution": {
     "iopub.execute_input": "2024-08-22T06:42:53.611910Z",
     "iopub.status.busy": "2024-08-22T06:42:53.611308Z",
     "iopub.status.idle": "2024-08-22T07:13:19.500858Z",
     "shell.execute_reply": "2024-08-22T07:13:19.500184Z"
    },
    "papermill": {
     "duration": 1825.896968,
     "end_time": "2024-08-22T07:13:19.502395",
     "exception": false,
     "start_time": "2024-08-22T06:42:53.605427",
     "status": "completed"
    },
    "tags": []
   },
   "outputs": [
    {
     "name": "stderr",
     "output_type": "stream",
     "text": [
      "[INFO 08-22 06:42:53] Scheduler: Fetching data for newly completed trials: [].\n"
     ]
    },
    {
     "name": "stderr",
     "output_type": "stream",
     "text": [
      "[INFO 08-22 06:42:53] ax.early_stopping.strategies.base: PercentileEarlyStoppingStrategy received empty data. Not stopping any trials.\n"
     ]
    },
    {
     "name": "stderr",
     "output_type": "stream",
     "text": [
      "/tmp/tmp.oVbuNeLNgw/Ax-main/ax/modelbridge/cross_validation.py:463: UserWarning: Encountered exception in computing model fit quality: RandomModelBridge does not support prediction.\n",
      "  warn(\"Encountered exception in computing model fit quality: \" + str(e))\n",
      "[INFO 08-22 06:42:53] Scheduler: Running trials [0]...\n"
     ]
    },
    {
     "name": "stderr",
     "output_type": "stream",
     "text": [
      "/tmp/tmp.oVbuNeLNgw/Ax-main/ax/modelbridge/cross_validation.py:463: UserWarning: Encountered exception in computing model fit quality: RandomModelBridge does not support prediction.\n",
      "  warn(\"Encountered exception in computing model fit quality: \" + str(e))\n",
      "[INFO 08-22 06:42:54] Scheduler: Running trials [1]...\n"
     ]
    },
    {
     "name": "stderr",
     "output_type": "stream",
     "text": [
      "/tmp/tmp.oVbuNeLNgw/Ax-main/ax/modelbridge/cross_validation.py:463: UserWarning: Encountered exception in computing model fit quality: RandomModelBridge does not support prediction.\n",
      "  warn(\"Encountered exception in computing model fit quality: \" + str(e))\n",
      "[INFO 08-22 06:42:55] Scheduler: Running trials [2]...\n"
     ]
    },
    {
     "name": "stderr",
     "output_type": "stream",
     "text": [
      "/tmp/tmp.oVbuNeLNgw/Ax-main/ax/modelbridge/cross_validation.py:463: UserWarning: Encountered exception in computing model fit quality: RandomModelBridge does not support prediction.\n",
      "  warn(\"Encountered exception in computing model fit quality: \" + str(e))\n",
      "[INFO 08-22 06:42:56] Scheduler: Running trials [3]...\n"
     ]
    },
    {
     "name": "stderr",
     "output_type": "stream",
     "text": [
      "/tmp/tmp.oVbuNeLNgw/Ax-main/ax/modelbridge/cross_validation.py:463: UserWarning: Encountered exception in computing model fit quality: RandomModelBridge does not support prediction.\n",
      "  warn(\"Encountered exception in computing model fit quality: \" + str(e))\n",
      "[INFO 08-22 06:42:57] Scheduler: Running trials [4]...\n"
     ]
    },
    {
     "name": "stderr",
     "output_type": "stream",
     "text": [
      "[WARNING 08-22 06:42:58] Scheduler: Both `init_seconds_between_polls` and `early_stopping_strategy supplied. `init_seconds_between_polls=1` will be overrridden by `early_stopping_strategy.seconds_between_polls=10` and polling will take place at a constant rate.\n"
     ]
    },
    {
     "name": "stderr",
     "output_type": "stream",
     "text": [
      "[INFO 08-22 06:42:58] Scheduler: Fetching data for newly completed trials: [].\n"
     ]
    },
    {
     "name": "stderr",
     "output_type": "stream",
     "text": [
      "[INFO 08-22 06:42:58] Scheduler: Fetching data for trials: 0 - 4 because some metrics on experiment are available while trials are running.\n"
     ]
    },
    {
     "name": "stderr",
     "output_type": "stream",
     "text": [
      "[INFO 08-22 06:42:58] ax.core.metric: MetricFetchE INFO: Initialized MetricFetchE(message=\"No 'scalar' data found for trial in multiplexer mul=<tensorboard.backend.event_processing.plugin_event_multiplexer.EventMultiplexer object at 0x7f65bb3cdde0>\")\n"
     ]
    },
    {
     "name": "stderr",
     "output_type": "stream",
     "text": [
      "[INFO 08-22 06:42:58] ax.core.metric: MetricFetchE INFO: Initialized MetricFetchE(message=\"No 'scalar' data found for trial in multiplexer mul=<tensorboard.backend.event_processing.plugin_event_multiplexer.EventMultiplexer object at 0x7f65bb3cc580>\")\n"
     ]
    },
    {
     "name": "stderr",
     "output_type": "stream",
     "text": [
      "[INFO 08-22 06:42:58] ax.core.metric: MetricFetchE INFO: Initialized MetricFetchE(message=\"No 'scalar' data found for trial in multiplexer mul=<tensorboard.backend.event_processing.plugin_event_multiplexer.EventMultiplexer object at 0x7f65bb3cdcc0>\")\n"
     ]
    },
    {
     "name": "stderr",
     "output_type": "stream",
     "text": [
      "[INFO 08-22 06:42:58] ax.core.metric: MetricFetchE INFO: Initialized MetricFetchE(message=\"No 'scalar' data found for trial in multiplexer mul=<tensorboard.backend.event_processing.plugin_event_multiplexer.EventMultiplexer object at 0x7f65bb3ccfa0>\")\n"
     ]
    },
    {
     "name": "stderr",
     "output_type": "stream",
     "text": [
      "[INFO 08-22 06:42:58] ax.core.metric: MetricFetchE INFO: Initialized MetricFetchE(message=\"No 'scalar' data found for trial in multiplexer mul=<tensorboard.backend.event_processing.plugin_event_multiplexer.EventMultiplexer object at 0x7f65bb3cdcf0>\")\n"
     ]
    },
    {
     "name": "stderr",
     "output_type": "stream",
     "text": [
      "[ERROR 08-22 06:42:58] ax.core.experiment: Discovered Metric fetching Err while attaching data MetricFetchE(message=\"No 'scalar' data found for trial in multiplexer mul=<tensorboard.backend.event_processing.plugin_event_multiplexer.EventMultiplexer object at 0x7f65bb3cdde0>\"). Ignoring for now -- will retry query on next call to fetch.\n"
     ]
    },
    {
     "name": "stderr",
     "output_type": "stream",
     "text": [
      "[ERROR 08-22 06:42:58] ax.core.experiment: Discovered Metric fetching Err while attaching data MetricFetchE(message=\"No 'scalar' data found for trial in multiplexer mul=<tensorboard.backend.event_processing.plugin_event_multiplexer.EventMultiplexer object at 0x7f65bb3cc580>\"). Ignoring for now -- will retry query on next call to fetch.\n"
     ]
    },
    {
     "name": "stderr",
     "output_type": "stream",
     "text": [
      "[ERROR 08-22 06:42:58] ax.core.experiment: Discovered Metric fetching Err while attaching data MetricFetchE(message=\"No 'scalar' data found for trial in multiplexer mul=<tensorboard.backend.event_processing.plugin_event_multiplexer.EventMultiplexer object at 0x7f65bb3cdcc0>\"). Ignoring for now -- will retry query on next call to fetch.\n"
     ]
    },
    {
     "name": "stderr",
     "output_type": "stream",
     "text": [
      "[ERROR 08-22 06:42:58] ax.core.experiment: Discovered Metric fetching Err while attaching data MetricFetchE(message=\"No 'scalar' data found for trial in multiplexer mul=<tensorboard.backend.event_processing.plugin_event_multiplexer.EventMultiplexer object at 0x7f65bb3ccfa0>\"). Ignoring for now -- will retry query on next call to fetch.\n"
     ]
    },
    {
     "name": "stderr",
     "output_type": "stream",
     "text": [
      "[ERROR 08-22 06:42:58] ax.core.experiment: Discovered Metric fetching Err while attaching data MetricFetchE(message=\"No 'scalar' data found for trial in multiplexer mul=<tensorboard.backend.event_processing.plugin_event_multiplexer.EventMultiplexer object at 0x7f65bb3cdcf0>\"). Ignoring for now -- will retry query on next call to fetch.\n"
     ]
    },
    {
     "name": "stderr",
     "output_type": "stream",
     "text": [
      "[WARNING 08-22 06:42:58] Scheduler: Failed to fetch val_acc for trial 0, found MetricFetchE(message=\"No 'scalar' data found for trial in multiplexer mul=<tensorboard.backend.event_processing.plugin_event_multiplexer.EventMultiplexer object at 0x7f65bb3cdde0>\").\n"
     ]
    },
    {
     "name": "stderr",
     "output_type": "stream",
     "text": [
      "[INFO 08-22 06:42:58] Scheduler: MetricFetchE INFO: Because val_acc is available_while_running and trial 0 is still RUNNING continuing the experiment and retrying on next poll...\n"
     ]
    },
    {
     "name": "stderr",
     "output_type": "stream",
     "text": [
      "[WARNING 08-22 06:42:58] Scheduler: Failed to fetch val_acc for trial 1, found MetricFetchE(message=\"No 'scalar' data found for trial in multiplexer mul=<tensorboard.backend.event_processing.plugin_event_multiplexer.EventMultiplexer object at 0x7f65bb3cc580>\").\n"
     ]
    },
    {
     "name": "stderr",
     "output_type": "stream",
     "text": [
      "[INFO 08-22 06:42:58] Scheduler: MetricFetchE INFO: Because val_acc is available_while_running and trial 1 is still RUNNING continuing the experiment and retrying on next poll...\n"
     ]
    },
    {
     "name": "stderr",
     "output_type": "stream",
     "text": [
      "[WARNING 08-22 06:42:58] Scheduler: Failed to fetch val_acc for trial 2, found MetricFetchE(message=\"No 'scalar' data found for trial in multiplexer mul=<tensorboard.backend.event_processing.plugin_event_multiplexer.EventMultiplexer object at 0x7f65bb3cdcc0>\").\n"
     ]
    },
    {
     "name": "stderr",
     "output_type": "stream",
     "text": [
      "[INFO 08-22 06:42:58] Scheduler: MetricFetchE INFO: Because val_acc is available_while_running and trial 2 is still RUNNING continuing the experiment and retrying on next poll...\n"
     ]
    },
    {
     "name": "stderr",
     "output_type": "stream",
     "text": [
      "[WARNING 08-22 06:42:58] Scheduler: Failed to fetch val_acc for trial 3, found MetricFetchE(message=\"No 'scalar' data found for trial in multiplexer mul=<tensorboard.backend.event_processing.plugin_event_multiplexer.EventMultiplexer object at 0x7f65bb3ccfa0>\").\n"
     ]
    },
    {
     "name": "stderr",
     "output_type": "stream",
     "text": [
      "[INFO 08-22 06:42:58] Scheduler: MetricFetchE INFO: Because val_acc is available_while_running and trial 3 is still RUNNING continuing the experiment and retrying on next poll...\n"
     ]
    },
    {
     "name": "stderr",
     "output_type": "stream",
     "text": [
      "[WARNING 08-22 06:42:58] Scheduler: Failed to fetch val_acc for trial 4, found MetricFetchE(message=\"No 'scalar' data found for trial in multiplexer mul=<tensorboard.backend.event_processing.plugin_event_multiplexer.EventMultiplexer object at 0x7f65bb3cdcf0>\").\n"
     ]
    },
    {
     "name": "stderr",
     "output_type": "stream",
     "text": [
      "[INFO 08-22 06:42:58] Scheduler: MetricFetchE INFO: Because val_acc is available_while_running and trial 4 is still RUNNING continuing the experiment and retrying on next poll...\n"
     ]
    },
    {
     "name": "stderr",
     "output_type": "stream",
     "text": [
      "[INFO 08-22 06:42:58] ax.early_stopping.strategies.base: PercentileEarlyStoppingStrategy received empty data. Not stopping any trials.\n"
     ]
    },
    {
     "name": "stderr",
     "output_type": "stream",
     "text": [
      "[INFO 08-22 06:42:58] Scheduler: Waiting for completed trials (for 10 sec, currently running trials: 5).\n"
     ]
    },
    {
     "name": "stderr",
     "output_type": "stream",
     "text": [
      "[INFO 08-22 06:43:08] Scheduler: Fetching data for newly completed trials: [].\n"
     ]
    },
    {
     "name": "stderr",
     "output_type": "stream",
     "text": [
      "[INFO 08-22 06:43:08] Scheduler: Fetching data for trials: 1 - 4 because some metrics on experiment are available while trials are running.\n"
     ]
    },
    {
     "name": "stderr",
     "output_type": "stream",
     "text": [
      "[INFO 08-22 06:43:08] Scheduler: Retrieved FAILED trials: [0].\n"
     ]
    },
    {
     "name": "stderr",
     "output_type": "stream",
     "text": [
      "[INFO 08-22 06:43:08] ax.core.metric: MetricFetchE INFO: Initialized MetricFetchE(message=\"No 'scalar' data found for trial in multiplexer mul=<tensorboard.backend.event_processing.plugin_event_multiplexer.EventMultiplexer object at 0x7f65bb3cc550>\")\n"
     ]
    },
    {
     "name": "stderr",
     "output_type": "stream",
     "text": [
      "[INFO 08-22 06:43:08] ax.core.metric: MetricFetchE INFO: Initialized MetricFetchE(message=\"No 'scalar' data found for trial in multiplexer mul=<tensorboard.backend.event_processing.plugin_event_multiplexer.EventMultiplexer object at 0x7f65bb3cdcf0>\")\n"
     ]
    },
    {
     "name": "stderr",
     "output_type": "stream",
     "text": [
      "[INFO 08-22 06:43:08] ax.core.metric: MetricFetchE INFO: Initialized MetricFetchE(message=\"No 'scalar' data found for trial in multiplexer mul=<tensorboard.backend.event_processing.plugin_event_multiplexer.EventMultiplexer object at 0x7f65bb3cdc90>\")\n"
     ]
    },
    {
     "name": "stderr",
     "output_type": "stream",
     "text": [
      "[INFO 08-22 06:43:08] ax.core.metric: MetricFetchE INFO: Initialized MetricFetchE(message=\"No 'scalar' data found for trial in multiplexer mul=<tensorboard.backend.event_processing.plugin_event_multiplexer.EventMultiplexer object at 0x7f65bb3ccb20>\")\n"
     ]
    },
    {
     "name": "stderr",
     "output_type": "stream",
     "text": [
      "[ERROR 08-22 06:43:08] ax.core.experiment: Discovered Metric fetching Err while attaching data MetricFetchE(message=\"No 'scalar' data found for trial in multiplexer mul=<tensorboard.backend.event_processing.plugin_event_multiplexer.EventMultiplexer object at 0x7f65bb3cc550>\"). Ignoring for now -- will retry query on next call to fetch.\n"
     ]
    },
    {
     "name": "stderr",
     "output_type": "stream",
     "text": [
      "[ERROR 08-22 06:43:08] ax.core.experiment: Discovered Metric fetching Err while attaching data MetricFetchE(message=\"No 'scalar' data found for trial in multiplexer mul=<tensorboard.backend.event_processing.plugin_event_multiplexer.EventMultiplexer object at 0x7f65bb3cdcf0>\"). Ignoring for now -- will retry query on next call to fetch.\n"
     ]
    },
    {
     "name": "stderr",
     "output_type": "stream",
     "text": [
      "[ERROR 08-22 06:43:08] ax.core.experiment: Discovered Metric fetching Err while attaching data MetricFetchE(message=\"No 'scalar' data found for trial in multiplexer mul=<tensorboard.backend.event_processing.plugin_event_multiplexer.EventMultiplexer object at 0x7f65bb3cdc90>\"). Ignoring for now -- will retry query on next call to fetch.\n"
     ]
    },
    {
     "name": "stderr",
     "output_type": "stream",
     "text": [
      "[ERROR 08-22 06:43:08] ax.core.experiment: Discovered Metric fetching Err while attaching data MetricFetchE(message=\"No 'scalar' data found for trial in multiplexer mul=<tensorboard.backend.event_processing.plugin_event_multiplexer.EventMultiplexer object at 0x7f65bb3ccb20>\"). Ignoring for now -- will retry query on next call to fetch.\n"
     ]
    },
    {
     "name": "stderr",
     "output_type": "stream",
     "text": [
      "[WARNING 08-22 06:43:08] Scheduler: Failed to fetch val_acc for trial 1, found MetricFetchE(message=\"No 'scalar' data found for trial in multiplexer mul=<tensorboard.backend.event_processing.plugin_event_multiplexer.EventMultiplexer object at 0x7f65bb3cc550>\").\n"
     ]
    },
    {
     "name": "stderr",
     "output_type": "stream",
     "text": [
      "[INFO 08-22 06:43:08] Scheduler: MetricFetchE INFO: Because val_acc is available_while_running and trial 1 is still RUNNING continuing the experiment and retrying on next poll...\n"
     ]
    },
    {
     "name": "stderr",
     "output_type": "stream",
     "text": [
      "[WARNING 08-22 06:43:08] Scheduler: Failed to fetch val_acc for trial 2, found MetricFetchE(message=\"No 'scalar' data found for trial in multiplexer mul=<tensorboard.backend.event_processing.plugin_event_multiplexer.EventMultiplexer object at 0x7f65bb3cdcf0>\").\n"
     ]
    },
    {
     "name": "stderr",
     "output_type": "stream",
     "text": [
      "[INFO 08-22 06:43:08] Scheduler: MetricFetchE INFO: Because val_acc is available_while_running and trial 2 is still RUNNING continuing the experiment and retrying on next poll...\n"
     ]
    },
    {
     "name": "stderr",
     "output_type": "stream",
     "text": [
      "[WARNING 08-22 06:43:08] Scheduler: Failed to fetch val_acc for trial 3, found MetricFetchE(message=\"No 'scalar' data found for trial in multiplexer mul=<tensorboard.backend.event_processing.plugin_event_multiplexer.EventMultiplexer object at 0x7f65bb3cdc90>\").\n"
     ]
    },
    {
     "name": "stderr",
     "output_type": "stream",
     "text": [
      "[INFO 08-22 06:43:08] Scheduler: MetricFetchE INFO: Because val_acc is available_while_running and trial 3 is still RUNNING continuing the experiment and retrying on next poll...\n"
     ]
    },
    {
     "name": "stderr",
     "output_type": "stream",
     "text": [
      "[WARNING 08-22 06:43:08] Scheduler: Failed to fetch val_acc for trial 4, found MetricFetchE(message=\"No 'scalar' data found for trial in multiplexer mul=<tensorboard.backend.event_processing.plugin_event_multiplexer.EventMultiplexer object at 0x7f65bb3ccb20>\").\n"
     ]
    },
    {
     "name": "stderr",
     "output_type": "stream",
     "text": [
      "[INFO 08-22 06:43:08] Scheduler: MetricFetchE INFO: Because val_acc is available_while_running and trial 4 is still RUNNING continuing the experiment and retrying on next poll...\n"
     ]
    },
    {
     "name": "stderr",
     "output_type": "stream",
     "text": [
      "[INFO 08-22 06:43:08] ax.early_stopping.strategies.base: PercentileEarlyStoppingStrategy received empty data. Not stopping any trials.\n"
     ]
    },
    {
     "name": "stderr",
     "output_type": "stream",
     "text": [
      "/tmp/tmp.oVbuNeLNgw/Ax-main/ax/modelbridge/cross_validation.py:463: UserWarning: Encountered exception in computing model fit quality: RandomModelBridge does not support prediction.\n",
      "  warn(\"Encountered exception in computing model fit quality: \" + str(e))\n",
      "[INFO 08-22 06:43:09] Scheduler: Running trials [5]...\n"
     ]
    },
    {
     "name": "stderr",
     "output_type": "stream",
     "text": [
      "[WARNING 08-22 06:43:10] Scheduler: Both `init_seconds_between_polls` and `early_stopping_strategy supplied. `init_seconds_between_polls=1` will be overrridden by `early_stopping_strategy.seconds_between_polls=10` and polling will take place at a constant rate.\n"
     ]
    },
    {
     "name": "stderr",
     "output_type": "stream",
     "text": [
      "[INFO 08-22 06:43:10] Scheduler: Fetching data for newly completed trials: [].\n"
     ]
    },
    {
     "name": "stderr",
     "output_type": "stream",
     "text": [
      "[INFO 08-22 06:43:10] Scheduler: Fetching data for trials: 1 - 5 because some metrics on experiment are available while trials are running.\n"
     ]
    },
    {
     "name": "stderr",
     "output_type": "stream",
     "text": [
      "[INFO 08-22 06:43:10] ax.core.metric: MetricFetchE INFO: Initialized MetricFetchE(message=\"No 'scalar' data found for trial in multiplexer mul=<tensorboard.backend.event_processing.plugin_event_multiplexer.EventMultiplexer object at 0x7f65bb3cfbb0>\")\n"
     ]
    },
    {
     "name": "stderr",
     "output_type": "stream",
     "text": [
      "[INFO 08-22 06:43:10] ax.core.metric: MetricFetchE INFO: Initialized MetricFetchE(message=\"No 'scalar' data found for trial in multiplexer mul=<tensorboard.backend.event_processing.plugin_event_multiplexer.EventMultiplexer object at 0x7f65bb3cd4e0>\")\n"
     ]
    },
    {
     "name": "stderr",
     "output_type": "stream",
     "text": [
      "[INFO 08-22 06:43:10] ax.core.metric: MetricFetchE INFO: Initialized MetricFetchE(message=\"No 'scalar' data found for trial in multiplexer mul=<tensorboard.backend.event_processing.plugin_event_multiplexer.EventMultiplexer object at 0x7f65bb3cda20>\")\n"
     ]
    },
    {
     "name": "stderr",
     "output_type": "stream",
     "text": [
      "[INFO 08-22 06:43:10] ax.core.metric: MetricFetchE INFO: Initialized MetricFetchE(message=\"No 'scalar' data found for trial in multiplexer mul=<tensorboard.backend.event_processing.plugin_event_multiplexer.EventMultiplexer object at 0x7f65bb3cebc0>\")\n"
     ]
    },
    {
     "name": "stderr",
     "output_type": "stream",
     "text": [
      "[INFO 08-22 06:43:10] ax.core.metric: MetricFetchE INFO: Initialized MetricFetchE(message=\"No 'scalar' data found for trial in multiplexer mul=<tensorboard.backend.event_processing.plugin_event_multiplexer.EventMultiplexer object at 0x7f65bb3cd1b0>\")\n"
     ]
    },
    {
     "name": "stderr",
     "output_type": "stream",
     "text": [
      "[ERROR 08-22 06:43:10] ax.core.experiment: Discovered Metric fetching Err while attaching data MetricFetchE(message=\"No 'scalar' data found for trial in multiplexer mul=<tensorboard.backend.event_processing.plugin_event_multiplexer.EventMultiplexer object at 0x7f65bb3cfbb0>\"). Ignoring for now -- will retry query on next call to fetch.\n"
     ]
    },
    {
     "name": "stderr",
     "output_type": "stream",
     "text": [
      "[ERROR 08-22 06:43:10] ax.core.experiment: Discovered Metric fetching Err while attaching data MetricFetchE(message=\"No 'scalar' data found for trial in multiplexer mul=<tensorboard.backend.event_processing.plugin_event_multiplexer.EventMultiplexer object at 0x7f65bb3cd4e0>\"). Ignoring for now -- will retry query on next call to fetch.\n"
     ]
    },
    {
     "name": "stderr",
     "output_type": "stream",
     "text": [
      "[ERROR 08-22 06:43:10] ax.core.experiment: Discovered Metric fetching Err while attaching data MetricFetchE(message=\"No 'scalar' data found for trial in multiplexer mul=<tensorboard.backend.event_processing.plugin_event_multiplexer.EventMultiplexer object at 0x7f65bb3cda20>\"). Ignoring for now -- will retry query on next call to fetch.\n"
     ]
    },
    {
     "name": "stderr",
     "output_type": "stream",
     "text": [
      "[ERROR 08-22 06:43:10] ax.core.experiment: Discovered Metric fetching Err while attaching data MetricFetchE(message=\"No 'scalar' data found for trial in multiplexer mul=<tensorboard.backend.event_processing.plugin_event_multiplexer.EventMultiplexer object at 0x7f65bb3cebc0>\"). Ignoring for now -- will retry query on next call to fetch.\n"
     ]
    },
    {
     "name": "stderr",
     "output_type": "stream",
     "text": [
      "[ERROR 08-22 06:43:10] ax.core.experiment: Discovered Metric fetching Err while attaching data MetricFetchE(message=\"No 'scalar' data found for trial in multiplexer mul=<tensorboard.backend.event_processing.plugin_event_multiplexer.EventMultiplexer object at 0x7f65bb3cd1b0>\"). Ignoring for now -- will retry query on next call to fetch.\n"
     ]
    },
    {
     "name": "stderr",
     "output_type": "stream",
     "text": [
      "[WARNING 08-22 06:43:10] Scheduler: Failed to fetch val_acc for trial 1, found MetricFetchE(message=\"No 'scalar' data found for trial in multiplexer mul=<tensorboard.backend.event_processing.plugin_event_multiplexer.EventMultiplexer object at 0x7f65bb3cfbb0>\").\n"
     ]
    },
    {
     "name": "stderr",
     "output_type": "stream",
     "text": [
      "[INFO 08-22 06:43:10] Scheduler: MetricFetchE INFO: Because val_acc is available_while_running and trial 1 is still RUNNING continuing the experiment and retrying on next poll...\n"
     ]
    },
    {
     "name": "stderr",
     "output_type": "stream",
     "text": [
      "[WARNING 08-22 06:43:10] Scheduler: Failed to fetch val_acc for trial 2, found MetricFetchE(message=\"No 'scalar' data found for trial in multiplexer mul=<tensorboard.backend.event_processing.plugin_event_multiplexer.EventMultiplexer object at 0x7f65bb3cd4e0>\").\n"
     ]
    },
    {
     "name": "stderr",
     "output_type": "stream",
     "text": [
      "[INFO 08-22 06:43:10] Scheduler: MetricFetchE INFO: Because val_acc is available_while_running and trial 2 is still RUNNING continuing the experiment and retrying on next poll...\n"
     ]
    },
    {
     "name": "stderr",
     "output_type": "stream",
     "text": [
      "[WARNING 08-22 06:43:10] Scheduler: Failed to fetch val_acc for trial 3, found MetricFetchE(message=\"No 'scalar' data found for trial in multiplexer mul=<tensorboard.backend.event_processing.plugin_event_multiplexer.EventMultiplexer object at 0x7f65bb3cda20>\").\n"
     ]
    },
    {
     "name": "stderr",
     "output_type": "stream",
     "text": [
      "[INFO 08-22 06:43:10] Scheduler: MetricFetchE INFO: Because val_acc is available_while_running and trial 3 is still RUNNING continuing the experiment and retrying on next poll...\n"
     ]
    },
    {
     "name": "stderr",
     "output_type": "stream",
     "text": [
      "[WARNING 08-22 06:43:10] Scheduler: Failed to fetch val_acc for trial 4, found MetricFetchE(message=\"No 'scalar' data found for trial in multiplexer mul=<tensorboard.backend.event_processing.plugin_event_multiplexer.EventMultiplexer object at 0x7f65bb3cebc0>\").\n"
     ]
    },
    {
     "name": "stderr",
     "output_type": "stream",
     "text": [
      "[INFO 08-22 06:43:10] Scheduler: MetricFetchE INFO: Because val_acc is available_while_running and trial 4 is still RUNNING continuing the experiment and retrying on next poll...\n"
     ]
    },
    {
     "name": "stderr",
     "output_type": "stream",
     "text": [
      "[WARNING 08-22 06:43:10] Scheduler: Failed to fetch val_acc for trial 5, found MetricFetchE(message=\"No 'scalar' data found for trial in multiplexer mul=<tensorboard.backend.event_processing.plugin_event_multiplexer.EventMultiplexer object at 0x7f65bb3cd1b0>\").\n"
     ]
    },
    {
     "name": "stderr",
     "output_type": "stream",
     "text": [
      "[INFO 08-22 06:43:10] Scheduler: MetricFetchE INFO: Because val_acc is available_while_running and trial 5 is still RUNNING continuing the experiment and retrying on next poll...\n"
     ]
    },
    {
     "name": "stderr",
     "output_type": "stream",
     "text": [
      "[INFO 08-22 06:43:10] ax.early_stopping.strategies.base: PercentileEarlyStoppingStrategy received empty data. Not stopping any trials.\n"
     ]
    },
    {
     "name": "stderr",
     "output_type": "stream",
     "text": [
      "[INFO 08-22 06:43:10] Scheduler: Waiting for completed trials (for 10 sec, currently running trials: 5).\n"
     ]
    },
    {
     "name": "stderr",
     "output_type": "stream",
     "text": [
      "[INFO 08-22 06:43:20] Scheduler: Fetching data for newly completed trials: [].\n"
     ]
    },
    {
     "name": "stderr",
     "output_type": "stream",
     "text": [
      "[INFO 08-22 06:43:20] Scheduler: Fetching data for trials: 1 - 5 because some metrics on experiment are available while trials are running.\n"
     ]
    },
    {
     "name": "stderr",
     "output_type": "stream",
     "text": [
      "[INFO 08-22 06:43:20] ax.core.metric: MetricFetchE INFO: Initialized MetricFetchE(message=\"No 'scalar' data found for trial in multiplexer mul=<tensorboard.backend.event_processing.plugin_event_multiplexer.EventMultiplexer object at 0x7f65bb3cfd90>\")\n"
     ]
    },
    {
     "name": "stderr",
     "output_type": "stream",
     "text": [
      "[INFO 08-22 06:43:20] ax.core.metric: MetricFetchE INFO: Initialized MetricFetchE(message=\"No 'scalar' data found for trial in multiplexer mul=<tensorboard.backend.event_processing.plugin_event_multiplexer.EventMultiplexer object at 0x7f65bb3cf7c0>\")\n"
     ]
    },
    {
     "name": "stderr",
     "output_type": "stream",
     "text": [
      "[INFO 08-22 06:43:20] ax.core.metric: MetricFetchE INFO: Initialized MetricFetchE(message=\"No 'scalar' data found for trial in multiplexer mul=<tensorboard.backend.event_processing.plugin_event_multiplexer.EventMultiplexer object at 0x7f65bb3cf670>\")\n"
     ]
    },
    {
     "name": "stderr",
     "output_type": "stream",
     "text": [
      "[INFO 08-22 06:43:20] ax.core.metric: MetricFetchE INFO: Initialized MetricFetchE(message=\"No 'scalar' data found for trial in multiplexer mul=<tensorboard.backend.event_processing.plugin_event_multiplexer.EventMultiplexer object at 0x7f65bb3cff70>\")\n"
     ]
    },
    {
     "name": "stderr",
     "output_type": "stream",
     "text": [
      "[INFO 08-22 06:43:20] ax.core.metric: MetricFetchE INFO: Initialized MetricFetchE(message=\"No 'scalar' data found for trial in multiplexer mul=<tensorboard.backend.event_processing.plugin_event_multiplexer.EventMultiplexer object at 0x7f65bb3cd630>\")\n"
     ]
    },
    {
     "name": "stderr",
     "output_type": "stream",
     "text": [
      "[ERROR 08-22 06:43:20] ax.core.experiment: Discovered Metric fetching Err while attaching data MetricFetchE(message=\"No 'scalar' data found for trial in multiplexer mul=<tensorboard.backend.event_processing.plugin_event_multiplexer.EventMultiplexer object at 0x7f65bb3cfd90>\"). Ignoring for now -- will retry query on next call to fetch.\n"
     ]
    },
    {
     "name": "stderr",
     "output_type": "stream",
     "text": [
      "[ERROR 08-22 06:43:20] ax.core.experiment: Discovered Metric fetching Err while attaching data MetricFetchE(message=\"No 'scalar' data found for trial in multiplexer mul=<tensorboard.backend.event_processing.plugin_event_multiplexer.EventMultiplexer object at 0x7f65bb3cf7c0>\"). Ignoring for now -- will retry query on next call to fetch.\n"
     ]
    },
    {
     "name": "stderr",
     "output_type": "stream",
     "text": [
      "[ERROR 08-22 06:43:20] ax.core.experiment: Discovered Metric fetching Err while attaching data MetricFetchE(message=\"No 'scalar' data found for trial in multiplexer mul=<tensorboard.backend.event_processing.plugin_event_multiplexer.EventMultiplexer object at 0x7f65bb3cf670>\"). Ignoring for now -- will retry query on next call to fetch.\n"
     ]
    },
    {
     "name": "stderr",
     "output_type": "stream",
     "text": [
      "[ERROR 08-22 06:43:20] ax.core.experiment: Discovered Metric fetching Err while attaching data MetricFetchE(message=\"No 'scalar' data found for trial in multiplexer mul=<tensorboard.backend.event_processing.plugin_event_multiplexer.EventMultiplexer object at 0x7f65bb3cff70>\"). Ignoring for now -- will retry query on next call to fetch.\n"
     ]
    },
    {
     "name": "stderr",
     "output_type": "stream",
     "text": [
      "[ERROR 08-22 06:43:20] ax.core.experiment: Discovered Metric fetching Err while attaching data MetricFetchE(message=\"No 'scalar' data found for trial in multiplexer mul=<tensorboard.backend.event_processing.plugin_event_multiplexer.EventMultiplexer object at 0x7f65bb3cd630>\"). Ignoring for now -- will retry query on next call to fetch.\n"
     ]
    },
    {
     "name": "stderr",
     "output_type": "stream",
     "text": [
      "[WARNING 08-22 06:43:20] Scheduler: Failed to fetch val_acc for trial 1, found MetricFetchE(message=\"No 'scalar' data found for trial in multiplexer mul=<tensorboard.backend.event_processing.plugin_event_multiplexer.EventMultiplexer object at 0x7f65bb3cfd90>\").\n"
     ]
    },
    {
     "name": "stderr",
     "output_type": "stream",
     "text": [
      "[INFO 08-22 06:43:20] Scheduler: MetricFetchE INFO: Because val_acc is available_while_running and trial 1 is still RUNNING continuing the experiment and retrying on next poll...\n"
     ]
    },
    {
     "name": "stderr",
     "output_type": "stream",
     "text": [
      "[WARNING 08-22 06:43:20] Scheduler: Failed to fetch val_acc for trial 2, found MetricFetchE(message=\"No 'scalar' data found for trial in multiplexer mul=<tensorboard.backend.event_processing.plugin_event_multiplexer.EventMultiplexer object at 0x7f65bb3cf7c0>\").\n"
     ]
    },
    {
     "name": "stderr",
     "output_type": "stream",
     "text": [
      "[INFO 08-22 06:43:20] Scheduler: MetricFetchE INFO: Because val_acc is available_while_running and trial 2 is still RUNNING continuing the experiment and retrying on next poll...\n"
     ]
    },
    {
     "name": "stderr",
     "output_type": "stream",
     "text": [
      "[WARNING 08-22 06:43:20] Scheduler: Failed to fetch val_acc for trial 3, found MetricFetchE(message=\"No 'scalar' data found for trial in multiplexer mul=<tensorboard.backend.event_processing.plugin_event_multiplexer.EventMultiplexer object at 0x7f65bb3cf670>\").\n"
     ]
    },
    {
     "name": "stderr",
     "output_type": "stream",
     "text": [
      "[INFO 08-22 06:43:20] Scheduler: MetricFetchE INFO: Because val_acc is available_while_running and trial 3 is still RUNNING continuing the experiment and retrying on next poll...\n"
     ]
    },
    {
     "name": "stderr",
     "output_type": "stream",
     "text": [
      "[WARNING 08-22 06:43:20] Scheduler: Failed to fetch val_acc for trial 4, found MetricFetchE(message=\"No 'scalar' data found for trial in multiplexer mul=<tensorboard.backend.event_processing.plugin_event_multiplexer.EventMultiplexer object at 0x7f65bb3cff70>\").\n"
     ]
    },
    {
     "name": "stderr",
     "output_type": "stream",
     "text": [
      "[INFO 08-22 06:43:20] Scheduler: MetricFetchE INFO: Because val_acc is available_while_running and trial 4 is still RUNNING continuing the experiment and retrying on next poll...\n"
     ]
    },
    {
     "name": "stderr",
     "output_type": "stream",
     "text": [
      "[WARNING 08-22 06:43:20] Scheduler: Failed to fetch val_acc for trial 5, found MetricFetchE(message=\"No 'scalar' data found for trial in multiplexer mul=<tensorboard.backend.event_processing.plugin_event_multiplexer.EventMultiplexer object at 0x7f65bb3cd630>\").\n"
     ]
    },
    {
     "name": "stderr",
     "output_type": "stream",
     "text": [
      "[INFO 08-22 06:43:20] Scheduler: MetricFetchE INFO: Because val_acc is available_while_running and trial 5 is still RUNNING continuing the experiment and retrying on next poll...\n"
     ]
    },
    {
     "name": "stderr",
     "output_type": "stream",
     "text": [
      "[INFO 08-22 06:43:20] ax.early_stopping.strategies.base: PercentileEarlyStoppingStrategy received empty data. Not stopping any trials.\n"
     ]
    },
    {
     "name": "stderr",
     "output_type": "stream",
     "text": [
      "[INFO 08-22 06:43:20] Scheduler: Waiting for completed trials (for 10 sec, currently running trials: 5).\n"
     ]
    },
    {
     "name": "stderr",
     "output_type": "stream",
     "text": [
      "[INFO 08-22 06:43:30] Scheduler: Fetching data for newly completed trials: [].\n"
     ]
    },
    {
     "name": "stderr",
     "output_type": "stream",
     "text": [
      "[INFO 08-22 06:43:30] Scheduler: Fetching data for trials: 1 - 5 because some metrics on experiment are available while trials are running.\n"
     ]
    },
    {
     "name": "stderr",
     "output_type": "stream",
     "text": [
      "[INFO 08-22 06:43:30] ax.core.metric: MetricFetchE INFO: Initialized MetricFetchE(message=\"No 'scalar' data found for trial in multiplexer mul=<tensorboard.backend.event_processing.plugin_event_multiplexer.EventMultiplexer object at 0x7f65bb3cf4c0>\")\n"
     ]
    },
    {
     "name": "stderr",
     "output_type": "stream",
     "text": [
      "[INFO 08-22 06:43:30] ax.core.metric: MetricFetchE INFO: Initialized MetricFetchE(message=\"No 'scalar' data found for trial in multiplexer mul=<tensorboard.backend.event_processing.plugin_event_multiplexer.EventMultiplexer object at 0x7f65bb3cecb0>\")\n"
     ]
    },
    {
     "name": "stderr",
     "output_type": "stream",
     "text": [
      "[INFO 08-22 06:43:30] ax.core.metric: MetricFetchE INFO: Initialized MetricFetchE(message=\"No 'scalar' data found for trial in multiplexer mul=<tensorboard.backend.event_processing.plugin_event_multiplexer.EventMultiplexer object at 0x7f65bb3ce140>\")\n"
     ]
    },
    {
     "name": "stderr",
     "output_type": "stream",
     "text": [
      "[INFO 08-22 06:43:30] ax.core.metric: MetricFetchE INFO: Initialized MetricFetchE(message=\"No 'scalar' data found for trial in multiplexer mul=<tensorboard.backend.event_processing.plugin_event_multiplexer.EventMultiplexer object at 0x7f65bb3cf220>\")\n"
     ]
    },
    {
     "name": "stderr",
     "output_type": "stream",
     "text": [
      "[INFO 08-22 06:43:30] ax.core.metric: MetricFetchE INFO: Initialized MetricFetchE(message=\"No 'scalar' data found for trial in multiplexer mul=<tensorboard.backend.event_processing.plugin_event_multiplexer.EventMultiplexer object at 0x7f65bb3cea40>\")\n"
     ]
    },
    {
     "name": "stderr",
     "output_type": "stream",
     "text": [
      "[ERROR 08-22 06:43:30] ax.core.experiment: Discovered Metric fetching Err while attaching data MetricFetchE(message=\"No 'scalar' data found for trial in multiplexer mul=<tensorboard.backend.event_processing.plugin_event_multiplexer.EventMultiplexer object at 0x7f65bb3cf4c0>\"). Ignoring for now -- will retry query on next call to fetch.\n"
     ]
    },
    {
     "name": "stderr",
     "output_type": "stream",
     "text": [
      "[ERROR 08-22 06:43:30] ax.core.experiment: Discovered Metric fetching Err while attaching data MetricFetchE(message=\"No 'scalar' data found for trial in multiplexer mul=<tensorboard.backend.event_processing.plugin_event_multiplexer.EventMultiplexer object at 0x7f65bb3cecb0>\"). Ignoring for now -- will retry query on next call to fetch.\n"
     ]
    },
    {
     "name": "stderr",
     "output_type": "stream",
     "text": [
      "[ERROR 08-22 06:43:30] ax.core.experiment: Discovered Metric fetching Err while attaching data MetricFetchE(message=\"No 'scalar' data found for trial in multiplexer mul=<tensorboard.backend.event_processing.plugin_event_multiplexer.EventMultiplexer object at 0x7f65bb3ce140>\"). Ignoring for now -- will retry query on next call to fetch.\n"
     ]
    },
    {
     "name": "stderr",
     "output_type": "stream",
     "text": [
      "[ERROR 08-22 06:43:30] ax.core.experiment: Discovered Metric fetching Err while attaching data MetricFetchE(message=\"No 'scalar' data found for trial in multiplexer mul=<tensorboard.backend.event_processing.plugin_event_multiplexer.EventMultiplexer object at 0x7f65bb3cf220>\"). Ignoring for now -- will retry query on next call to fetch.\n"
     ]
    },
    {
     "name": "stderr",
     "output_type": "stream",
     "text": [
      "[ERROR 08-22 06:43:30] ax.core.experiment: Discovered Metric fetching Err while attaching data MetricFetchE(message=\"No 'scalar' data found for trial in multiplexer mul=<tensorboard.backend.event_processing.plugin_event_multiplexer.EventMultiplexer object at 0x7f65bb3cea40>\"). Ignoring for now -- will retry query on next call to fetch.\n"
     ]
    },
    {
     "name": "stderr",
     "output_type": "stream",
     "text": [
      "[WARNING 08-22 06:43:30] Scheduler: Failed to fetch val_acc for trial 1, found MetricFetchE(message=\"No 'scalar' data found for trial in multiplexer mul=<tensorboard.backend.event_processing.plugin_event_multiplexer.EventMultiplexer object at 0x7f65bb3cf4c0>\").\n"
     ]
    },
    {
     "name": "stderr",
     "output_type": "stream",
     "text": [
      "[INFO 08-22 06:43:30] Scheduler: MetricFetchE INFO: Because val_acc is available_while_running and trial 1 is still RUNNING continuing the experiment and retrying on next poll...\n"
     ]
    },
    {
     "name": "stderr",
     "output_type": "stream",
     "text": [
      "[WARNING 08-22 06:43:30] Scheduler: Failed to fetch val_acc for trial 2, found MetricFetchE(message=\"No 'scalar' data found for trial in multiplexer mul=<tensorboard.backend.event_processing.plugin_event_multiplexer.EventMultiplexer object at 0x7f65bb3cecb0>\").\n"
     ]
    },
    {
     "name": "stderr",
     "output_type": "stream",
     "text": [
      "[INFO 08-22 06:43:30] Scheduler: MetricFetchE INFO: Because val_acc is available_while_running and trial 2 is still RUNNING continuing the experiment and retrying on next poll...\n"
     ]
    },
    {
     "name": "stderr",
     "output_type": "stream",
     "text": [
      "[WARNING 08-22 06:43:30] Scheduler: Failed to fetch val_acc for trial 3, found MetricFetchE(message=\"No 'scalar' data found for trial in multiplexer mul=<tensorboard.backend.event_processing.plugin_event_multiplexer.EventMultiplexer object at 0x7f65bb3ce140>\").\n"
     ]
    },
    {
     "name": "stderr",
     "output_type": "stream",
     "text": [
      "[INFO 08-22 06:43:30] Scheduler: MetricFetchE INFO: Because val_acc is available_while_running and trial 3 is still RUNNING continuing the experiment and retrying on next poll...\n"
     ]
    },
    {
     "name": "stderr",
     "output_type": "stream",
     "text": [
      "[WARNING 08-22 06:43:30] Scheduler: Failed to fetch val_acc for trial 4, found MetricFetchE(message=\"No 'scalar' data found for trial in multiplexer mul=<tensorboard.backend.event_processing.plugin_event_multiplexer.EventMultiplexer object at 0x7f65bb3cf220>\").\n"
     ]
    },
    {
     "name": "stderr",
     "output_type": "stream",
     "text": [
      "[INFO 08-22 06:43:30] Scheduler: MetricFetchE INFO: Because val_acc is available_while_running and trial 4 is still RUNNING continuing the experiment and retrying on next poll...\n"
     ]
    },
    {
     "name": "stderr",
     "output_type": "stream",
     "text": [
      "[WARNING 08-22 06:43:30] Scheduler: Failed to fetch val_acc for trial 5, found MetricFetchE(message=\"No 'scalar' data found for trial in multiplexer mul=<tensorboard.backend.event_processing.plugin_event_multiplexer.EventMultiplexer object at 0x7f65bb3cea40>\").\n"
     ]
    },
    {
     "name": "stderr",
     "output_type": "stream",
     "text": [
      "[INFO 08-22 06:43:30] Scheduler: MetricFetchE INFO: Because val_acc is available_while_running and trial 5 is still RUNNING continuing the experiment and retrying on next poll...\n"
     ]
    },
    {
     "name": "stderr",
     "output_type": "stream",
     "text": [
      "[INFO 08-22 06:43:30] ax.early_stopping.strategies.base: PercentileEarlyStoppingStrategy received empty data. Not stopping any trials.\n"
     ]
    },
    {
     "name": "stderr",
     "output_type": "stream",
     "text": [
      "[INFO 08-22 06:43:30] Scheduler: Waiting for completed trials (for 10 sec, currently running trials: 5).\n"
     ]
    },
    {
     "name": "stderr",
     "output_type": "stream",
     "text": [
      "[INFO 08-22 06:43:40] Scheduler: Fetching data for newly completed trials: [].\n"
     ]
    },
    {
     "name": "stderr",
     "output_type": "stream",
     "text": [
      "[INFO 08-22 06:43:40] Scheduler: Fetching data for trials: 1 - 5 because some metrics on experiment are available while trials are running.\n"
     ]
    },
    {
     "name": "stderr",
     "output_type": "stream",
     "text": [
      "[INFO 08-22 06:43:40] ax.core.metric: MetricFetchE INFO: Initialized MetricFetchE(message=\"No 'scalar' data found for trial in multiplexer mul=<tensorboard.backend.event_processing.plugin_event_multiplexer.EventMultiplexer object at 0x7f65bb3cfb20>\")\n"
     ]
    },
    {
     "name": "stderr",
     "output_type": "stream",
     "text": [
      "[INFO 08-22 06:43:40] ax.core.metric: MetricFetchE INFO: Initialized MetricFetchE(message=\"No 'scalar' data found for trial in multiplexer mul=<tensorboard.backend.event_processing.plugin_event_multiplexer.EventMultiplexer object at 0x7f65bb3cfd00>\")\n"
     ]
    },
    {
     "name": "stderr",
     "output_type": "stream",
     "text": [
      "[INFO 08-22 06:43:40] ax.core.metric: MetricFetchE INFO: Initialized MetricFetchE(message=\"No 'scalar' data found for trial in multiplexer mul=<tensorboard.backend.event_processing.plugin_event_multiplexer.EventMultiplexer object at 0x7f65bb3ce050>\")\n"
     ]
    },
    {
     "name": "stderr",
     "output_type": "stream",
     "text": [
      "[INFO 08-22 06:43:40] ax.core.metric: MetricFetchE INFO: Initialized MetricFetchE(message=\"No 'scalar' data found for trial in multiplexer mul=<tensorboard.backend.event_processing.plugin_event_multiplexer.EventMultiplexer object at 0x7f65bb3ce260>\")\n"
     ]
    },
    {
     "name": "stderr",
     "output_type": "stream",
     "text": [
      "[INFO 08-22 06:43:40] ax.core.metric: MetricFetchE INFO: Initialized MetricFetchE(message=\"No 'scalar' data found for trial in multiplexer mul=<tensorboard.backend.event_processing.plugin_event_multiplexer.EventMultiplexer object at 0x7f65bb3cccd0>\")\n"
     ]
    },
    {
     "name": "stderr",
     "output_type": "stream",
     "text": [
      "[ERROR 08-22 06:43:40] ax.core.experiment: Discovered Metric fetching Err while attaching data MetricFetchE(message=\"No 'scalar' data found for trial in multiplexer mul=<tensorboard.backend.event_processing.plugin_event_multiplexer.EventMultiplexer object at 0x7f65bb3cfb20>\"). Ignoring for now -- will retry query on next call to fetch.\n"
     ]
    },
    {
     "name": "stderr",
     "output_type": "stream",
     "text": [
      "[ERROR 08-22 06:43:40] ax.core.experiment: Discovered Metric fetching Err while attaching data MetricFetchE(message=\"No 'scalar' data found for trial in multiplexer mul=<tensorboard.backend.event_processing.plugin_event_multiplexer.EventMultiplexer object at 0x7f65bb3cfd00>\"). Ignoring for now -- will retry query on next call to fetch.\n"
     ]
    },
    {
     "name": "stderr",
     "output_type": "stream",
     "text": [
      "[ERROR 08-22 06:43:40] ax.core.experiment: Discovered Metric fetching Err while attaching data MetricFetchE(message=\"No 'scalar' data found for trial in multiplexer mul=<tensorboard.backend.event_processing.plugin_event_multiplexer.EventMultiplexer object at 0x7f65bb3ce050>\"). Ignoring for now -- will retry query on next call to fetch.\n"
     ]
    },
    {
     "name": "stderr",
     "output_type": "stream",
     "text": [
      "[ERROR 08-22 06:43:40] ax.core.experiment: Discovered Metric fetching Err while attaching data MetricFetchE(message=\"No 'scalar' data found for trial in multiplexer mul=<tensorboard.backend.event_processing.plugin_event_multiplexer.EventMultiplexer object at 0x7f65bb3ce260>\"). Ignoring for now -- will retry query on next call to fetch.\n"
     ]
    },
    {
     "name": "stderr",
     "output_type": "stream",
     "text": [
      "[ERROR 08-22 06:43:40] ax.core.experiment: Discovered Metric fetching Err while attaching data MetricFetchE(message=\"No 'scalar' data found for trial in multiplexer mul=<tensorboard.backend.event_processing.plugin_event_multiplexer.EventMultiplexer object at 0x7f65bb3cccd0>\"). Ignoring for now -- will retry query on next call to fetch.\n"
     ]
    },
    {
     "name": "stderr",
     "output_type": "stream",
     "text": [
      "[WARNING 08-22 06:43:40] Scheduler: Failed to fetch val_acc for trial 1, found MetricFetchE(message=\"No 'scalar' data found for trial in multiplexer mul=<tensorboard.backend.event_processing.plugin_event_multiplexer.EventMultiplexer object at 0x7f65bb3cfb20>\").\n"
     ]
    },
    {
     "name": "stderr",
     "output_type": "stream",
     "text": [
      "[INFO 08-22 06:43:40] Scheduler: MetricFetchE INFO: Because val_acc is available_while_running and trial 1 is still RUNNING continuing the experiment and retrying on next poll...\n"
     ]
    },
    {
     "name": "stderr",
     "output_type": "stream",
     "text": [
      "[WARNING 08-22 06:43:40] Scheduler: Failed to fetch val_acc for trial 2, found MetricFetchE(message=\"No 'scalar' data found for trial in multiplexer mul=<tensorboard.backend.event_processing.plugin_event_multiplexer.EventMultiplexer object at 0x7f65bb3cfd00>\").\n"
     ]
    },
    {
     "name": "stderr",
     "output_type": "stream",
     "text": [
      "[INFO 08-22 06:43:40] Scheduler: MetricFetchE INFO: Because val_acc is available_while_running and trial 2 is still RUNNING continuing the experiment and retrying on next poll...\n"
     ]
    },
    {
     "name": "stderr",
     "output_type": "stream",
     "text": [
      "[WARNING 08-22 06:43:40] Scheduler: Failed to fetch val_acc for trial 3, found MetricFetchE(message=\"No 'scalar' data found for trial in multiplexer mul=<tensorboard.backend.event_processing.plugin_event_multiplexer.EventMultiplexer object at 0x7f65bb3ce050>\").\n"
     ]
    },
    {
     "name": "stderr",
     "output_type": "stream",
     "text": [
      "[INFO 08-22 06:43:40] Scheduler: MetricFetchE INFO: Because val_acc is available_while_running and trial 3 is still RUNNING continuing the experiment and retrying on next poll...\n"
     ]
    },
    {
     "name": "stderr",
     "output_type": "stream",
     "text": [
      "[WARNING 08-22 06:43:40] Scheduler: Failed to fetch val_acc for trial 4, found MetricFetchE(message=\"No 'scalar' data found for trial in multiplexer mul=<tensorboard.backend.event_processing.plugin_event_multiplexer.EventMultiplexer object at 0x7f65bb3ce260>\").\n"
     ]
    },
    {
     "name": "stderr",
     "output_type": "stream",
     "text": [
      "[INFO 08-22 06:43:40] Scheduler: MetricFetchE INFO: Because val_acc is available_while_running and trial 4 is still RUNNING continuing the experiment and retrying on next poll...\n"
     ]
    },
    {
     "name": "stderr",
     "output_type": "stream",
     "text": [
      "[WARNING 08-22 06:43:40] Scheduler: Failed to fetch val_acc for trial 5, found MetricFetchE(message=\"No 'scalar' data found for trial in multiplexer mul=<tensorboard.backend.event_processing.plugin_event_multiplexer.EventMultiplexer object at 0x7f65bb3cccd0>\").\n"
     ]
    },
    {
     "name": "stderr",
     "output_type": "stream",
     "text": [
      "[INFO 08-22 06:43:40] Scheduler: MetricFetchE INFO: Because val_acc is available_while_running and trial 5 is still RUNNING continuing the experiment and retrying on next poll...\n"
     ]
    },
    {
     "name": "stderr",
     "output_type": "stream",
     "text": [
      "[INFO 08-22 06:43:40] ax.early_stopping.strategies.base: PercentileEarlyStoppingStrategy received empty data. Not stopping any trials.\n"
     ]
    },
    {
     "name": "stderr",
     "output_type": "stream",
     "text": [
      "[INFO 08-22 06:43:40] Scheduler: Waiting for completed trials (for 10 sec, currently running trials: 5).\n"
     ]
    },
    {
     "name": "stderr",
     "output_type": "stream",
     "text": [
      "[INFO 08-22 06:43:50] Scheduler: Fetching data for newly completed trials: [].\n"
     ]
    },
    {
     "name": "stderr",
     "output_type": "stream",
     "text": [
      "[INFO 08-22 06:43:50] Scheduler: Fetching data for trials: 1 - 5 because some metrics on experiment are available while trials are running.\n"
     ]
    },
    {
     "name": "stderr",
     "output_type": "stream",
     "text": [
      "[INFO 08-22 06:43:50] ax.core.metric: MetricFetchE INFO: Initialized MetricFetchE(message=\"No 'scalar' data found for trial in multiplexer mul=<tensorboard.backend.event_processing.plugin_event_multiplexer.EventMultiplexer object at 0x7f65bb3cfb80>\")\n"
     ]
    },
    {
     "name": "stderr",
     "output_type": "stream",
     "text": [
      "[INFO 08-22 06:43:50] ax.core.metric: MetricFetchE INFO: Initialized MetricFetchE(message=\"No 'scalar' data found for trial in multiplexer mul=<tensorboard.backend.event_processing.plugin_event_multiplexer.EventMultiplexer object at 0x7f65bb3cfdf0>\")\n"
     ]
    },
    {
     "name": "stderr",
     "output_type": "stream",
     "text": [
      "[INFO 08-22 06:43:50] ax.core.metric: MetricFetchE INFO: Initialized MetricFetchE(message=\"No 'scalar' data found for trial in multiplexer mul=<tensorboard.backend.event_processing.plugin_event_multiplexer.EventMultiplexer object at 0x7f65bb3cf5e0>\")\n"
     ]
    },
    {
     "name": "stderr",
     "output_type": "stream",
     "text": [
      "[INFO 08-22 06:43:50] ax.core.metric: MetricFetchE INFO: Initialized MetricFetchE(message=\"No 'scalar' data found for trial in multiplexer mul=<tensorboard.backend.event_processing.plugin_event_multiplexer.EventMultiplexer object at 0x7f65bb3cf640>\")\n"
     ]
    },
    {
     "name": "stderr",
     "output_type": "stream",
     "text": [
      "[INFO 08-22 06:43:50] ax.core.metric: MetricFetchE INFO: Initialized MetricFetchE(message=\"No 'scalar' data found for trial in multiplexer mul=<tensorboard.backend.event_processing.plugin_event_multiplexer.EventMultiplexer object at 0x7f65bb3cd3c0>\")\n"
     ]
    },
    {
     "name": "stderr",
     "output_type": "stream",
     "text": [
      "[ERROR 08-22 06:43:50] ax.core.experiment: Discovered Metric fetching Err while attaching data MetricFetchE(message=\"No 'scalar' data found for trial in multiplexer mul=<tensorboard.backend.event_processing.plugin_event_multiplexer.EventMultiplexer object at 0x7f65bb3cfb80>\"). Ignoring for now -- will retry query on next call to fetch.\n"
     ]
    },
    {
     "name": "stderr",
     "output_type": "stream",
     "text": [
      "[ERROR 08-22 06:43:50] ax.core.experiment: Discovered Metric fetching Err while attaching data MetricFetchE(message=\"No 'scalar' data found for trial in multiplexer mul=<tensorboard.backend.event_processing.plugin_event_multiplexer.EventMultiplexer object at 0x7f65bb3cfdf0>\"). Ignoring for now -- will retry query on next call to fetch.\n"
     ]
    },
    {
     "name": "stderr",
     "output_type": "stream",
     "text": [
      "[ERROR 08-22 06:43:50] ax.core.experiment: Discovered Metric fetching Err while attaching data MetricFetchE(message=\"No 'scalar' data found for trial in multiplexer mul=<tensorboard.backend.event_processing.plugin_event_multiplexer.EventMultiplexer object at 0x7f65bb3cf5e0>\"). Ignoring for now -- will retry query on next call to fetch.\n"
     ]
    },
    {
     "name": "stderr",
     "output_type": "stream",
     "text": [
      "[ERROR 08-22 06:43:50] ax.core.experiment: Discovered Metric fetching Err while attaching data MetricFetchE(message=\"No 'scalar' data found for trial in multiplexer mul=<tensorboard.backend.event_processing.plugin_event_multiplexer.EventMultiplexer object at 0x7f65bb3cf640>\"). Ignoring for now -- will retry query on next call to fetch.\n"
     ]
    },
    {
     "name": "stderr",
     "output_type": "stream",
     "text": [
      "[ERROR 08-22 06:43:50] ax.core.experiment: Discovered Metric fetching Err while attaching data MetricFetchE(message=\"No 'scalar' data found for trial in multiplexer mul=<tensorboard.backend.event_processing.plugin_event_multiplexer.EventMultiplexer object at 0x7f65bb3cd3c0>\"). Ignoring for now -- will retry query on next call to fetch.\n"
     ]
    },
    {
     "name": "stderr",
     "output_type": "stream",
     "text": [
      "[WARNING 08-22 06:43:50] Scheduler: Failed to fetch val_acc for trial 1, found MetricFetchE(message=\"No 'scalar' data found for trial in multiplexer mul=<tensorboard.backend.event_processing.plugin_event_multiplexer.EventMultiplexer object at 0x7f65bb3cfb80>\").\n"
     ]
    },
    {
     "name": "stderr",
     "output_type": "stream",
     "text": [
      "[INFO 08-22 06:43:50] Scheduler: MetricFetchE INFO: Because val_acc is available_while_running and trial 1 is still RUNNING continuing the experiment and retrying on next poll...\n"
     ]
    },
    {
     "name": "stderr",
     "output_type": "stream",
     "text": [
      "[WARNING 08-22 06:43:50] Scheduler: Failed to fetch val_acc for trial 2, found MetricFetchE(message=\"No 'scalar' data found for trial in multiplexer mul=<tensorboard.backend.event_processing.plugin_event_multiplexer.EventMultiplexer object at 0x7f65bb3cfdf0>\").\n"
     ]
    },
    {
     "name": "stderr",
     "output_type": "stream",
     "text": [
      "[INFO 08-22 06:43:50] Scheduler: MetricFetchE INFO: Because val_acc is available_while_running and trial 2 is still RUNNING continuing the experiment and retrying on next poll...\n"
     ]
    },
    {
     "name": "stderr",
     "output_type": "stream",
     "text": [
      "[WARNING 08-22 06:43:50] Scheduler: Failed to fetch val_acc for trial 3, found MetricFetchE(message=\"No 'scalar' data found for trial in multiplexer mul=<tensorboard.backend.event_processing.plugin_event_multiplexer.EventMultiplexer object at 0x7f65bb3cf5e0>\").\n"
     ]
    },
    {
     "name": "stderr",
     "output_type": "stream",
     "text": [
      "[INFO 08-22 06:43:50] Scheduler: MetricFetchE INFO: Because val_acc is available_while_running and trial 3 is still RUNNING continuing the experiment and retrying on next poll...\n"
     ]
    },
    {
     "name": "stderr",
     "output_type": "stream",
     "text": [
      "[WARNING 08-22 06:43:50] Scheduler: Failed to fetch val_acc for trial 4, found MetricFetchE(message=\"No 'scalar' data found for trial in multiplexer mul=<tensorboard.backend.event_processing.plugin_event_multiplexer.EventMultiplexer object at 0x7f65bb3cf640>\").\n"
     ]
    },
    {
     "name": "stderr",
     "output_type": "stream",
     "text": [
      "[INFO 08-22 06:43:50] Scheduler: MetricFetchE INFO: Because val_acc is available_while_running and trial 4 is still RUNNING continuing the experiment and retrying on next poll...\n"
     ]
    },
    {
     "name": "stderr",
     "output_type": "stream",
     "text": [
      "[WARNING 08-22 06:43:50] Scheduler: Failed to fetch val_acc for trial 5, found MetricFetchE(message=\"No 'scalar' data found for trial in multiplexer mul=<tensorboard.backend.event_processing.plugin_event_multiplexer.EventMultiplexer object at 0x7f65bb3cd3c0>\").\n"
     ]
    },
    {
     "name": "stderr",
     "output_type": "stream",
     "text": [
      "[INFO 08-22 06:43:50] Scheduler: MetricFetchE INFO: Because val_acc is available_while_running and trial 5 is still RUNNING continuing the experiment and retrying on next poll...\n"
     ]
    },
    {
     "name": "stderr",
     "output_type": "stream",
     "text": [
      "[INFO 08-22 06:43:50] ax.early_stopping.strategies.base: PercentileEarlyStoppingStrategy received empty data. Not stopping any trials.\n"
     ]
    },
    {
     "name": "stderr",
     "output_type": "stream",
     "text": [
      "[INFO 08-22 06:43:50] Scheduler: Waiting for completed trials (for 10 sec, currently running trials: 5).\n"
     ]
    },
    {
     "name": "stderr",
     "output_type": "stream",
     "text": [
      "[INFO 08-22 06:44:00] Scheduler: Fetching data for newly completed trials: [].\n"
     ]
    },
    {
     "name": "stderr",
     "output_type": "stream",
     "text": [
      "[INFO 08-22 06:44:00] Scheduler: Fetching data for trials: 1 - 5 because some metrics on experiment are available while trials are running.\n"
     ]
    },
    {
     "name": "stderr",
     "output_type": "stream",
     "text": [
      "[INFO 08-22 06:44:00] ax.core.metric: MetricFetchE INFO: Initialized MetricFetchE(message=\"No 'scalar' data found for trial in multiplexer mul=<tensorboard.backend.event_processing.plugin_event_multiplexer.EventMultiplexer object at 0x7f65bb3cff40>\")\n"
     ]
    },
    {
     "name": "stderr",
     "output_type": "stream",
     "text": [
      "[INFO 08-22 06:44:00] ax.core.metric: MetricFetchE INFO: Initialized MetricFetchE(message=\"No 'scalar' data found for trial in multiplexer mul=<tensorboard.backend.event_processing.plugin_event_multiplexer.EventMultiplexer object at 0x7f65bb3cfc40>\")\n"
     ]
    },
    {
     "name": "stderr",
     "output_type": "stream",
     "text": [
      "[INFO 08-22 06:44:00] ax.core.metric: MetricFetchE INFO: Initialized MetricFetchE(message=\"No 'scalar' data found for trial in multiplexer mul=<tensorboard.backend.event_processing.plugin_event_multiplexer.EventMultiplexer object at 0x7f65bb3ccf70>\")\n"
     ]
    },
    {
     "name": "stderr",
     "output_type": "stream",
     "text": [
      "[INFO 08-22 06:44:00] ax.core.metric: MetricFetchE INFO: Initialized MetricFetchE(message=\"No 'scalar' data found for trial in multiplexer mul=<tensorboard.backend.event_processing.plugin_event_multiplexer.EventMultiplexer object at 0x7f65bb3cd4e0>\")\n"
     ]
    },
    {
     "name": "stderr",
     "output_type": "stream",
     "text": [
      "[INFO 08-22 06:44:00] ax.core.metric: MetricFetchE INFO: Initialized MetricFetchE(message=\"No 'scalar' data found for trial in multiplexer mul=<tensorboard.backend.event_processing.plugin_event_multiplexer.EventMultiplexer object at 0x7f65bb3cf610>\")\n"
     ]
    },
    {
     "name": "stderr",
     "output_type": "stream",
     "text": [
      "[ERROR 08-22 06:44:00] ax.core.experiment: Discovered Metric fetching Err while attaching data MetricFetchE(message=\"No 'scalar' data found for trial in multiplexer mul=<tensorboard.backend.event_processing.plugin_event_multiplexer.EventMultiplexer object at 0x7f65bb3cff40>\"). Ignoring for now -- will retry query on next call to fetch.\n"
     ]
    },
    {
     "name": "stderr",
     "output_type": "stream",
     "text": [
      "[ERROR 08-22 06:44:00] ax.core.experiment: Discovered Metric fetching Err while attaching data MetricFetchE(message=\"No 'scalar' data found for trial in multiplexer mul=<tensorboard.backend.event_processing.plugin_event_multiplexer.EventMultiplexer object at 0x7f65bb3cfc40>\"). Ignoring for now -- will retry query on next call to fetch.\n"
     ]
    },
    {
     "name": "stderr",
     "output_type": "stream",
     "text": [
      "[ERROR 08-22 06:44:00] ax.core.experiment: Discovered Metric fetching Err while attaching data MetricFetchE(message=\"No 'scalar' data found for trial in multiplexer mul=<tensorboard.backend.event_processing.plugin_event_multiplexer.EventMultiplexer object at 0x7f65bb3ccf70>\"). Ignoring for now -- will retry query on next call to fetch.\n"
     ]
    },
    {
     "name": "stderr",
     "output_type": "stream",
     "text": [
      "[ERROR 08-22 06:44:00] ax.core.experiment: Discovered Metric fetching Err while attaching data MetricFetchE(message=\"No 'scalar' data found for trial in multiplexer mul=<tensorboard.backend.event_processing.plugin_event_multiplexer.EventMultiplexer object at 0x7f65bb3cd4e0>\"). Ignoring for now -- will retry query on next call to fetch.\n"
     ]
    },
    {
     "name": "stderr",
     "output_type": "stream",
     "text": [
      "[ERROR 08-22 06:44:00] ax.core.experiment: Discovered Metric fetching Err while attaching data MetricFetchE(message=\"No 'scalar' data found for trial in multiplexer mul=<tensorboard.backend.event_processing.plugin_event_multiplexer.EventMultiplexer object at 0x7f65bb3cf610>\"). Ignoring for now -- will retry query on next call to fetch.\n"
     ]
    },
    {
     "name": "stderr",
     "output_type": "stream",
     "text": [
      "[WARNING 08-22 06:44:00] Scheduler: Failed to fetch val_acc for trial 1, found MetricFetchE(message=\"No 'scalar' data found for trial in multiplexer mul=<tensorboard.backend.event_processing.plugin_event_multiplexer.EventMultiplexer object at 0x7f65bb3cff40>\").\n"
     ]
    },
    {
     "name": "stderr",
     "output_type": "stream",
     "text": [
      "[INFO 08-22 06:44:00] Scheduler: MetricFetchE INFO: Because val_acc is available_while_running and trial 1 is still RUNNING continuing the experiment and retrying on next poll...\n"
     ]
    },
    {
     "name": "stderr",
     "output_type": "stream",
     "text": [
      "[WARNING 08-22 06:44:00] Scheduler: Failed to fetch val_acc for trial 2, found MetricFetchE(message=\"No 'scalar' data found for trial in multiplexer mul=<tensorboard.backend.event_processing.plugin_event_multiplexer.EventMultiplexer object at 0x7f65bb3cfc40>\").\n"
     ]
    },
    {
     "name": "stderr",
     "output_type": "stream",
     "text": [
      "[INFO 08-22 06:44:00] Scheduler: MetricFetchE INFO: Because val_acc is available_while_running and trial 2 is still RUNNING continuing the experiment and retrying on next poll...\n"
     ]
    },
    {
     "name": "stderr",
     "output_type": "stream",
     "text": [
      "[WARNING 08-22 06:44:00] Scheduler: Failed to fetch val_acc for trial 3, found MetricFetchE(message=\"No 'scalar' data found for trial in multiplexer mul=<tensorboard.backend.event_processing.plugin_event_multiplexer.EventMultiplexer object at 0x7f65bb3ccf70>\").\n"
     ]
    },
    {
     "name": "stderr",
     "output_type": "stream",
     "text": [
      "[INFO 08-22 06:44:00] Scheduler: MetricFetchE INFO: Because val_acc is available_while_running and trial 3 is still RUNNING continuing the experiment and retrying on next poll...\n"
     ]
    },
    {
     "name": "stderr",
     "output_type": "stream",
     "text": [
      "[WARNING 08-22 06:44:00] Scheduler: Failed to fetch val_acc for trial 4, found MetricFetchE(message=\"No 'scalar' data found for trial in multiplexer mul=<tensorboard.backend.event_processing.plugin_event_multiplexer.EventMultiplexer object at 0x7f65bb3cd4e0>\").\n"
     ]
    },
    {
     "name": "stderr",
     "output_type": "stream",
     "text": [
      "[INFO 08-22 06:44:00] Scheduler: MetricFetchE INFO: Because val_acc is available_while_running and trial 4 is still RUNNING continuing the experiment and retrying on next poll...\n"
     ]
    },
    {
     "name": "stderr",
     "output_type": "stream",
     "text": [
      "[WARNING 08-22 06:44:00] Scheduler: Failed to fetch val_acc for trial 5, found MetricFetchE(message=\"No 'scalar' data found for trial in multiplexer mul=<tensorboard.backend.event_processing.plugin_event_multiplexer.EventMultiplexer object at 0x7f65bb3cf610>\").\n"
     ]
    },
    {
     "name": "stderr",
     "output_type": "stream",
     "text": [
      "[INFO 08-22 06:44:00] Scheduler: MetricFetchE INFO: Because val_acc is available_while_running and trial 5 is still RUNNING continuing the experiment and retrying on next poll...\n"
     ]
    },
    {
     "name": "stderr",
     "output_type": "stream",
     "text": [
      "[INFO 08-22 06:44:00] ax.early_stopping.strategies.base: PercentileEarlyStoppingStrategy received empty data. Not stopping any trials.\n"
     ]
    },
    {
     "name": "stderr",
     "output_type": "stream",
     "text": [
      "[INFO 08-22 06:44:00] Scheduler: Waiting for completed trials (for 10 sec, currently running trials: 5).\n"
     ]
    },
    {
     "name": "stderr",
     "output_type": "stream",
     "text": [
      "[INFO 08-22 06:44:10] Scheduler: Fetching data for newly completed trials: [].\n"
     ]
    },
    {
     "name": "stderr",
     "output_type": "stream",
     "text": [
      "[INFO 08-22 06:44:10] Scheduler: Fetching data for trials: 1 - 5 because some metrics on experiment are available while trials are running.\n"
     ]
    },
    {
     "name": "stderr",
     "output_type": "stream",
     "text": [
      "[INFO 08-22 06:44:10] ax.core.metric: MetricFetchE INFO: Initialized MetricFetchE(message=\"No 'scalar' data found for trial in multiplexer mul=<tensorboard.backend.event_processing.plugin_event_multiplexer.EventMultiplexer object at 0x7f65bb3cf970>\")\n"
     ]
    },
    {
     "name": "stderr",
     "output_type": "stream",
     "text": [
      "[INFO 08-22 06:44:10] ax.core.metric: MetricFetchE INFO: Initialized MetricFetchE(message=\"No 'scalar' data found for trial in multiplexer mul=<tensorboard.backend.event_processing.plugin_event_multiplexer.EventMultiplexer object at 0x7f65bb3cff10>\")\n"
     ]
    },
    {
     "name": "stderr",
     "output_type": "stream",
     "text": [
      "[INFO 08-22 06:44:10] ax.core.metric: MetricFetchE INFO: Initialized MetricFetchE(message=\"No 'scalar' data found for trial in multiplexer mul=<tensorboard.backend.event_processing.plugin_event_multiplexer.EventMultiplexer object at 0x7f65bb3ce530>\")\n"
     ]
    },
    {
     "name": "stderr",
     "output_type": "stream",
     "text": [
      "[INFO 08-22 06:44:10] ax.core.metric: MetricFetchE INFO: Initialized MetricFetchE(message=\"No 'scalar' data found for trial in multiplexer mul=<tensorboard.backend.event_processing.plugin_event_multiplexer.EventMultiplexer object at 0x7f65bb3cfe20>\")\n"
     ]
    },
    {
     "name": "stderr",
     "output_type": "stream",
     "text": [
      "[INFO 08-22 06:44:10] ax.core.metric: MetricFetchE INFO: Initialized MetricFetchE(message=\"No 'scalar' data found for trial in multiplexer mul=<tensorboard.backend.event_processing.plugin_event_multiplexer.EventMultiplexer object at 0x7f65bb3ceda0>\")\n"
     ]
    },
    {
     "name": "stderr",
     "output_type": "stream",
     "text": [
      "[ERROR 08-22 06:44:10] ax.core.experiment: Discovered Metric fetching Err while attaching data MetricFetchE(message=\"No 'scalar' data found for trial in multiplexer mul=<tensorboard.backend.event_processing.plugin_event_multiplexer.EventMultiplexer object at 0x7f65bb3cf970>\"). Ignoring for now -- will retry query on next call to fetch.\n"
     ]
    },
    {
     "name": "stderr",
     "output_type": "stream",
     "text": [
      "[ERROR 08-22 06:44:10] ax.core.experiment: Discovered Metric fetching Err while attaching data MetricFetchE(message=\"No 'scalar' data found for trial in multiplexer mul=<tensorboard.backend.event_processing.plugin_event_multiplexer.EventMultiplexer object at 0x7f65bb3cff10>\"). Ignoring for now -- will retry query on next call to fetch.\n"
     ]
    },
    {
     "name": "stderr",
     "output_type": "stream",
     "text": [
      "[ERROR 08-22 06:44:10] ax.core.experiment: Discovered Metric fetching Err while attaching data MetricFetchE(message=\"No 'scalar' data found for trial in multiplexer mul=<tensorboard.backend.event_processing.plugin_event_multiplexer.EventMultiplexer object at 0x7f65bb3ce530>\"). Ignoring for now -- will retry query on next call to fetch.\n"
     ]
    },
    {
     "name": "stderr",
     "output_type": "stream",
     "text": [
      "[ERROR 08-22 06:44:10] ax.core.experiment: Discovered Metric fetching Err while attaching data MetricFetchE(message=\"No 'scalar' data found for trial in multiplexer mul=<tensorboard.backend.event_processing.plugin_event_multiplexer.EventMultiplexer object at 0x7f65bb3cfe20>\"). Ignoring for now -- will retry query on next call to fetch.\n"
     ]
    },
    {
     "name": "stderr",
     "output_type": "stream",
     "text": [
      "[ERROR 08-22 06:44:10] ax.core.experiment: Discovered Metric fetching Err while attaching data MetricFetchE(message=\"No 'scalar' data found for trial in multiplexer mul=<tensorboard.backend.event_processing.plugin_event_multiplexer.EventMultiplexer object at 0x7f65bb3ceda0>\"). Ignoring for now -- will retry query on next call to fetch.\n"
     ]
    },
    {
     "name": "stderr",
     "output_type": "stream",
     "text": [
      "[WARNING 08-22 06:44:10] Scheduler: Failed to fetch val_acc for trial 1, found MetricFetchE(message=\"No 'scalar' data found for trial in multiplexer mul=<tensorboard.backend.event_processing.plugin_event_multiplexer.EventMultiplexer object at 0x7f65bb3cf970>\").\n"
     ]
    },
    {
     "name": "stderr",
     "output_type": "stream",
     "text": [
      "[INFO 08-22 06:44:10] Scheduler: MetricFetchE INFO: Because val_acc is available_while_running and trial 1 is still RUNNING continuing the experiment and retrying on next poll...\n"
     ]
    },
    {
     "name": "stderr",
     "output_type": "stream",
     "text": [
      "[WARNING 08-22 06:44:10] Scheduler: Failed to fetch val_acc for trial 2, found MetricFetchE(message=\"No 'scalar' data found for trial in multiplexer mul=<tensorboard.backend.event_processing.plugin_event_multiplexer.EventMultiplexer object at 0x7f65bb3cff10>\").\n"
     ]
    },
    {
     "name": "stderr",
     "output_type": "stream",
     "text": [
      "[INFO 08-22 06:44:10] Scheduler: MetricFetchE INFO: Because val_acc is available_while_running and trial 2 is still RUNNING continuing the experiment and retrying on next poll...\n"
     ]
    },
    {
     "name": "stderr",
     "output_type": "stream",
     "text": [
      "[WARNING 08-22 06:44:10] Scheduler: Failed to fetch val_acc for trial 3, found MetricFetchE(message=\"No 'scalar' data found for trial in multiplexer mul=<tensorboard.backend.event_processing.plugin_event_multiplexer.EventMultiplexer object at 0x7f65bb3ce530>\").\n"
     ]
    },
    {
     "name": "stderr",
     "output_type": "stream",
     "text": [
      "[INFO 08-22 06:44:10] Scheduler: MetricFetchE INFO: Because val_acc is available_while_running and trial 3 is still RUNNING continuing the experiment and retrying on next poll...\n"
     ]
    },
    {
     "name": "stderr",
     "output_type": "stream",
     "text": [
      "[WARNING 08-22 06:44:10] Scheduler: Failed to fetch val_acc for trial 4, found MetricFetchE(message=\"No 'scalar' data found for trial in multiplexer mul=<tensorboard.backend.event_processing.plugin_event_multiplexer.EventMultiplexer object at 0x7f65bb3cfe20>\").\n"
     ]
    },
    {
     "name": "stderr",
     "output_type": "stream",
     "text": [
      "[INFO 08-22 06:44:10] Scheduler: MetricFetchE INFO: Because val_acc is available_while_running and trial 4 is still RUNNING continuing the experiment and retrying on next poll...\n"
     ]
    },
    {
     "name": "stderr",
     "output_type": "stream",
     "text": [
      "[WARNING 08-22 06:44:10] Scheduler: Failed to fetch val_acc for trial 5, found MetricFetchE(message=\"No 'scalar' data found for trial in multiplexer mul=<tensorboard.backend.event_processing.plugin_event_multiplexer.EventMultiplexer object at 0x7f65bb3ceda0>\").\n"
     ]
    },
    {
     "name": "stderr",
     "output_type": "stream",
     "text": [
      "[INFO 08-22 06:44:10] Scheduler: MetricFetchE INFO: Because val_acc is available_while_running and trial 5 is still RUNNING continuing the experiment and retrying on next poll...\n"
     ]
    },
    {
     "name": "stderr",
     "output_type": "stream",
     "text": [
      "[INFO 08-22 06:44:10] ax.early_stopping.strategies.base: PercentileEarlyStoppingStrategy received empty data. Not stopping any trials.\n"
     ]
    },
    {
     "name": "stderr",
     "output_type": "stream",
     "text": [
      "[INFO 08-22 06:44:10] Scheduler: Waiting for completed trials (for 10 sec, currently running trials: 5).\n"
     ]
    },
    {
     "name": "stderr",
     "output_type": "stream",
     "text": [
      "[INFO 08-22 06:44:20] Scheduler: Fetching data for newly completed trials: [].\n"
     ]
    },
    {
     "name": "stderr",
     "output_type": "stream",
     "text": [
      "[INFO 08-22 06:44:20] Scheduler: Fetching data for trials: 1 - 5 because some metrics on experiment are available while trials are running.\n"
     ]
    },
    {
     "name": "stderr",
     "output_type": "stream",
     "text": [
      "[INFO 08-22 06:44:20] ax.core.metric: MetricFetchE INFO: Initialized MetricFetchE(message=\"No 'scalar' data found for trial in multiplexer mul=<tensorboard.backend.event_processing.plugin_event_multiplexer.EventMultiplexer object at 0x7f65bb3cee90>\")\n"
     ]
    },
    {
     "name": "stderr",
     "output_type": "stream",
     "text": [
      "[INFO 08-22 06:44:21] ax.core.metric: MetricFetchE INFO: Initialized MetricFetchE(message=\"No 'scalar' data found for trial in multiplexer mul=<tensorboard.backend.event_processing.plugin_event_multiplexer.EventMultiplexer object at 0x7f65bb3ce620>\")\n"
     ]
    },
    {
     "name": "stderr",
     "output_type": "stream",
     "text": [
      "[INFO 08-22 06:44:21] ax.core.metric: MetricFetchE INFO: Initialized MetricFetchE(message=\"No 'scalar' data found for trial in multiplexer mul=<tensorboard.backend.event_processing.plugin_event_multiplexer.EventMultiplexer object at 0x7f65bb3cfca0>\")\n"
     ]
    },
    {
     "name": "stderr",
     "output_type": "stream",
     "text": [
      "[INFO 08-22 06:44:21] ax.core.metric: MetricFetchE INFO: Initialized MetricFetchE(message=\"No 'scalar' data found for trial in multiplexer mul=<tensorboard.backend.event_processing.plugin_event_multiplexer.EventMultiplexer object at 0x7f65bb3cfc10>\")\n"
     ]
    },
    {
     "name": "stderr",
     "output_type": "stream",
     "text": [
      "[INFO 08-22 06:44:21] ax.core.metric: MetricFetchE INFO: Initialized MetricFetchE(message=\"No 'scalar' data found for trial in multiplexer mul=<tensorboard.backend.event_processing.plugin_event_multiplexer.EventMultiplexer object at 0x7f65bb3cd5a0>\")\n"
     ]
    },
    {
     "name": "stderr",
     "output_type": "stream",
     "text": [
      "[ERROR 08-22 06:44:21] ax.core.experiment: Discovered Metric fetching Err while attaching data MetricFetchE(message=\"No 'scalar' data found for trial in multiplexer mul=<tensorboard.backend.event_processing.plugin_event_multiplexer.EventMultiplexer object at 0x7f65bb3cee90>\"). Ignoring for now -- will retry query on next call to fetch.\n"
     ]
    },
    {
     "name": "stderr",
     "output_type": "stream",
     "text": [
      "[ERROR 08-22 06:44:21] ax.core.experiment: Discovered Metric fetching Err while attaching data MetricFetchE(message=\"No 'scalar' data found for trial in multiplexer mul=<tensorboard.backend.event_processing.plugin_event_multiplexer.EventMultiplexer object at 0x7f65bb3ce620>\"). Ignoring for now -- will retry query on next call to fetch.\n"
     ]
    },
    {
     "name": "stderr",
     "output_type": "stream",
     "text": [
      "[ERROR 08-22 06:44:21] ax.core.experiment: Discovered Metric fetching Err while attaching data MetricFetchE(message=\"No 'scalar' data found for trial in multiplexer mul=<tensorboard.backend.event_processing.plugin_event_multiplexer.EventMultiplexer object at 0x7f65bb3cfca0>\"). Ignoring for now -- will retry query on next call to fetch.\n"
     ]
    },
    {
     "name": "stderr",
     "output_type": "stream",
     "text": [
      "[ERROR 08-22 06:44:21] ax.core.experiment: Discovered Metric fetching Err while attaching data MetricFetchE(message=\"No 'scalar' data found for trial in multiplexer mul=<tensorboard.backend.event_processing.plugin_event_multiplexer.EventMultiplexer object at 0x7f65bb3cfc10>\"). Ignoring for now -- will retry query on next call to fetch.\n"
     ]
    },
    {
     "name": "stderr",
     "output_type": "stream",
     "text": [
      "[ERROR 08-22 06:44:21] ax.core.experiment: Discovered Metric fetching Err while attaching data MetricFetchE(message=\"No 'scalar' data found for trial in multiplexer mul=<tensorboard.backend.event_processing.plugin_event_multiplexer.EventMultiplexer object at 0x7f65bb3cd5a0>\"). Ignoring for now -- will retry query on next call to fetch.\n"
     ]
    },
    {
     "name": "stderr",
     "output_type": "stream",
     "text": [
      "[WARNING 08-22 06:44:21] Scheduler: Failed to fetch val_acc for trial 1, found MetricFetchE(message=\"No 'scalar' data found for trial in multiplexer mul=<tensorboard.backend.event_processing.plugin_event_multiplexer.EventMultiplexer object at 0x7f65bb3cee90>\").\n"
     ]
    },
    {
     "name": "stderr",
     "output_type": "stream",
     "text": [
      "[INFO 08-22 06:44:21] Scheduler: MetricFetchE INFO: Because val_acc is available_while_running and trial 1 is still RUNNING continuing the experiment and retrying on next poll...\n"
     ]
    },
    {
     "name": "stderr",
     "output_type": "stream",
     "text": [
      "[WARNING 08-22 06:44:21] Scheduler: Failed to fetch val_acc for trial 2, found MetricFetchE(message=\"No 'scalar' data found for trial in multiplexer mul=<tensorboard.backend.event_processing.plugin_event_multiplexer.EventMultiplexer object at 0x7f65bb3ce620>\").\n"
     ]
    },
    {
     "name": "stderr",
     "output_type": "stream",
     "text": [
      "[INFO 08-22 06:44:21] Scheduler: MetricFetchE INFO: Because val_acc is available_while_running and trial 2 is still RUNNING continuing the experiment and retrying on next poll...\n"
     ]
    },
    {
     "name": "stderr",
     "output_type": "stream",
     "text": [
      "[WARNING 08-22 06:44:21] Scheduler: Failed to fetch val_acc for trial 3, found MetricFetchE(message=\"No 'scalar' data found for trial in multiplexer mul=<tensorboard.backend.event_processing.plugin_event_multiplexer.EventMultiplexer object at 0x7f65bb3cfca0>\").\n"
     ]
    },
    {
     "name": "stderr",
     "output_type": "stream",
     "text": [
      "[INFO 08-22 06:44:21] Scheduler: MetricFetchE INFO: Because val_acc is available_while_running and trial 3 is still RUNNING continuing the experiment and retrying on next poll...\n"
     ]
    },
    {
     "name": "stderr",
     "output_type": "stream",
     "text": [
      "[WARNING 08-22 06:44:21] Scheduler: Failed to fetch val_acc for trial 4, found MetricFetchE(message=\"No 'scalar' data found for trial in multiplexer mul=<tensorboard.backend.event_processing.plugin_event_multiplexer.EventMultiplexer object at 0x7f65bb3cfc10>\").\n"
     ]
    },
    {
     "name": "stderr",
     "output_type": "stream",
     "text": [
      "[INFO 08-22 06:44:21] Scheduler: MetricFetchE INFO: Because val_acc is available_while_running and trial 4 is still RUNNING continuing the experiment and retrying on next poll...\n"
     ]
    },
    {
     "name": "stderr",
     "output_type": "stream",
     "text": [
      "[WARNING 08-22 06:44:21] Scheduler: Failed to fetch val_acc for trial 5, found MetricFetchE(message=\"No 'scalar' data found for trial in multiplexer mul=<tensorboard.backend.event_processing.plugin_event_multiplexer.EventMultiplexer object at 0x7f65bb3cd5a0>\").\n"
     ]
    },
    {
     "name": "stderr",
     "output_type": "stream",
     "text": [
      "[INFO 08-22 06:44:21] Scheduler: MetricFetchE INFO: Because val_acc is available_while_running and trial 5 is still RUNNING continuing the experiment and retrying on next poll...\n"
     ]
    },
    {
     "name": "stderr",
     "output_type": "stream",
     "text": [
      "[INFO 08-22 06:44:21] ax.early_stopping.strategies.base: PercentileEarlyStoppingStrategy received empty data. Not stopping any trials.\n"
     ]
    },
    {
     "name": "stderr",
     "output_type": "stream",
     "text": [
      "[INFO 08-22 06:44:21] Scheduler: Waiting for completed trials (for 10 sec, currently running trials: 5).\n"
     ]
    },
    {
     "name": "stderr",
     "output_type": "stream",
     "text": [
      "[INFO 08-22 06:44:31] Scheduler: Fetching data for newly completed trials: [].\n"
     ]
    },
    {
     "name": "stderr",
     "output_type": "stream",
     "text": [
      "[INFO 08-22 06:44:31] Scheduler: Fetching data for trials: 1 - 5 because some metrics on experiment are available while trials are running.\n"
     ]
    },
    {
     "name": "stderr",
     "output_type": "stream",
     "text": [
      "[INFO 08-22 06:44:31] ax.core.metric: MetricFetchE INFO: Initialized MetricFetchE(message=\"No 'scalar' data found for trial in multiplexer mul=<tensorboard.backend.event_processing.plugin_event_multiplexer.EventMultiplexer object at 0x7f65bb3cff70>\")\n"
     ]
    },
    {
     "name": "stderr",
     "output_type": "stream",
     "text": [
      "[INFO 08-22 06:44:31] ax.core.metric: MetricFetchE INFO: Initialized MetricFetchE(message=\"No 'scalar' data found for trial in multiplexer mul=<tensorboard.backend.event_processing.plugin_event_multiplexer.EventMultiplexer object at 0x7f65bb3ce3e0>\")\n"
     ]
    },
    {
     "name": "stderr",
     "output_type": "stream",
     "text": [
      "[INFO 08-22 06:44:31] ax.core.metric: MetricFetchE INFO: Initialized MetricFetchE(message=\"No 'scalar' data found for trial in multiplexer mul=<tensorboard.backend.event_processing.plugin_event_multiplexer.EventMultiplexer object at 0x7f65bb3ceda0>\")\n"
     ]
    },
    {
     "name": "stderr",
     "output_type": "stream",
     "text": [
      "[INFO 08-22 06:44:31] ax.core.metric: MetricFetchE INFO: Initialized MetricFetchE(message=\"No 'scalar' data found for trial in multiplexer mul=<tensorboard.backend.event_processing.plugin_event_multiplexer.EventMultiplexer object at 0x7f65bb3cf580>\")\n"
     ]
    },
    {
     "name": "stderr",
     "output_type": "stream",
     "text": [
      "[INFO 08-22 06:44:31] ax.core.metric: MetricFetchE INFO: Initialized MetricFetchE(message=\"No 'scalar' data found for trial in multiplexer mul=<tensorboard.backend.event_processing.plugin_event_multiplexer.EventMultiplexer object at 0x7f65bb3cf100>\")\n"
     ]
    },
    {
     "name": "stderr",
     "output_type": "stream",
     "text": [
      "[ERROR 08-22 06:44:31] ax.core.experiment: Discovered Metric fetching Err while attaching data MetricFetchE(message=\"No 'scalar' data found for trial in multiplexer mul=<tensorboard.backend.event_processing.plugin_event_multiplexer.EventMultiplexer object at 0x7f65bb3cff70>\"). Ignoring for now -- will retry query on next call to fetch.\n"
     ]
    },
    {
     "name": "stderr",
     "output_type": "stream",
     "text": [
      "[ERROR 08-22 06:44:31] ax.core.experiment: Discovered Metric fetching Err while attaching data MetricFetchE(message=\"No 'scalar' data found for trial in multiplexer mul=<tensorboard.backend.event_processing.plugin_event_multiplexer.EventMultiplexer object at 0x7f65bb3ce3e0>\"). Ignoring for now -- will retry query on next call to fetch.\n"
     ]
    },
    {
     "name": "stderr",
     "output_type": "stream",
     "text": [
      "[ERROR 08-22 06:44:31] ax.core.experiment: Discovered Metric fetching Err while attaching data MetricFetchE(message=\"No 'scalar' data found for trial in multiplexer mul=<tensorboard.backend.event_processing.plugin_event_multiplexer.EventMultiplexer object at 0x7f65bb3ceda0>\"). Ignoring for now -- will retry query on next call to fetch.\n"
     ]
    },
    {
     "name": "stderr",
     "output_type": "stream",
     "text": [
      "[ERROR 08-22 06:44:31] ax.core.experiment: Discovered Metric fetching Err while attaching data MetricFetchE(message=\"No 'scalar' data found for trial in multiplexer mul=<tensorboard.backend.event_processing.plugin_event_multiplexer.EventMultiplexer object at 0x7f65bb3cf580>\"). Ignoring for now -- will retry query on next call to fetch.\n"
     ]
    },
    {
     "name": "stderr",
     "output_type": "stream",
     "text": [
      "[ERROR 08-22 06:44:31] ax.core.experiment: Discovered Metric fetching Err while attaching data MetricFetchE(message=\"No 'scalar' data found for trial in multiplexer mul=<tensorboard.backend.event_processing.plugin_event_multiplexer.EventMultiplexer object at 0x7f65bb3cf100>\"). Ignoring for now -- will retry query on next call to fetch.\n"
     ]
    },
    {
     "name": "stderr",
     "output_type": "stream",
     "text": [
      "[WARNING 08-22 06:44:31] Scheduler: Failed to fetch val_acc for trial 1, found MetricFetchE(message=\"No 'scalar' data found for trial in multiplexer mul=<tensorboard.backend.event_processing.plugin_event_multiplexer.EventMultiplexer object at 0x7f65bb3cff70>\").\n"
     ]
    },
    {
     "name": "stderr",
     "output_type": "stream",
     "text": [
      "[INFO 08-22 06:44:31] Scheduler: MetricFetchE INFO: Because val_acc is available_while_running and trial 1 is still RUNNING continuing the experiment and retrying on next poll...\n"
     ]
    },
    {
     "name": "stderr",
     "output_type": "stream",
     "text": [
      "[WARNING 08-22 06:44:31] Scheduler: Failed to fetch val_acc for trial 2, found MetricFetchE(message=\"No 'scalar' data found for trial in multiplexer mul=<tensorboard.backend.event_processing.plugin_event_multiplexer.EventMultiplexer object at 0x7f65bb3ce3e0>\").\n"
     ]
    },
    {
     "name": "stderr",
     "output_type": "stream",
     "text": [
      "[INFO 08-22 06:44:31] Scheduler: MetricFetchE INFO: Because val_acc is available_while_running and trial 2 is still RUNNING continuing the experiment and retrying on next poll...\n"
     ]
    },
    {
     "name": "stderr",
     "output_type": "stream",
     "text": [
      "[WARNING 08-22 06:44:31] Scheduler: Failed to fetch val_acc for trial 3, found MetricFetchE(message=\"No 'scalar' data found for trial in multiplexer mul=<tensorboard.backend.event_processing.plugin_event_multiplexer.EventMultiplexer object at 0x7f65bb3ceda0>\").\n"
     ]
    },
    {
     "name": "stderr",
     "output_type": "stream",
     "text": [
      "[INFO 08-22 06:44:31] Scheduler: MetricFetchE INFO: Because val_acc is available_while_running and trial 3 is still RUNNING continuing the experiment and retrying on next poll...\n"
     ]
    },
    {
     "name": "stderr",
     "output_type": "stream",
     "text": [
      "[WARNING 08-22 06:44:31] Scheduler: Failed to fetch val_acc for trial 4, found MetricFetchE(message=\"No 'scalar' data found for trial in multiplexer mul=<tensorboard.backend.event_processing.plugin_event_multiplexer.EventMultiplexer object at 0x7f65bb3cf580>\").\n"
     ]
    },
    {
     "name": "stderr",
     "output_type": "stream",
     "text": [
      "[INFO 08-22 06:44:31] Scheduler: MetricFetchE INFO: Because val_acc is available_while_running and trial 4 is still RUNNING continuing the experiment and retrying on next poll...\n"
     ]
    },
    {
     "name": "stderr",
     "output_type": "stream",
     "text": [
      "[WARNING 08-22 06:44:31] Scheduler: Failed to fetch val_acc for trial 5, found MetricFetchE(message=\"No 'scalar' data found for trial in multiplexer mul=<tensorboard.backend.event_processing.plugin_event_multiplexer.EventMultiplexer object at 0x7f65bb3cf100>\").\n"
     ]
    },
    {
     "name": "stderr",
     "output_type": "stream",
     "text": [
      "[INFO 08-22 06:44:31] Scheduler: MetricFetchE INFO: Because val_acc is available_while_running and trial 5 is still RUNNING continuing the experiment and retrying on next poll...\n"
     ]
    },
    {
     "name": "stderr",
     "output_type": "stream",
     "text": [
      "[INFO 08-22 06:44:31] ax.early_stopping.strategies.base: PercentileEarlyStoppingStrategy received empty data. Not stopping any trials.\n"
     ]
    },
    {
     "name": "stderr",
     "output_type": "stream",
     "text": [
      "[INFO 08-22 06:44:31] Scheduler: Waiting for completed trials (for 10 sec, currently running trials: 5).\n"
     ]
    },
    {
     "name": "stderr",
     "output_type": "stream",
     "text": [
      "[INFO 08-22 06:44:41] Scheduler: Fetching data for newly completed trials: [].\n"
     ]
    },
    {
     "name": "stderr",
     "output_type": "stream",
     "text": [
      "[INFO 08-22 06:44:41] Scheduler: Fetching data for trials: 1 - 5 because some metrics on experiment are available while trials are running.\n"
     ]
    },
    {
     "name": "stderr",
     "output_type": "stream",
     "text": [
      "[INFO 08-22 06:44:41] ax.core.metric: MetricFetchE INFO: Initialized MetricFetchE(message=\"No 'scalar' data found for trial in multiplexer mul=<tensorboard.backend.event_processing.plugin_event_multiplexer.EventMultiplexer object at 0x7f65bb3cebc0>\")\n"
     ]
    },
    {
     "name": "stderr",
     "output_type": "stream",
     "text": [
      "[INFO 08-22 06:44:41] ax.core.metric: MetricFetchE INFO: Initialized MetricFetchE(message=\"No 'scalar' data found for trial in multiplexer mul=<tensorboard.backend.event_processing.plugin_event_multiplexer.EventMultiplexer object at 0x7f65bb3cee00>\")\n"
     ]
    },
    {
     "name": "stderr",
     "output_type": "stream",
     "text": [
      "[INFO 08-22 06:44:41] ax.core.metric: MetricFetchE INFO: Initialized MetricFetchE(message=\"No 'scalar' data found for trial in multiplexer mul=<tensorboard.backend.event_processing.plugin_event_multiplexer.EventMultiplexer object at 0x7f65bb3cf2b0>\")\n"
     ]
    },
    {
     "name": "stderr",
     "output_type": "stream",
     "text": [
      "[INFO 08-22 06:44:41] ax.core.metric: MetricFetchE INFO: Initialized MetricFetchE(message=\"No 'scalar' data found for trial in multiplexer mul=<tensorboard.backend.event_processing.plugin_event_multiplexer.EventMultiplexer object at 0x7f65bb3cee90>\")\n"
     ]
    },
    {
     "name": "stderr",
     "output_type": "stream",
     "text": [
      "[INFO 08-22 06:44:41] ax.core.metric: MetricFetchE INFO: Initialized MetricFetchE(message=\"No 'scalar' data found for trial in multiplexer mul=<tensorboard.backend.event_processing.plugin_event_multiplexer.EventMultiplexer object at 0x7f65bb3cf280>\")\n"
     ]
    },
    {
     "name": "stderr",
     "output_type": "stream",
     "text": [
      "[ERROR 08-22 06:44:41] ax.core.experiment: Discovered Metric fetching Err while attaching data MetricFetchE(message=\"No 'scalar' data found for trial in multiplexer mul=<tensorboard.backend.event_processing.plugin_event_multiplexer.EventMultiplexer object at 0x7f65bb3cebc0>\"). Ignoring for now -- will retry query on next call to fetch.\n"
     ]
    },
    {
     "name": "stderr",
     "output_type": "stream",
     "text": [
      "[ERROR 08-22 06:44:41] ax.core.experiment: Discovered Metric fetching Err while attaching data MetricFetchE(message=\"No 'scalar' data found for trial in multiplexer mul=<tensorboard.backend.event_processing.plugin_event_multiplexer.EventMultiplexer object at 0x7f65bb3cee00>\"). Ignoring for now -- will retry query on next call to fetch.\n"
     ]
    },
    {
     "name": "stderr",
     "output_type": "stream",
     "text": [
      "[ERROR 08-22 06:44:41] ax.core.experiment: Discovered Metric fetching Err while attaching data MetricFetchE(message=\"No 'scalar' data found for trial in multiplexer mul=<tensorboard.backend.event_processing.plugin_event_multiplexer.EventMultiplexer object at 0x7f65bb3cf2b0>\"). Ignoring for now -- will retry query on next call to fetch.\n"
     ]
    },
    {
     "name": "stderr",
     "output_type": "stream",
     "text": [
      "[ERROR 08-22 06:44:41] ax.core.experiment: Discovered Metric fetching Err while attaching data MetricFetchE(message=\"No 'scalar' data found for trial in multiplexer mul=<tensorboard.backend.event_processing.plugin_event_multiplexer.EventMultiplexer object at 0x7f65bb3cee90>\"). Ignoring for now -- will retry query on next call to fetch.\n"
     ]
    },
    {
     "name": "stderr",
     "output_type": "stream",
     "text": [
      "[ERROR 08-22 06:44:41] ax.core.experiment: Discovered Metric fetching Err while attaching data MetricFetchE(message=\"No 'scalar' data found for trial in multiplexer mul=<tensorboard.backend.event_processing.plugin_event_multiplexer.EventMultiplexer object at 0x7f65bb3cf280>\"). Ignoring for now -- will retry query on next call to fetch.\n"
     ]
    },
    {
     "name": "stderr",
     "output_type": "stream",
     "text": [
      "[WARNING 08-22 06:44:41] Scheduler: Failed to fetch val_acc for trial 1, found MetricFetchE(message=\"No 'scalar' data found for trial in multiplexer mul=<tensorboard.backend.event_processing.plugin_event_multiplexer.EventMultiplexer object at 0x7f65bb3cebc0>\").\n"
     ]
    },
    {
     "name": "stderr",
     "output_type": "stream",
     "text": [
      "[INFO 08-22 06:44:41] Scheduler: MetricFetchE INFO: Because val_acc is available_while_running and trial 1 is still RUNNING continuing the experiment and retrying on next poll...\n"
     ]
    },
    {
     "name": "stderr",
     "output_type": "stream",
     "text": [
      "[WARNING 08-22 06:44:41] Scheduler: Failed to fetch val_acc for trial 2, found MetricFetchE(message=\"No 'scalar' data found for trial in multiplexer mul=<tensorboard.backend.event_processing.plugin_event_multiplexer.EventMultiplexer object at 0x7f65bb3cee00>\").\n"
     ]
    },
    {
     "name": "stderr",
     "output_type": "stream",
     "text": [
      "[INFO 08-22 06:44:41] Scheduler: MetricFetchE INFO: Because val_acc is available_while_running and trial 2 is still RUNNING continuing the experiment and retrying on next poll...\n"
     ]
    },
    {
     "name": "stderr",
     "output_type": "stream",
     "text": [
      "[WARNING 08-22 06:44:41] Scheduler: Failed to fetch val_acc for trial 3, found MetricFetchE(message=\"No 'scalar' data found for trial in multiplexer mul=<tensorboard.backend.event_processing.plugin_event_multiplexer.EventMultiplexer object at 0x7f65bb3cf2b0>\").\n"
     ]
    },
    {
     "name": "stderr",
     "output_type": "stream",
     "text": [
      "[INFO 08-22 06:44:41] Scheduler: MetricFetchE INFO: Because val_acc is available_while_running and trial 3 is still RUNNING continuing the experiment and retrying on next poll...\n"
     ]
    },
    {
     "name": "stderr",
     "output_type": "stream",
     "text": [
      "[WARNING 08-22 06:44:41] Scheduler: Failed to fetch val_acc for trial 4, found MetricFetchE(message=\"No 'scalar' data found for trial in multiplexer mul=<tensorboard.backend.event_processing.plugin_event_multiplexer.EventMultiplexer object at 0x7f65bb3cee90>\").\n"
     ]
    },
    {
     "name": "stderr",
     "output_type": "stream",
     "text": [
      "[INFO 08-22 06:44:41] Scheduler: MetricFetchE INFO: Because val_acc is available_while_running and trial 4 is still RUNNING continuing the experiment and retrying on next poll...\n"
     ]
    },
    {
     "name": "stderr",
     "output_type": "stream",
     "text": [
      "[WARNING 08-22 06:44:41] Scheduler: Failed to fetch val_acc for trial 5, found MetricFetchE(message=\"No 'scalar' data found for trial in multiplexer mul=<tensorboard.backend.event_processing.plugin_event_multiplexer.EventMultiplexer object at 0x7f65bb3cf280>\").\n"
     ]
    },
    {
     "name": "stderr",
     "output_type": "stream",
     "text": [
      "[INFO 08-22 06:44:41] Scheduler: MetricFetchE INFO: Because val_acc is available_while_running and trial 5 is still RUNNING continuing the experiment and retrying on next poll...\n"
     ]
    },
    {
     "name": "stderr",
     "output_type": "stream",
     "text": [
      "[INFO 08-22 06:44:41] ax.early_stopping.strategies.base: PercentileEarlyStoppingStrategy received empty data. Not stopping any trials.\n"
     ]
    },
    {
     "name": "stderr",
     "output_type": "stream",
     "text": [
      "[INFO 08-22 06:44:41] Scheduler: Waiting for completed trials (for 10 sec, currently running trials: 5).\n"
     ]
    },
    {
     "name": "stderr",
     "output_type": "stream",
     "text": [
      "[INFO 08-22 06:44:51] Scheduler: Fetching data for newly completed trials: [].\n"
     ]
    },
    {
     "name": "stderr",
     "output_type": "stream",
     "text": [
      "[INFO 08-22 06:44:51] Scheduler: Fetching data for trials: 1 - 5 because some metrics on experiment are available while trials are running.\n"
     ]
    },
    {
     "name": "stderr",
     "output_type": "stream",
     "text": [
      "[INFO 08-22 06:44:51] ax.core.metric: MetricFetchE INFO: Initialized MetricFetchE(message=\"No 'scalar' data found for trial in multiplexer mul=<tensorboard.backend.event_processing.plugin_event_multiplexer.EventMultiplexer object at 0x7f65bb3cebc0>\")\n"
     ]
    },
    {
     "name": "stderr",
     "output_type": "stream",
     "text": [
      "[INFO 08-22 06:44:51] ax.core.metric: MetricFetchE INFO: Initialized MetricFetchE(message=\"No 'scalar' data found for trial in multiplexer mul=<tensorboard.backend.event_processing.plugin_event_multiplexer.EventMultiplexer object at 0x7f65bb3cfa30>\")\n"
     ]
    },
    {
     "name": "stderr",
     "output_type": "stream",
     "text": [
      "[INFO 08-22 06:44:51] ax.core.metric: MetricFetchE INFO: Initialized MetricFetchE(message=\"No 'scalar' data found for trial in multiplexer mul=<tensorboard.backend.event_processing.plugin_event_multiplexer.EventMultiplexer object at 0x7f65bb3cdfc0>\")\n"
     ]
    },
    {
     "name": "stderr",
     "output_type": "stream",
     "text": [
      "[INFO 08-22 06:44:51] ax.core.metric: MetricFetchE INFO: Initialized MetricFetchE(message=\"No 'scalar' data found for trial in multiplexer mul=<tensorboard.backend.event_processing.plugin_event_multiplexer.EventMultiplexer object at 0x7f65bb3ceb60>\")\n"
     ]
    },
    {
     "name": "stderr",
     "output_type": "stream",
     "text": [
      "[INFO 08-22 06:44:51] ax.core.metric: MetricFetchE INFO: Initialized MetricFetchE(message=\"No 'scalar' data found for trial in multiplexer mul=<tensorboard.backend.event_processing.plugin_event_multiplexer.EventMultiplexer object at 0x7f65bb3cdf30>\")\n"
     ]
    },
    {
     "name": "stderr",
     "output_type": "stream",
     "text": [
      "[ERROR 08-22 06:44:51] ax.core.experiment: Discovered Metric fetching Err while attaching data MetricFetchE(message=\"No 'scalar' data found for trial in multiplexer mul=<tensorboard.backend.event_processing.plugin_event_multiplexer.EventMultiplexer object at 0x7f65bb3cebc0>\"). Ignoring for now -- will retry query on next call to fetch.\n"
     ]
    },
    {
     "name": "stderr",
     "output_type": "stream",
     "text": [
      "[ERROR 08-22 06:44:51] ax.core.experiment: Discovered Metric fetching Err while attaching data MetricFetchE(message=\"No 'scalar' data found for trial in multiplexer mul=<tensorboard.backend.event_processing.plugin_event_multiplexer.EventMultiplexer object at 0x7f65bb3cfa30>\"). Ignoring for now -- will retry query on next call to fetch.\n"
     ]
    },
    {
     "name": "stderr",
     "output_type": "stream",
     "text": [
      "[ERROR 08-22 06:44:51] ax.core.experiment: Discovered Metric fetching Err while attaching data MetricFetchE(message=\"No 'scalar' data found for trial in multiplexer mul=<tensorboard.backend.event_processing.plugin_event_multiplexer.EventMultiplexer object at 0x7f65bb3cdfc0>\"). Ignoring for now -- will retry query on next call to fetch.\n"
     ]
    },
    {
     "name": "stderr",
     "output_type": "stream",
     "text": [
      "[ERROR 08-22 06:44:51] ax.core.experiment: Discovered Metric fetching Err while attaching data MetricFetchE(message=\"No 'scalar' data found for trial in multiplexer mul=<tensorboard.backend.event_processing.plugin_event_multiplexer.EventMultiplexer object at 0x7f65bb3ceb60>\"). Ignoring for now -- will retry query on next call to fetch.\n"
     ]
    },
    {
     "name": "stderr",
     "output_type": "stream",
     "text": [
      "[ERROR 08-22 06:44:51] ax.core.experiment: Discovered Metric fetching Err while attaching data MetricFetchE(message=\"No 'scalar' data found for trial in multiplexer mul=<tensorboard.backend.event_processing.plugin_event_multiplexer.EventMultiplexer object at 0x7f65bb3cdf30>\"). Ignoring for now -- will retry query on next call to fetch.\n"
     ]
    },
    {
     "name": "stderr",
     "output_type": "stream",
     "text": [
      "[WARNING 08-22 06:44:51] Scheduler: Failed to fetch val_acc for trial 1, found MetricFetchE(message=\"No 'scalar' data found for trial in multiplexer mul=<tensorboard.backend.event_processing.plugin_event_multiplexer.EventMultiplexer object at 0x7f65bb3cebc0>\").\n"
     ]
    },
    {
     "name": "stderr",
     "output_type": "stream",
     "text": [
      "[INFO 08-22 06:44:51] Scheduler: MetricFetchE INFO: Because val_acc is available_while_running and trial 1 is still RUNNING continuing the experiment and retrying on next poll...\n"
     ]
    },
    {
     "name": "stderr",
     "output_type": "stream",
     "text": [
      "[WARNING 08-22 06:44:51] Scheduler: Failed to fetch val_acc for trial 2, found MetricFetchE(message=\"No 'scalar' data found for trial in multiplexer mul=<tensorboard.backend.event_processing.plugin_event_multiplexer.EventMultiplexer object at 0x7f65bb3cfa30>\").\n"
     ]
    },
    {
     "name": "stderr",
     "output_type": "stream",
     "text": [
      "[INFO 08-22 06:44:51] Scheduler: MetricFetchE INFO: Because val_acc is available_while_running and trial 2 is still RUNNING continuing the experiment and retrying on next poll...\n"
     ]
    },
    {
     "name": "stderr",
     "output_type": "stream",
     "text": [
      "[WARNING 08-22 06:44:51] Scheduler: Failed to fetch val_acc for trial 3, found MetricFetchE(message=\"No 'scalar' data found for trial in multiplexer mul=<tensorboard.backend.event_processing.plugin_event_multiplexer.EventMultiplexer object at 0x7f65bb3cdfc0>\").\n"
     ]
    },
    {
     "name": "stderr",
     "output_type": "stream",
     "text": [
      "[INFO 08-22 06:44:51] Scheduler: MetricFetchE INFO: Because val_acc is available_while_running and trial 3 is still RUNNING continuing the experiment and retrying on next poll...\n"
     ]
    },
    {
     "name": "stderr",
     "output_type": "stream",
     "text": [
      "[WARNING 08-22 06:44:51] Scheduler: Failed to fetch val_acc for trial 4, found MetricFetchE(message=\"No 'scalar' data found for trial in multiplexer mul=<tensorboard.backend.event_processing.plugin_event_multiplexer.EventMultiplexer object at 0x7f65bb3ceb60>\").\n"
     ]
    },
    {
     "name": "stderr",
     "output_type": "stream",
     "text": [
      "[INFO 08-22 06:44:51] Scheduler: MetricFetchE INFO: Because val_acc is available_while_running and trial 4 is still RUNNING continuing the experiment and retrying on next poll...\n"
     ]
    },
    {
     "name": "stderr",
     "output_type": "stream",
     "text": [
      "[WARNING 08-22 06:44:51] Scheduler: Failed to fetch val_acc for trial 5, found MetricFetchE(message=\"No 'scalar' data found for trial in multiplexer mul=<tensorboard.backend.event_processing.plugin_event_multiplexer.EventMultiplexer object at 0x7f65bb3cdf30>\").\n"
     ]
    },
    {
     "name": "stderr",
     "output_type": "stream",
     "text": [
      "[INFO 08-22 06:44:51] Scheduler: MetricFetchE INFO: Because val_acc is available_while_running and trial 5 is still RUNNING continuing the experiment and retrying on next poll...\n"
     ]
    },
    {
     "name": "stderr",
     "output_type": "stream",
     "text": [
      "[INFO 08-22 06:44:51] ax.early_stopping.strategies.base: PercentileEarlyStoppingStrategy received empty data. Not stopping any trials.\n"
     ]
    },
    {
     "name": "stderr",
     "output_type": "stream",
     "text": [
      "[INFO 08-22 06:44:51] Scheduler: Waiting for completed trials (for 10 sec, currently running trials: 5).\n"
     ]
    },
    {
     "name": "stderr",
     "output_type": "stream",
     "text": [
      "[INFO 08-22 06:45:01] Scheduler: Fetching data for newly completed trials: [].\n"
     ]
    },
    {
     "name": "stderr",
     "output_type": "stream",
     "text": [
      "[INFO 08-22 06:45:01] Scheduler: Fetching data for trials: 1 - 5 because some metrics on experiment are available while trials are running.\n"
     ]
    },
    {
     "name": "stderr",
     "output_type": "stream",
     "text": [
      "[INFO 08-22 06:45:01] ax.core.metric: MetricFetchE INFO: Initialized MetricFetchE(message=\"No 'scalar' data found for trial in multiplexer mul=<tensorboard.backend.event_processing.plugin_event_multiplexer.EventMultiplexer object at 0x7f65bb3cecb0>\")\n"
     ]
    },
    {
     "name": "stderr",
     "output_type": "stream",
     "text": [
      "[INFO 08-22 06:45:01] ax.core.metric: MetricFetchE INFO: Initialized MetricFetchE(message=\"No 'scalar' data found for trial in multiplexer mul=<tensorboard.backend.event_processing.plugin_event_multiplexer.EventMultiplexer object at 0x7f65bb3cf2b0>\")\n"
     ]
    },
    {
     "name": "stderr",
     "output_type": "stream",
     "text": [
      "[INFO 08-22 06:45:01] ax.core.metric: MetricFetchE INFO: Initialized MetricFetchE(message=\"No 'scalar' data found for trial in multiplexer mul=<tensorboard.backend.event_processing.plugin_event_multiplexer.EventMultiplexer object at 0x7f65bb3ce8c0>\")\n"
     ]
    },
    {
     "name": "stderr",
     "output_type": "stream",
     "text": [
      "[ERROR 08-22 06:45:01] ax.core.experiment: Discovered Metric fetching Err while attaching data MetricFetchE(message=\"No 'scalar' data found for trial in multiplexer mul=<tensorboard.backend.event_processing.plugin_event_multiplexer.EventMultiplexer object at 0x7f65bb3cecb0>\"). Ignoring for now -- will retry query on next call to fetch.\n"
     ]
    },
    {
     "name": "stderr",
     "output_type": "stream",
     "text": [
      "[ERROR 08-22 06:45:01] ax.core.experiment: Discovered Metric fetching Err while attaching data MetricFetchE(message=\"No 'scalar' data found for trial in multiplexer mul=<tensorboard.backend.event_processing.plugin_event_multiplexer.EventMultiplexer object at 0x7f65bb3cf2b0>\"). Ignoring for now -- will retry query on next call to fetch.\n"
     ]
    },
    {
     "name": "stderr",
     "output_type": "stream",
     "text": [
      "[ERROR 08-22 06:45:01] ax.core.experiment: Discovered Metric fetching Err while attaching data MetricFetchE(message=\"No 'scalar' data found for trial in multiplexer mul=<tensorboard.backend.event_processing.plugin_event_multiplexer.EventMultiplexer object at 0x7f65bb3ce8c0>\"). Ignoring for now -- will retry query on next call to fetch.\n"
     ]
    },
    {
     "name": "stderr",
     "output_type": "stream",
     "text": [
      "/tmp/tmp.oVbuNeLNgw/Ax-main/ax/core/map_data.py:192: FutureWarning: The behavior of DataFrame concatenation with empty or all-NA entries is deprecated. In a future version, this will no longer exclude empty or all-NA columns when determining the result dtypes. To retain the old behavior, exclude the relevant entries before the concat operation.\n",
      "  df = pd.concat(\n",
      "[WARNING 08-22 06:45:01] Scheduler: Failed to fetch val_acc for trial 3, found MetricFetchE(message=\"No 'scalar' data found for trial in multiplexer mul=<tensorboard.backend.event_processing.plugin_event_multiplexer.EventMultiplexer object at 0x7f65bb3cecb0>\").\n"
     ]
    },
    {
     "name": "stderr",
     "output_type": "stream",
     "text": [
      "[INFO 08-22 06:45:01] Scheduler: MetricFetchE INFO: Because val_acc is available_while_running and trial 3 is still RUNNING continuing the experiment and retrying on next poll...\n"
     ]
    },
    {
     "name": "stderr",
     "output_type": "stream",
     "text": [
      "[WARNING 08-22 06:45:01] Scheduler: Failed to fetch val_acc for trial 4, found MetricFetchE(message=\"No 'scalar' data found for trial in multiplexer mul=<tensorboard.backend.event_processing.plugin_event_multiplexer.EventMultiplexer object at 0x7f65bb3cf2b0>\").\n"
     ]
    },
    {
     "name": "stderr",
     "output_type": "stream",
     "text": [
      "[INFO 08-22 06:45:01] Scheduler: MetricFetchE INFO: Because val_acc is available_while_running and trial 4 is still RUNNING continuing the experiment and retrying on next poll...\n"
     ]
    },
    {
     "name": "stderr",
     "output_type": "stream",
     "text": [
      "[WARNING 08-22 06:45:01] Scheduler: Failed to fetch val_acc for trial 5, found MetricFetchE(message=\"No 'scalar' data found for trial in multiplexer mul=<tensorboard.backend.event_processing.plugin_event_multiplexer.EventMultiplexer object at 0x7f65bb3ce8c0>\").\n"
     ]
    },
    {
     "name": "stderr",
     "output_type": "stream",
     "text": [
      "[INFO 08-22 06:45:01] Scheduler: MetricFetchE INFO: Because val_acc is available_while_running and trial 5 is still RUNNING continuing the experiment and retrying on next poll...\n"
     ]
    },
    {
     "name": "stderr",
     "output_type": "stream",
     "text": [
      "/tmp/tmp.oVbuNeLNgw/Ax-main/ax/core/map_data.py:192: FutureWarning: The behavior of DataFrame concatenation with empty or all-NA entries is deprecated. In a future version, this will no longer exclude empty or all-NA columns when determining the result dtypes. To retain the old behavior, exclude the relevant entries before the concat operation.\n",
      "  df = pd.concat(\n"
     ]
    },
    {
     "name": "stderr",
     "output_type": "stream",
     "text": [
      "[INFO 08-22 06:45:01] ax.early_stopping.strategies.base: The number of completed trials (0) is less than the minimum number of curves needed for early stopping (5). Not early stopping.\n"
     ]
    },
    {
     "name": "stderr",
     "output_type": "stream",
     "text": [
      "[INFO 08-22 06:45:01] Scheduler: Waiting for completed trials (for 10 sec, currently running trials: 5).\n"
     ]
    },
    {
     "name": "stderr",
     "output_type": "stream",
     "text": [
      "[INFO 08-22 06:45:11] Scheduler: Fetching data for newly completed trials: [].\n"
     ]
    },
    {
     "name": "stderr",
     "output_type": "stream",
     "text": [
      "[INFO 08-22 06:45:11] Scheduler: Fetching data for trials: 1 - 5 because some metrics on experiment are available while trials are running.\n"
     ]
    },
    {
     "name": "stderr",
     "output_type": "stream",
     "text": [
      "[INFO 08-22 06:45:11] ax.core.metric: MetricFetchE INFO: Initialized MetricFetchE(message=\"No 'scalar' data found for trial in multiplexer mul=<tensorboard.backend.event_processing.plugin_event_multiplexer.EventMultiplexer object at 0x7f65bb3cdf90>\")\n"
     ]
    },
    {
     "name": "stderr",
     "output_type": "stream",
     "text": [
      "[INFO 08-22 06:45:11] ax.core.metric: MetricFetchE INFO: Initialized MetricFetchE(message=\"No 'scalar' data found for trial in multiplexer mul=<tensorboard.backend.event_processing.plugin_event_multiplexer.EventMultiplexer object at 0x7f65bb3ce320>\")\n"
     ]
    },
    {
     "name": "stderr",
     "output_type": "stream",
     "text": [
      "[ERROR 08-22 06:45:11] ax.core.experiment: Discovered Metric fetching Err while attaching data MetricFetchE(message=\"No 'scalar' data found for trial in multiplexer mul=<tensorboard.backend.event_processing.plugin_event_multiplexer.EventMultiplexer object at 0x7f65bb3cdf90>\"). Ignoring for now -- will retry query on next call to fetch.\n"
     ]
    },
    {
     "name": "stderr",
     "output_type": "stream",
     "text": [
      "[ERROR 08-22 06:45:11] ax.core.experiment: Discovered Metric fetching Err while attaching data MetricFetchE(message=\"No 'scalar' data found for trial in multiplexer mul=<tensorboard.backend.event_processing.plugin_event_multiplexer.EventMultiplexer object at 0x7f65bb3ce320>\"). Ignoring for now -- will retry query on next call to fetch.\n"
     ]
    },
    {
     "name": "stderr",
     "output_type": "stream",
     "text": [
      "/tmp/tmp.oVbuNeLNgw/Ax-main/ax/core/map_data.py:192: FutureWarning: The behavior of DataFrame concatenation with empty or all-NA entries is deprecated. In a future version, this will no longer exclude empty or all-NA columns when determining the result dtypes. To retain the old behavior, exclude the relevant entries before the concat operation.\n",
      "  df = pd.concat(\n",
      "[WARNING 08-22 06:45:11] Scheduler: Failed to fetch val_acc for trial 4, found MetricFetchE(message=\"No 'scalar' data found for trial in multiplexer mul=<tensorboard.backend.event_processing.plugin_event_multiplexer.EventMultiplexer object at 0x7f65bb3cdf90>\").\n"
     ]
    },
    {
     "name": "stderr",
     "output_type": "stream",
     "text": [
      "[INFO 08-22 06:45:11] Scheduler: MetricFetchE INFO: Because val_acc is available_while_running and trial 4 is still RUNNING continuing the experiment and retrying on next poll...\n"
     ]
    },
    {
     "name": "stderr",
     "output_type": "stream",
     "text": [
      "[WARNING 08-22 06:45:11] Scheduler: Failed to fetch val_acc for trial 5, found MetricFetchE(message=\"No 'scalar' data found for trial in multiplexer mul=<tensorboard.backend.event_processing.plugin_event_multiplexer.EventMultiplexer object at 0x7f65bb3ce320>\").\n"
     ]
    },
    {
     "name": "stderr",
     "output_type": "stream",
     "text": [
      "[INFO 08-22 06:45:11] Scheduler: MetricFetchE INFO: Because val_acc is available_while_running and trial 5 is still RUNNING continuing the experiment and retrying on next poll...\n"
     ]
    },
    {
     "name": "stderr",
     "output_type": "stream",
     "text": [
      "/tmp/tmp.oVbuNeLNgw/Ax-main/ax/core/map_data.py:192: FutureWarning: The behavior of DataFrame concatenation with empty or all-NA entries is deprecated. In a future version, this will no longer exclude empty or all-NA columns when determining the result dtypes. To retain the old behavior, exclude the relevant entries before the concat operation.\n",
      "  df = pd.concat(\n",
      "[INFO 08-22 06:45:11] ax.early_stopping.strategies.base: The number of completed trials (0) is less than the minimum number of curves needed for early stopping (5). Not early stopping.\n"
     ]
    },
    {
     "name": "stderr",
     "output_type": "stream",
     "text": [
      "[INFO 08-22 06:45:11] Scheduler: Waiting for completed trials (for 10 sec, currently running trials: 5).\n"
     ]
    },
    {
     "name": "stderr",
     "output_type": "stream",
     "text": [
      "[INFO 08-22 06:45:21] Scheduler: Fetching data for newly completed trials: [].\n"
     ]
    },
    {
     "name": "stderr",
     "output_type": "stream",
     "text": [
      "[INFO 08-22 06:45:21] Scheduler: Fetching data for trials: 1 - 5 because some metrics on experiment are available while trials are running.\n"
     ]
    },
    {
     "name": "stderr",
     "output_type": "stream",
     "text": [
      "[INFO 08-22 06:45:22] ax.core.metric: MetricFetchE INFO: Initialized MetricFetchE(message=\"No 'scalar' data found for trial in multiplexer mul=<tensorboard.backend.event_processing.plugin_event_multiplexer.EventMultiplexer object at 0x7f65bb3cf100>\")\n"
     ]
    },
    {
     "name": "stderr",
     "output_type": "stream",
     "text": [
      "[ERROR 08-22 06:45:22] ax.core.experiment: Discovered Metric fetching Err while attaching data MetricFetchE(message=\"No 'scalar' data found for trial in multiplexer mul=<tensorboard.backend.event_processing.plugin_event_multiplexer.EventMultiplexer object at 0x7f65bb3cf100>\"). Ignoring for now -- will retry query on next call to fetch.\n"
     ]
    },
    {
     "name": "stderr",
     "output_type": "stream",
     "text": [
      "/tmp/tmp.oVbuNeLNgw/Ax-main/ax/core/map_data.py:192: FutureWarning: The behavior of DataFrame concatenation with empty or all-NA entries is deprecated. In a future version, this will no longer exclude empty or all-NA columns when determining the result dtypes. To retain the old behavior, exclude the relevant entries before the concat operation.\n",
      "  df = pd.concat(\n",
      "[WARNING 08-22 06:45:22] Scheduler: Failed to fetch val_acc for trial 5, found MetricFetchE(message=\"No 'scalar' data found for trial in multiplexer mul=<tensorboard.backend.event_processing.plugin_event_multiplexer.EventMultiplexer object at 0x7f65bb3cf100>\").\n"
     ]
    },
    {
     "name": "stderr",
     "output_type": "stream",
     "text": [
      "[INFO 08-22 06:45:22] Scheduler: MetricFetchE INFO: Because val_acc is available_while_running and trial 5 is still RUNNING continuing the experiment and retrying on next poll...\n"
     ]
    },
    {
     "name": "stderr",
     "output_type": "stream",
     "text": [
      "/tmp/tmp.oVbuNeLNgw/Ax-main/ax/core/map_data.py:192: FutureWarning: The behavior of DataFrame concatenation with empty or all-NA entries is deprecated. In a future version, this will no longer exclude empty or all-NA columns when determining the result dtypes. To retain the old behavior, exclude the relevant entries before the concat operation.\n",
      "  df = pd.concat(\n"
     ]
    },
    {
     "name": "stderr",
     "output_type": "stream",
     "text": [
      "[INFO 08-22 06:45:22] ax.early_stopping.strategies.base: The number of completed trials (0) is less than the minimum number of curves needed for early stopping (5). Not early stopping.\n"
     ]
    },
    {
     "name": "stderr",
     "output_type": "stream",
     "text": [
      "[INFO 08-22 06:45:22] Scheduler: Waiting for completed trials (for 10 sec, currently running trials: 5).\n"
     ]
    },
    {
     "name": "stderr",
     "output_type": "stream",
     "text": [
      "[INFO 08-22 06:45:32] Scheduler: Fetching data for newly completed trials: [].\n"
     ]
    },
    {
     "name": "stderr",
     "output_type": "stream",
     "text": [
      "[INFO 08-22 06:45:32] Scheduler: Fetching data for trials: 1 - 5 because some metrics on experiment are available while trials are running.\n"
     ]
    },
    {
     "name": "stderr",
     "output_type": "stream",
     "text": [
      "/tmp/tmp.oVbuNeLNgw/Ax-main/ax/core/map_data.py:192: FutureWarning: The behavior of DataFrame concatenation with empty or all-NA entries is deprecated. In a future version, this will no longer exclude empty or all-NA columns when determining the result dtypes. To retain the old behavior, exclude the relevant entries before the concat operation.\n",
      "  df = pd.concat(\n",
      "/tmp/tmp.oVbuNeLNgw/Ax-main/ax/core/map_data.py:192: FutureWarning: The behavior of DataFrame concatenation with empty or all-NA entries is deprecated. In a future version, this will no longer exclude empty or all-NA columns when determining the result dtypes. To retain the old behavior, exclude the relevant entries before the concat operation.\n",
      "  df = pd.concat(\n"
     ]
    },
    {
     "name": "stderr",
     "output_type": "stream",
     "text": [
      "[INFO 08-22 06:45:32] ax.early_stopping.strategies.base: The number of completed trials (0) is less than the minimum number of curves needed for early stopping (5). Not early stopping.\n"
     ]
    },
    {
     "name": "stderr",
     "output_type": "stream",
     "text": [
      "[INFO 08-22 06:45:32] Scheduler: Waiting for completed trials (for 10 sec, currently running trials: 5).\n"
     ]
    },
    {
     "name": "stderr",
     "output_type": "stream",
     "text": [
      "[INFO 08-22 06:45:42] Scheduler: Fetching data for newly completed trials: [].\n"
     ]
    },
    {
     "name": "stderr",
     "output_type": "stream",
     "text": [
      "[INFO 08-22 06:45:42] Scheduler: Fetching data for trials: 1 - 5 because some metrics on experiment are available while trials are running.\n"
     ]
    },
    {
     "name": "stderr",
     "output_type": "stream",
     "text": [
      "/tmp/tmp.oVbuNeLNgw/Ax-main/ax/core/map_data.py:192: FutureWarning: The behavior of DataFrame concatenation with empty or all-NA entries is deprecated. In a future version, this will no longer exclude empty or all-NA columns when determining the result dtypes. To retain the old behavior, exclude the relevant entries before the concat operation.\n",
      "  df = pd.concat(\n",
      "/tmp/tmp.oVbuNeLNgw/Ax-main/ax/core/map_data.py:192: FutureWarning: The behavior of DataFrame concatenation with empty or all-NA entries is deprecated. In a future version, this will no longer exclude empty or all-NA columns when determining the result dtypes. To retain the old behavior, exclude the relevant entries before the concat operation.\n",
      "  df = pd.concat(\n"
     ]
    },
    {
     "name": "stderr",
     "output_type": "stream",
     "text": [
      "[INFO 08-22 06:45:42] ax.early_stopping.strategies.base: The number of completed trials (0) is less than the minimum number of curves needed for early stopping (5). Not early stopping.\n"
     ]
    },
    {
     "name": "stderr",
     "output_type": "stream",
     "text": [
      "[INFO 08-22 06:45:42] Scheduler: Waiting for completed trials (for 10 sec, currently running trials: 5).\n"
     ]
    },
    {
     "name": "stderr",
     "output_type": "stream",
     "text": [
      "[INFO 08-22 06:45:52] Scheduler: Fetching data for newly completed trials: [].\n"
     ]
    },
    {
     "name": "stderr",
     "output_type": "stream",
     "text": [
      "[INFO 08-22 06:45:52] Scheduler: Fetching data for trials: 1 - 5 because some metrics on experiment are available while trials are running.\n"
     ]
    },
    {
     "name": "stderr",
     "output_type": "stream",
     "text": [
      "/tmp/tmp.oVbuNeLNgw/Ax-main/ax/core/map_data.py:192: FutureWarning: The behavior of DataFrame concatenation with empty or all-NA entries is deprecated. In a future version, this will no longer exclude empty or all-NA columns when determining the result dtypes. To retain the old behavior, exclude the relevant entries before the concat operation.\n",
      "  df = pd.concat(\n",
      "/tmp/tmp.oVbuNeLNgw/Ax-main/ax/core/map_data.py:192: FutureWarning: The behavior of DataFrame concatenation with empty or all-NA entries is deprecated. In a future version, this will no longer exclude empty or all-NA columns when determining the result dtypes. To retain the old behavior, exclude the relevant entries before the concat operation.\n",
      "  df = pd.concat(\n"
     ]
    },
    {
     "name": "stderr",
     "output_type": "stream",
     "text": [
      "[INFO 08-22 06:45:52] ax.early_stopping.strategies.base: The number of completed trials (0) is less than the minimum number of curves needed for early stopping (5). Not early stopping.\n"
     ]
    },
    {
     "name": "stderr",
     "output_type": "stream",
     "text": [
      "[INFO 08-22 06:45:52] Scheduler: Waiting for completed trials (for 10 sec, currently running trials: 5).\n"
     ]
    },
    {
     "name": "stderr",
     "output_type": "stream",
     "text": [
      "[INFO 08-22 06:46:02] Scheduler: Fetching data for newly completed trials: [].\n"
     ]
    },
    {
     "name": "stderr",
     "output_type": "stream",
     "text": [
      "[INFO 08-22 06:46:02] Scheduler: Fetching data for trials: 1 - 5 because some metrics on experiment are available while trials are running.\n"
     ]
    },
    {
     "name": "stderr",
     "output_type": "stream",
     "text": [
      "/tmp/tmp.oVbuNeLNgw/Ax-main/ax/core/map_data.py:192: FutureWarning: The behavior of DataFrame concatenation with empty or all-NA entries is deprecated. In a future version, this will no longer exclude empty or all-NA columns when determining the result dtypes. To retain the old behavior, exclude the relevant entries before the concat operation.\n",
      "  df = pd.concat(\n"
     ]
    },
    {
     "name": "stderr",
     "output_type": "stream",
     "text": [
      "/tmp/tmp.oVbuNeLNgw/Ax-main/ax/core/map_data.py:192: FutureWarning: The behavior of DataFrame concatenation with empty or all-NA entries is deprecated. In a future version, this will no longer exclude empty or all-NA columns when determining the result dtypes. To retain the old behavior, exclude the relevant entries before the concat operation.\n",
      "  df = pd.concat(\n",
      "[INFO 08-22 06:46:03] ax.early_stopping.strategies.base: The number of completed trials (0) is less than the minimum number of curves needed for early stopping (5). Not early stopping.\n"
     ]
    },
    {
     "name": "stderr",
     "output_type": "stream",
     "text": [
      "[INFO 08-22 06:46:03] Scheduler: Waiting for completed trials (for 10 sec, currently running trials: 5).\n"
     ]
    },
    {
     "name": "stderr",
     "output_type": "stream",
     "text": [
      "[INFO 08-22 06:46:13] Scheduler: Fetching data for newly completed trials: [].\n"
     ]
    },
    {
     "name": "stderr",
     "output_type": "stream",
     "text": [
      "[INFO 08-22 06:46:13] Scheduler: Fetching data for trials: 1 - 5 because some metrics on experiment are available while trials are running.\n"
     ]
    },
    {
     "name": "stderr",
     "output_type": "stream",
     "text": [
      "/tmp/tmp.oVbuNeLNgw/Ax-main/ax/core/map_data.py:192: FutureWarning: The behavior of DataFrame concatenation with empty or all-NA entries is deprecated. In a future version, this will no longer exclude empty or all-NA columns when determining the result dtypes. To retain the old behavior, exclude the relevant entries before the concat operation.\n",
      "  df = pd.concat(\n"
     ]
    },
    {
     "name": "stderr",
     "output_type": "stream",
     "text": [
      "/tmp/tmp.oVbuNeLNgw/Ax-main/ax/core/map_data.py:192: FutureWarning: The behavior of DataFrame concatenation with empty or all-NA entries is deprecated. In a future version, this will no longer exclude empty or all-NA columns when determining the result dtypes. To retain the old behavior, exclude the relevant entries before the concat operation.\n",
      "  df = pd.concat(\n",
      "[INFO 08-22 06:46:13] ax.early_stopping.strategies.base: The number of completed trials (0) is less than the minimum number of curves needed for early stopping (5). Not early stopping.\n"
     ]
    },
    {
     "name": "stderr",
     "output_type": "stream",
     "text": [
      "[INFO 08-22 06:46:13] Scheduler: Waiting for completed trials (for 10 sec, currently running trials: 5).\n"
     ]
    },
    {
     "name": "stderr",
     "output_type": "stream",
     "text": [
      "[INFO 08-22 06:46:23] Scheduler: Fetching data for newly completed trials: [].\n"
     ]
    },
    {
     "name": "stderr",
     "output_type": "stream",
     "text": [
      "[INFO 08-22 06:46:23] Scheduler: Fetching data for trials: 1 - 5 because some metrics on experiment are available while trials are running.\n"
     ]
    },
    {
     "name": "stderr",
     "output_type": "stream",
     "text": [
      "/tmp/tmp.oVbuNeLNgw/Ax-main/ax/core/map_data.py:192: FutureWarning: The behavior of DataFrame concatenation with empty or all-NA entries is deprecated. In a future version, this will no longer exclude empty or all-NA columns when determining the result dtypes. To retain the old behavior, exclude the relevant entries before the concat operation.\n",
      "  df = pd.concat(\n",
      "/tmp/tmp.oVbuNeLNgw/Ax-main/ax/core/map_data.py:192: FutureWarning: The behavior of DataFrame concatenation with empty or all-NA entries is deprecated. In a future version, this will no longer exclude empty or all-NA columns when determining the result dtypes. To retain the old behavior, exclude the relevant entries before the concat operation.\n",
      "  df = pd.concat(\n"
     ]
    },
    {
     "name": "stderr",
     "output_type": "stream",
     "text": [
      "[INFO 08-22 06:46:23] ax.early_stopping.strategies.base: The number of completed trials (0) is less than the minimum number of curves needed for early stopping (5). Not early stopping.\n"
     ]
    },
    {
     "name": "stderr",
     "output_type": "stream",
     "text": [
      "[INFO 08-22 06:46:23] Scheduler: Waiting for completed trials (for 10 sec, currently running trials: 5).\n"
     ]
    },
    {
     "name": "stderr",
     "output_type": "stream",
     "text": [
      "[INFO 08-22 06:46:33] Scheduler: Fetching data for newly completed trials: [].\n"
     ]
    },
    {
     "name": "stderr",
     "output_type": "stream",
     "text": [
      "[INFO 08-22 06:46:33] Scheduler: Fetching data for trials: 1 - 5 because some metrics on experiment are available while trials are running.\n"
     ]
    },
    {
     "name": "stderr",
     "output_type": "stream",
     "text": [
      "/tmp/tmp.oVbuNeLNgw/Ax-main/ax/core/map_data.py:192: FutureWarning: The behavior of DataFrame concatenation with empty or all-NA entries is deprecated. In a future version, this will no longer exclude empty or all-NA columns when determining the result dtypes. To retain the old behavior, exclude the relevant entries before the concat operation.\n",
      "  df = pd.concat(\n"
     ]
    },
    {
     "name": "stderr",
     "output_type": "stream",
     "text": [
      "/tmp/tmp.oVbuNeLNgw/Ax-main/ax/core/map_data.py:192: FutureWarning: The behavior of DataFrame concatenation with empty or all-NA entries is deprecated. In a future version, this will no longer exclude empty or all-NA columns when determining the result dtypes. To retain the old behavior, exclude the relevant entries before the concat operation.\n",
      "  df = pd.concat(\n",
      "[INFO 08-22 06:46:33] ax.early_stopping.strategies.base: The number of completed trials (0) is less than the minimum number of curves needed for early stopping (5). Not early stopping.\n"
     ]
    },
    {
     "name": "stderr",
     "output_type": "stream",
     "text": [
      "[INFO 08-22 06:46:33] Scheduler: Waiting for completed trials (for 10 sec, currently running trials: 5).\n"
     ]
    },
    {
     "name": "stderr",
     "output_type": "stream",
     "text": [
      "[INFO 08-22 06:46:43] Scheduler: Fetching data for newly completed trials: [].\n"
     ]
    },
    {
     "name": "stderr",
     "output_type": "stream",
     "text": [
      "[INFO 08-22 06:46:43] Scheduler: Fetching data for trials: 1 - 5 because some metrics on experiment are available while trials are running.\n"
     ]
    },
    {
     "name": "stderr",
     "output_type": "stream",
     "text": [
      "/tmp/tmp.oVbuNeLNgw/Ax-main/ax/core/map_data.py:192: FutureWarning: The behavior of DataFrame concatenation with empty or all-NA entries is deprecated. In a future version, this will no longer exclude empty or all-NA columns when determining the result dtypes. To retain the old behavior, exclude the relevant entries before the concat operation.\n",
      "  df = pd.concat(\n"
     ]
    },
    {
     "name": "stderr",
     "output_type": "stream",
     "text": [
      "/tmp/tmp.oVbuNeLNgw/Ax-main/ax/core/map_data.py:192: FutureWarning: The behavior of DataFrame concatenation with empty or all-NA entries is deprecated. In a future version, this will no longer exclude empty or all-NA columns when determining the result dtypes. To retain the old behavior, exclude the relevant entries before the concat operation.\n",
      "  df = pd.concat(\n",
      "[INFO 08-22 06:46:44] ax.early_stopping.strategies.base: The number of completed trials (0) is less than the minimum number of curves needed for early stopping (5). Not early stopping.\n"
     ]
    },
    {
     "name": "stderr",
     "output_type": "stream",
     "text": [
      "[INFO 08-22 06:46:44] Scheduler: Waiting for completed trials (for 10 sec, currently running trials: 5).\n"
     ]
    },
    {
     "name": "stderr",
     "output_type": "stream",
     "text": [
      "[INFO 08-22 06:46:54] Scheduler: Fetching data for newly completed trials: [].\n"
     ]
    },
    {
     "name": "stderr",
     "output_type": "stream",
     "text": [
      "[INFO 08-22 06:46:54] Scheduler: Fetching data for trials: 1 - 5 because some metrics on experiment are available while trials are running.\n"
     ]
    },
    {
     "name": "stderr",
     "output_type": "stream",
     "text": [
      "/tmp/tmp.oVbuNeLNgw/Ax-main/ax/core/map_data.py:192: FutureWarning: The behavior of DataFrame concatenation with empty or all-NA entries is deprecated. In a future version, this will no longer exclude empty or all-NA columns when determining the result dtypes. To retain the old behavior, exclude the relevant entries before the concat operation.\n",
      "  df = pd.concat(\n",
      "/tmp/tmp.oVbuNeLNgw/Ax-main/ax/core/map_data.py:192: FutureWarning: The behavior of DataFrame concatenation with empty or all-NA entries is deprecated. In a future version, this will no longer exclude empty or all-NA columns when determining the result dtypes. To retain the old behavior, exclude the relevant entries before the concat operation.\n",
      "  df = pd.concat(\n"
     ]
    },
    {
     "name": "stderr",
     "output_type": "stream",
     "text": [
      "[INFO 08-22 06:46:54] ax.early_stopping.strategies.base: The number of completed trials (0) is less than the minimum number of curves needed for early stopping (5). Not early stopping.\n"
     ]
    },
    {
     "name": "stderr",
     "output_type": "stream",
     "text": [
      "[INFO 08-22 06:46:54] Scheduler: Waiting for completed trials (for 10 sec, currently running trials: 5).\n"
     ]
    },
    {
     "name": "stderr",
     "output_type": "stream",
     "text": [
      "[INFO 08-22 06:47:04] Scheduler: Fetching data for newly completed trials: [].\n"
     ]
    },
    {
     "name": "stderr",
     "output_type": "stream",
     "text": [
      "[INFO 08-22 06:47:04] Scheduler: Fetching data for trials: 1 - 5 because some metrics on experiment are available while trials are running.\n"
     ]
    },
    {
     "name": "stderr",
     "output_type": "stream",
     "text": [
      "/tmp/tmp.oVbuNeLNgw/Ax-main/ax/core/map_data.py:192: FutureWarning: The behavior of DataFrame concatenation with empty or all-NA entries is deprecated. In a future version, this will no longer exclude empty or all-NA columns when determining the result dtypes. To retain the old behavior, exclude the relevant entries before the concat operation.\n",
      "  df = pd.concat(\n"
     ]
    },
    {
     "name": "stderr",
     "output_type": "stream",
     "text": [
      "/tmp/tmp.oVbuNeLNgw/Ax-main/ax/core/map_data.py:192: FutureWarning: The behavior of DataFrame concatenation with empty or all-NA entries is deprecated. In a future version, this will no longer exclude empty or all-NA columns when determining the result dtypes. To retain the old behavior, exclude the relevant entries before the concat operation.\n",
      "  df = pd.concat(\n",
      "[INFO 08-22 06:47:04] ax.early_stopping.strategies.base: The number of completed trials (0) is less than the minimum number of curves needed for early stopping (5). Not early stopping.\n"
     ]
    },
    {
     "name": "stderr",
     "output_type": "stream",
     "text": [
      "[INFO 08-22 06:47:04] Scheduler: Waiting for completed trials (for 10 sec, currently running trials: 5).\n"
     ]
    },
    {
     "name": "stderr",
     "output_type": "stream",
     "text": [
      "[INFO 08-22 06:47:14] Scheduler: Fetching data for newly completed trials: [].\n"
     ]
    },
    {
     "name": "stderr",
     "output_type": "stream",
     "text": [
      "[INFO 08-22 06:47:14] Scheduler: Fetching data for trials: 1 - 5 because some metrics on experiment are available while trials are running.\n"
     ]
    },
    {
     "name": "stderr",
     "output_type": "stream",
     "text": [
      "/tmp/tmp.oVbuNeLNgw/Ax-main/ax/core/map_data.py:192: FutureWarning: The behavior of DataFrame concatenation with empty or all-NA entries is deprecated. In a future version, this will no longer exclude empty or all-NA columns when determining the result dtypes. To retain the old behavior, exclude the relevant entries before the concat operation.\n",
      "  df = pd.concat(\n"
     ]
    },
    {
     "name": "stderr",
     "output_type": "stream",
     "text": [
      "/tmp/tmp.oVbuNeLNgw/Ax-main/ax/core/map_data.py:192: FutureWarning: The behavior of DataFrame concatenation with empty or all-NA entries is deprecated. In a future version, this will no longer exclude empty or all-NA columns when determining the result dtypes. To retain the old behavior, exclude the relevant entries before the concat operation.\n",
      "  df = pd.concat(\n",
      "[INFO 08-22 06:47:15] ax.early_stopping.strategies.base: The number of completed trials (0) is less than the minimum number of curves needed for early stopping (5). Not early stopping.\n"
     ]
    },
    {
     "name": "stderr",
     "output_type": "stream",
     "text": [
      "[INFO 08-22 06:47:15] Scheduler: Waiting for completed trials (for 10 sec, currently running trials: 5).\n"
     ]
    },
    {
     "name": "stderr",
     "output_type": "stream",
     "text": [
      "[INFO 08-22 06:47:25] Scheduler: Fetching data for newly completed trials: [].\n"
     ]
    },
    {
     "name": "stderr",
     "output_type": "stream",
     "text": [
      "[INFO 08-22 06:47:25] Scheduler: Fetching data for trials: 1 - 5 because some metrics on experiment are available while trials are running.\n"
     ]
    },
    {
     "name": "stderr",
     "output_type": "stream",
     "text": [
      "/tmp/tmp.oVbuNeLNgw/Ax-main/ax/core/map_data.py:192: FutureWarning: The behavior of DataFrame concatenation with empty or all-NA entries is deprecated. In a future version, this will no longer exclude empty or all-NA columns when determining the result dtypes. To retain the old behavior, exclude the relevant entries before the concat operation.\n",
      "  df = pd.concat(\n"
     ]
    },
    {
     "name": "stderr",
     "output_type": "stream",
     "text": [
      "/tmp/tmp.oVbuNeLNgw/Ax-main/ax/core/map_data.py:192: FutureWarning: The behavior of DataFrame concatenation with empty or all-NA entries is deprecated. In a future version, this will no longer exclude empty or all-NA columns when determining the result dtypes. To retain the old behavior, exclude the relevant entries before the concat operation.\n",
      "  df = pd.concat(\n",
      "[INFO 08-22 06:47:25] ax.early_stopping.strategies.base: The number of completed trials (0) is less than the minimum number of curves needed for early stopping (5). Not early stopping.\n"
     ]
    },
    {
     "name": "stderr",
     "output_type": "stream",
     "text": [
      "[INFO 08-22 06:47:25] Scheduler: Waiting for completed trials (for 10 sec, currently running trials: 5).\n"
     ]
    },
    {
     "name": "stderr",
     "output_type": "stream",
     "text": [
      "[INFO 08-22 06:47:35] Scheduler: Fetching data for newly completed trials: [].\n"
     ]
    },
    {
     "name": "stderr",
     "output_type": "stream",
     "text": [
      "[INFO 08-22 06:47:35] Scheduler: Fetching data for trials: 1 - 5 because some metrics on experiment are available while trials are running.\n"
     ]
    },
    {
     "name": "stderr",
     "output_type": "stream",
     "text": [
      "/tmp/tmp.oVbuNeLNgw/Ax-main/ax/core/map_data.py:192: FutureWarning: The behavior of DataFrame concatenation with empty or all-NA entries is deprecated. In a future version, this will no longer exclude empty or all-NA columns when determining the result dtypes. To retain the old behavior, exclude the relevant entries before the concat operation.\n",
      "  df = pd.concat(\n"
     ]
    },
    {
     "name": "stderr",
     "output_type": "stream",
     "text": [
      "/tmp/tmp.oVbuNeLNgw/Ax-main/ax/core/map_data.py:192: FutureWarning: The behavior of DataFrame concatenation with empty or all-NA entries is deprecated. In a future version, this will no longer exclude empty or all-NA columns when determining the result dtypes. To retain the old behavior, exclude the relevant entries before the concat operation.\n",
      "  df = pd.concat(\n",
      "[INFO 08-22 06:47:35] ax.early_stopping.strategies.base: The number of completed trials (0) is less than the minimum number of curves needed for early stopping (5). Not early stopping.\n"
     ]
    },
    {
     "name": "stderr",
     "output_type": "stream",
     "text": [
      "[INFO 08-22 06:47:35] Scheduler: Waiting for completed trials (for 10 sec, currently running trials: 5).\n"
     ]
    },
    {
     "name": "stderr",
     "output_type": "stream",
     "text": [
      "[INFO 08-22 06:47:45] Scheduler: Fetching data for newly completed trials: [].\n"
     ]
    },
    {
     "name": "stderr",
     "output_type": "stream",
     "text": [
      "[INFO 08-22 06:47:45] Scheduler: Fetching data for trials: 1 - 5 because some metrics on experiment are available while trials are running.\n"
     ]
    },
    {
     "name": "stderr",
     "output_type": "stream",
     "text": [
      "/tmp/tmp.oVbuNeLNgw/Ax-main/ax/core/map_data.py:192: FutureWarning: The behavior of DataFrame concatenation with empty or all-NA entries is deprecated. In a future version, this will no longer exclude empty or all-NA columns when determining the result dtypes. To retain the old behavior, exclude the relevant entries before the concat operation.\n",
      "  df = pd.concat(\n"
     ]
    },
    {
     "name": "stderr",
     "output_type": "stream",
     "text": [
      "/tmp/tmp.oVbuNeLNgw/Ax-main/ax/core/map_data.py:192: FutureWarning: The behavior of DataFrame concatenation with empty or all-NA entries is deprecated. In a future version, this will no longer exclude empty or all-NA columns when determining the result dtypes. To retain the old behavior, exclude the relevant entries before the concat operation.\n",
      "  df = pd.concat(\n",
      "[INFO 08-22 06:47:45] ax.early_stopping.strategies.base: The number of completed trials (0) is less than the minimum number of curves needed for early stopping (5). Not early stopping.\n"
     ]
    },
    {
     "name": "stderr",
     "output_type": "stream",
     "text": [
      "[INFO 08-22 06:47:45] Scheduler: Waiting for completed trials (for 10 sec, currently running trials: 5).\n"
     ]
    },
    {
     "name": "stderr",
     "output_type": "stream",
     "text": [
      "[INFO 08-22 06:47:55] Scheduler: Fetching data for newly completed trials: [].\n"
     ]
    },
    {
     "name": "stderr",
     "output_type": "stream",
     "text": [
      "[INFO 08-22 06:47:55] Scheduler: Fetching data for trials: 1 - 5 because some metrics on experiment are available while trials are running.\n"
     ]
    },
    {
     "name": "stderr",
     "output_type": "stream",
     "text": [
      "/tmp/tmp.oVbuNeLNgw/Ax-main/ax/core/map_data.py:192: FutureWarning: The behavior of DataFrame concatenation with empty or all-NA entries is deprecated. In a future version, this will no longer exclude empty or all-NA columns when determining the result dtypes. To retain the old behavior, exclude the relevant entries before the concat operation.\n",
      "  df = pd.concat(\n",
      "/tmp/tmp.oVbuNeLNgw/Ax-main/ax/core/map_data.py:192: FutureWarning: The behavior of DataFrame concatenation with empty or all-NA entries is deprecated. In a future version, this will no longer exclude empty or all-NA columns when determining the result dtypes. To retain the old behavior, exclude the relevant entries before the concat operation.\n",
      "  df = pd.concat(\n",
      "[INFO 08-22 06:47:56] ax.early_stopping.strategies.base: The number of completed trials (0) is less than the minimum number of curves needed for early stopping (5). Not early stopping.\n"
     ]
    },
    {
     "name": "stderr",
     "output_type": "stream",
     "text": [
      "[INFO 08-22 06:47:56] Scheduler: Waiting for completed trials (for 10 sec, currently running trials: 5).\n"
     ]
    },
    {
     "name": "stderr",
     "output_type": "stream",
     "text": [
      "[INFO 08-22 06:48:06] Scheduler: Fetching data for newly completed trials: [].\n"
     ]
    },
    {
     "name": "stderr",
     "output_type": "stream",
     "text": [
      "[INFO 08-22 06:48:06] Scheduler: Fetching data for trials: 1 - 5 because some metrics on experiment are available while trials are running.\n"
     ]
    },
    {
     "name": "stderr",
     "output_type": "stream",
     "text": [
      "/tmp/tmp.oVbuNeLNgw/Ax-main/ax/core/map_data.py:192: FutureWarning: The behavior of DataFrame concatenation with empty or all-NA entries is deprecated. In a future version, this will no longer exclude empty or all-NA columns when determining the result dtypes. To retain the old behavior, exclude the relevant entries before the concat operation.\n",
      "  df = pd.concat(\n"
     ]
    },
    {
     "name": "stderr",
     "output_type": "stream",
     "text": [
      "/tmp/tmp.oVbuNeLNgw/Ax-main/ax/core/map_data.py:192: FutureWarning: The behavior of DataFrame concatenation with empty or all-NA entries is deprecated. In a future version, this will no longer exclude empty or all-NA columns when determining the result dtypes. To retain the old behavior, exclude the relevant entries before the concat operation.\n",
      "  df = pd.concat(\n",
      "[INFO 08-22 06:48:06] ax.early_stopping.strategies.base: The number of completed trials (0) is less than the minimum number of curves needed for early stopping (5). Not early stopping.\n"
     ]
    },
    {
     "name": "stderr",
     "output_type": "stream",
     "text": [
      "[INFO 08-22 06:48:06] Scheduler: Waiting for completed trials (for 10 sec, currently running trials: 5).\n"
     ]
    },
    {
     "name": "stderr",
     "output_type": "stream",
     "text": [
      "[INFO 08-22 06:48:16] Scheduler: Fetching data for newly completed trials: [].\n"
     ]
    },
    {
     "name": "stderr",
     "output_type": "stream",
     "text": [
      "[INFO 08-22 06:48:16] Scheduler: Fetching data for trials: 1 - 5 because some metrics on experiment are available while trials are running.\n"
     ]
    },
    {
     "name": "stderr",
     "output_type": "stream",
     "text": [
      "/tmp/tmp.oVbuNeLNgw/Ax-main/ax/core/map_data.py:192: FutureWarning: The behavior of DataFrame concatenation with empty or all-NA entries is deprecated. In a future version, this will no longer exclude empty or all-NA columns when determining the result dtypes. To retain the old behavior, exclude the relevant entries before the concat operation.\n",
      "  df = pd.concat(\n"
     ]
    },
    {
     "name": "stderr",
     "output_type": "stream",
     "text": [
      "/tmp/tmp.oVbuNeLNgw/Ax-main/ax/core/map_data.py:192: FutureWarning: The behavior of DataFrame concatenation with empty or all-NA entries is deprecated. In a future version, this will no longer exclude empty or all-NA columns when determining the result dtypes. To retain the old behavior, exclude the relevant entries before the concat operation.\n",
      "  df = pd.concat(\n",
      "[INFO 08-22 06:48:16] ax.early_stopping.strategies.base: The number of completed trials (0) is less than the minimum number of curves needed for early stopping (5). Not early stopping.\n"
     ]
    },
    {
     "name": "stderr",
     "output_type": "stream",
     "text": [
      "[INFO 08-22 06:48:16] Scheduler: Waiting for completed trials (for 10 sec, currently running trials: 5).\n"
     ]
    },
    {
     "name": "stderr",
     "output_type": "stream",
     "text": [
      "[INFO 08-22 06:48:26] Scheduler: Fetching data for newly completed trials: [].\n"
     ]
    },
    {
     "name": "stderr",
     "output_type": "stream",
     "text": [
      "[INFO 08-22 06:48:26] Scheduler: Fetching data for trials: 1 - 5 because some metrics on experiment are available while trials are running.\n"
     ]
    },
    {
     "name": "stderr",
     "output_type": "stream",
     "text": [
      "/tmp/tmp.oVbuNeLNgw/Ax-main/ax/core/map_data.py:192: FutureWarning: The behavior of DataFrame concatenation with empty or all-NA entries is deprecated. In a future version, this will no longer exclude empty or all-NA columns when determining the result dtypes. To retain the old behavior, exclude the relevant entries before the concat operation.\n",
      "  df = pd.concat(\n"
     ]
    },
    {
     "name": "stderr",
     "output_type": "stream",
     "text": [
      "/tmp/tmp.oVbuNeLNgw/Ax-main/ax/core/map_data.py:192: FutureWarning: The behavior of DataFrame concatenation with empty or all-NA entries is deprecated. In a future version, this will no longer exclude empty or all-NA columns when determining the result dtypes. To retain the old behavior, exclude the relevant entries before the concat operation.\n",
      "  df = pd.concat(\n",
      "[INFO 08-22 06:48:26] ax.early_stopping.strategies.base: The number of completed trials (0) is less than the minimum number of curves needed for early stopping (5). Not early stopping.\n"
     ]
    },
    {
     "name": "stderr",
     "output_type": "stream",
     "text": [
      "[INFO 08-22 06:48:26] Scheduler: Waiting for completed trials (for 10 sec, currently running trials: 5).\n"
     ]
    },
    {
     "name": "stderr",
     "output_type": "stream",
     "text": [
      "[INFO 08-22 06:48:36] Scheduler: Fetching data for newly completed trials: [].\n"
     ]
    },
    {
     "name": "stderr",
     "output_type": "stream",
     "text": [
      "[INFO 08-22 06:48:36] Scheduler: Fetching data for trials: 1 - 5 because some metrics on experiment are available while trials are running.\n"
     ]
    },
    {
     "name": "stderr",
     "output_type": "stream",
     "text": [
      "/tmp/tmp.oVbuNeLNgw/Ax-main/ax/core/map_data.py:192: FutureWarning: The behavior of DataFrame concatenation with empty or all-NA entries is deprecated. In a future version, this will no longer exclude empty or all-NA columns when determining the result dtypes. To retain the old behavior, exclude the relevant entries before the concat operation.\n",
      "  df = pd.concat(\n"
     ]
    },
    {
     "name": "stderr",
     "output_type": "stream",
     "text": [
      "/tmp/tmp.oVbuNeLNgw/Ax-main/ax/core/map_data.py:192: FutureWarning: The behavior of DataFrame concatenation with empty or all-NA entries is deprecated. In a future version, this will no longer exclude empty or all-NA columns when determining the result dtypes. To retain the old behavior, exclude the relevant entries before the concat operation.\n",
      "  df = pd.concat(\n",
      "[INFO 08-22 06:48:37] ax.early_stopping.strategies.base: The number of completed trials (0) is less than the minimum number of curves needed for early stopping (5). Not early stopping.\n"
     ]
    },
    {
     "name": "stderr",
     "output_type": "stream",
     "text": [
      "[INFO 08-22 06:48:37] Scheduler: Waiting for completed trials (for 10 sec, currently running trials: 5).\n"
     ]
    },
    {
     "name": "stderr",
     "output_type": "stream",
     "text": [
      "[INFO 08-22 06:48:47] Scheduler: Fetching data for newly completed trials: [].\n"
     ]
    },
    {
     "name": "stderr",
     "output_type": "stream",
     "text": [
      "[INFO 08-22 06:48:47] Scheduler: Fetching data for trials: 1 - 5 because some metrics on experiment are available while trials are running.\n"
     ]
    },
    {
     "name": "stderr",
     "output_type": "stream",
     "text": [
      "/tmp/tmp.oVbuNeLNgw/Ax-main/ax/core/map_data.py:192: FutureWarning: The behavior of DataFrame concatenation with empty or all-NA entries is deprecated. In a future version, this will no longer exclude empty or all-NA columns when determining the result dtypes. To retain the old behavior, exclude the relevant entries before the concat operation.\n",
      "  df = pd.concat(\n"
     ]
    },
    {
     "name": "stderr",
     "output_type": "stream",
     "text": [
      "/tmp/tmp.oVbuNeLNgw/Ax-main/ax/core/map_data.py:192: FutureWarning: The behavior of DataFrame concatenation with empty or all-NA entries is deprecated. In a future version, this will no longer exclude empty or all-NA columns when determining the result dtypes. To retain the old behavior, exclude the relevant entries before the concat operation.\n",
      "  df = pd.concat(\n",
      "[INFO 08-22 06:48:47] ax.early_stopping.strategies.base: The number of completed trials (0) is less than the minimum number of curves needed for early stopping (5). Not early stopping.\n"
     ]
    },
    {
     "name": "stderr",
     "output_type": "stream",
     "text": [
      "[INFO 08-22 06:48:47] Scheduler: Waiting for completed trials (for 10 sec, currently running trials: 5).\n"
     ]
    },
    {
     "name": "stderr",
     "output_type": "stream",
     "text": [
      "[INFO 08-22 06:48:57] Scheduler: Fetching data for newly completed trials: [].\n"
     ]
    },
    {
     "name": "stderr",
     "output_type": "stream",
     "text": [
      "[INFO 08-22 06:48:57] Scheduler: Fetching data for trials: 1 - 5 because some metrics on experiment are available while trials are running.\n"
     ]
    },
    {
     "name": "stderr",
     "output_type": "stream",
     "text": [
      "/tmp/tmp.oVbuNeLNgw/Ax-main/ax/core/map_data.py:192: FutureWarning: The behavior of DataFrame concatenation with empty or all-NA entries is deprecated. In a future version, this will no longer exclude empty or all-NA columns when determining the result dtypes. To retain the old behavior, exclude the relevant entries before the concat operation.\n",
      "  df = pd.concat(\n"
     ]
    },
    {
     "name": "stderr",
     "output_type": "stream",
     "text": [
      "/tmp/tmp.oVbuNeLNgw/Ax-main/ax/core/map_data.py:192: FutureWarning: The behavior of DataFrame concatenation with empty or all-NA entries is deprecated. In a future version, this will no longer exclude empty or all-NA columns when determining the result dtypes. To retain the old behavior, exclude the relevant entries before the concat operation.\n",
      "  df = pd.concat(\n",
      "[INFO 08-22 06:48:57] ax.early_stopping.strategies.base: The number of completed trials (0) is less than the minimum number of curves needed for early stopping (5). Not early stopping.\n"
     ]
    },
    {
     "name": "stderr",
     "output_type": "stream",
     "text": [
      "[INFO 08-22 06:48:57] Scheduler: Waiting for completed trials (for 10 sec, currently running trials: 5).\n"
     ]
    },
    {
     "name": "stderr",
     "output_type": "stream",
     "text": [
      "[INFO 08-22 06:49:07] Scheduler: Fetching data for newly completed trials: [].\n"
     ]
    },
    {
     "name": "stderr",
     "output_type": "stream",
     "text": [
      "[INFO 08-22 06:49:07] Scheduler: Fetching data for trials: 1 - 5 because some metrics on experiment are available while trials are running.\n"
     ]
    },
    {
     "name": "stderr",
     "output_type": "stream",
     "text": [
      "/tmp/tmp.oVbuNeLNgw/Ax-main/ax/core/map_data.py:192: FutureWarning: The behavior of DataFrame concatenation with empty or all-NA entries is deprecated. In a future version, this will no longer exclude empty or all-NA columns when determining the result dtypes. To retain the old behavior, exclude the relevant entries before the concat operation.\n",
      "  df = pd.concat(\n"
     ]
    },
    {
     "name": "stderr",
     "output_type": "stream",
     "text": [
      "/tmp/tmp.oVbuNeLNgw/Ax-main/ax/core/map_data.py:192: FutureWarning: The behavior of DataFrame concatenation with empty or all-NA entries is deprecated. In a future version, this will no longer exclude empty or all-NA columns when determining the result dtypes. To retain the old behavior, exclude the relevant entries before the concat operation.\n",
      "  df = pd.concat(\n"
     ]
    },
    {
     "name": "stderr",
     "output_type": "stream",
     "text": [
      "[INFO 08-22 06:49:07] ax.early_stopping.strategies.base: The number of completed trials (0) is less than the minimum number of curves needed for early stopping (5). Not early stopping.\n"
     ]
    },
    {
     "name": "stderr",
     "output_type": "stream",
     "text": [
      "[INFO 08-22 06:49:07] Scheduler: Waiting for completed trials (for 10 sec, currently running trials: 5).\n"
     ]
    },
    {
     "name": "stderr",
     "output_type": "stream",
     "text": [
      "[INFO 08-22 06:49:17] Scheduler: Fetching data for newly completed trials: [].\n"
     ]
    },
    {
     "name": "stderr",
     "output_type": "stream",
     "text": [
      "[INFO 08-22 06:49:17] Scheduler: Fetching data for trials: 1 - 5 because some metrics on experiment are available while trials are running.\n"
     ]
    },
    {
     "name": "stderr",
     "output_type": "stream",
     "text": [
      "/tmp/tmp.oVbuNeLNgw/Ax-main/ax/core/map_data.py:192: FutureWarning: The behavior of DataFrame concatenation with empty or all-NA entries is deprecated. In a future version, this will no longer exclude empty or all-NA columns when determining the result dtypes. To retain the old behavior, exclude the relevant entries before the concat operation.\n",
      "  df = pd.concat(\n"
     ]
    },
    {
     "name": "stderr",
     "output_type": "stream",
     "text": [
      "/tmp/tmp.oVbuNeLNgw/Ax-main/ax/core/map_data.py:192: FutureWarning: The behavior of DataFrame concatenation with empty or all-NA entries is deprecated. In a future version, this will no longer exclude empty or all-NA columns when determining the result dtypes. To retain the old behavior, exclude the relevant entries before the concat operation.\n",
      "  df = pd.concat(\n",
      "[INFO 08-22 06:49:18] ax.early_stopping.strategies.base: The number of completed trials (0) is less than the minimum number of curves needed for early stopping (5). Not early stopping.\n"
     ]
    },
    {
     "name": "stderr",
     "output_type": "stream",
     "text": [
      "[INFO 08-22 06:49:18] Scheduler: Waiting for completed trials (for 10 sec, currently running trials: 5).\n"
     ]
    },
    {
     "name": "stderr",
     "output_type": "stream",
     "text": [
      "[INFO 08-22 06:49:28] Scheduler: Fetching data for newly completed trials: [].\n"
     ]
    },
    {
     "name": "stderr",
     "output_type": "stream",
     "text": [
      "[INFO 08-22 06:49:28] Scheduler: Fetching data for trials: 1 - 5 because some metrics on experiment are available while trials are running.\n"
     ]
    },
    {
     "name": "stderr",
     "output_type": "stream",
     "text": [
      "/tmp/tmp.oVbuNeLNgw/Ax-main/ax/core/map_data.py:192: FutureWarning: The behavior of DataFrame concatenation with empty or all-NA entries is deprecated. In a future version, this will no longer exclude empty or all-NA columns when determining the result dtypes. To retain the old behavior, exclude the relevant entries before the concat operation.\n",
      "  df = pd.concat(\n"
     ]
    },
    {
     "name": "stderr",
     "output_type": "stream",
     "text": [
      "/tmp/tmp.oVbuNeLNgw/Ax-main/ax/core/map_data.py:192: FutureWarning: The behavior of DataFrame concatenation with empty or all-NA entries is deprecated. In a future version, this will no longer exclude empty or all-NA columns when determining the result dtypes. To retain the old behavior, exclude the relevant entries before the concat operation.\n",
      "  df = pd.concat(\n",
      "[INFO 08-22 06:49:28] ax.early_stopping.strategies.base: The number of completed trials (0) is less than the minimum number of curves needed for early stopping (5). Not early stopping.\n"
     ]
    },
    {
     "name": "stderr",
     "output_type": "stream",
     "text": [
      "[INFO 08-22 06:49:28] Scheduler: Waiting for completed trials (for 10 sec, currently running trials: 5).\n"
     ]
    },
    {
     "name": "stderr",
     "output_type": "stream",
     "text": [
      "[INFO 08-22 06:49:38] Scheduler: Fetching data for newly completed trials: [].\n"
     ]
    },
    {
     "name": "stderr",
     "output_type": "stream",
     "text": [
      "[INFO 08-22 06:49:38] Scheduler: Fetching data for trials: 1 - 5 because some metrics on experiment are available while trials are running.\n"
     ]
    },
    {
     "name": "stderr",
     "output_type": "stream",
     "text": [
      "/tmp/tmp.oVbuNeLNgw/Ax-main/ax/core/map_data.py:192: FutureWarning: The behavior of DataFrame concatenation with empty or all-NA entries is deprecated. In a future version, this will no longer exclude empty or all-NA columns when determining the result dtypes. To retain the old behavior, exclude the relevant entries before the concat operation.\n",
      "  df = pd.concat(\n",
      "/tmp/tmp.oVbuNeLNgw/Ax-main/ax/core/map_data.py:192: FutureWarning: The behavior of DataFrame concatenation with empty or all-NA entries is deprecated. In a future version, this will no longer exclude empty or all-NA columns when determining the result dtypes. To retain the old behavior, exclude the relevant entries before the concat operation.\n",
      "  df = pd.concat(\n",
      "[INFO 08-22 06:49:38] ax.early_stopping.strategies.base: The number of completed trials (0) is less than the minimum number of curves needed for early stopping (5). Not early stopping.\n"
     ]
    },
    {
     "name": "stderr",
     "output_type": "stream",
     "text": [
      "[INFO 08-22 06:49:38] Scheduler: Waiting for completed trials (for 10 sec, currently running trials: 5).\n"
     ]
    },
    {
     "name": "stderr",
     "output_type": "stream",
     "text": [
      "[INFO 08-22 06:49:48] Scheduler: Fetching data for newly completed trials: [].\n"
     ]
    },
    {
     "name": "stderr",
     "output_type": "stream",
     "text": [
      "[INFO 08-22 06:49:48] Scheduler: Fetching data for trials: 1 - 5 because some metrics on experiment are available while trials are running.\n"
     ]
    },
    {
     "name": "stderr",
     "output_type": "stream",
     "text": [
      "/tmp/tmp.oVbuNeLNgw/Ax-main/ax/core/map_data.py:192: FutureWarning: The behavior of DataFrame concatenation with empty or all-NA entries is deprecated. In a future version, this will no longer exclude empty or all-NA columns when determining the result dtypes. To retain the old behavior, exclude the relevant entries before the concat operation.\n",
      "  df = pd.concat(\n"
     ]
    },
    {
     "name": "stderr",
     "output_type": "stream",
     "text": [
      "/tmp/tmp.oVbuNeLNgw/Ax-main/ax/core/map_data.py:192: FutureWarning: The behavior of DataFrame concatenation with empty or all-NA entries is deprecated. In a future version, this will no longer exclude empty or all-NA columns when determining the result dtypes. To retain the old behavior, exclude the relevant entries before the concat operation.\n",
      "  df = pd.concat(\n",
      "[INFO 08-22 06:49:48] ax.early_stopping.strategies.base: The number of completed trials (0) is less than the minimum number of curves needed for early stopping (5). Not early stopping.\n"
     ]
    },
    {
     "name": "stderr",
     "output_type": "stream",
     "text": [
      "[INFO 08-22 06:49:48] Scheduler: Waiting for completed trials (for 10 sec, currently running trials: 5).\n"
     ]
    },
    {
     "name": "stderr",
     "output_type": "stream",
     "text": [
      "[INFO 08-22 06:49:58] Scheduler: Fetching data for newly completed trials: [].\n"
     ]
    },
    {
     "name": "stderr",
     "output_type": "stream",
     "text": [
      "[INFO 08-22 06:49:58] Scheduler: Fetching data for trials: 1 - 5 because some metrics on experiment are available while trials are running.\n"
     ]
    },
    {
     "name": "stderr",
     "output_type": "stream",
     "text": [
      "/tmp/tmp.oVbuNeLNgw/Ax-main/ax/core/map_data.py:192: FutureWarning: The behavior of DataFrame concatenation with empty or all-NA entries is deprecated. In a future version, this will no longer exclude empty or all-NA columns when determining the result dtypes. To retain the old behavior, exclude the relevant entries before the concat operation.\n",
      "  df = pd.concat(\n",
      "/tmp/tmp.oVbuNeLNgw/Ax-main/ax/core/map_data.py:192: FutureWarning: The behavior of DataFrame concatenation with empty or all-NA entries is deprecated. In a future version, this will no longer exclude empty or all-NA columns when determining the result dtypes. To retain the old behavior, exclude the relevant entries before the concat operation.\n",
      "  df = pd.concat(\n"
     ]
    },
    {
     "name": "stderr",
     "output_type": "stream",
     "text": [
      "[INFO 08-22 06:49:59] ax.early_stopping.strategies.base: The number of completed trials (0) is less than the minimum number of curves needed for early stopping (5). Not early stopping.\n"
     ]
    },
    {
     "name": "stderr",
     "output_type": "stream",
     "text": [
      "[INFO 08-22 06:49:59] Scheduler: Waiting for completed trials (for 10 sec, currently running trials: 5).\n"
     ]
    },
    {
     "name": "stderr",
     "output_type": "stream",
     "text": [
      "[INFO 08-22 06:50:09] Scheduler: Fetching data for newly completed trials: [].\n"
     ]
    },
    {
     "name": "stderr",
     "output_type": "stream",
     "text": [
      "[INFO 08-22 06:50:09] Scheduler: Fetching data for trials: 1 - 5 because some metrics on experiment are available while trials are running.\n"
     ]
    },
    {
     "name": "stderr",
     "output_type": "stream",
     "text": [
      "/tmp/tmp.oVbuNeLNgw/Ax-main/ax/core/map_data.py:192: FutureWarning: The behavior of DataFrame concatenation with empty or all-NA entries is deprecated. In a future version, this will no longer exclude empty or all-NA columns when determining the result dtypes. To retain the old behavior, exclude the relevant entries before the concat operation.\n",
      "  df = pd.concat(\n"
     ]
    },
    {
     "name": "stderr",
     "output_type": "stream",
     "text": [
      "/tmp/tmp.oVbuNeLNgw/Ax-main/ax/core/map_data.py:192: FutureWarning: The behavior of DataFrame concatenation with empty or all-NA entries is deprecated. In a future version, this will no longer exclude empty or all-NA columns when determining the result dtypes. To retain the old behavior, exclude the relevant entries before the concat operation.\n",
      "  df = pd.concat(\n",
      "[INFO 08-22 06:50:09] ax.early_stopping.strategies.base: The number of completed trials (0) is less than the minimum number of curves needed for early stopping (5). Not early stopping.\n"
     ]
    },
    {
     "name": "stderr",
     "output_type": "stream",
     "text": [
      "[INFO 08-22 06:50:09] Scheduler: Waiting for completed trials (for 10 sec, currently running trials: 5).\n"
     ]
    },
    {
     "name": "stderr",
     "output_type": "stream",
     "text": [
      "[INFO 08-22 06:50:19] Scheduler: Fetching data for newly completed trials: [].\n"
     ]
    },
    {
     "name": "stderr",
     "output_type": "stream",
     "text": [
      "[INFO 08-22 06:50:19] Scheduler: Fetching data for trials: 1 - 5 because some metrics on experiment are available while trials are running.\n"
     ]
    },
    {
     "name": "stderr",
     "output_type": "stream",
     "text": [
      "/tmp/tmp.oVbuNeLNgw/Ax-main/ax/core/map_data.py:192: FutureWarning: The behavior of DataFrame concatenation with empty or all-NA entries is deprecated. In a future version, this will no longer exclude empty or all-NA columns when determining the result dtypes. To retain the old behavior, exclude the relevant entries before the concat operation.\n",
      "  df = pd.concat(\n",
      "/tmp/tmp.oVbuNeLNgw/Ax-main/ax/core/map_data.py:192: FutureWarning: The behavior of DataFrame concatenation with empty or all-NA entries is deprecated. In a future version, this will no longer exclude empty or all-NA columns when determining the result dtypes. To retain the old behavior, exclude the relevant entries before the concat operation.\n",
      "  df = pd.concat(\n"
     ]
    },
    {
     "name": "stderr",
     "output_type": "stream",
     "text": [
      "[INFO 08-22 06:50:19] ax.early_stopping.strategies.base: The number of completed trials (0) is less than the minimum number of curves needed for early stopping (5). Not early stopping.\n"
     ]
    },
    {
     "name": "stderr",
     "output_type": "stream",
     "text": [
      "[INFO 08-22 06:50:19] Scheduler: Waiting for completed trials (for 10 sec, currently running trials: 5).\n"
     ]
    },
    {
     "name": "stderr",
     "output_type": "stream",
     "text": [
      "[INFO 08-22 06:50:29] Scheduler: Fetching data for newly completed trials: [].\n"
     ]
    },
    {
     "name": "stderr",
     "output_type": "stream",
     "text": [
      "[INFO 08-22 06:50:29] Scheduler: Fetching data for trials: 1 - 5 because some metrics on experiment are available while trials are running.\n"
     ]
    },
    {
     "name": "stderr",
     "output_type": "stream",
     "text": [
      "/tmp/tmp.oVbuNeLNgw/Ax-main/ax/core/map_data.py:192: FutureWarning: The behavior of DataFrame concatenation with empty or all-NA entries is deprecated. In a future version, this will no longer exclude empty or all-NA columns when determining the result dtypes. To retain the old behavior, exclude the relevant entries before the concat operation.\n",
      "  df = pd.concat(\n",
      "/tmp/tmp.oVbuNeLNgw/Ax-main/ax/core/map_data.py:192: FutureWarning: The behavior of DataFrame concatenation with empty or all-NA entries is deprecated. In a future version, this will no longer exclude empty or all-NA columns when determining the result dtypes. To retain the old behavior, exclude the relevant entries before the concat operation.\n",
      "  df = pd.concat(\n",
      "[INFO 08-22 06:50:29] ax.early_stopping.strategies.base: The number of completed trials (0) is less than the minimum number of curves needed for early stopping (5). Not early stopping.\n"
     ]
    },
    {
     "name": "stderr",
     "output_type": "stream",
     "text": [
      "[INFO 08-22 06:50:29] Scheduler: Waiting for completed trials (for 10 sec, currently running trials: 5).\n"
     ]
    },
    {
     "name": "stderr",
     "output_type": "stream",
     "text": [
      "[INFO 08-22 06:50:39] Scheduler: Fetching data for newly completed trials: [].\n"
     ]
    },
    {
     "name": "stderr",
     "output_type": "stream",
     "text": [
      "[INFO 08-22 06:50:39] Scheduler: Fetching data for trials: 1 - 5 because some metrics on experiment are available while trials are running.\n"
     ]
    },
    {
     "name": "stderr",
     "output_type": "stream",
     "text": [
      "/tmp/tmp.oVbuNeLNgw/Ax-main/ax/core/map_data.py:192: FutureWarning: The behavior of DataFrame concatenation with empty or all-NA entries is deprecated. In a future version, this will no longer exclude empty or all-NA columns when determining the result dtypes. To retain the old behavior, exclude the relevant entries before the concat operation.\n",
      "  df = pd.concat(\n",
      "/tmp/tmp.oVbuNeLNgw/Ax-main/ax/core/map_data.py:192: FutureWarning: The behavior of DataFrame concatenation with empty or all-NA entries is deprecated. In a future version, this will no longer exclude empty or all-NA columns when determining the result dtypes. To retain the old behavior, exclude the relevant entries before the concat operation.\n",
      "  df = pd.concat(\n",
      "[INFO 08-22 06:50:40] ax.early_stopping.strategies.base: The number of completed trials (0) is less than the minimum number of curves needed for early stopping (5). Not early stopping.\n"
     ]
    },
    {
     "name": "stderr",
     "output_type": "stream",
     "text": [
      "[INFO 08-22 06:50:40] Scheduler: Waiting for completed trials (for 10 sec, currently running trials: 5).\n"
     ]
    },
    {
     "name": "stderr",
     "output_type": "stream",
     "text": [
      "[INFO 08-22 06:50:50] Scheduler: Fetching data for newly completed trials: [].\n"
     ]
    },
    {
     "name": "stderr",
     "output_type": "stream",
     "text": [
      "[INFO 08-22 06:50:50] Scheduler: Fetching data for trials: 1 - 5 because some metrics on experiment are available while trials are running.\n"
     ]
    },
    {
     "name": "stderr",
     "output_type": "stream",
     "text": [
      "/tmp/tmp.oVbuNeLNgw/Ax-main/ax/core/map_data.py:192: FutureWarning: The behavior of DataFrame concatenation with empty or all-NA entries is deprecated. In a future version, this will no longer exclude empty or all-NA columns when determining the result dtypes. To retain the old behavior, exclude the relevant entries before the concat operation.\n",
      "  df = pd.concat(\n",
      "/tmp/tmp.oVbuNeLNgw/Ax-main/ax/core/map_data.py:192: FutureWarning: The behavior of DataFrame concatenation with empty or all-NA entries is deprecated. In a future version, this will no longer exclude empty or all-NA columns when determining the result dtypes. To retain the old behavior, exclude the relevant entries before the concat operation.\n",
      "  df = pd.concat(\n",
      "[INFO 08-22 06:50:50] ax.early_stopping.strategies.base: The number of completed trials (0) is less than the minimum number of curves needed for early stopping (5). Not early stopping.\n"
     ]
    },
    {
     "name": "stderr",
     "output_type": "stream",
     "text": [
      "[INFO 08-22 06:50:50] Scheduler: Waiting for completed trials (for 10 sec, currently running trials: 5).\n"
     ]
    },
    {
     "name": "stderr",
     "output_type": "stream",
     "text": [
      "[INFO 08-22 06:51:00] Scheduler: Fetching data for newly completed trials: [].\n"
     ]
    },
    {
     "name": "stderr",
     "output_type": "stream",
     "text": [
      "[INFO 08-22 06:51:00] Scheduler: Fetching data for trials: 1 - 5 because some metrics on experiment are available while trials are running.\n"
     ]
    },
    {
     "name": "stderr",
     "output_type": "stream",
     "text": [
      "/tmp/tmp.oVbuNeLNgw/Ax-main/ax/core/map_data.py:192: FutureWarning: The behavior of DataFrame concatenation with empty or all-NA entries is deprecated. In a future version, this will no longer exclude empty or all-NA columns when determining the result dtypes. To retain the old behavior, exclude the relevant entries before the concat operation.\n",
      "  df = pd.concat(\n"
     ]
    },
    {
     "name": "stderr",
     "output_type": "stream",
     "text": [
      "/tmp/tmp.oVbuNeLNgw/Ax-main/ax/core/map_data.py:192: FutureWarning: The behavior of DataFrame concatenation with empty or all-NA entries is deprecated. In a future version, this will no longer exclude empty or all-NA columns when determining the result dtypes. To retain the old behavior, exclude the relevant entries before the concat operation.\n",
      "  df = pd.concat(\n",
      "[INFO 08-22 06:51:00] ax.early_stopping.strategies.base: The number of completed trials (0) is less than the minimum number of curves needed for early stopping (5). Not early stopping.\n"
     ]
    },
    {
     "name": "stderr",
     "output_type": "stream",
     "text": [
      "[INFO 08-22 06:51:00] Scheduler: Waiting for completed trials (for 10 sec, currently running trials: 5).\n"
     ]
    },
    {
     "name": "stderr",
     "output_type": "stream",
     "text": [
      "[INFO 08-22 06:51:10] Scheduler: Fetching data for newly completed trials: [].\n"
     ]
    },
    {
     "name": "stderr",
     "output_type": "stream",
     "text": [
      "[INFO 08-22 06:51:10] Scheduler: Fetching data for trials: 1 - 5 because some metrics on experiment are available while trials are running.\n"
     ]
    },
    {
     "name": "stderr",
     "output_type": "stream",
     "text": [
      "/tmp/tmp.oVbuNeLNgw/Ax-main/ax/core/map_data.py:192: FutureWarning: The behavior of DataFrame concatenation with empty or all-NA entries is deprecated. In a future version, this will no longer exclude empty or all-NA columns when determining the result dtypes. To retain the old behavior, exclude the relevant entries before the concat operation.\n",
      "  df = pd.concat(\n"
     ]
    },
    {
     "name": "stderr",
     "output_type": "stream",
     "text": [
      "/tmp/tmp.oVbuNeLNgw/Ax-main/ax/core/map_data.py:192: FutureWarning: The behavior of DataFrame concatenation with empty or all-NA entries is deprecated. In a future version, this will no longer exclude empty or all-NA columns when determining the result dtypes. To retain the old behavior, exclude the relevant entries before the concat operation.\n",
      "  df = pd.concat(\n",
      "[INFO 08-22 06:51:10] ax.early_stopping.strategies.base: The number of completed trials (0) is less than the minimum number of curves needed for early stopping (5). Not early stopping.\n"
     ]
    },
    {
     "name": "stderr",
     "output_type": "stream",
     "text": [
      "[INFO 08-22 06:51:10] Scheduler: Waiting for completed trials (for 10 sec, currently running trials: 5).\n"
     ]
    },
    {
     "name": "stderr",
     "output_type": "stream",
     "text": [
      "[INFO 08-22 06:51:20] Scheduler: Fetching data for newly completed trials: [].\n"
     ]
    },
    {
     "name": "stderr",
     "output_type": "stream",
     "text": [
      "[INFO 08-22 06:51:20] Scheduler: Fetching data for trials: 1 - 5 because some metrics on experiment are available while trials are running.\n"
     ]
    },
    {
     "name": "stderr",
     "output_type": "stream",
     "text": [
      "/tmp/tmp.oVbuNeLNgw/Ax-main/ax/core/map_data.py:192: FutureWarning: The behavior of DataFrame concatenation with empty or all-NA entries is deprecated. In a future version, this will no longer exclude empty or all-NA columns when determining the result dtypes. To retain the old behavior, exclude the relevant entries before the concat operation.\n",
      "  df = pd.concat(\n",
      "/tmp/tmp.oVbuNeLNgw/Ax-main/ax/core/map_data.py:192: FutureWarning: The behavior of DataFrame concatenation with empty or all-NA entries is deprecated. In a future version, this will no longer exclude empty or all-NA columns when determining the result dtypes. To retain the old behavior, exclude the relevant entries before the concat operation.\n",
      "  df = pd.concat(\n"
     ]
    },
    {
     "name": "stderr",
     "output_type": "stream",
     "text": [
      "[INFO 08-22 06:51:21] ax.early_stopping.strategies.base: The number of completed trials (0) is less than the minimum number of curves needed for early stopping (5). Not early stopping.\n"
     ]
    },
    {
     "name": "stderr",
     "output_type": "stream",
     "text": [
      "[INFO 08-22 06:51:21] Scheduler: Waiting for completed trials (for 10 sec, currently running trials: 5).\n"
     ]
    },
    {
     "name": "stderr",
     "output_type": "stream",
     "text": [
      "[INFO 08-22 06:51:31] Scheduler: Fetching data for newly completed trials: [].\n"
     ]
    },
    {
     "name": "stderr",
     "output_type": "stream",
     "text": [
      "[INFO 08-22 06:51:31] Scheduler: Fetching data for trials: 1 - 5 because some metrics on experiment are available while trials are running.\n"
     ]
    },
    {
     "name": "stderr",
     "output_type": "stream",
     "text": [
      "/tmp/tmp.oVbuNeLNgw/Ax-main/ax/core/map_data.py:192: FutureWarning: The behavior of DataFrame concatenation with empty or all-NA entries is deprecated. In a future version, this will no longer exclude empty or all-NA columns when determining the result dtypes. To retain the old behavior, exclude the relevant entries before the concat operation.\n",
      "  df = pd.concat(\n",
      "/tmp/tmp.oVbuNeLNgw/Ax-main/ax/core/map_data.py:192: FutureWarning: The behavior of DataFrame concatenation with empty or all-NA entries is deprecated. In a future version, this will no longer exclude empty or all-NA columns when determining the result dtypes. To retain the old behavior, exclude the relevant entries before the concat operation.\n",
      "  df = pd.concat(\n"
     ]
    },
    {
     "name": "stderr",
     "output_type": "stream",
     "text": [
      "[INFO 08-22 06:51:31] ax.early_stopping.strategies.base: The number of completed trials (0) is less than the minimum number of curves needed for early stopping (5). Not early stopping.\n"
     ]
    },
    {
     "name": "stderr",
     "output_type": "stream",
     "text": [
      "[INFO 08-22 06:51:31] Scheduler: Waiting for completed trials (for 10 sec, currently running trials: 5).\n"
     ]
    },
    {
     "name": "stderr",
     "output_type": "stream",
     "text": [
      "[INFO 08-22 06:51:41] Scheduler: Fetching data for newly completed trials: [].\n"
     ]
    },
    {
     "name": "stderr",
     "output_type": "stream",
     "text": [
      "[INFO 08-22 06:51:41] Scheduler: Fetching data for trials: 1 - 5 because some metrics on experiment are available while trials are running.\n"
     ]
    },
    {
     "name": "stderr",
     "output_type": "stream",
     "text": [
      "/tmp/tmp.oVbuNeLNgw/Ax-main/ax/core/map_data.py:192: FutureWarning: The behavior of DataFrame concatenation with empty or all-NA entries is deprecated. In a future version, this will no longer exclude empty or all-NA columns when determining the result dtypes. To retain the old behavior, exclude the relevant entries before the concat operation.\n",
      "  df = pd.concat(\n"
     ]
    },
    {
     "name": "stderr",
     "output_type": "stream",
     "text": [
      "/tmp/tmp.oVbuNeLNgw/Ax-main/ax/core/map_data.py:192: FutureWarning: The behavior of DataFrame concatenation with empty or all-NA entries is deprecated. In a future version, this will no longer exclude empty or all-NA columns when determining the result dtypes. To retain the old behavior, exclude the relevant entries before the concat operation.\n",
      "  df = pd.concat(\n",
      "[INFO 08-22 06:51:41] ax.early_stopping.strategies.base: The number of completed trials (0) is less than the minimum number of curves needed for early stopping (5). Not early stopping.\n"
     ]
    },
    {
     "name": "stderr",
     "output_type": "stream",
     "text": [
      "[INFO 08-22 06:51:41] Scheduler: Waiting for completed trials (for 10 sec, currently running trials: 5).\n"
     ]
    },
    {
     "name": "stderr",
     "output_type": "stream",
     "text": [
      "[INFO 08-22 06:51:51] Scheduler: Fetching data for newly completed trials: [].\n"
     ]
    },
    {
     "name": "stderr",
     "output_type": "stream",
     "text": [
      "[INFO 08-22 06:51:51] Scheduler: Fetching data for trials: 1 - 5 because some metrics on experiment are available while trials are running.\n"
     ]
    },
    {
     "name": "stderr",
     "output_type": "stream",
     "text": [
      "/tmp/tmp.oVbuNeLNgw/Ax-main/ax/core/map_data.py:192: FutureWarning: The behavior of DataFrame concatenation with empty or all-NA entries is deprecated. In a future version, this will no longer exclude empty or all-NA columns when determining the result dtypes. To retain the old behavior, exclude the relevant entries before the concat operation.\n",
      "  df = pd.concat(\n"
     ]
    },
    {
     "name": "stderr",
     "output_type": "stream",
     "text": [
      "/tmp/tmp.oVbuNeLNgw/Ax-main/ax/core/map_data.py:192: FutureWarning: The behavior of DataFrame concatenation with empty or all-NA entries is deprecated. In a future version, this will no longer exclude empty or all-NA columns when determining the result dtypes. To retain the old behavior, exclude the relevant entries before the concat operation.\n",
      "  df = pd.concat(\n",
      "[INFO 08-22 06:51:51] ax.early_stopping.strategies.base: The number of completed trials (0) is less than the minimum number of curves needed for early stopping (5). Not early stopping.\n"
     ]
    },
    {
     "name": "stderr",
     "output_type": "stream",
     "text": [
      "[INFO 08-22 06:51:51] Scheduler: Waiting for completed trials (for 10 sec, currently running trials: 5).\n"
     ]
    },
    {
     "name": "stderr",
     "output_type": "stream",
     "text": [
      "[INFO 08-22 06:52:01] Scheduler: Fetching data for newly completed trials: [].\n"
     ]
    },
    {
     "name": "stderr",
     "output_type": "stream",
     "text": [
      "[INFO 08-22 06:52:01] Scheduler: Fetching data for trials: 1 - 5 because some metrics on experiment are available while trials are running.\n"
     ]
    },
    {
     "name": "stderr",
     "output_type": "stream",
     "text": [
      "/tmp/tmp.oVbuNeLNgw/Ax-main/ax/core/map_data.py:192: FutureWarning: The behavior of DataFrame concatenation with empty or all-NA entries is deprecated. In a future version, this will no longer exclude empty or all-NA columns when determining the result dtypes. To retain the old behavior, exclude the relevant entries before the concat operation.\n",
      "  df = pd.concat(\n"
     ]
    },
    {
     "name": "stderr",
     "output_type": "stream",
     "text": [
      "/tmp/tmp.oVbuNeLNgw/Ax-main/ax/core/map_data.py:192: FutureWarning: The behavior of DataFrame concatenation with empty or all-NA entries is deprecated. In a future version, this will no longer exclude empty or all-NA columns when determining the result dtypes. To retain the old behavior, exclude the relevant entries before the concat operation.\n",
      "  df = pd.concat(\n",
      "[INFO 08-22 06:52:02] ax.early_stopping.strategies.base: The number of completed trials (0) is less than the minimum number of curves needed for early stopping (5). Not early stopping.\n"
     ]
    },
    {
     "name": "stderr",
     "output_type": "stream",
     "text": [
      "[INFO 08-22 06:52:02] Scheduler: Waiting for completed trials (for 10 sec, currently running trials: 5).\n"
     ]
    },
    {
     "name": "stderr",
     "output_type": "stream",
     "text": [
      "[INFO 08-22 06:52:12] Scheduler: Fetching data for newly completed trials: [].\n"
     ]
    },
    {
     "name": "stderr",
     "output_type": "stream",
     "text": [
      "[INFO 08-22 06:52:12] Scheduler: Fetching data for trials: 1 - 5 because some metrics on experiment are available while trials are running.\n"
     ]
    },
    {
     "name": "stderr",
     "output_type": "stream",
     "text": [
      "/tmp/tmp.oVbuNeLNgw/Ax-main/ax/core/map_data.py:192: FutureWarning: The behavior of DataFrame concatenation with empty or all-NA entries is deprecated. In a future version, this will no longer exclude empty or all-NA columns when determining the result dtypes. To retain the old behavior, exclude the relevant entries before the concat operation.\n",
      "  df = pd.concat(\n"
     ]
    },
    {
     "name": "stderr",
     "output_type": "stream",
     "text": [
      "/tmp/tmp.oVbuNeLNgw/Ax-main/ax/core/map_data.py:192: FutureWarning: The behavior of DataFrame concatenation with empty or all-NA entries is deprecated. In a future version, this will no longer exclude empty or all-NA columns when determining the result dtypes. To retain the old behavior, exclude the relevant entries before the concat operation.\n",
      "  df = pd.concat(\n",
      "[INFO 08-22 06:52:12] ax.early_stopping.strategies.base: The number of completed trials (0) is less than the minimum number of curves needed for early stopping (5). Not early stopping.\n"
     ]
    },
    {
     "name": "stderr",
     "output_type": "stream",
     "text": [
      "[INFO 08-22 06:52:12] Scheduler: Waiting for completed trials (for 10 sec, currently running trials: 5).\n"
     ]
    },
    {
     "name": "stderr",
     "output_type": "stream",
     "text": [
      "[INFO 08-22 06:52:22] Scheduler: Fetching data for newly completed trials: [].\n"
     ]
    },
    {
     "name": "stderr",
     "output_type": "stream",
     "text": [
      "[INFO 08-22 06:52:22] Scheduler: Fetching data for trials: 1 - 5 because some metrics on experiment are available while trials are running.\n"
     ]
    },
    {
     "name": "stderr",
     "output_type": "stream",
     "text": [
      "/tmp/tmp.oVbuNeLNgw/Ax-main/ax/core/map_data.py:192: FutureWarning: The behavior of DataFrame concatenation with empty or all-NA entries is deprecated. In a future version, this will no longer exclude empty or all-NA columns when determining the result dtypes. To retain the old behavior, exclude the relevant entries before the concat operation.\n",
      "  df = pd.concat(\n"
     ]
    },
    {
     "name": "stderr",
     "output_type": "stream",
     "text": [
      "/tmp/tmp.oVbuNeLNgw/Ax-main/ax/core/map_data.py:192: FutureWarning: The behavior of DataFrame concatenation with empty or all-NA entries is deprecated. In a future version, this will no longer exclude empty or all-NA columns when determining the result dtypes. To retain the old behavior, exclude the relevant entries before the concat operation.\n",
      "  df = pd.concat(\n",
      "[INFO 08-22 06:52:22] ax.early_stopping.strategies.base: The number of completed trials (0) is less than the minimum number of curves needed for early stopping (5). Not early stopping.\n"
     ]
    },
    {
     "name": "stderr",
     "output_type": "stream",
     "text": [
      "[INFO 08-22 06:52:22] Scheduler: Waiting for completed trials (for 10 sec, currently running trials: 5).\n"
     ]
    },
    {
     "name": "stderr",
     "output_type": "stream",
     "text": [
      "[INFO 08-22 06:52:32] Scheduler: Fetching data for newly completed trials: [].\n"
     ]
    },
    {
     "name": "stderr",
     "output_type": "stream",
     "text": [
      "[INFO 08-22 06:52:32] Scheduler: Fetching data for trials: 1 - 5 because some metrics on experiment are available while trials are running.\n"
     ]
    },
    {
     "name": "stderr",
     "output_type": "stream",
     "text": [
      "/tmp/tmp.oVbuNeLNgw/Ax-main/ax/core/map_data.py:192: FutureWarning: The behavior of DataFrame concatenation with empty or all-NA entries is deprecated. In a future version, this will no longer exclude empty or all-NA columns when determining the result dtypes. To retain the old behavior, exclude the relevant entries before the concat operation.\n",
      "  df = pd.concat(\n"
     ]
    },
    {
     "name": "stderr",
     "output_type": "stream",
     "text": [
      "/tmp/tmp.oVbuNeLNgw/Ax-main/ax/core/map_data.py:192: FutureWarning: The behavior of DataFrame concatenation with empty or all-NA entries is deprecated. In a future version, this will no longer exclude empty or all-NA columns when determining the result dtypes. To retain the old behavior, exclude the relevant entries before the concat operation.\n",
      "  df = pd.concat(\n",
      "[INFO 08-22 06:52:33] ax.early_stopping.strategies.base: The number of completed trials (0) is less than the minimum number of curves needed for early stopping (5). Not early stopping.\n"
     ]
    },
    {
     "name": "stderr",
     "output_type": "stream",
     "text": [
      "[INFO 08-22 06:52:33] Scheduler: Waiting for completed trials (for 10 sec, currently running trials: 5).\n"
     ]
    },
    {
     "name": "stderr",
     "output_type": "stream",
     "text": [
      "[INFO 08-22 06:52:43] Scheduler: Fetching data for newly completed trials: [].\n"
     ]
    },
    {
     "name": "stderr",
     "output_type": "stream",
     "text": [
      "[INFO 08-22 06:52:43] Scheduler: Fetching data for trials: 1 - 5 because some metrics on experiment are available while trials are running.\n"
     ]
    },
    {
     "name": "stderr",
     "output_type": "stream",
     "text": [
      "/tmp/tmp.oVbuNeLNgw/Ax-main/ax/core/map_data.py:192: FutureWarning: The behavior of DataFrame concatenation with empty or all-NA entries is deprecated. In a future version, this will no longer exclude empty or all-NA columns when determining the result dtypes. To retain the old behavior, exclude the relevant entries before the concat operation.\n",
      "  df = pd.concat(\n"
     ]
    },
    {
     "name": "stderr",
     "output_type": "stream",
     "text": [
      "/tmp/tmp.oVbuNeLNgw/Ax-main/ax/core/map_data.py:192: FutureWarning: The behavior of DataFrame concatenation with empty or all-NA entries is deprecated. In a future version, this will no longer exclude empty or all-NA columns when determining the result dtypes. To retain the old behavior, exclude the relevant entries before the concat operation.\n",
      "  df = pd.concat(\n",
      "[INFO 08-22 06:52:43] ax.early_stopping.strategies.base: The number of completed trials (0) is less than the minimum number of curves needed for early stopping (5). Not early stopping.\n"
     ]
    },
    {
     "name": "stderr",
     "output_type": "stream",
     "text": [
      "[INFO 08-22 06:52:43] Scheduler: Waiting for completed trials (for 10 sec, currently running trials: 5).\n"
     ]
    },
    {
     "name": "stderr",
     "output_type": "stream",
     "text": [
      "[INFO 08-22 06:52:53] Scheduler: Fetching data for newly completed trials: [].\n"
     ]
    },
    {
     "name": "stderr",
     "output_type": "stream",
     "text": [
      "[INFO 08-22 06:52:53] Scheduler: Fetching data for trials: 1 - 5 because some metrics on experiment are available while trials are running.\n"
     ]
    },
    {
     "name": "stderr",
     "output_type": "stream",
     "text": [
      "/tmp/tmp.oVbuNeLNgw/Ax-main/ax/core/map_data.py:192: FutureWarning: The behavior of DataFrame concatenation with empty or all-NA entries is deprecated. In a future version, this will no longer exclude empty or all-NA columns when determining the result dtypes. To retain the old behavior, exclude the relevant entries before the concat operation.\n",
      "  df = pd.concat(\n"
     ]
    },
    {
     "name": "stderr",
     "output_type": "stream",
     "text": [
      "/tmp/tmp.oVbuNeLNgw/Ax-main/ax/core/map_data.py:192: FutureWarning: The behavior of DataFrame concatenation with empty or all-NA entries is deprecated. In a future version, this will no longer exclude empty or all-NA columns when determining the result dtypes. To retain the old behavior, exclude the relevant entries before the concat operation.\n",
      "  df = pd.concat(\n",
      "[INFO 08-22 06:52:53] ax.early_stopping.strategies.base: The number of completed trials (0) is less than the minimum number of curves needed for early stopping (5). Not early stopping.\n"
     ]
    },
    {
     "name": "stderr",
     "output_type": "stream",
     "text": [
      "[INFO 08-22 06:52:53] Scheduler: Waiting for completed trials (for 10 sec, currently running trials: 5).\n"
     ]
    },
    {
     "name": "stderr",
     "output_type": "stream",
     "text": [
      "[INFO 08-22 06:53:03] Scheduler: Fetching data for newly completed trials: [].\n"
     ]
    },
    {
     "name": "stderr",
     "output_type": "stream",
     "text": [
      "[INFO 08-22 06:53:03] Scheduler: Fetching data for trials: 1 - 5 because some metrics on experiment are available while trials are running.\n"
     ]
    },
    {
     "name": "stderr",
     "output_type": "stream",
     "text": [
      "/tmp/tmp.oVbuNeLNgw/Ax-main/ax/core/map_data.py:192: FutureWarning: The behavior of DataFrame concatenation with empty or all-NA entries is deprecated. In a future version, this will no longer exclude empty or all-NA columns when determining the result dtypes. To retain the old behavior, exclude the relevant entries before the concat operation.\n",
      "  df = pd.concat(\n"
     ]
    },
    {
     "name": "stderr",
     "output_type": "stream",
     "text": [
      "/tmp/tmp.oVbuNeLNgw/Ax-main/ax/core/map_data.py:192: FutureWarning: The behavior of DataFrame concatenation with empty or all-NA entries is deprecated. In a future version, this will no longer exclude empty or all-NA columns when determining the result dtypes. To retain the old behavior, exclude the relevant entries before the concat operation.\n",
      "  df = pd.concat(\n",
      "[INFO 08-22 06:53:03] ax.early_stopping.strategies.base: The number of completed trials (0) is less than the minimum number of curves needed for early stopping (5). Not early stopping.\n"
     ]
    },
    {
     "name": "stderr",
     "output_type": "stream",
     "text": [
      "[INFO 08-22 06:53:03] Scheduler: Waiting for completed trials (for 10 sec, currently running trials: 5).\n"
     ]
    },
    {
     "name": "stderr",
     "output_type": "stream",
     "text": [
      "[INFO 08-22 06:53:13] Scheduler: Fetching data for newly completed trials: [].\n"
     ]
    },
    {
     "name": "stderr",
     "output_type": "stream",
     "text": [
      "[INFO 08-22 06:53:13] Scheduler: Fetching data for trials: 1 - 5 because some metrics on experiment are available while trials are running.\n"
     ]
    },
    {
     "name": "stderr",
     "output_type": "stream",
     "text": [
      "/tmp/tmp.oVbuNeLNgw/Ax-main/ax/core/map_data.py:192: FutureWarning: The behavior of DataFrame concatenation with empty or all-NA entries is deprecated. In a future version, this will no longer exclude empty or all-NA columns when determining the result dtypes. To retain the old behavior, exclude the relevant entries before the concat operation.\n",
      "  df = pd.concat(\n"
     ]
    },
    {
     "name": "stderr",
     "output_type": "stream",
     "text": [
      "/tmp/tmp.oVbuNeLNgw/Ax-main/ax/core/map_data.py:192: FutureWarning: The behavior of DataFrame concatenation with empty or all-NA entries is deprecated. In a future version, this will no longer exclude empty or all-NA columns when determining the result dtypes. To retain the old behavior, exclude the relevant entries before the concat operation.\n",
      "  df = pd.concat(\n",
      "[INFO 08-22 06:53:14] ax.early_stopping.strategies.base: The number of completed trials (0) is less than the minimum number of curves needed for early stopping (5). Not early stopping.\n"
     ]
    },
    {
     "name": "stderr",
     "output_type": "stream",
     "text": [
      "[INFO 08-22 06:53:14] Scheduler: Waiting for completed trials (for 10 sec, currently running trials: 5).\n"
     ]
    },
    {
     "name": "stderr",
     "output_type": "stream",
     "text": [
      "[INFO 08-22 06:53:24] Scheduler: Fetching data for newly completed trials: [].\n"
     ]
    },
    {
     "name": "stderr",
     "output_type": "stream",
     "text": [
      "[INFO 08-22 06:53:24] Scheduler: Fetching data for trials: 1 - 5 because some metrics on experiment are available while trials are running.\n"
     ]
    },
    {
     "name": "stderr",
     "output_type": "stream",
     "text": [
      "/tmp/tmp.oVbuNeLNgw/Ax-main/ax/core/map_data.py:192: FutureWarning: The behavior of DataFrame concatenation with empty or all-NA entries is deprecated. In a future version, this will no longer exclude empty or all-NA columns when determining the result dtypes. To retain the old behavior, exclude the relevant entries before the concat operation.\n",
      "  df = pd.concat(\n",
      "/tmp/tmp.oVbuNeLNgw/Ax-main/ax/core/map_data.py:192: FutureWarning: The behavior of DataFrame concatenation with empty or all-NA entries is deprecated. In a future version, this will no longer exclude empty or all-NA columns when determining the result dtypes. To retain the old behavior, exclude the relevant entries before the concat operation.\n",
      "  df = pd.concat(\n"
     ]
    },
    {
     "name": "stderr",
     "output_type": "stream",
     "text": [
      "[INFO 08-22 06:53:24] ax.early_stopping.strategies.base: The number of completed trials (0) is less than the minimum number of curves needed for early stopping (5). Not early stopping.\n"
     ]
    },
    {
     "name": "stderr",
     "output_type": "stream",
     "text": [
      "[INFO 08-22 06:53:24] Scheduler: Waiting for completed trials (for 10 sec, currently running trials: 5).\n"
     ]
    },
    {
     "name": "stderr",
     "output_type": "stream",
     "text": [
      "[INFO 08-22 06:53:34] Scheduler: Fetching data for newly completed trials: [].\n"
     ]
    },
    {
     "name": "stderr",
     "output_type": "stream",
     "text": [
      "[INFO 08-22 06:53:34] Scheduler: Fetching data for trials: 1 - 5 because some metrics on experiment are available while trials are running.\n"
     ]
    },
    {
     "name": "stderr",
     "output_type": "stream",
     "text": [
      "/tmp/tmp.oVbuNeLNgw/Ax-main/ax/core/map_data.py:192: FutureWarning: The behavior of DataFrame concatenation with empty or all-NA entries is deprecated. In a future version, this will no longer exclude empty or all-NA columns when determining the result dtypes. To retain the old behavior, exclude the relevant entries before the concat operation.\n",
      "  df = pd.concat(\n"
     ]
    },
    {
     "name": "stderr",
     "output_type": "stream",
     "text": [
      "/tmp/tmp.oVbuNeLNgw/Ax-main/ax/core/map_data.py:192: FutureWarning: The behavior of DataFrame concatenation with empty or all-NA entries is deprecated. In a future version, this will no longer exclude empty or all-NA columns when determining the result dtypes. To retain the old behavior, exclude the relevant entries before the concat operation.\n",
      "  df = pd.concat(\n",
      "[INFO 08-22 06:53:34] ax.early_stopping.strategies.base: The number of completed trials (0) is less than the minimum number of curves needed for early stopping (5). Not early stopping.\n"
     ]
    },
    {
     "name": "stderr",
     "output_type": "stream",
     "text": [
      "[INFO 08-22 06:53:34] Scheduler: Waiting for completed trials (for 10 sec, currently running trials: 5).\n"
     ]
    },
    {
     "name": "stderr",
     "output_type": "stream",
     "text": [
      "[INFO 08-22 06:53:44] Scheduler: Fetching data for newly completed trials: [].\n"
     ]
    },
    {
     "name": "stderr",
     "output_type": "stream",
     "text": [
      "[INFO 08-22 06:53:44] Scheduler: Fetching data for trials: 1 - 5 because some metrics on experiment are available while trials are running.\n"
     ]
    },
    {
     "name": "stderr",
     "output_type": "stream",
     "text": [
      "/tmp/tmp.oVbuNeLNgw/Ax-main/ax/core/map_data.py:192: FutureWarning: The behavior of DataFrame concatenation with empty or all-NA entries is deprecated. In a future version, this will no longer exclude empty or all-NA columns when determining the result dtypes. To retain the old behavior, exclude the relevant entries before the concat operation.\n",
      "  df = pd.concat(\n"
     ]
    },
    {
     "name": "stderr",
     "output_type": "stream",
     "text": [
      "/tmp/tmp.oVbuNeLNgw/Ax-main/ax/core/map_data.py:192: FutureWarning: The behavior of DataFrame concatenation with empty or all-NA entries is deprecated. In a future version, this will no longer exclude empty or all-NA columns when determining the result dtypes. To retain the old behavior, exclude the relevant entries before the concat operation.\n",
      "  df = pd.concat(\n",
      "[INFO 08-22 06:53:44] ax.early_stopping.strategies.base: The number of completed trials (0) is less than the minimum number of curves needed for early stopping (5). Not early stopping.\n"
     ]
    },
    {
     "name": "stderr",
     "output_type": "stream",
     "text": [
      "[INFO 08-22 06:53:44] Scheduler: Waiting for completed trials (for 10 sec, currently running trials: 5).\n"
     ]
    },
    {
     "name": "stderr",
     "output_type": "stream",
     "text": [
      "[INFO 08-22 06:53:54] Scheduler: Fetching data for newly completed trials: [].\n"
     ]
    },
    {
     "name": "stderr",
     "output_type": "stream",
     "text": [
      "[INFO 08-22 06:53:54] Scheduler: Fetching data for trials: 1 - 5 because some metrics on experiment are available while trials are running.\n"
     ]
    },
    {
     "name": "stderr",
     "output_type": "stream",
     "text": [
      "/tmp/tmp.oVbuNeLNgw/Ax-main/ax/core/map_data.py:192: FutureWarning: The behavior of DataFrame concatenation with empty or all-NA entries is deprecated. In a future version, this will no longer exclude empty or all-NA columns when determining the result dtypes. To retain the old behavior, exclude the relevant entries before the concat operation.\n",
      "  df = pd.concat(\n"
     ]
    },
    {
     "name": "stderr",
     "output_type": "stream",
     "text": [
      "/tmp/tmp.oVbuNeLNgw/Ax-main/ax/core/map_data.py:192: FutureWarning: The behavior of DataFrame concatenation with empty or all-NA entries is deprecated. In a future version, this will no longer exclude empty or all-NA columns when determining the result dtypes. To retain the old behavior, exclude the relevant entries before the concat operation.\n",
      "  df = pd.concat(\n",
      "[INFO 08-22 06:53:55] ax.early_stopping.strategies.base: The number of completed trials (0) is less than the minimum number of curves needed for early stopping (5). Not early stopping.\n"
     ]
    },
    {
     "name": "stderr",
     "output_type": "stream",
     "text": [
      "[INFO 08-22 06:53:55] Scheduler: Waiting for completed trials (for 10 sec, currently running trials: 5).\n"
     ]
    },
    {
     "name": "stderr",
     "output_type": "stream",
     "text": [
      "[INFO 08-22 06:54:05] Scheduler: Fetching data for newly completed trials: [].\n"
     ]
    },
    {
     "name": "stderr",
     "output_type": "stream",
     "text": [
      "[INFO 08-22 06:54:05] Scheduler: Fetching data for trials: 1 - 5 because some metrics on experiment are available while trials are running.\n"
     ]
    },
    {
     "name": "stderr",
     "output_type": "stream",
     "text": [
      "/tmp/tmp.oVbuNeLNgw/Ax-main/ax/core/map_data.py:192: FutureWarning: The behavior of DataFrame concatenation with empty or all-NA entries is deprecated. In a future version, this will no longer exclude empty or all-NA columns when determining the result dtypes. To retain the old behavior, exclude the relevant entries before the concat operation.\n",
      "  df = pd.concat(\n"
     ]
    },
    {
     "name": "stderr",
     "output_type": "stream",
     "text": [
      "/tmp/tmp.oVbuNeLNgw/Ax-main/ax/core/map_data.py:192: FutureWarning: The behavior of DataFrame concatenation with empty or all-NA entries is deprecated. In a future version, this will no longer exclude empty or all-NA columns when determining the result dtypes. To retain the old behavior, exclude the relevant entries before the concat operation.\n",
      "  df = pd.concat(\n",
      "[INFO 08-22 06:54:05] ax.early_stopping.strategies.base: The number of completed trials (0) is less than the minimum number of curves needed for early stopping (5). Not early stopping.\n"
     ]
    },
    {
     "name": "stderr",
     "output_type": "stream",
     "text": [
      "[INFO 08-22 06:54:05] Scheduler: Waiting for completed trials (for 10 sec, currently running trials: 5).\n"
     ]
    },
    {
     "name": "stderr",
     "output_type": "stream",
     "text": [
      "[INFO 08-22 06:54:15] Scheduler: Fetching data for newly completed trials: [].\n"
     ]
    },
    {
     "name": "stderr",
     "output_type": "stream",
     "text": [
      "[INFO 08-22 06:54:15] Scheduler: Fetching data for trials: 1 - 5 because some metrics on experiment are available while trials are running.\n"
     ]
    },
    {
     "name": "stderr",
     "output_type": "stream",
     "text": [
      "/tmp/tmp.oVbuNeLNgw/Ax-main/ax/core/map_data.py:192: FutureWarning: The behavior of DataFrame concatenation with empty or all-NA entries is deprecated. In a future version, this will no longer exclude empty or all-NA columns when determining the result dtypes. To retain the old behavior, exclude the relevant entries before the concat operation.\n",
      "  df = pd.concat(\n",
      "/tmp/tmp.oVbuNeLNgw/Ax-main/ax/core/map_data.py:192: FutureWarning: The behavior of DataFrame concatenation with empty or all-NA entries is deprecated. In a future version, this will no longer exclude empty or all-NA columns when determining the result dtypes. To retain the old behavior, exclude the relevant entries before the concat operation.\n",
      "  df = pd.concat(\n"
     ]
    },
    {
     "name": "stderr",
     "output_type": "stream",
     "text": [
      "[INFO 08-22 06:54:15] ax.early_stopping.strategies.base: The number of completed trials (0) is less than the minimum number of curves needed for early stopping (5). Not early stopping.\n"
     ]
    },
    {
     "name": "stderr",
     "output_type": "stream",
     "text": [
      "[INFO 08-22 06:54:15] Scheduler: Waiting for completed trials (for 10 sec, currently running trials: 5).\n"
     ]
    },
    {
     "name": "stderr",
     "output_type": "stream",
     "text": [
      "[INFO 08-22 06:54:25] Scheduler: Fetching data for newly completed trials: [].\n"
     ]
    },
    {
     "name": "stderr",
     "output_type": "stream",
     "text": [
      "[INFO 08-22 06:54:25] Scheduler: Fetching data for trials: 1 - 5 because some metrics on experiment are available while trials are running.\n"
     ]
    },
    {
     "name": "stderr",
     "output_type": "stream",
     "text": [
      "/tmp/tmp.oVbuNeLNgw/Ax-main/ax/core/map_data.py:192: FutureWarning: The behavior of DataFrame concatenation with empty or all-NA entries is deprecated. In a future version, this will no longer exclude empty or all-NA columns when determining the result dtypes. To retain the old behavior, exclude the relevant entries before the concat operation.\n",
      "  df = pd.concat(\n"
     ]
    },
    {
     "name": "stderr",
     "output_type": "stream",
     "text": [
      "/tmp/tmp.oVbuNeLNgw/Ax-main/ax/core/map_data.py:192: FutureWarning: The behavior of DataFrame concatenation with empty or all-NA entries is deprecated. In a future version, this will no longer exclude empty or all-NA columns when determining the result dtypes. To retain the old behavior, exclude the relevant entries before the concat operation.\n",
      "  df = pd.concat(\n",
      "[INFO 08-22 06:54:26] ax.early_stopping.strategies.base: The number of completed trials (0) is less than the minimum number of curves needed for early stopping (5). Not early stopping.\n"
     ]
    },
    {
     "name": "stderr",
     "output_type": "stream",
     "text": [
      "[INFO 08-22 06:54:26] Scheduler: Waiting for completed trials (for 10 sec, currently running trials: 5).\n"
     ]
    },
    {
     "name": "stderr",
     "output_type": "stream",
     "text": [
      "[INFO 08-22 06:54:36] Scheduler: Fetching data for newly completed trials: [].\n"
     ]
    },
    {
     "name": "stderr",
     "output_type": "stream",
     "text": [
      "[INFO 08-22 06:54:36] Scheduler: Fetching data for trials: 1 - 5 because some metrics on experiment are available while trials are running.\n"
     ]
    },
    {
     "name": "stderr",
     "output_type": "stream",
     "text": [
      "/tmp/tmp.oVbuNeLNgw/Ax-main/ax/core/map_data.py:192: FutureWarning: The behavior of DataFrame concatenation with empty or all-NA entries is deprecated. In a future version, this will no longer exclude empty or all-NA columns when determining the result dtypes. To retain the old behavior, exclude the relevant entries before the concat operation.\n",
      "  df = pd.concat(\n"
     ]
    },
    {
     "name": "stderr",
     "output_type": "stream",
     "text": [
      "/tmp/tmp.oVbuNeLNgw/Ax-main/ax/core/map_data.py:192: FutureWarning: The behavior of DataFrame concatenation with empty or all-NA entries is deprecated. In a future version, this will no longer exclude empty or all-NA columns when determining the result dtypes. To retain the old behavior, exclude the relevant entries before the concat operation.\n",
      "  df = pd.concat(\n",
      "[INFO 08-22 06:54:36] ax.early_stopping.strategies.base: The number of completed trials (0) is less than the minimum number of curves needed for early stopping (5). Not early stopping.\n"
     ]
    },
    {
     "name": "stderr",
     "output_type": "stream",
     "text": [
      "[INFO 08-22 06:54:36] Scheduler: Waiting for completed trials (for 10 sec, currently running trials: 5).\n"
     ]
    },
    {
     "name": "stderr",
     "output_type": "stream",
     "text": [
      "[INFO 08-22 06:54:46] Scheduler: Fetching data for newly completed trials: [].\n"
     ]
    },
    {
     "name": "stderr",
     "output_type": "stream",
     "text": [
      "[INFO 08-22 06:54:46] Scheduler: Fetching data for trials: 1 - 5 because some metrics on experiment are available while trials are running.\n"
     ]
    },
    {
     "name": "stderr",
     "output_type": "stream",
     "text": [
      "/tmp/tmp.oVbuNeLNgw/Ax-main/ax/core/map_data.py:192: FutureWarning: The behavior of DataFrame concatenation with empty or all-NA entries is deprecated. In a future version, this will no longer exclude empty or all-NA columns when determining the result dtypes. To retain the old behavior, exclude the relevant entries before the concat operation.\n",
      "  df = pd.concat(\n"
     ]
    },
    {
     "name": "stderr",
     "output_type": "stream",
     "text": [
      "/tmp/tmp.oVbuNeLNgw/Ax-main/ax/core/map_data.py:192: FutureWarning: The behavior of DataFrame concatenation with empty or all-NA entries is deprecated. In a future version, this will no longer exclude empty or all-NA columns when determining the result dtypes. To retain the old behavior, exclude the relevant entries before the concat operation.\n",
      "  df = pd.concat(\n",
      "[INFO 08-22 06:54:46] ax.early_stopping.strategies.base: The number of completed trials (0) is less than the minimum number of curves needed for early stopping (5). Not early stopping.\n"
     ]
    },
    {
     "name": "stderr",
     "output_type": "stream",
     "text": [
      "[INFO 08-22 06:54:46] Scheduler: Waiting for completed trials (for 10 sec, currently running trials: 5).\n"
     ]
    },
    {
     "name": "stderr",
     "output_type": "stream",
     "text": [
      "[INFO 08-22 06:54:56] Scheduler: Fetching data for newly completed trials: [].\n"
     ]
    },
    {
     "name": "stderr",
     "output_type": "stream",
     "text": [
      "[INFO 08-22 06:54:56] Scheduler: Fetching data for trials: 1 - 5 because some metrics on experiment are available while trials are running.\n"
     ]
    },
    {
     "name": "stderr",
     "output_type": "stream",
     "text": [
      "/tmp/tmp.oVbuNeLNgw/Ax-main/ax/core/map_data.py:192: FutureWarning: The behavior of DataFrame concatenation with empty or all-NA entries is deprecated. In a future version, this will no longer exclude empty or all-NA columns when determining the result dtypes. To retain the old behavior, exclude the relevant entries before the concat operation.\n",
      "  df = pd.concat(\n"
     ]
    },
    {
     "name": "stderr",
     "output_type": "stream",
     "text": [
      "/tmp/tmp.oVbuNeLNgw/Ax-main/ax/core/map_data.py:192: FutureWarning: The behavior of DataFrame concatenation with empty or all-NA entries is deprecated. In a future version, this will no longer exclude empty or all-NA columns when determining the result dtypes. To retain the old behavior, exclude the relevant entries before the concat operation.\n",
      "  df = pd.concat(\n",
      "[INFO 08-22 06:54:56] ax.early_stopping.strategies.base: The number of completed trials (0) is less than the minimum number of curves needed for early stopping (5). Not early stopping.\n"
     ]
    },
    {
     "name": "stderr",
     "output_type": "stream",
     "text": [
      "[INFO 08-22 06:54:56] Scheduler: Waiting for completed trials (for 10 sec, currently running trials: 5).\n"
     ]
    },
    {
     "name": "stderr",
     "output_type": "stream",
     "text": [
      "[INFO 08-22 06:55:06] Scheduler: Fetching data for newly completed trials: [].\n"
     ]
    },
    {
     "name": "stderr",
     "output_type": "stream",
     "text": [
      "[INFO 08-22 06:55:06] Scheduler: Fetching data for trials: 1 - 5 because some metrics on experiment are available while trials are running.\n"
     ]
    },
    {
     "name": "stderr",
     "output_type": "stream",
     "text": [
      "/tmp/tmp.oVbuNeLNgw/Ax-main/ax/core/map_data.py:192: FutureWarning: The behavior of DataFrame concatenation with empty or all-NA entries is deprecated. In a future version, this will no longer exclude empty or all-NA columns when determining the result dtypes. To retain the old behavior, exclude the relevant entries before the concat operation.\n",
      "  df = pd.concat(\n"
     ]
    },
    {
     "name": "stderr",
     "output_type": "stream",
     "text": [
      "/tmp/tmp.oVbuNeLNgw/Ax-main/ax/core/map_data.py:192: FutureWarning: The behavior of DataFrame concatenation with empty or all-NA entries is deprecated. In a future version, this will no longer exclude empty or all-NA columns when determining the result dtypes. To retain the old behavior, exclude the relevant entries before the concat operation.\n",
      "  df = pd.concat(\n",
      "[INFO 08-22 06:55:07] ax.early_stopping.strategies.base: The number of completed trials (0) is less than the minimum number of curves needed for early stopping (5). Not early stopping.\n"
     ]
    },
    {
     "name": "stderr",
     "output_type": "stream",
     "text": [
      "[INFO 08-22 06:55:07] Scheduler: Waiting for completed trials (for 10 sec, currently running trials: 5).\n"
     ]
    },
    {
     "name": "stderr",
     "output_type": "stream",
     "text": [
      "[INFO 08-22 06:55:17] Scheduler: Fetching data for newly completed trials: [].\n"
     ]
    },
    {
     "name": "stderr",
     "output_type": "stream",
     "text": [
      "[INFO 08-22 06:55:17] Scheduler: Fetching data for trials: 1 - 5 because some metrics on experiment are available while trials are running.\n"
     ]
    },
    {
     "name": "stderr",
     "output_type": "stream",
     "text": [
      "/tmp/tmp.oVbuNeLNgw/Ax-main/ax/core/map_data.py:192: FutureWarning: The behavior of DataFrame concatenation with empty or all-NA entries is deprecated. In a future version, this will no longer exclude empty or all-NA columns when determining the result dtypes. To retain the old behavior, exclude the relevant entries before the concat operation.\n",
      "  df = pd.concat(\n"
     ]
    },
    {
     "name": "stderr",
     "output_type": "stream",
     "text": [
      "/tmp/tmp.oVbuNeLNgw/Ax-main/ax/core/map_data.py:192: FutureWarning: The behavior of DataFrame concatenation with empty or all-NA entries is deprecated. In a future version, this will no longer exclude empty or all-NA columns when determining the result dtypes. To retain the old behavior, exclude the relevant entries before the concat operation.\n",
      "  df = pd.concat(\n",
      "[INFO 08-22 06:55:17] ax.early_stopping.strategies.base: The number of completed trials (0) is less than the minimum number of curves needed for early stopping (5). Not early stopping.\n"
     ]
    },
    {
     "name": "stderr",
     "output_type": "stream",
     "text": [
      "[INFO 08-22 06:55:17] Scheduler: Waiting for completed trials (for 10 sec, currently running trials: 5).\n"
     ]
    },
    {
     "name": "stderr",
     "output_type": "stream",
     "text": [
      "[INFO 08-22 06:55:27] Scheduler: Fetching data for newly completed trials: [].\n"
     ]
    },
    {
     "name": "stderr",
     "output_type": "stream",
     "text": [
      "[INFO 08-22 06:55:27] Scheduler: Fetching data for trials: 1 - 5 because some metrics on experiment are available while trials are running.\n"
     ]
    },
    {
     "name": "stderr",
     "output_type": "stream",
     "text": [
      "/tmp/tmp.oVbuNeLNgw/Ax-main/ax/core/map_data.py:192: FutureWarning: The behavior of DataFrame concatenation with empty or all-NA entries is deprecated. In a future version, this will no longer exclude empty or all-NA columns when determining the result dtypes. To retain the old behavior, exclude the relevant entries before the concat operation.\n",
      "  df = pd.concat(\n"
     ]
    },
    {
     "name": "stderr",
     "output_type": "stream",
     "text": [
      "/tmp/tmp.oVbuNeLNgw/Ax-main/ax/core/map_data.py:192: FutureWarning: The behavior of DataFrame concatenation with empty or all-NA entries is deprecated. In a future version, this will no longer exclude empty or all-NA columns when determining the result dtypes. To retain the old behavior, exclude the relevant entries before the concat operation.\n",
      "  df = pd.concat(\n",
      "[INFO 08-22 06:55:27] ax.early_stopping.strategies.base: The number of completed trials (0) is less than the minimum number of curves needed for early stopping (5). Not early stopping.\n"
     ]
    },
    {
     "name": "stderr",
     "output_type": "stream",
     "text": [
      "[INFO 08-22 06:55:27] Scheduler: Waiting for completed trials (for 10 sec, currently running trials: 5).\n"
     ]
    },
    {
     "name": "stderr",
     "output_type": "stream",
     "text": [
      "[INFO 08-22 06:55:37] Scheduler: Fetching data for newly completed trials: [].\n"
     ]
    },
    {
     "name": "stderr",
     "output_type": "stream",
     "text": [
      "[INFO 08-22 06:55:37] Scheduler: Fetching data for trials: 1 - 5 because some metrics on experiment are available while trials are running.\n"
     ]
    },
    {
     "name": "stderr",
     "output_type": "stream",
     "text": [
      "/tmp/tmp.oVbuNeLNgw/Ax-main/ax/core/map_data.py:192: FutureWarning: The behavior of DataFrame concatenation with empty or all-NA entries is deprecated. In a future version, this will no longer exclude empty or all-NA columns when determining the result dtypes. To retain the old behavior, exclude the relevant entries before the concat operation.\n",
      "  df = pd.concat(\n"
     ]
    },
    {
     "name": "stderr",
     "output_type": "stream",
     "text": [
      "/tmp/tmp.oVbuNeLNgw/Ax-main/ax/core/map_data.py:192: FutureWarning: The behavior of DataFrame concatenation with empty or all-NA entries is deprecated. In a future version, this will no longer exclude empty or all-NA columns when determining the result dtypes. To retain the old behavior, exclude the relevant entries before the concat operation.\n",
      "  df = pd.concat(\n",
      "[INFO 08-22 06:55:37] ax.early_stopping.strategies.base: The number of completed trials (0) is less than the minimum number of curves needed for early stopping (5). Not early stopping.\n"
     ]
    },
    {
     "name": "stderr",
     "output_type": "stream",
     "text": [
      "[INFO 08-22 06:55:37] Scheduler: Waiting for completed trials (for 10 sec, currently running trials: 5).\n"
     ]
    },
    {
     "name": "stderr",
     "output_type": "stream",
     "text": [
      "[INFO 08-22 06:55:47] Scheduler: Fetching data for newly completed trials: [].\n"
     ]
    },
    {
     "name": "stderr",
     "output_type": "stream",
     "text": [
      "[INFO 08-22 06:55:47] Scheduler: Fetching data for trials: 1 - 5 because some metrics on experiment are available while trials are running.\n"
     ]
    },
    {
     "name": "stderr",
     "output_type": "stream",
     "text": [
      "/tmp/tmp.oVbuNeLNgw/Ax-main/ax/core/map_data.py:192: FutureWarning: The behavior of DataFrame concatenation with empty or all-NA entries is deprecated. In a future version, this will no longer exclude empty or all-NA columns when determining the result dtypes. To retain the old behavior, exclude the relevant entries before the concat operation.\n",
      "  df = pd.concat(\n"
     ]
    },
    {
     "name": "stderr",
     "output_type": "stream",
     "text": [
      "/tmp/tmp.oVbuNeLNgw/Ax-main/ax/core/map_data.py:192: FutureWarning: The behavior of DataFrame concatenation with empty or all-NA entries is deprecated. In a future version, this will no longer exclude empty or all-NA columns when determining the result dtypes. To retain the old behavior, exclude the relevant entries before the concat operation.\n",
      "  df = pd.concat(\n",
      "[INFO 08-22 06:55:48] ax.early_stopping.strategies.base: The number of completed trials (0) is less than the minimum number of curves needed for early stopping (5). Not early stopping.\n"
     ]
    },
    {
     "name": "stderr",
     "output_type": "stream",
     "text": [
      "[INFO 08-22 06:55:48] Scheduler: Waiting for completed trials (for 10 sec, currently running trials: 5).\n"
     ]
    },
    {
     "name": "stderr",
     "output_type": "stream",
     "text": [
      "[INFO 08-22 06:55:58] Scheduler: Fetching data for newly completed trials: [].\n"
     ]
    },
    {
     "name": "stderr",
     "output_type": "stream",
     "text": [
      "[INFO 08-22 06:55:58] Scheduler: Fetching data for trials: 1 - 5 because some metrics on experiment are available while trials are running.\n"
     ]
    },
    {
     "name": "stderr",
     "output_type": "stream",
     "text": [
      "/tmp/tmp.oVbuNeLNgw/Ax-main/ax/core/map_data.py:192: FutureWarning: The behavior of DataFrame concatenation with empty or all-NA entries is deprecated. In a future version, this will no longer exclude empty or all-NA columns when determining the result dtypes. To retain the old behavior, exclude the relevant entries before the concat operation.\n",
      "  df = pd.concat(\n"
     ]
    },
    {
     "name": "stderr",
     "output_type": "stream",
     "text": [
      "/tmp/tmp.oVbuNeLNgw/Ax-main/ax/core/map_data.py:192: FutureWarning: The behavior of DataFrame concatenation with empty or all-NA entries is deprecated. In a future version, this will no longer exclude empty or all-NA columns when determining the result dtypes. To retain the old behavior, exclude the relevant entries before the concat operation.\n",
      "  df = pd.concat(\n",
      "[INFO 08-22 06:55:58] ax.early_stopping.strategies.base: The number of completed trials (0) is less than the minimum number of curves needed for early stopping (5). Not early stopping.\n"
     ]
    },
    {
     "name": "stderr",
     "output_type": "stream",
     "text": [
      "[INFO 08-22 06:55:58] Scheduler: Waiting for completed trials (for 10 sec, currently running trials: 5).\n"
     ]
    },
    {
     "name": "stderr",
     "output_type": "stream",
     "text": [
      "[INFO 08-22 06:56:08] Scheduler: Fetching data for newly completed trials: [].\n"
     ]
    },
    {
     "name": "stderr",
     "output_type": "stream",
     "text": [
      "[INFO 08-22 06:56:08] Scheduler: Fetching data for trials: 1 - 5 because some metrics on experiment are available while trials are running.\n"
     ]
    },
    {
     "name": "stderr",
     "output_type": "stream",
     "text": [
      "/tmp/tmp.oVbuNeLNgw/Ax-main/ax/core/map_data.py:192: FutureWarning: The behavior of DataFrame concatenation with empty or all-NA entries is deprecated. In a future version, this will no longer exclude empty or all-NA columns when determining the result dtypes. To retain the old behavior, exclude the relevant entries before the concat operation.\n",
      "  df = pd.concat(\n"
     ]
    },
    {
     "name": "stderr",
     "output_type": "stream",
     "text": [
      "/tmp/tmp.oVbuNeLNgw/Ax-main/ax/core/map_data.py:192: FutureWarning: The behavior of DataFrame concatenation with empty or all-NA entries is deprecated. In a future version, this will no longer exclude empty or all-NA columns when determining the result dtypes. To retain the old behavior, exclude the relevant entries before the concat operation.\n",
      "  df = pd.concat(\n",
      "[INFO 08-22 06:56:08] ax.early_stopping.strategies.base: The number of completed trials (0) is less than the minimum number of curves needed for early stopping (5). Not early stopping.\n"
     ]
    },
    {
     "name": "stderr",
     "output_type": "stream",
     "text": [
      "[INFO 08-22 06:56:08] Scheduler: Waiting for completed trials (for 10 sec, currently running trials: 5).\n"
     ]
    },
    {
     "name": "stderr",
     "output_type": "stream",
     "text": [
      "[INFO 08-22 06:56:18] Scheduler: Fetching data for newly completed trials: [].\n"
     ]
    },
    {
     "name": "stderr",
     "output_type": "stream",
     "text": [
      "[INFO 08-22 06:56:18] Scheduler: Fetching data for trials: 1 - 5 because some metrics on experiment are available while trials are running.\n"
     ]
    },
    {
     "name": "stderr",
     "output_type": "stream",
     "text": [
      "/tmp/tmp.oVbuNeLNgw/Ax-main/ax/core/map_data.py:192: FutureWarning: The behavior of DataFrame concatenation with empty or all-NA entries is deprecated. In a future version, this will no longer exclude empty or all-NA columns when determining the result dtypes. To retain the old behavior, exclude the relevant entries before the concat operation.\n",
      "  df = pd.concat(\n"
     ]
    },
    {
     "name": "stderr",
     "output_type": "stream",
     "text": [
      "/tmp/tmp.oVbuNeLNgw/Ax-main/ax/core/map_data.py:192: FutureWarning: The behavior of DataFrame concatenation with empty or all-NA entries is deprecated. In a future version, this will no longer exclude empty or all-NA columns when determining the result dtypes. To retain the old behavior, exclude the relevant entries before the concat operation.\n",
      "  df = pd.concat(\n",
      "[INFO 08-22 06:56:19] ax.early_stopping.strategies.base: The number of completed trials (0) is less than the minimum number of curves needed for early stopping (5). Not early stopping.\n"
     ]
    },
    {
     "name": "stderr",
     "output_type": "stream",
     "text": [
      "[INFO 08-22 06:56:19] Scheduler: Waiting for completed trials (for 10 sec, currently running trials: 5).\n"
     ]
    },
    {
     "name": "stderr",
     "output_type": "stream",
     "text": [
      "[INFO 08-22 06:56:29] Scheduler: Fetching data for newly completed trials: [].\n"
     ]
    },
    {
     "name": "stderr",
     "output_type": "stream",
     "text": [
      "[INFO 08-22 06:56:29] Scheduler: Fetching data for trials: 1 - 5 because some metrics on experiment are available while trials are running.\n"
     ]
    },
    {
     "name": "stderr",
     "output_type": "stream",
     "text": [
      "/tmp/tmp.oVbuNeLNgw/Ax-main/ax/core/map_data.py:192: FutureWarning: The behavior of DataFrame concatenation with empty or all-NA entries is deprecated. In a future version, this will no longer exclude empty or all-NA columns when determining the result dtypes. To retain the old behavior, exclude the relevant entries before the concat operation.\n",
      "  df = pd.concat(\n",
      "/tmp/tmp.oVbuNeLNgw/Ax-main/ax/core/map_data.py:192: FutureWarning: The behavior of DataFrame concatenation with empty or all-NA entries is deprecated. In a future version, this will no longer exclude empty or all-NA columns when determining the result dtypes. To retain the old behavior, exclude the relevant entries before the concat operation.\n",
      "  df = pd.concat(\n"
     ]
    },
    {
     "name": "stderr",
     "output_type": "stream",
     "text": [
      "[INFO 08-22 06:56:29] ax.early_stopping.strategies.base: The number of completed trials (0) is less than the minimum number of curves needed for early stopping (5). Not early stopping.\n"
     ]
    },
    {
     "name": "stderr",
     "output_type": "stream",
     "text": [
      "[INFO 08-22 06:56:29] Scheduler: Waiting for completed trials (for 10 sec, currently running trials: 5).\n"
     ]
    },
    {
     "name": "stderr",
     "output_type": "stream",
     "text": [
      "[INFO 08-22 06:56:39] Scheduler: Fetching data for newly completed trials: [].\n"
     ]
    },
    {
     "name": "stderr",
     "output_type": "stream",
     "text": [
      "[INFO 08-22 06:56:39] Scheduler: Fetching data for trials: 1 - 5 because some metrics on experiment are available while trials are running.\n"
     ]
    },
    {
     "name": "stderr",
     "output_type": "stream",
     "text": [
      "/tmp/tmp.oVbuNeLNgw/Ax-main/ax/core/map_data.py:192: FutureWarning: The behavior of DataFrame concatenation with empty or all-NA entries is deprecated. In a future version, this will no longer exclude empty or all-NA columns when determining the result dtypes. To retain the old behavior, exclude the relevant entries before the concat operation.\n",
      "  df = pd.concat(\n"
     ]
    },
    {
     "name": "stderr",
     "output_type": "stream",
     "text": [
      "/tmp/tmp.oVbuNeLNgw/Ax-main/ax/core/map_data.py:192: FutureWarning: The behavior of DataFrame concatenation with empty or all-NA entries is deprecated. In a future version, this will no longer exclude empty or all-NA columns when determining the result dtypes. To retain the old behavior, exclude the relevant entries before the concat operation.\n",
      "  df = pd.concat(\n",
      "[INFO 08-22 06:56:39] ax.early_stopping.strategies.base: The number of completed trials (0) is less than the minimum number of curves needed for early stopping (5). Not early stopping.\n"
     ]
    },
    {
     "name": "stderr",
     "output_type": "stream",
     "text": [
      "[INFO 08-22 06:56:39] Scheduler: Waiting for completed trials (for 10 sec, currently running trials: 5).\n"
     ]
    },
    {
     "name": "stderr",
     "output_type": "stream",
     "text": [
      "[INFO 08-22 06:56:49] Scheduler: Fetching data for newly completed trials: [].\n"
     ]
    },
    {
     "name": "stderr",
     "output_type": "stream",
     "text": [
      "[INFO 08-22 06:56:49] Scheduler: Fetching data for trials: 1 - 5 because some metrics on experiment are available while trials are running.\n"
     ]
    },
    {
     "name": "stderr",
     "output_type": "stream",
     "text": [
      "/tmp/tmp.oVbuNeLNgw/Ax-main/ax/core/map_data.py:192: FutureWarning: The behavior of DataFrame concatenation with empty or all-NA entries is deprecated. In a future version, this will no longer exclude empty or all-NA columns when determining the result dtypes. To retain the old behavior, exclude the relevant entries before the concat operation.\n",
      "  df = pd.concat(\n"
     ]
    },
    {
     "name": "stderr",
     "output_type": "stream",
     "text": [
      "/tmp/tmp.oVbuNeLNgw/Ax-main/ax/core/map_data.py:192: FutureWarning: The behavior of DataFrame concatenation with empty or all-NA entries is deprecated. In a future version, this will no longer exclude empty or all-NA columns when determining the result dtypes. To retain the old behavior, exclude the relevant entries before the concat operation.\n",
      "  df = pd.concat(\n",
      "[INFO 08-22 06:56:49] ax.early_stopping.strategies.base: The number of completed trials (0) is less than the minimum number of curves needed for early stopping (5). Not early stopping.\n"
     ]
    },
    {
     "name": "stderr",
     "output_type": "stream",
     "text": [
      "[INFO 08-22 06:56:49] Scheduler: Waiting for completed trials (for 10 sec, currently running trials: 5).\n"
     ]
    },
    {
     "name": "stderr",
     "output_type": "stream",
     "text": [
      "[INFO 08-22 06:56:59] Scheduler: Fetching data for newly completed trials: [].\n"
     ]
    },
    {
     "name": "stderr",
     "output_type": "stream",
     "text": [
      "[INFO 08-22 06:56:59] Scheduler: Fetching data for trials: 1 - 5 because some metrics on experiment are available while trials are running.\n"
     ]
    },
    {
     "name": "stderr",
     "output_type": "stream",
     "text": [
      "/tmp/tmp.oVbuNeLNgw/Ax-main/ax/core/map_data.py:192: FutureWarning: The behavior of DataFrame concatenation with empty or all-NA entries is deprecated. In a future version, this will no longer exclude empty or all-NA columns when determining the result dtypes. To retain the old behavior, exclude the relevant entries before the concat operation.\n",
      "  df = pd.concat(\n"
     ]
    },
    {
     "name": "stderr",
     "output_type": "stream",
     "text": [
      "/tmp/tmp.oVbuNeLNgw/Ax-main/ax/core/map_data.py:192: FutureWarning: The behavior of DataFrame concatenation with empty or all-NA entries is deprecated. In a future version, this will no longer exclude empty or all-NA columns when determining the result dtypes. To retain the old behavior, exclude the relevant entries before the concat operation.\n",
      "  df = pd.concat(\n",
      "[INFO 08-22 06:57:00] ax.early_stopping.strategies.base: The number of completed trials (0) is less than the minimum number of curves needed for early stopping (5). Not early stopping.\n"
     ]
    },
    {
     "name": "stderr",
     "output_type": "stream",
     "text": [
      "[INFO 08-22 06:57:00] Scheduler: Waiting for completed trials (for 10 sec, currently running trials: 5).\n"
     ]
    },
    {
     "name": "stderr",
     "output_type": "stream",
     "text": [
      "[INFO 08-22 06:57:10] Scheduler: Fetching data for newly completed trials: [].\n"
     ]
    },
    {
     "name": "stderr",
     "output_type": "stream",
     "text": [
      "[INFO 08-22 06:57:10] Scheduler: Fetching data for trials: 1 - 5 because some metrics on experiment are available while trials are running.\n"
     ]
    },
    {
     "name": "stderr",
     "output_type": "stream",
     "text": [
      "/tmp/tmp.oVbuNeLNgw/Ax-main/ax/core/map_data.py:192: FutureWarning: The behavior of DataFrame concatenation with empty or all-NA entries is deprecated. In a future version, this will no longer exclude empty or all-NA columns when determining the result dtypes. To retain the old behavior, exclude the relevant entries before the concat operation.\n",
      "  df = pd.concat(\n"
     ]
    },
    {
     "name": "stderr",
     "output_type": "stream",
     "text": [
      "/tmp/tmp.oVbuNeLNgw/Ax-main/ax/core/map_data.py:192: FutureWarning: The behavior of DataFrame concatenation with empty or all-NA entries is deprecated. In a future version, this will no longer exclude empty or all-NA columns when determining the result dtypes. To retain the old behavior, exclude the relevant entries before the concat operation.\n",
      "  df = pd.concat(\n",
      "[INFO 08-22 06:57:10] ax.early_stopping.strategies.base: The number of completed trials (0) is less than the minimum number of curves needed for early stopping (5). Not early stopping.\n"
     ]
    },
    {
     "name": "stderr",
     "output_type": "stream",
     "text": [
      "[INFO 08-22 06:57:10] Scheduler: Waiting for completed trials (for 10 sec, currently running trials: 5).\n"
     ]
    },
    {
     "name": "stderr",
     "output_type": "stream",
     "text": [
      "[INFO 08-22 06:57:20] Scheduler: Fetching data for newly completed trials: [].\n"
     ]
    },
    {
     "name": "stderr",
     "output_type": "stream",
     "text": [
      "[INFO 08-22 06:57:20] Scheduler: Fetching data for trials: 1 - 5 because some metrics on experiment are available while trials are running.\n"
     ]
    },
    {
     "name": "stderr",
     "output_type": "stream",
     "text": [
      "/tmp/tmp.oVbuNeLNgw/Ax-main/ax/core/map_data.py:192: FutureWarning: The behavior of DataFrame concatenation with empty or all-NA entries is deprecated. In a future version, this will no longer exclude empty or all-NA columns when determining the result dtypes. To retain the old behavior, exclude the relevant entries before the concat operation.\n",
      "  df = pd.concat(\n"
     ]
    },
    {
     "name": "stderr",
     "output_type": "stream",
     "text": [
      "/tmp/tmp.oVbuNeLNgw/Ax-main/ax/core/map_data.py:192: FutureWarning: The behavior of DataFrame concatenation with empty or all-NA entries is deprecated. In a future version, this will no longer exclude empty or all-NA columns when determining the result dtypes. To retain the old behavior, exclude the relevant entries before the concat operation.\n",
      "  df = pd.concat(\n",
      "[INFO 08-22 06:57:20] ax.early_stopping.strategies.base: The number of completed trials (0) is less than the minimum number of curves needed for early stopping (5). Not early stopping.\n"
     ]
    },
    {
     "name": "stderr",
     "output_type": "stream",
     "text": [
      "[INFO 08-22 06:57:20] Scheduler: Waiting for completed trials (for 10 sec, currently running trials: 5).\n"
     ]
    },
    {
     "name": "stderr",
     "output_type": "stream",
     "text": [
      "[INFO 08-22 06:57:30] Scheduler: Fetching data for newly completed trials: [].\n"
     ]
    },
    {
     "name": "stderr",
     "output_type": "stream",
     "text": [
      "[INFO 08-22 06:57:30] Scheduler: Fetching data for trials: 1 - 5 because some metrics on experiment are available while trials are running.\n"
     ]
    },
    {
     "name": "stderr",
     "output_type": "stream",
     "text": [
      "/tmp/tmp.oVbuNeLNgw/Ax-main/ax/core/map_data.py:192: FutureWarning: The behavior of DataFrame concatenation with empty or all-NA entries is deprecated. In a future version, this will no longer exclude empty or all-NA columns when determining the result dtypes. To retain the old behavior, exclude the relevant entries before the concat operation.\n",
      "  df = pd.concat(\n"
     ]
    },
    {
     "name": "stderr",
     "output_type": "stream",
     "text": [
      "/tmp/tmp.oVbuNeLNgw/Ax-main/ax/core/map_data.py:192: FutureWarning: The behavior of DataFrame concatenation with empty or all-NA entries is deprecated. In a future version, this will no longer exclude empty or all-NA columns when determining the result dtypes. To retain the old behavior, exclude the relevant entries before the concat operation.\n",
      "  df = pd.concat(\n",
      "[INFO 08-22 06:57:31] ax.early_stopping.strategies.base: The number of completed trials (0) is less than the minimum number of curves needed for early stopping (5). Not early stopping.\n"
     ]
    },
    {
     "name": "stderr",
     "output_type": "stream",
     "text": [
      "[INFO 08-22 06:57:31] Scheduler: Waiting for completed trials (for 10 sec, currently running trials: 5).\n"
     ]
    },
    {
     "name": "stderr",
     "output_type": "stream",
     "text": [
      "[INFO 08-22 06:57:41] Scheduler: Fetching data for newly completed trials: [].\n"
     ]
    },
    {
     "name": "stderr",
     "output_type": "stream",
     "text": [
      "[INFO 08-22 06:57:41] Scheduler: Fetching data for trials: 1 - 5 because some metrics on experiment are available while trials are running.\n"
     ]
    },
    {
     "name": "stderr",
     "output_type": "stream",
     "text": [
      "/tmp/tmp.oVbuNeLNgw/Ax-main/ax/core/map_data.py:192: FutureWarning: The behavior of DataFrame concatenation with empty or all-NA entries is deprecated. In a future version, this will no longer exclude empty or all-NA columns when determining the result dtypes. To retain the old behavior, exclude the relevant entries before the concat operation.\n",
      "  df = pd.concat(\n"
     ]
    },
    {
     "name": "stderr",
     "output_type": "stream",
     "text": [
      "/tmp/tmp.oVbuNeLNgw/Ax-main/ax/core/map_data.py:192: FutureWarning: The behavior of DataFrame concatenation with empty or all-NA entries is deprecated. In a future version, this will no longer exclude empty or all-NA columns when determining the result dtypes. To retain the old behavior, exclude the relevant entries before the concat operation.\n",
      "  df = pd.concat(\n",
      "[INFO 08-22 06:57:41] ax.early_stopping.strategies.base: The number of completed trials (0) is less than the minimum number of curves needed for early stopping (5). Not early stopping.\n"
     ]
    },
    {
     "name": "stderr",
     "output_type": "stream",
     "text": [
      "[INFO 08-22 06:57:41] Scheduler: Waiting for completed trials (for 10 sec, currently running trials: 5).\n"
     ]
    },
    {
     "name": "stderr",
     "output_type": "stream",
     "text": [
      "[INFO 08-22 06:57:51] Scheduler: Fetching data for newly completed trials: [].\n"
     ]
    },
    {
     "name": "stderr",
     "output_type": "stream",
     "text": [
      "[INFO 08-22 06:57:51] Scheduler: Fetching data for trials: 1 - 5 because some metrics on experiment are available while trials are running.\n"
     ]
    },
    {
     "name": "stderr",
     "output_type": "stream",
     "text": [
      "/tmp/tmp.oVbuNeLNgw/Ax-main/ax/core/map_data.py:192: FutureWarning: The behavior of DataFrame concatenation with empty or all-NA entries is deprecated. In a future version, this will no longer exclude empty or all-NA columns when determining the result dtypes. To retain the old behavior, exclude the relevant entries before the concat operation.\n",
      "  df = pd.concat(\n"
     ]
    },
    {
     "name": "stderr",
     "output_type": "stream",
     "text": [
      "/tmp/tmp.oVbuNeLNgw/Ax-main/ax/core/map_data.py:192: FutureWarning: The behavior of DataFrame concatenation with empty or all-NA entries is deprecated. In a future version, this will no longer exclude empty or all-NA columns when determining the result dtypes. To retain the old behavior, exclude the relevant entries before the concat operation.\n",
      "  df = pd.concat(\n",
      "[INFO 08-22 06:57:51] ax.early_stopping.strategies.base: The number of completed trials (0) is less than the minimum number of curves needed for early stopping (5). Not early stopping.\n"
     ]
    },
    {
     "name": "stderr",
     "output_type": "stream",
     "text": [
      "[INFO 08-22 06:57:51] Scheduler: Waiting for completed trials (for 10 sec, currently running trials: 5).\n"
     ]
    },
    {
     "name": "stderr",
     "output_type": "stream",
     "text": [
      "[INFO 08-22 06:58:01] Scheduler: Fetching data for newly completed trials: [].\n"
     ]
    },
    {
     "name": "stderr",
     "output_type": "stream",
     "text": [
      "[INFO 08-22 06:58:01] Scheduler: Fetching data for trials: 1 - 5 because some metrics on experiment are available while trials are running.\n"
     ]
    },
    {
     "name": "stderr",
     "output_type": "stream",
     "text": [
      "/tmp/tmp.oVbuNeLNgw/Ax-main/ax/core/map_data.py:192: FutureWarning: The behavior of DataFrame concatenation with empty or all-NA entries is deprecated. In a future version, this will no longer exclude empty or all-NA columns when determining the result dtypes. To retain the old behavior, exclude the relevant entries before the concat operation.\n",
      "  df = pd.concat(\n"
     ]
    },
    {
     "name": "stderr",
     "output_type": "stream",
     "text": [
      "/tmp/tmp.oVbuNeLNgw/Ax-main/ax/core/map_data.py:192: FutureWarning: The behavior of DataFrame concatenation with empty or all-NA entries is deprecated. In a future version, this will no longer exclude empty or all-NA columns when determining the result dtypes. To retain the old behavior, exclude the relevant entries before the concat operation.\n",
      "  df = pd.concat(\n",
      "[INFO 08-22 06:58:01] ax.early_stopping.strategies.base: The number of completed trials (0) is less than the minimum number of curves needed for early stopping (5). Not early stopping.\n"
     ]
    },
    {
     "name": "stderr",
     "output_type": "stream",
     "text": [
      "[INFO 08-22 06:58:01] Scheduler: Waiting for completed trials (for 10 sec, currently running trials: 5).\n"
     ]
    },
    {
     "name": "stderr",
     "output_type": "stream",
     "text": [
      "[INFO 08-22 06:58:11] Scheduler: Fetching data for newly completed trials: [].\n"
     ]
    },
    {
     "name": "stderr",
     "output_type": "stream",
     "text": [
      "[INFO 08-22 06:58:11] Scheduler: Fetching data for trials: 1 - 5 because some metrics on experiment are available while trials are running.\n"
     ]
    },
    {
     "name": "stderr",
     "output_type": "stream",
     "text": [
      "/tmp/tmp.oVbuNeLNgw/Ax-main/ax/core/map_data.py:192: FutureWarning: The behavior of DataFrame concatenation with empty or all-NA entries is deprecated. In a future version, this will no longer exclude empty or all-NA columns when determining the result dtypes. To retain the old behavior, exclude the relevant entries before the concat operation.\n",
      "  df = pd.concat(\n"
     ]
    },
    {
     "name": "stderr",
     "output_type": "stream",
     "text": [
      "/tmp/tmp.oVbuNeLNgw/Ax-main/ax/core/map_data.py:192: FutureWarning: The behavior of DataFrame concatenation with empty or all-NA entries is deprecated. In a future version, this will no longer exclude empty or all-NA columns when determining the result dtypes. To retain the old behavior, exclude the relevant entries before the concat operation.\n",
      "  df = pd.concat(\n",
      "[INFO 08-22 06:58:12] ax.early_stopping.strategies.base: The number of completed trials (0) is less than the minimum number of curves needed for early stopping (5). Not early stopping.\n"
     ]
    },
    {
     "name": "stderr",
     "output_type": "stream",
     "text": [
      "[INFO 08-22 06:58:12] Scheduler: Waiting for completed trials (for 10 sec, currently running trials: 5).\n"
     ]
    },
    {
     "name": "stderr",
     "output_type": "stream",
     "text": [
      "[INFO 08-22 06:58:22] Scheduler: Fetching data for newly completed trials: [].\n"
     ]
    },
    {
     "name": "stderr",
     "output_type": "stream",
     "text": [
      "[INFO 08-22 06:58:22] Scheduler: Fetching data for trials: 1 - 5 because some metrics on experiment are available while trials are running.\n"
     ]
    },
    {
     "name": "stderr",
     "output_type": "stream",
     "text": [
      "/tmp/tmp.oVbuNeLNgw/Ax-main/ax/core/map_data.py:192: FutureWarning: The behavior of DataFrame concatenation with empty or all-NA entries is deprecated. In a future version, this will no longer exclude empty or all-NA columns when determining the result dtypes. To retain the old behavior, exclude the relevant entries before the concat operation.\n",
      "  df = pd.concat(\n"
     ]
    },
    {
     "name": "stderr",
     "output_type": "stream",
     "text": [
      "/tmp/tmp.oVbuNeLNgw/Ax-main/ax/core/map_data.py:192: FutureWarning: The behavior of DataFrame concatenation with empty or all-NA entries is deprecated. In a future version, this will no longer exclude empty or all-NA columns when determining the result dtypes. To retain the old behavior, exclude the relevant entries before the concat operation.\n",
      "  df = pd.concat(\n",
      "[INFO 08-22 06:58:22] ax.early_stopping.strategies.base: The number of completed trials (0) is less than the minimum number of curves needed for early stopping (5). Not early stopping.\n"
     ]
    },
    {
     "name": "stderr",
     "output_type": "stream",
     "text": [
      "[INFO 08-22 06:58:22] Scheduler: Waiting for completed trials (for 10 sec, currently running trials: 5).\n"
     ]
    },
    {
     "name": "stderr",
     "output_type": "stream",
     "text": [
      "[INFO 08-22 06:58:32] Scheduler: Fetching data for newly completed trials: [].\n"
     ]
    },
    {
     "name": "stderr",
     "output_type": "stream",
     "text": [
      "[INFO 08-22 06:58:32] Scheduler: Fetching data for trials: 1 - 5 because some metrics on experiment are available while trials are running.\n"
     ]
    },
    {
     "name": "stderr",
     "output_type": "stream",
     "text": [
      "/tmp/tmp.oVbuNeLNgw/Ax-main/ax/core/map_data.py:192: FutureWarning: The behavior of DataFrame concatenation with empty or all-NA entries is deprecated. In a future version, this will no longer exclude empty or all-NA columns when determining the result dtypes. To retain the old behavior, exclude the relevant entries before the concat operation.\n",
      "  df = pd.concat(\n",
      "/tmp/tmp.oVbuNeLNgw/Ax-main/ax/core/map_data.py:192: FutureWarning: The behavior of DataFrame concatenation with empty or all-NA entries is deprecated. In a future version, this will no longer exclude empty or all-NA columns when determining the result dtypes. To retain the old behavior, exclude the relevant entries before the concat operation.\n",
      "  df = pd.concat(\n"
     ]
    },
    {
     "name": "stderr",
     "output_type": "stream",
     "text": [
      "[INFO 08-22 06:58:32] ax.early_stopping.strategies.base: The number of completed trials (0) is less than the minimum number of curves needed for early stopping (5). Not early stopping.\n"
     ]
    },
    {
     "name": "stderr",
     "output_type": "stream",
     "text": [
      "[INFO 08-22 06:58:32] Scheduler: Waiting for completed trials (for 10 sec, currently running trials: 5).\n"
     ]
    },
    {
     "name": "stderr",
     "output_type": "stream",
     "text": [
      "[INFO 08-22 06:58:42] Scheduler: Fetching data for newly completed trials: [].\n"
     ]
    },
    {
     "name": "stderr",
     "output_type": "stream",
     "text": [
      "[INFO 08-22 06:58:42] Scheduler: Fetching data for trials: 1 - 5 because some metrics on experiment are available while trials are running.\n"
     ]
    },
    {
     "name": "stderr",
     "output_type": "stream",
     "text": [
      "/tmp/tmp.oVbuNeLNgw/Ax-main/ax/core/map_data.py:192: FutureWarning: The behavior of DataFrame concatenation with empty or all-NA entries is deprecated. In a future version, this will no longer exclude empty or all-NA columns when determining the result dtypes. To retain the old behavior, exclude the relevant entries before the concat operation.\n",
      "  df = pd.concat(\n"
     ]
    },
    {
     "name": "stderr",
     "output_type": "stream",
     "text": [
      "/tmp/tmp.oVbuNeLNgw/Ax-main/ax/core/map_data.py:192: FutureWarning: The behavior of DataFrame concatenation with empty or all-NA entries is deprecated. In a future version, this will no longer exclude empty or all-NA columns when determining the result dtypes. To retain the old behavior, exclude the relevant entries before the concat operation.\n",
      "  df = pd.concat(\n",
      "[INFO 08-22 06:58:43] ax.early_stopping.strategies.base: The number of completed trials (0) is less than the minimum number of curves needed for early stopping (5). Not early stopping.\n"
     ]
    },
    {
     "name": "stderr",
     "output_type": "stream",
     "text": [
      "[WARNING 08-22 06:58:43] Scheduler: Both `init_seconds_between_polls` and `early_stopping_strategy supplied. `init_seconds_between_polls=1` will be overrridden by `early_stopping_strategy.seconds_between_polls=10` and polling will take place at a constant rate.\n"
     ]
    },
    {
     "name": "stderr",
     "output_type": "stream",
     "text": [
      "[INFO 08-22 06:58:43] Scheduler: Fetching data for newly completed trials: [].\n"
     ]
    },
    {
     "name": "stderr",
     "output_type": "stream",
     "text": [
      "[INFO 08-22 06:58:43] Scheduler: Fetching data for trials: 1 - 5 because some metrics on experiment are available while trials are running.\n"
     ]
    },
    {
     "name": "stderr",
     "output_type": "stream",
     "text": [
      "/tmp/tmp.oVbuNeLNgw/Ax-main/ax/core/map_data.py:192: FutureWarning: The behavior of DataFrame concatenation with empty or all-NA entries is deprecated. In a future version, this will no longer exclude empty or all-NA columns when determining the result dtypes. To retain the old behavior, exclude the relevant entries before the concat operation.\n",
      "  df = pd.concat(\n"
     ]
    },
    {
     "name": "stderr",
     "output_type": "stream",
     "text": [
      "/tmp/tmp.oVbuNeLNgw/Ax-main/ax/core/map_data.py:192: FutureWarning: The behavior of DataFrame concatenation with empty or all-NA entries is deprecated. In a future version, this will no longer exclude empty or all-NA columns when determining the result dtypes. To retain the old behavior, exclude the relevant entries before the concat operation.\n",
      "  df = pd.concat(\n",
      "[INFO 08-22 06:58:43] ax.early_stopping.strategies.base: The number of completed trials (0) is less than the minimum number of curves needed for early stopping (5). Not early stopping.\n"
     ]
    },
    {
     "name": "stderr",
     "output_type": "stream",
     "text": [
      "[INFO 08-22 06:58:43] Scheduler: Waiting for completed trials (for 10 sec, currently running trials: 5).\n"
     ]
    },
    {
     "name": "stderr",
     "output_type": "stream",
     "text": [
      "[INFO 08-22 06:58:53] Scheduler: Fetching data for newly completed trials: [].\n"
     ]
    },
    {
     "name": "stderr",
     "output_type": "stream",
     "text": [
      "[INFO 08-22 06:58:53] Scheduler: Fetching data for trials: 1 - 5 because some metrics on experiment are available while trials are running.\n"
     ]
    },
    {
     "name": "stderr",
     "output_type": "stream",
     "text": [
      "/tmp/tmp.oVbuNeLNgw/Ax-main/ax/core/map_data.py:192: FutureWarning: The behavior of DataFrame concatenation with empty or all-NA entries is deprecated. In a future version, this will no longer exclude empty or all-NA columns when determining the result dtypes. To retain the old behavior, exclude the relevant entries before the concat operation.\n",
      "  df = pd.concat(\n"
     ]
    },
    {
     "name": "stderr",
     "output_type": "stream",
     "text": [
      "/tmp/tmp.oVbuNeLNgw/Ax-main/ax/core/map_data.py:192: FutureWarning: The behavior of DataFrame concatenation with empty or all-NA entries is deprecated. In a future version, this will no longer exclude empty or all-NA columns when determining the result dtypes. To retain the old behavior, exclude the relevant entries before the concat operation.\n",
      "  df = pd.concat(\n",
      "[INFO 08-22 06:58:53] ax.early_stopping.strategies.base: The number of completed trials (0) is less than the minimum number of curves needed for early stopping (5). Not early stopping.\n"
     ]
    },
    {
     "name": "stderr",
     "output_type": "stream",
     "text": [
      "[INFO 08-22 06:58:53] Scheduler: Waiting for completed trials (for 10 sec, currently running trials: 5).\n"
     ]
    },
    {
     "name": "stderr",
     "output_type": "stream",
     "text": [
      "[INFO 08-22 06:59:03] Scheduler: Fetching data for newly completed trials: [].\n"
     ]
    },
    {
     "name": "stderr",
     "output_type": "stream",
     "text": [
      "[INFO 08-22 06:59:03] Scheduler: Fetching data for trials: 1 - 5 because some metrics on experiment are available while trials are running.\n"
     ]
    },
    {
     "name": "stderr",
     "output_type": "stream",
     "text": [
      "/tmp/tmp.oVbuNeLNgw/Ax-main/ax/core/map_data.py:192: FutureWarning: The behavior of DataFrame concatenation with empty or all-NA entries is deprecated. In a future version, this will no longer exclude empty or all-NA columns when determining the result dtypes. To retain the old behavior, exclude the relevant entries before the concat operation.\n",
      "  df = pd.concat(\n"
     ]
    },
    {
     "name": "stderr",
     "output_type": "stream",
     "text": [
      "/tmp/tmp.oVbuNeLNgw/Ax-main/ax/core/map_data.py:192: FutureWarning: The behavior of DataFrame concatenation with empty or all-NA entries is deprecated. In a future version, this will no longer exclude empty or all-NA columns when determining the result dtypes. To retain the old behavior, exclude the relevant entries before the concat operation.\n",
      "  df = pd.concat(\n",
      "[INFO 08-22 06:59:03] ax.early_stopping.strategies.base: The number of completed trials (0) is less than the minimum number of curves needed for early stopping (5). Not early stopping.\n"
     ]
    },
    {
     "name": "stderr",
     "output_type": "stream",
     "text": [
      "[INFO 08-22 06:59:03] Scheduler: Waiting for completed trials (for 10 sec, currently running trials: 5).\n"
     ]
    },
    {
     "name": "stderr",
     "output_type": "stream",
     "text": [
      "[INFO 08-22 06:59:13] Scheduler: Fetching data for newly completed trials: [].\n"
     ]
    },
    {
     "name": "stderr",
     "output_type": "stream",
     "text": [
      "[INFO 08-22 06:59:13] Scheduler: Fetching data for trials: 1 - 5 because some metrics on experiment are available while trials are running.\n"
     ]
    },
    {
     "name": "stderr",
     "output_type": "stream",
     "text": [
      "/tmp/tmp.oVbuNeLNgw/Ax-main/ax/core/map_data.py:192: FutureWarning: The behavior of DataFrame concatenation with empty or all-NA entries is deprecated. In a future version, this will no longer exclude empty or all-NA columns when determining the result dtypes. To retain the old behavior, exclude the relevant entries before the concat operation.\n",
      "  df = pd.concat(\n"
     ]
    },
    {
     "name": "stderr",
     "output_type": "stream",
     "text": [
      "/tmp/tmp.oVbuNeLNgw/Ax-main/ax/core/map_data.py:192: FutureWarning: The behavior of DataFrame concatenation with empty or all-NA entries is deprecated. In a future version, this will no longer exclude empty or all-NA columns when determining the result dtypes. To retain the old behavior, exclude the relevant entries before the concat operation.\n",
      "  df = pd.concat(\n",
      "[INFO 08-22 06:59:14] ax.early_stopping.strategies.base: The number of completed trials (0) is less than the minimum number of curves needed for early stopping (5). Not early stopping.\n"
     ]
    },
    {
     "name": "stderr",
     "output_type": "stream",
     "text": [
      "[INFO 08-22 06:59:14] Scheduler: Waiting for completed trials (for 10 sec, currently running trials: 5).\n"
     ]
    },
    {
     "name": "stderr",
     "output_type": "stream",
     "text": [
      "[INFO 08-22 06:59:24] Scheduler: Fetching data for newly completed trials: [].\n"
     ]
    },
    {
     "name": "stderr",
     "output_type": "stream",
     "text": [
      "[INFO 08-22 06:59:24] Scheduler: Fetching data for trials: 1 - 5 because some metrics on experiment are available while trials are running.\n"
     ]
    },
    {
     "name": "stderr",
     "output_type": "stream",
     "text": [
      "/tmp/tmp.oVbuNeLNgw/Ax-main/ax/core/map_data.py:192: FutureWarning: The behavior of DataFrame concatenation with empty or all-NA entries is deprecated. In a future version, this will no longer exclude empty or all-NA columns when determining the result dtypes. To retain the old behavior, exclude the relevant entries before the concat operation.\n",
      "  df = pd.concat(\n"
     ]
    },
    {
     "name": "stderr",
     "output_type": "stream",
     "text": [
      "/tmp/tmp.oVbuNeLNgw/Ax-main/ax/core/map_data.py:192: FutureWarning: The behavior of DataFrame concatenation with empty or all-NA entries is deprecated. In a future version, this will no longer exclude empty or all-NA columns when determining the result dtypes. To retain the old behavior, exclude the relevant entries before the concat operation.\n",
      "  df = pd.concat(\n",
      "[INFO 08-22 06:59:24] ax.early_stopping.strategies.base: The number of completed trials (0) is less than the minimum number of curves needed for early stopping (5). Not early stopping.\n"
     ]
    },
    {
     "name": "stderr",
     "output_type": "stream",
     "text": [
      "[INFO 08-22 06:59:24] Scheduler: Waiting for completed trials (for 10 sec, currently running trials: 5).\n"
     ]
    },
    {
     "name": "stderr",
     "output_type": "stream",
     "text": [
      "[INFO 08-22 06:59:34] Scheduler: Fetching data for newly completed trials: [].\n"
     ]
    },
    {
     "name": "stderr",
     "output_type": "stream",
     "text": [
      "[INFO 08-22 06:59:34] Scheduler: Fetching data for trials: 1 - 5 because some metrics on experiment are available while trials are running.\n"
     ]
    },
    {
     "name": "stderr",
     "output_type": "stream",
     "text": [
      "/tmp/tmp.oVbuNeLNgw/Ax-main/ax/core/map_data.py:192: FutureWarning: The behavior of DataFrame concatenation with empty or all-NA entries is deprecated. In a future version, this will no longer exclude empty or all-NA columns when determining the result dtypes. To retain the old behavior, exclude the relevant entries before the concat operation.\n",
      "  df = pd.concat(\n"
     ]
    },
    {
     "name": "stderr",
     "output_type": "stream",
     "text": [
      "/tmp/tmp.oVbuNeLNgw/Ax-main/ax/core/map_data.py:192: FutureWarning: The behavior of DataFrame concatenation with empty or all-NA entries is deprecated. In a future version, this will no longer exclude empty or all-NA columns when determining the result dtypes. To retain the old behavior, exclude the relevant entries before the concat operation.\n",
      "  df = pd.concat(\n",
      "[INFO 08-22 06:59:34] ax.early_stopping.strategies.base: The number of completed trials (0) is less than the minimum number of curves needed for early stopping (5). Not early stopping.\n"
     ]
    },
    {
     "name": "stderr",
     "output_type": "stream",
     "text": [
      "[INFO 08-22 06:59:34] Scheduler: Waiting for completed trials (for 10 sec, currently running trials: 5).\n"
     ]
    },
    {
     "name": "stderr",
     "output_type": "stream",
     "text": [
      "[INFO 08-22 06:59:44] Scheduler: Fetching data for newly completed trials: [].\n"
     ]
    },
    {
     "name": "stderr",
     "output_type": "stream",
     "text": [
      "[INFO 08-22 06:59:44] Scheduler: Fetching data for trials: 1 - 5 because some metrics on experiment are available while trials are running.\n"
     ]
    },
    {
     "name": "stderr",
     "output_type": "stream",
     "text": [
      "/tmp/tmp.oVbuNeLNgw/Ax-main/ax/core/map_data.py:192: FutureWarning: The behavior of DataFrame concatenation with empty or all-NA entries is deprecated. In a future version, this will no longer exclude empty or all-NA columns when determining the result dtypes. To retain the old behavior, exclude the relevant entries before the concat operation.\n",
      "  df = pd.concat(\n"
     ]
    },
    {
     "name": "stderr",
     "output_type": "stream",
     "text": [
      "/tmp/tmp.oVbuNeLNgw/Ax-main/ax/core/map_data.py:192: FutureWarning: The behavior of DataFrame concatenation with empty or all-NA entries is deprecated. In a future version, this will no longer exclude empty or all-NA columns when determining the result dtypes. To retain the old behavior, exclude the relevant entries before the concat operation.\n",
      "  df = pd.concat(\n",
      "[INFO 08-22 06:59:44] ax.early_stopping.strategies.base: The number of completed trials (0) is less than the minimum number of curves needed for early stopping (5). Not early stopping.\n"
     ]
    },
    {
     "name": "stderr",
     "output_type": "stream",
     "text": [
      "[INFO 08-22 06:59:45] Scheduler: Waiting for completed trials (for 10 sec, currently running trials: 5).\n"
     ]
    },
    {
     "name": "stderr",
     "output_type": "stream",
     "text": [
      "[INFO 08-22 06:59:55] Scheduler: Fetching data for newly completed trials: [].\n"
     ]
    },
    {
     "name": "stderr",
     "output_type": "stream",
     "text": [
      "[INFO 08-22 06:59:55] Scheduler: Fetching data for trials: 1 - 5 because some metrics on experiment are available while trials are running.\n"
     ]
    },
    {
     "name": "stderr",
     "output_type": "stream",
     "text": [
      "/tmp/tmp.oVbuNeLNgw/Ax-main/ax/core/map_data.py:192: FutureWarning: The behavior of DataFrame concatenation with empty or all-NA entries is deprecated. In a future version, this will no longer exclude empty or all-NA columns when determining the result dtypes. To retain the old behavior, exclude the relevant entries before the concat operation.\n",
      "  df = pd.concat(\n"
     ]
    },
    {
     "name": "stderr",
     "output_type": "stream",
     "text": [
      "/tmp/tmp.oVbuNeLNgw/Ax-main/ax/core/map_data.py:192: FutureWarning: The behavior of DataFrame concatenation with empty or all-NA entries is deprecated. In a future version, this will no longer exclude empty or all-NA columns when determining the result dtypes. To retain the old behavior, exclude the relevant entries before the concat operation.\n",
      "  df = pd.concat(\n",
      "[INFO 08-22 06:59:55] ax.early_stopping.strategies.base: The number of completed trials (0) is less than the minimum number of curves needed for early stopping (5). Not early stopping.\n"
     ]
    },
    {
     "name": "stderr",
     "output_type": "stream",
     "text": [
      "[INFO 08-22 06:59:55] Scheduler: Waiting for completed trials (for 10 sec, currently running trials: 5).\n"
     ]
    },
    {
     "name": "stderr",
     "output_type": "stream",
     "text": [
      "[INFO 08-22 07:00:05] Scheduler: Fetching data for newly completed trials: [].\n"
     ]
    },
    {
     "name": "stderr",
     "output_type": "stream",
     "text": [
      "[INFO 08-22 07:00:05] Scheduler: Fetching data for trials: 1 - 5 because some metrics on experiment are available while trials are running.\n"
     ]
    },
    {
     "name": "stderr",
     "output_type": "stream",
     "text": [
      "/tmp/tmp.oVbuNeLNgw/Ax-main/ax/core/map_data.py:192: FutureWarning: The behavior of DataFrame concatenation with empty or all-NA entries is deprecated. In a future version, this will no longer exclude empty or all-NA columns when determining the result dtypes. To retain the old behavior, exclude the relevant entries before the concat operation.\n",
      "  df = pd.concat(\n"
     ]
    },
    {
     "name": "stderr",
     "output_type": "stream",
     "text": [
      "/tmp/tmp.oVbuNeLNgw/Ax-main/ax/core/map_data.py:192: FutureWarning: The behavior of DataFrame concatenation with empty or all-NA entries is deprecated. In a future version, this will no longer exclude empty or all-NA columns when determining the result dtypes. To retain the old behavior, exclude the relevant entries before the concat operation.\n",
      "  df = pd.concat(\n",
      "[INFO 08-22 07:00:05] ax.early_stopping.strategies.base: The number of completed trials (0) is less than the minimum number of curves needed for early stopping (5). Not early stopping.\n"
     ]
    },
    {
     "name": "stderr",
     "output_type": "stream",
     "text": [
      "[INFO 08-22 07:00:05] Scheduler: Waiting for completed trials (for 10 sec, currently running trials: 5).\n"
     ]
    },
    {
     "name": "stderr",
     "output_type": "stream",
     "text": [
      "[INFO 08-22 07:00:15] Scheduler: Fetching data for newly completed trials: [].\n"
     ]
    },
    {
     "name": "stderr",
     "output_type": "stream",
     "text": [
      "[INFO 08-22 07:00:15] Scheduler: Fetching data for trials: 1 - 5 because some metrics on experiment are available while trials are running.\n"
     ]
    },
    {
     "name": "stderr",
     "output_type": "stream",
     "text": [
      "/tmp/tmp.oVbuNeLNgw/Ax-main/ax/core/map_data.py:192: FutureWarning: The behavior of DataFrame concatenation with empty or all-NA entries is deprecated. In a future version, this will no longer exclude empty or all-NA columns when determining the result dtypes. To retain the old behavior, exclude the relevant entries before the concat operation.\n",
      "  df = pd.concat(\n"
     ]
    },
    {
     "name": "stderr",
     "output_type": "stream",
     "text": [
      "/tmp/tmp.oVbuNeLNgw/Ax-main/ax/core/map_data.py:192: FutureWarning: The behavior of DataFrame concatenation with empty or all-NA entries is deprecated. In a future version, this will no longer exclude empty or all-NA columns when determining the result dtypes. To retain the old behavior, exclude the relevant entries before the concat operation.\n",
      "  df = pd.concat(\n",
      "[INFO 08-22 07:00:15] ax.early_stopping.strategies.base: The number of completed trials (0) is less than the minimum number of curves needed for early stopping (5). Not early stopping.\n"
     ]
    },
    {
     "name": "stderr",
     "output_type": "stream",
     "text": [
      "[INFO 08-22 07:00:15] Scheduler: Waiting for completed trials (for 10 sec, currently running trials: 5).\n"
     ]
    },
    {
     "name": "stderr",
     "output_type": "stream",
     "text": [
      "[INFO 08-22 07:00:25] Scheduler: Fetching data for newly completed trials: [].\n"
     ]
    },
    {
     "name": "stderr",
     "output_type": "stream",
     "text": [
      "[INFO 08-22 07:00:25] Scheduler: Fetching data for trials: 1 - 5 because some metrics on experiment are available while trials are running.\n"
     ]
    },
    {
     "name": "stderr",
     "output_type": "stream",
     "text": [
      "/tmp/tmp.oVbuNeLNgw/Ax-main/ax/core/map_data.py:192: FutureWarning: The behavior of DataFrame concatenation with empty or all-NA entries is deprecated. In a future version, this will no longer exclude empty or all-NA columns when determining the result dtypes. To retain the old behavior, exclude the relevant entries before the concat operation.\n",
      "  df = pd.concat(\n",
      "/tmp/tmp.oVbuNeLNgw/Ax-main/ax/core/map_data.py:192: FutureWarning: The behavior of DataFrame concatenation with empty or all-NA entries is deprecated. In a future version, this will no longer exclude empty or all-NA columns when determining the result dtypes. To retain the old behavior, exclude the relevant entries before the concat operation.\n",
      "  df = pd.concat(\n",
      "[INFO 08-22 07:00:26] ax.early_stopping.strategies.base: The number of completed trials (0) is less than the minimum number of curves needed for early stopping (5). Not early stopping.\n"
     ]
    },
    {
     "name": "stderr",
     "output_type": "stream",
     "text": [
      "[INFO 08-22 07:00:26] Scheduler: Waiting for completed trials (for 10 sec, currently running trials: 5).\n"
     ]
    },
    {
     "name": "stderr",
     "output_type": "stream",
     "text": [
      "[INFO 08-22 07:00:36] Scheduler: Fetching data for newly completed trials: [].\n"
     ]
    },
    {
     "name": "stderr",
     "output_type": "stream",
     "text": [
      "[INFO 08-22 07:00:36] Scheduler: Fetching data for trials: 1 - 5 because some metrics on experiment are available while trials are running.\n"
     ]
    },
    {
     "name": "stderr",
     "output_type": "stream",
     "text": [
      "/tmp/tmp.oVbuNeLNgw/Ax-main/ax/core/map_data.py:192: FutureWarning: The behavior of DataFrame concatenation with empty or all-NA entries is deprecated. In a future version, this will no longer exclude empty or all-NA columns when determining the result dtypes. To retain the old behavior, exclude the relevant entries before the concat operation.\n",
      "  df = pd.concat(\n"
     ]
    },
    {
     "name": "stderr",
     "output_type": "stream",
     "text": [
      "/tmp/tmp.oVbuNeLNgw/Ax-main/ax/core/map_data.py:192: FutureWarning: The behavior of DataFrame concatenation with empty or all-NA entries is deprecated. In a future version, this will no longer exclude empty or all-NA columns when determining the result dtypes. To retain the old behavior, exclude the relevant entries before the concat operation.\n",
      "  df = pd.concat(\n",
      "[INFO 08-22 07:00:36] ax.early_stopping.strategies.base: The number of completed trials (0) is less than the minimum number of curves needed for early stopping (5). Not early stopping.\n"
     ]
    },
    {
     "name": "stderr",
     "output_type": "stream",
     "text": [
      "[INFO 08-22 07:00:36] Scheduler: Waiting for completed trials (for 10 sec, currently running trials: 5).\n"
     ]
    },
    {
     "name": "stderr",
     "output_type": "stream",
     "text": [
      "[INFO 08-22 07:00:46] Scheduler: Fetching data for newly completed trials: [].\n"
     ]
    },
    {
     "name": "stderr",
     "output_type": "stream",
     "text": [
      "[INFO 08-22 07:00:46] Scheduler: Fetching data for trials: 1 - 5 because some metrics on experiment are available while trials are running.\n"
     ]
    },
    {
     "name": "stderr",
     "output_type": "stream",
     "text": [
      "/tmp/tmp.oVbuNeLNgw/Ax-main/ax/core/map_data.py:192: FutureWarning: The behavior of DataFrame concatenation with empty or all-NA entries is deprecated. In a future version, this will no longer exclude empty or all-NA columns when determining the result dtypes. To retain the old behavior, exclude the relevant entries before the concat operation.\n",
      "  df = pd.concat(\n",
      "/tmp/tmp.oVbuNeLNgw/Ax-main/ax/core/map_data.py:192: FutureWarning: The behavior of DataFrame concatenation with empty or all-NA entries is deprecated. In a future version, this will no longer exclude empty or all-NA columns when determining the result dtypes. To retain the old behavior, exclude the relevant entries before the concat operation.\n",
      "  df = pd.concat(\n",
      "[INFO 08-22 07:00:47] ax.early_stopping.strategies.base: The number of completed trials (0) is less than the minimum number of curves needed for early stopping (5). Not early stopping.\n"
     ]
    },
    {
     "name": "stderr",
     "output_type": "stream",
     "text": [
      "[INFO 08-22 07:00:47] Scheduler: Waiting for completed trials (for 10 sec, currently running trials: 5).\n"
     ]
    },
    {
     "name": "stderr",
     "output_type": "stream",
     "text": [
      "[INFO 08-22 07:00:57] Scheduler: Fetching data for newly completed trials: [].\n"
     ]
    },
    {
     "name": "stderr",
     "output_type": "stream",
     "text": [
      "[INFO 08-22 07:00:57] Scheduler: Fetching data for trials: 1 - 5 because some metrics on experiment are available while trials are running.\n"
     ]
    },
    {
     "name": "stderr",
     "output_type": "stream",
     "text": [
      "/tmp/tmp.oVbuNeLNgw/Ax-main/ax/core/map_data.py:192: FutureWarning: The behavior of DataFrame concatenation with empty or all-NA entries is deprecated. In a future version, this will no longer exclude empty or all-NA columns when determining the result dtypes. To retain the old behavior, exclude the relevant entries before the concat operation.\n",
      "  df = pd.concat(\n"
     ]
    },
    {
     "name": "stderr",
     "output_type": "stream",
     "text": [
      "/tmp/tmp.oVbuNeLNgw/Ax-main/ax/core/map_data.py:192: FutureWarning: The behavior of DataFrame concatenation with empty or all-NA entries is deprecated. In a future version, this will no longer exclude empty or all-NA columns when determining the result dtypes. To retain the old behavior, exclude the relevant entries before the concat operation.\n",
      "  df = pd.concat(\n",
      "[INFO 08-22 07:00:57] ax.early_stopping.strategies.base: The number of completed trials (0) is less than the minimum number of curves needed for early stopping (5). Not early stopping.\n"
     ]
    },
    {
     "name": "stderr",
     "output_type": "stream",
     "text": [
      "[INFO 08-22 07:00:57] Scheduler: Waiting for completed trials (for 10 sec, currently running trials: 5).\n"
     ]
    },
    {
     "name": "stderr",
     "output_type": "stream",
     "text": [
      "[INFO 08-22 07:01:07] Scheduler: Fetching data for newly completed trials: [].\n"
     ]
    },
    {
     "name": "stderr",
     "output_type": "stream",
     "text": [
      "[INFO 08-22 07:01:07] Scheduler: Fetching data for trials: 1 - 5 because some metrics on experiment are available while trials are running.\n"
     ]
    },
    {
     "name": "stderr",
     "output_type": "stream",
     "text": [
      "/tmp/tmp.oVbuNeLNgw/Ax-main/ax/core/map_data.py:192: FutureWarning: The behavior of DataFrame concatenation with empty or all-NA entries is deprecated. In a future version, this will no longer exclude empty or all-NA columns when determining the result dtypes. To retain the old behavior, exclude the relevant entries before the concat operation.\n",
      "  df = pd.concat(\n"
     ]
    },
    {
     "name": "stderr",
     "output_type": "stream",
     "text": [
      "/tmp/tmp.oVbuNeLNgw/Ax-main/ax/core/map_data.py:192: FutureWarning: The behavior of DataFrame concatenation with empty or all-NA entries is deprecated. In a future version, this will no longer exclude empty or all-NA columns when determining the result dtypes. To retain the old behavior, exclude the relevant entries before the concat operation.\n",
      "  df = pd.concat(\n",
      "[INFO 08-22 07:01:07] ax.early_stopping.strategies.base: The number of completed trials (0) is less than the minimum number of curves needed for early stopping (5). Not early stopping.\n"
     ]
    },
    {
     "name": "stderr",
     "output_type": "stream",
     "text": [
      "[INFO 08-22 07:01:07] Scheduler: Waiting for completed trials (for 10 sec, currently running trials: 5).\n"
     ]
    },
    {
     "name": "stderr",
     "output_type": "stream",
     "text": [
      "[INFO 08-22 07:01:17] Scheduler: Fetching data for newly completed trials: [].\n"
     ]
    },
    {
     "name": "stderr",
     "output_type": "stream",
     "text": [
      "[INFO 08-22 07:01:17] Scheduler: Fetching data for trials: 1 - 5 because some metrics on experiment are available while trials are running.\n"
     ]
    },
    {
     "name": "stderr",
     "output_type": "stream",
     "text": [
      "/tmp/tmp.oVbuNeLNgw/Ax-main/ax/core/map_data.py:192: FutureWarning: The behavior of DataFrame concatenation with empty or all-NA entries is deprecated. In a future version, this will no longer exclude empty or all-NA columns when determining the result dtypes. To retain the old behavior, exclude the relevant entries before the concat operation.\n",
      "  df = pd.concat(\n"
     ]
    },
    {
     "name": "stderr",
     "output_type": "stream",
     "text": [
      "/tmp/tmp.oVbuNeLNgw/Ax-main/ax/core/map_data.py:192: FutureWarning: The behavior of DataFrame concatenation with empty or all-NA entries is deprecated. In a future version, this will no longer exclude empty or all-NA columns when determining the result dtypes. To retain the old behavior, exclude the relevant entries before the concat operation.\n",
      "  df = pd.concat(\n",
      "[INFO 08-22 07:01:18] ax.early_stopping.strategies.base: The number of completed trials (0) is less than the minimum number of curves needed for early stopping (5). Not early stopping.\n"
     ]
    },
    {
     "name": "stderr",
     "output_type": "stream",
     "text": [
      "[INFO 08-22 07:01:18] Scheduler: Waiting for completed trials (for 10 sec, currently running trials: 5).\n"
     ]
    },
    {
     "name": "stderr",
     "output_type": "stream",
     "text": [
      "[INFO 08-22 07:01:28] Scheduler: Fetching data for newly completed trials: [].\n"
     ]
    },
    {
     "name": "stderr",
     "output_type": "stream",
     "text": [
      "[INFO 08-22 07:01:28] Scheduler: Fetching data for trials: 1 - 5 because some metrics on experiment are available while trials are running.\n"
     ]
    },
    {
     "name": "stderr",
     "output_type": "stream",
     "text": [
      "/tmp/tmp.oVbuNeLNgw/Ax-main/ax/core/map_data.py:192: FutureWarning: The behavior of DataFrame concatenation with empty or all-NA entries is deprecated. In a future version, this will no longer exclude empty or all-NA columns when determining the result dtypes. To retain the old behavior, exclude the relevant entries before the concat operation.\n",
      "  df = pd.concat(\n"
     ]
    },
    {
     "name": "stderr",
     "output_type": "stream",
     "text": [
      "/tmp/tmp.oVbuNeLNgw/Ax-main/ax/core/map_data.py:192: FutureWarning: The behavior of DataFrame concatenation with empty or all-NA entries is deprecated. In a future version, this will no longer exclude empty or all-NA columns when determining the result dtypes. To retain the old behavior, exclude the relevant entries before the concat operation.\n",
      "  df = pd.concat(\n",
      "[INFO 08-22 07:01:28] ax.early_stopping.strategies.base: The number of completed trials (0) is less than the minimum number of curves needed for early stopping (5). Not early stopping.\n"
     ]
    },
    {
     "name": "stderr",
     "output_type": "stream",
     "text": [
      "[INFO 08-22 07:01:28] Scheduler: Waiting for completed trials (for 10 sec, currently running trials: 5).\n"
     ]
    },
    {
     "name": "stderr",
     "output_type": "stream",
     "text": [
      "[INFO 08-22 07:01:38] Scheduler: Fetching data for newly completed trials: [].\n"
     ]
    },
    {
     "name": "stderr",
     "output_type": "stream",
     "text": [
      "[INFO 08-22 07:01:38] Scheduler: Fetching data for trials: 1 - 5 because some metrics on experiment are available while trials are running.\n"
     ]
    },
    {
     "name": "stderr",
     "output_type": "stream",
     "text": [
      "/tmp/tmp.oVbuNeLNgw/Ax-main/ax/core/map_data.py:192: FutureWarning: The behavior of DataFrame concatenation with empty or all-NA entries is deprecated. In a future version, this will no longer exclude empty or all-NA columns when determining the result dtypes. To retain the old behavior, exclude the relevant entries before the concat operation.\n",
      "  df = pd.concat(\n",
      "/tmp/tmp.oVbuNeLNgw/Ax-main/ax/core/map_data.py:192: FutureWarning: The behavior of DataFrame concatenation with empty or all-NA entries is deprecated. In a future version, this will no longer exclude empty or all-NA columns when determining the result dtypes. To retain the old behavior, exclude the relevant entries before the concat operation.\n",
      "  df = pd.concat(\n"
     ]
    },
    {
     "name": "stderr",
     "output_type": "stream",
     "text": [
      "[INFO 08-22 07:01:38] ax.early_stopping.strategies.base: The number of completed trials (0) is less than the minimum number of curves needed for early stopping (5). Not early stopping.\n"
     ]
    },
    {
     "name": "stderr",
     "output_type": "stream",
     "text": [
      "[INFO 08-22 07:01:38] Scheduler: Waiting for completed trials (for 10 sec, currently running trials: 5).\n"
     ]
    },
    {
     "name": "stderr",
     "output_type": "stream",
     "text": [
      "[INFO 08-22 07:01:48] Scheduler: Fetching data for newly completed trials: [].\n"
     ]
    },
    {
     "name": "stderr",
     "output_type": "stream",
     "text": [
      "[INFO 08-22 07:01:48] Scheduler: Fetching data for trials: 1 - 5 because some metrics on experiment are available while trials are running.\n"
     ]
    },
    {
     "name": "stderr",
     "output_type": "stream",
     "text": [
      "/tmp/tmp.oVbuNeLNgw/Ax-main/ax/core/map_data.py:192: FutureWarning: The behavior of DataFrame concatenation with empty or all-NA entries is deprecated. In a future version, this will no longer exclude empty or all-NA columns when determining the result dtypes. To retain the old behavior, exclude the relevant entries before the concat operation.\n",
      "  df = pd.concat(\n"
     ]
    },
    {
     "name": "stderr",
     "output_type": "stream",
     "text": [
      "/tmp/tmp.oVbuNeLNgw/Ax-main/ax/core/map_data.py:192: FutureWarning: The behavior of DataFrame concatenation with empty or all-NA entries is deprecated. In a future version, this will no longer exclude empty or all-NA columns when determining the result dtypes. To retain the old behavior, exclude the relevant entries before the concat operation.\n",
      "  df = pd.concat(\n",
      "[INFO 08-22 07:01:48] ax.early_stopping.strategies.base: The number of completed trials (0) is less than the minimum number of curves needed for early stopping (5). Not early stopping.\n"
     ]
    },
    {
     "name": "stderr",
     "output_type": "stream",
     "text": [
      "[INFO 08-22 07:01:48] Scheduler: Waiting for completed trials (for 10 sec, currently running trials: 5).\n"
     ]
    },
    {
     "name": "stderr",
     "output_type": "stream",
     "text": [
      "[INFO 08-22 07:01:58] Scheduler: Fetching data for newly completed trials: [].\n"
     ]
    },
    {
     "name": "stderr",
     "output_type": "stream",
     "text": [
      "[INFO 08-22 07:01:58] Scheduler: Fetching data for trials: 1 - 5 because some metrics on experiment are available while trials are running.\n"
     ]
    },
    {
     "name": "stderr",
     "output_type": "stream",
     "text": [
      "/tmp/tmp.oVbuNeLNgw/Ax-main/ax/core/map_data.py:192: FutureWarning: The behavior of DataFrame concatenation with empty or all-NA entries is deprecated. In a future version, this will no longer exclude empty or all-NA columns when determining the result dtypes. To retain the old behavior, exclude the relevant entries before the concat operation.\n",
      "  df = pd.concat(\n"
     ]
    },
    {
     "name": "stderr",
     "output_type": "stream",
     "text": [
      "/tmp/tmp.oVbuNeLNgw/Ax-main/ax/core/map_data.py:192: FutureWarning: The behavior of DataFrame concatenation with empty or all-NA entries is deprecated. In a future version, this will no longer exclude empty or all-NA columns when determining the result dtypes. To retain the old behavior, exclude the relevant entries before the concat operation.\n",
      "  df = pd.concat(\n",
      "[INFO 08-22 07:01:59] ax.early_stopping.strategies.base: The number of completed trials (0) is less than the minimum number of curves needed for early stopping (5). Not early stopping.\n"
     ]
    },
    {
     "name": "stderr",
     "output_type": "stream",
     "text": [
      "[INFO 08-22 07:01:59] Scheduler: Waiting for completed trials (for 10 sec, currently running trials: 5).\n"
     ]
    },
    {
     "name": "stderr",
     "output_type": "stream",
     "text": [
      "[INFO 08-22 07:02:09] Scheduler: Fetching data for newly completed trials: [].\n"
     ]
    },
    {
     "name": "stderr",
     "output_type": "stream",
     "text": [
      "[INFO 08-22 07:02:09] Scheduler: Fetching data for trials: 1 - 5 because some metrics on experiment are available while trials are running.\n"
     ]
    },
    {
     "name": "stderr",
     "output_type": "stream",
     "text": [
      "/tmp/tmp.oVbuNeLNgw/Ax-main/ax/core/map_data.py:192: FutureWarning: The behavior of DataFrame concatenation with empty or all-NA entries is deprecated. In a future version, this will no longer exclude empty or all-NA columns when determining the result dtypes. To retain the old behavior, exclude the relevant entries before the concat operation.\n",
      "  df = pd.concat(\n"
     ]
    },
    {
     "name": "stderr",
     "output_type": "stream",
     "text": [
      "/tmp/tmp.oVbuNeLNgw/Ax-main/ax/core/map_data.py:192: FutureWarning: The behavior of DataFrame concatenation with empty or all-NA entries is deprecated. In a future version, this will no longer exclude empty or all-NA columns when determining the result dtypes. To retain the old behavior, exclude the relevant entries before the concat operation.\n",
      "  df = pd.concat(\n",
      "[INFO 08-22 07:02:09] ax.early_stopping.strategies.base: The number of completed trials (0) is less than the minimum number of curves needed for early stopping (5). Not early stopping.\n"
     ]
    },
    {
     "name": "stderr",
     "output_type": "stream",
     "text": [
      "[INFO 08-22 07:02:09] Scheduler: Waiting for completed trials (for 10 sec, currently running trials: 5).\n"
     ]
    },
    {
     "name": "stderr",
     "output_type": "stream",
     "text": [
      "[INFO 08-22 07:02:19] Scheduler: Fetching data for newly completed trials: [].\n"
     ]
    },
    {
     "name": "stderr",
     "output_type": "stream",
     "text": [
      "[INFO 08-22 07:02:19] Scheduler: Fetching data for trials: 1 - 5 because some metrics on experiment are available while trials are running.\n"
     ]
    },
    {
     "name": "stderr",
     "output_type": "stream",
     "text": [
      "/tmp/tmp.oVbuNeLNgw/Ax-main/ax/core/map_data.py:192: FutureWarning: The behavior of DataFrame concatenation with empty or all-NA entries is deprecated. In a future version, this will no longer exclude empty or all-NA columns when determining the result dtypes. To retain the old behavior, exclude the relevant entries before the concat operation.\n",
      "  df = pd.concat(\n"
     ]
    },
    {
     "name": "stderr",
     "output_type": "stream",
     "text": [
      "/tmp/tmp.oVbuNeLNgw/Ax-main/ax/core/map_data.py:192: FutureWarning: The behavior of DataFrame concatenation with empty or all-NA entries is deprecated. In a future version, this will no longer exclude empty or all-NA columns when determining the result dtypes. To retain the old behavior, exclude the relevant entries before the concat operation.\n",
      "  df = pd.concat(\n",
      "[INFO 08-22 07:02:19] ax.early_stopping.strategies.base: The number of completed trials (0) is less than the minimum number of curves needed for early stopping (5). Not early stopping.\n"
     ]
    },
    {
     "name": "stderr",
     "output_type": "stream",
     "text": [
      "[INFO 08-22 07:02:19] Scheduler: Waiting for completed trials (for 10 sec, currently running trials: 5).\n"
     ]
    },
    {
     "name": "stderr",
     "output_type": "stream",
     "text": [
      "[INFO 08-22 07:02:29] Scheduler: Fetching data for newly completed trials: [].\n"
     ]
    },
    {
     "name": "stderr",
     "output_type": "stream",
     "text": [
      "[INFO 08-22 07:02:29] Scheduler: Fetching data for trials: 1 - 5 because some metrics on experiment are available while trials are running.\n"
     ]
    },
    {
     "name": "stderr",
     "output_type": "stream",
     "text": [
      "/tmp/tmp.oVbuNeLNgw/Ax-main/ax/core/map_data.py:192: FutureWarning: The behavior of DataFrame concatenation with empty or all-NA entries is deprecated. In a future version, this will no longer exclude empty or all-NA columns when determining the result dtypes. To retain the old behavior, exclude the relevant entries before the concat operation.\n",
      "  df = pd.concat(\n"
     ]
    },
    {
     "name": "stderr",
     "output_type": "stream",
     "text": [
      "/tmp/tmp.oVbuNeLNgw/Ax-main/ax/core/map_data.py:192: FutureWarning: The behavior of DataFrame concatenation with empty or all-NA entries is deprecated. In a future version, this will no longer exclude empty or all-NA columns when determining the result dtypes. To retain the old behavior, exclude the relevant entries before the concat operation.\n",
      "  df = pd.concat(\n",
      "[INFO 08-22 07:02:30] ax.early_stopping.strategies.base: The number of completed trials (0) is less than the minimum number of curves needed for early stopping (5). Not early stopping.\n"
     ]
    },
    {
     "name": "stderr",
     "output_type": "stream",
     "text": [
      "[INFO 08-22 07:02:30] Scheduler: Waiting for completed trials (for 10 sec, currently running trials: 5).\n"
     ]
    },
    {
     "name": "stderr",
     "output_type": "stream",
     "text": [
      "[INFO 08-22 07:02:40] Scheduler: Fetching data for newly completed trials: [].\n"
     ]
    },
    {
     "name": "stderr",
     "output_type": "stream",
     "text": [
      "[INFO 08-22 07:02:40] Scheduler: Fetching data for trials: 1 - 5 because some metrics on experiment are available while trials are running.\n"
     ]
    },
    {
     "name": "stderr",
     "output_type": "stream",
     "text": [
      "/tmp/tmp.oVbuNeLNgw/Ax-main/ax/core/map_data.py:192: FutureWarning: The behavior of DataFrame concatenation with empty or all-NA entries is deprecated. In a future version, this will no longer exclude empty or all-NA columns when determining the result dtypes. To retain the old behavior, exclude the relevant entries before the concat operation.\n",
      "  df = pd.concat(\n"
     ]
    },
    {
     "name": "stderr",
     "output_type": "stream",
     "text": [
      "/tmp/tmp.oVbuNeLNgw/Ax-main/ax/core/map_data.py:192: FutureWarning: The behavior of DataFrame concatenation with empty or all-NA entries is deprecated. In a future version, this will no longer exclude empty or all-NA columns when determining the result dtypes. To retain the old behavior, exclude the relevant entries before the concat operation.\n",
      "  df = pd.concat(\n",
      "[INFO 08-22 07:02:40] ax.early_stopping.strategies.base: The number of completed trials (0) is less than the minimum number of curves needed for early stopping (5). Not early stopping.\n"
     ]
    },
    {
     "name": "stderr",
     "output_type": "stream",
     "text": [
      "[INFO 08-22 07:02:40] Scheduler: Waiting for completed trials (for 10 sec, currently running trials: 5).\n"
     ]
    },
    {
     "name": "stderr",
     "output_type": "stream",
     "text": [
      "[INFO 08-22 07:02:50] Scheduler: Fetching data for newly completed trials: [].\n"
     ]
    },
    {
     "name": "stderr",
     "output_type": "stream",
     "text": [
      "[INFO 08-22 07:02:50] Scheduler: Fetching data for trials: 1 - 5 because some metrics on experiment are available while trials are running.\n"
     ]
    },
    {
     "name": "stderr",
     "output_type": "stream",
     "text": [
      "/tmp/tmp.oVbuNeLNgw/Ax-main/ax/core/map_data.py:192: FutureWarning: The behavior of DataFrame concatenation with empty or all-NA entries is deprecated. In a future version, this will no longer exclude empty or all-NA columns when determining the result dtypes. To retain the old behavior, exclude the relevant entries before the concat operation.\n",
      "  df = pd.concat(\n"
     ]
    },
    {
     "name": "stderr",
     "output_type": "stream",
     "text": [
      "/tmp/tmp.oVbuNeLNgw/Ax-main/ax/core/map_data.py:192: FutureWarning: The behavior of DataFrame concatenation with empty or all-NA entries is deprecated. In a future version, this will no longer exclude empty or all-NA columns when determining the result dtypes. To retain the old behavior, exclude the relevant entries before the concat operation.\n",
      "  df = pd.concat(\n",
      "[INFO 08-22 07:02:50] ax.early_stopping.strategies.base: The number of completed trials (0) is less than the minimum number of curves needed for early stopping (5). Not early stopping.\n"
     ]
    },
    {
     "name": "stderr",
     "output_type": "stream",
     "text": [
      "[INFO 08-22 07:02:50] Scheduler: Waiting for completed trials (for 10 sec, currently running trials: 5).\n"
     ]
    },
    {
     "name": "stderr",
     "output_type": "stream",
     "text": [
      "[INFO 08-22 07:03:00] Scheduler: Fetching data for newly completed trials: [3].\n"
     ]
    },
    {
     "name": "stderr",
     "output_type": "stream",
     "text": [
      "[INFO 08-22 07:03:00] Scheduler: Fetching data for trials: [1, 2, 4, 5] because some metrics on experiment are available while trials are running.\n"
     ]
    },
    {
     "name": "stderr",
     "output_type": "stream",
     "text": [
      "[INFO 08-22 07:03:00] Scheduler: Retrieved COMPLETED trials: [3].\n"
     ]
    },
    {
     "name": "stderr",
     "output_type": "stream",
     "text": [
      "/tmp/tmp.oVbuNeLNgw/Ax-main/ax/core/map_data.py:192: FutureWarning: The behavior of DataFrame concatenation with empty or all-NA entries is deprecated. In a future version, this will no longer exclude empty or all-NA columns when determining the result dtypes. To retain the old behavior, exclude the relevant entries before the concat operation.\n",
      "  df = pd.concat(\n"
     ]
    },
    {
     "name": "stderr",
     "output_type": "stream",
     "text": [
      "/tmp/tmp.oVbuNeLNgw/Ax-main/ax/core/map_data.py:192: FutureWarning: The behavior of DataFrame concatenation with empty or all-NA entries is deprecated. In a future version, this will no longer exclude empty or all-NA columns when determining the result dtypes. To retain the old behavior, exclude the relevant entries before the concat operation.\n",
      "  df = pd.concat(\n",
      "[INFO 08-22 07:03:00] ax.early_stopping.strategies.base: The number of completed trials (1) is less than the minimum number of curves needed for early stopping (5). Not early stopping.\n"
     ]
    },
    {
     "name": "stderr",
     "output_type": "stream",
     "text": [
      "[WARNING 08-22 07:03:00] Scheduler: Both `init_seconds_between_polls` and `early_stopping_strategy supplied. `init_seconds_between_polls=1` will be overrridden by `early_stopping_strategy.seconds_between_polls=10` and polling will take place at a constant rate.\n"
     ]
    },
    {
     "name": "stderr",
     "output_type": "stream",
     "text": [
      "[INFO 08-22 07:03:00] Scheduler: Fetching data for newly completed trials: [].\n"
     ]
    },
    {
     "name": "stderr",
     "output_type": "stream",
     "text": [
      "[INFO 08-22 07:03:00] Scheduler: Fetching data for trials: [1, 2, 4, 5] because some metrics on experiment are available while trials are running.\n"
     ]
    },
    {
     "name": "stderr",
     "output_type": "stream",
     "text": [
      "/tmp/tmp.oVbuNeLNgw/Ax-main/ax/core/map_data.py:192: FutureWarning: The behavior of DataFrame concatenation with empty or all-NA entries is deprecated. In a future version, this will no longer exclude empty or all-NA columns when determining the result dtypes. To retain the old behavior, exclude the relevant entries before the concat operation.\n",
      "  df = pd.concat(\n"
     ]
    },
    {
     "name": "stderr",
     "output_type": "stream",
     "text": [
      "/tmp/tmp.oVbuNeLNgw/Ax-main/ax/core/map_data.py:192: FutureWarning: The behavior of DataFrame concatenation with empty or all-NA entries is deprecated. In a future version, this will no longer exclude empty or all-NA columns when determining the result dtypes. To retain the old behavior, exclude the relevant entries before the concat operation.\n",
      "  df = pd.concat(\n",
      "[INFO 08-22 07:03:01] ax.early_stopping.strategies.base: The number of completed trials (1) is less than the minimum number of curves needed for early stopping (5). Not early stopping.\n"
     ]
    },
    {
     "name": "stderr",
     "output_type": "stream",
     "text": [
      "[INFO 08-22 07:03:01] Scheduler: Waiting for completed trials (for 10 sec, currently running trials: 4).\n"
     ]
    },
    {
     "name": "stderr",
     "output_type": "stream",
     "text": [
      "[INFO 08-22 07:03:11] Scheduler: Fetching data for newly completed trials: [].\n"
     ]
    },
    {
     "name": "stderr",
     "output_type": "stream",
     "text": [
      "[INFO 08-22 07:03:11] Scheduler: Fetching data for trials: [1, 2, 4, 5] because some metrics on experiment are available while trials are running.\n"
     ]
    },
    {
     "name": "stderr",
     "output_type": "stream",
     "text": [
      "/tmp/tmp.oVbuNeLNgw/Ax-main/ax/core/map_data.py:192: FutureWarning: The behavior of DataFrame concatenation with empty or all-NA entries is deprecated. In a future version, this will no longer exclude empty or all-NA columns when determining the result dtypes. To retain the old behavior, exclude the relevant entries before the concat operation.\n",
      "  df = pd.concat(\n",
      "/tmp/tmp.oVbuNeLNgw/Ax-main/ax/core/map_data.py:192: FutureWarning: The behavior of DataFrame concatenation with empty or all-NA entries is deprecated. In a future version, this will no longer exclude empty or all-NA columns when determining the result dtypes. To retain the old behavior, exclude the relevant entries before the concat operation.\n",
      "  df = pd.concat(\n",
      "[INFO 08-22 07:03:11] ax.early_stopping.strategies.base: The number of completed trials (1) is less than the minimum number of curves needed for early stopping (5). Not early stopping.\n"
     ]
    },
    {
     "name": "stderr",
     "output_type": "stream",
     "text": [
      "[INFO 08-22 07:03:11] Scheduler: Waiting for completed trials (for 10 sec, currently running trials: 4).\n"
     ]
    },
    {
     "name": "stderr",
     "output_type": "stream",
     "text": [
      "[INFO 08-22 07:03:21] Scheduler: Fetching data for newly completed trials: [4].\n"
     ]
    },
    {
     "name": "stderr",
     "output_type": "stream",
     "text": [
      "[INFO 08-22 07:03:21] Scheduler: Fetching data for trials: [1, 2, 5] because some metrics on experiment are available while trials are running.\n"
     ]
    },
    {
     "name": "stderr",
     "output_type": "stream",
     "text": [
      "[INFO 08-22 07:03:21] Scheduler: Retrieved COMPLETED trials: [4].\n"
     ]
    },
    {
     "name": "stderr",
     "output_type": "stream",
     "text": [
      "/tmp/tmp.oVbuNeLNgw/Ax-main/ax/core/map_data.py:192: FutureWarning: The behavior of DataFrame concatenation with empty or all-NA entries is deprecated. In a future version, this will no longer exclude empty or all-NA columns when determining the result dtypes. To retain the old behavior, exclude the relevant entries before the concat operation.\n",
      "  df = pd.concat(\n",
      "/tmp/tmp.oVbuNeLNgw/Ax-main/ax/core/map_data.py:192: FutureWarning: The behavior of DataFrame concatenation with empty or all-NA entries is deprecated. In a future version, this will no longer exclude empty or all-NA columns when determining the result dtypes. To retain the old behavior, exclude the relevant entries before the concat operation.\n",
      "  df = pd.concat(\n",
      "[INFO 08-22 07:03:21] ax.early_stopping.strategies.base: The number of completed trials (2) is less than the minimum number of curves needed for early stopping (5). Not early stopping.\n"
     ]
    },
    {
     "name": "stderr",
     "output_type": "stream",
     "text": [
      "[WARNING 08-22 07:03:21] Scheduler: Both `init_seconds_between_polls` and `early_stopping_strategy supplied. `init_seconds_between_polls=1` will be overrridden by `early_stopping_strategy.seconds_between_polls=10` and polling will take place at a constant rate.\n"
     ]
    },
    {
     "name": "stderr",
     "output_type": "stream",
     "text": [
      "[INFO 08-22 07:03:21] Scheduler: Fetching data for newly completed trials: [].\n"
     ]
    },
    {
     "name": "stderr",
     "output_type": "stream",
     "text": [
      "[INFO 08-22 07:03:21] Scheduler: Fetching data for trials: [1, 2, 5] because some metrics on experiment are available while trials are running.\n"
     ]
    },
    {
     "name": "stderr",
     "output_type": "stream",
     "text": [
      "/tmp/tmp.oVbuNeLNgw/Ax-main/ax/core/map_data.py:192: FutureWarning: The behavior of DataFrame concatenation with empty or all-NA entries is deprecated. In a future version, this will no longer exclude empty or all-NA columns when determining the result dtypes. To retain the old behavior, exclude the relevant entries before the concat operation.\n",
      "  df = pd.concat(\n",
      "/tmp/tmp.oVbuNeLNgw/Ax-main/ax/core/map_data.py:192: FutureWarning: The behavior of DataFrame concatenation with empty or all-NA entries is deprecated. In a future version, this will no longer exclude empty or all-NA columns when determining the result dtypes. To retain the old behavior, exclude the relevant entries before the concat operation.\n",
      "  df = pd.concat(\n",
      "[INFO 08-22 07:03:21] ax.early_stopping.strategies.base: The number of completed trials (2) is less than the minimum number of curves needed for early stopping (5). Not early stopping.\n"
     ]
    },
    {
     "name": "stderr",
     "output_type": "stream",
     "text": [
      "[INFO 08-22 07:03:21] Scheduler: Waiting for completed trials (for 10 sec, currently running trials: 3).\n"
     ]
    },
    {
     "name": "stderr",
     "output_type": "stream",
     "text": [
      "[INFO 08-22 07:03:31] Scheduler: Fetching data for newly completed trials: [1].\n"
     ]
    },
    {
     "name": "stderr",
     "output_type": "stream",
     "text": [
      "[INFO 08-22 07:03:31] Scheduler: Fetching data for trials: [2, 5] because some metrics on experiment are available while trials are running.\n"
     ]
    },
    {
     "name": "stderr",
     "output_type": "stream",
     "text": [
      "[INFO 08-22 07:03:31] Scheduler: Retrieved COMPLETED trials: [1].\n"
     ]
    },
    {
     "name": "stderr",
     "output_type": "stream",
     "text": [
      "/tmp/tmp.oVbuNeLNgw/Ax-main/ax/core/map_data.py:192: FutureWarning: The behavior of DataFrame concatenation with empty or all-NA entries is deprecated. In a future version, this will no longer exclude empty or all-NA columns when determining the result dtypes. To retain the old behavior, exclude the relevant entries before the concat operation.\n",
      "  df = pd.concat(\n",
      "/tmp/tmp.oVbuNeLNgw/Ax-main/ax/core/map_data.py:192: FutureWarning: The behavior of DataFrame concatenation with empty or all-NA entries is deprecated. In a future version, this will no longer exclude empty or all-NA columns when determining the result dtypes. To retain the old behavior, exclude the relevant entries before the concat operation.\n",
      "  df = pd.concat(\n",
      "[INFO 08-22 07:03:31] ax.early_stopping.strategies.base: The number of completed trials (3) is less than the minimum number of curves needed for early stopping (5). Not early stopping.\n"
     ]
    },
    {
     "name": "stderr",
     "output_type": "stream",
     "text": [
      "/tmp/tmp.oVbuNeLNgw/Ax-main/ax/core/map_data.py:192: FutureWarning: The behavior of DataFrame concatenation with empty or all-NA entries is deprecated. In a future version, this will no longer exclude empty or all-NA columns when determining the result dtypes. To retain the old behavior, exclude the relevant entries before the concat operation.\n",
      "  df = pd.concat(\n"
     ]
    },
    {
     "name": "stderr",
     "output_type": "stream",
     "text": [
      "[INFO 08-22 07:03:34] Scheduler: Running trials [6]...\n"
     ]
    },
    {
     "name": "stderr",
     "output_type": "stream",
     "text": [
      "/tmp/tmp.oVbuNeLNgw/Ax-main/ax/core/map_data.py:192: FutureWarning: The behavior of DataFrame concatenation with empty or all-NA entries is deprecated. In a future version, this will no longer exclude empty or all-NA columns when determining the result dtypes. To retain the old behavior, exclude the relevant entries before the concat operation.\n",
      "  df = pd.concat(\n"
     ]
    },
    {
     "name": "stderr",
     "output_type": "stream",
     "text": [
      "[INFO 08-22 07:03:39] Scheduler: Running trials [7]...\n"
     ]
    },
    {
     "name": "stderr",
     "output_type": "stream",
     "text": [
      "/tmp/tmp.oVbuNeLNgw/Ax-main/ax/core/map_data.py:192: FutureWarning: The behavior of DataFrame concatenation with empty or all-NA entries is deprecated. In a future version, this will no longer exclude empty or all-NA columns when determining the result dtypes. To retain the old behavior, exclude the relevant entries before the concat operation.\n",
      "  df = pd.concat(\n"
     ]
    },
    {
     "name": "stderr",
     "output_type": "stream",
     "text": [
      "[INFO 08-22 07:03:43] Scheduler: Running trials [8]...\n"
     ]
    },
    {
     "name": "stderr",
     "output_type": "stream",
     "text": [
      "[WARNING 08-22 07:03:44] Scheduler: Both `init_seconds_between_polls` and `early_stopping_strategy supplied. `init_seconds_between_polls=1` will be overrridden by `early_stopping_strategy.seconds_between_polls=10` and polling will take place at a constant rate.\n"
     ]
    },
    {
     "name": "stderr",
     "output_type": "stream",
     "text": [
      "[INFO 08-22 07:03:44] Scheduler: Fetching data for newly completed trials: [2, 5].\n"
     ]
    },
    {
     "name": "stderr",
     "output_type": "stream",
     "text": [
      "[INFO 08-22 07:03:44] Scheduler: Fetching data for trials: 6 - 8 because some metrics on experiment are available while trials are running.\n"
     ]
    },
    {
     "name": "stderr",
     "output_type": "stream",
     "text": [
      "[INFO 08-22 07:03:44] Scheduler: Retrieved COMPLETED trials: [2, 5].\n"
     ]
    },
    {
     "name": "stderr",
     "output_type": "stream",
     "text": [
      "[INFO 08-22 07:03:45] ax.core.metric: MetricFetchE INFO: Initialized MetricFetchE(message=\"No 'scalar' data found for trial in multiplexer mul=<tensorboard.backend.event_processing.plugin_event_multiplexer.EventMultiplexer object at 0x7f65b8290c40>\")\n"
     ]
    },
    {
     "name": "stderr",
     "output_type": "stream",
     "text": [
      "[INFO 08-22 07:03:45] ax.core.metric: MetricFetchE INFO: Initialized MetricFetchE(message=\"No 'scalar' data found for trial in multiplexer mul=<tensorboard.backend.event_processing.plugin_event_multiplexer.EventMultiplexer object at 0x7f65b8292530>\")\n"
     ]
    },
    {
     "name": "stderr",
     "output_type": "stream",
     "text": [
      "[INFO 08-22 07:03:45] ax.core.metric: MetricFetchE INFO: Initialized MetricFetchE(message=\"No 'scalar' data found for trial in multiplexer mul=<tensorboard.backend.event_processing.plugin_event_multiplexer.EventMultiplexer object at 0x7f65b82904c0>\")\n"
     ]
    },
    {
     "name": "stderr",
     "output_type": "stream",
     "text": [
      "[ERROR 08-22 07:03:45] ax.core.experiment: Discovered Metric fetching Err while attaching data MetricFetchE(message=\"No 'scalar' data found for trial in multiplexer mul=<tensorboard.backend.event_processing.plugin_event_multiplexer.EventMultiplexer object at 0x7f65b8290c40>\"). Ignoring for now -- will retry query on next call to fetch.\n"
     ]
    },
    {
     "name": "stderr",
     "output_type": "stream",
     "text": [
      "[ERROR 08-22 07:03:45] ax.core.experiment: Discovered Metric fetching Err while attaching data MetricFetchE(message=\"No 'scalar' data found for trial in multiplexer mul=<tensorboard.backend.event_processing.plugin_event_multiplexer.EventMultiplexer object at 0x7f65b8292530>\"). Ignoring for now -- will retry query on next call to fetch.\n"
     ]
    },
    {
     "name": "stderr",
     "output_type": "stream",
     "text": [
      "[ERROR 08-22 07:03:45] ax.core.experiment: Discovered Metric fetching Err while attaching data MetricFetchE(message=\"No 'scalar' data found for trial in multiplexer mul=<tensorboard.backend.event_processing.plugin_event_multiplexer.EventMultiplexer object at 0x7f65b82904c0>\"). Ignoring for now -- will retry query on next call to fetch.\n"
     ]
    },
    {
     "name": "stderr",
     "output_type": "stream",
     "text": [
      "/tmp/tmp.oVbuNeLNgw/Ax-main/ax/core/map_data.py:192: FutureWarning: The behavior of DataFrame concatenation with empty or all-NA entries is deprecated. In a future version, this will no longer exclude empty or all-NA columns when determining the result dtypes. To retain the old behavior, exclude the relevant entries before the concat operation.\n",
      "  df = pd.concat(\n",
      "[WARNING 08-22 07:03:45] Scheduler: Failed to fetch val_acc for trial 6, found MetricFetchE(message=\"No 'scalar' data found for trial in multiplexer mul=<tensorboard.backend.event_processing.plugin_event_multiplexer.EventMultiplexer object at 0x7f65b8290c40>\").\n"
     ]
    },
    {
     "name": "stderr",
     "output_type": "stream",
     "text": [
      "[INFO 08-22 07:03:45] Scheduler: MetricFetchE INFO: Because val_acc is available_while_running and trial 6 is still RUNNING continuing the experiment and retrying on next poll...\n"
     ]
    },
    {
     "name": "stderr",
     "output_type": "stream",
     "text": [
      "[WARNING 08-22 07:03:45] Scheduler: Failed to fetch val_acc for trial 7, found MetricFetchE(message=\"No 'scalar' data found for trial in multiplexer mul=<tensorboard.backend.event_processing.plugin_event_multiplexer.EventMultiplexer object at 0x7f65b8292530>\").\n"
     ]
    },
    {
     "name": "stderr",
     "output_type": "stream",
     "text": [
      "[INFO 08-22 07:03:45] Scheduler: MetricFetchE INFO: Because val_acc is available_while_running and trial 7 is still RUNNING continuing the experiment and retrying on next poll...\n"
     ]
    },
    {
     "name": "stderr",
     "output_type": "stream",
     "text": [
      "[WARNING 08-22 07:03:45] Scheduler: Failed to fetch val_acc for trial 8, found MetricFetchE(message=\"No 'scalar' data found for trial in multiplexer mul=<tensorboard.backend.event_processing.plugin_event_multiplexer.EventMultiplexer object at 0x7f65b82904c0>\").\n"
     ]
    },
    {
     "name": "stderr",
     "output_type": "stream",
     "text": [
      "[INFO 08-22 07:03:45] Scheduler: MetricFetchE INFO: Because val_acc is available_while_running and trial 8 is still RUNNING continuing the experiment and retrying on next poll...\n"
     ]
    },
    {
     "name": "stderr",
     "output_type": "stream",
     "text": [
      "/tmp/tmp.oVbuNeLNgw/Ax-main/ax/core/map_data.py:192: FutureWarning: The behavior of DataFrame concatenation with empty or all-NA entries is deprecated. In a future version, this will no longer exclude empty or all-NA columns when determining the result dtypes. To retain the old behavior, exclude the relevant entries before the concat operation.\n",
      "  df = pd.concat(\n",
      "[INFO 08-22 07:03:45] ax.early_stopping.strategies.base: Last progression of any candidate for trial stopping is 0.\n"
     ]
    },
    {
     "name": "stderr",
     "output_type": "stream",
     "text": [
      "[INFO 08-22 07:03:45] ax.early_stopping.strategies.base: No trials have reached 0.3. Not stopping any trials.\n"
     ]
    },
    {
     "name": "stderr",
     "output_type": "stream",
     "text": [
      "/tmp/tmp.oVbuNeLNgw/Ax-main/ax/core/map_data.py:192: FutureWarning: The behavior of DataFrame concatenation with empty or all-NA entries is deprecated. In a future version, this will no longer exclude empty or all-NA columns when determining the result dtypes. To retain the old behavior, exclude the relevant entries before the concat operation.\n",
      "  df = pd.concat(\n"
     ]
    },
    {
     "name": "stderr",
     "output_type": "stream",
     "text": [
      "[WARNING 08-22 07:03:46] Scheduler: Both `init_seconds_between_polls` and `early_stopping_strategy supplied. `init_seconds_between_polls=1` will be overrridden by `early_stopping_strategy.seconds_between_polls=10` and polling will take place at a constant rate.\n"
     ]
    },
    {
     "name": "stderr",
     "output_type": "stream",
     "text": [
      "[INFO 08-22 07:03:46] Scheduler: Fetching data for newly completed trials: [].\n"
     ]
    },
    {
     "name": "stderr",
     "output_type": "stream",
     "text": [
      "[INFO 08-22 07:03:46] Scheduler: Fetching data for trials: 6 - 8 because some metrics on experiment are available while trials are running.\n"
     ]
    },
    {
     "name": "stderr",
     "output_type": "stream",
     "text": [
      "[INFO 08-22 07:03:46] ax.core.metric: MetricFetchE INFO: Initialized MetricFetchE(message=\"No 'scalar' data found for trial in multiplexer mul=<tensorboard.backend.event_processing.plugin_event_multiplexer.EventMultiplexer object at 0x7f65b8337610>\")\n"
     ]
    },
    {
     "name": "stderr",
     "output_type": "stream",
     "text": [
      "[INFO 08-22 07:03:46] ax.core.metric: MetricFetchE INFO: Initialized MetricFetchE(message=\"No 'scalar' data found for trial in multiplexer mul=<tensorboard.backend.event_processing.plugin_event_multiplexer.EventMultiplexer object at 0x7f65b8337ee0>\")\n"
     ]
    },
    {
     "name": "stderr",
     "output_type": "stream",
     "text": [
      "[INFO 08-22 07:03:46] ax.core.metric: MetricFetchE INFO: Initialized MetricFetchE(message=\"No 'scalar' data found for trial in multiplexer mul=<tensorboard.backend.event_processing.plugin_event_multiplexer.EventMultiplexer object at 0x7f65bb407c10>\")\n"
     ]
    },
    {
     "name": "stderr",
     "output_type": "stream",
     "text": [
      "[ERROR 08-22 07:03:46] ax.core.experiment: Discovered Metric fetching Err while attaching data MetricFetchE(message=\"No 'scalar' data found for trial in multiplexer mul=<tensorboard.backend.event_processing.plugin_event_multiplexer.EventMultiplexer object at 0x7f65b8337610>\"). Ignoring for now -- will retry query on next call to fetch.\n"
     ]
    },
    {
     "name": "stderr",
     "output_type": "stream",
     "text": [
      "[ERROR 08-22 07:03:46] ax.core.experiment: Discovered Metric fetching Err while attaching data MetricFetchE(message=\"No 'scalar' data found for trial in multiplexer mul=<tensorboard.backend.event_processing.plugin_event_multiplexer.EventMultiplexer object at 0x7f65b8337ee0>\"). Ignoring for now -- will retry query on next call to fetch.\n"
     ]
    },
    {
     "name": "stderr",
     "output_type": "stream",
     "text": [
      "[ERROR 08-22 07:03:46] ax.core.experiment: Discovered Metric fetching Err while attaching data MetricFetchE(message=\"No 'scalar' data found for trial in multiplexer mul=<tensorboard.backend.event_processing.plugin_event_multiplexer.EventMultiplexer object at 0x7f65bb407c10>\"). Ignoring for now -- will retry query on next call to fetch.\n"
     ]
    },
    {
     "name": "stderr",
     "output_type": "stream",
     "text": [
      "[WARNING 08-22 07:03:46] Scheduler: Failed to fetch val_acc for trial 8, found MetricFetchE(message=\"No 'scalar' data found for trial in multiplexer mul=<tensorboard.backend.event_processing.plugin_event_multiplexer.EventMultiplexer object at 0x7f65b8337610>\").\n"
     ]
    },
    {
     "name": "stderr",
     "output_type": "stream",
     "text": [
      "[INFO 08-22 07:03:46] Scheduler: MetricFetchE INFO: Because val_acc is available_while_running and trial 8 is still RUNNING continuing the experiment and retrying on next poll...\n"
     ]
    },
    {
     "name": "stderr",
     "output_type": "stream",
     "text": [
      "[WARNING 08-22 07:03:46] Scheduler: Failed to fetch val_acc for trial 6, found MetricFetchE(message=\"No 'scalar' data found for trial in multiplexer mul=<tensorboard.backend.event_processing.plugin_event_multiplexer.EventMultiplexer object at 0x7f65b8337ee0>\").\n"
     ]
    },
    {
     "name": "stderr",
     "output_type": "stream",
     "text": [
      "[INFO 08-22 07:03:46] Scheduler: MetricFetchE INFO: Because val_acc is available_while_running and trial 6 is still RUNNING continuing the experiment and retrying on next poll...\n"
     ]
    },
    {
     "name": "stderr",
     "output_type": "stream",
     "text": [
      "[WARNING 08-22 07:03:46] Scheduler: Failed to fetch val_acc for trial 7, found MetricFetchE(message=\"No 'scalar' data found for trial in multiplexer mul=<tensorboard.backend.event_processing.plugin_event_multiplexer.EventMultiplexer object at 0x7f65bb407c10>\").\n"
     ]
    },
    {
     "name": "stderr",
     "output_type": "stream",
     "text": [
      "[INFO 08-22 07:03:46] Scheduler: MetricFetchE INFO: Because val_acc is available_while_running and trial 7 is still RUNNING continuing the experiment and retrying on next poll...\n"
     ]
    },
    {
     "name": "stderr",
     "output_type": "stream",
     "text": [
      "/tmp/tmp.oVbuNeLNgw/Ax-main/ax/core/map_data.py:192: FutureWarning: The behavior of DataFrame concatenation with empty or all-NA entries is deprecated. In a future version, this will no longer exclude empty or all-NA columns when determining the result dtypes. To retain the old behavior, exclude the relevant entries before the concat operation.\n",
      "  df = pd.concat(\n",
      "[INFO 08-22 07:03:46] ax.early_stopping.strategies.base: Last progression of any candidate for trial stopping is 0.\n"
     ]
    },
    {
     "name": "stderr",
     "output_type": "stream",
     "text": [
      "[INFO 08-22 07:03:46] ax.early_stopping.strategies.base: No trials have reached 0.3. Not stopping any trials.\n"
     ]
    },
    {
     "name": "stderr",
     "output_type": "stream",
     "text": [
      "[INFO 08-22 07:03:46] Scheduler: Waiting for completed trials (for 10 sec, currently running trials: 3).\n"
     ]
    },
    {
     "name": "stderr",
     "output_type": "stream",
     "text": [
      "[INFO 08-22 07:03:56] Scheduler: Fetching data for newly completed trials: [].\n"
     ]
    },
    {
     "name": "stderr",
     "output_type": "stream",
     "text": [
      "[INFO 08-22 07:03:56] Scheduler: Fetching data for trials: 6 - 8 because some metrics on experiment are available while trials are running.\n"
     ]
    },
    {
     "name": "stderr",
     "output_type": "stream",
     "text": [
      "[INFO 08-22 07:03:56] ax.core.metric: MetricFetchE INFO: Initialized MetricFetchE(message=\"No 'scalar' data found for trial in multiplexer mul=<tensorboard.backend.event_processing.plugin_event_multiplexer.EventMultiplexer object at 0x7f65b827cfa0>\")\n"
     ]
    },
    {
     "name": "stderr",
     "output_type": "stream",
     "text": [
      "[INFO 08-22 07:03:56] ax.core.metric: MetricFetchE INFO: Initialized MetricFetchE(message=\"No 'scalar' data found for trial in multiplexer mul=<tensorboard.backend.event_processing.plugin_event_multiplexer.EventMultiplexer object at 0x7f65b827d960>\")\n"
     ]
    },
    {
     "name": "stderr",
     "output_type": "stream",
     "text": [
      "[INFO 08-22 07:03:56] ax.core.metric: MetricFetchE INFO: Initialized MetricFetchE(message=\"No 'scalar' data found for trial in multiplexer mul=<tensorboard.backend.event_processing.plugin_event_multiplexer.EventMultiplexer object at 0x7f65b827cbe0>\")\n"
     ]
    },
    {
     "name": "stderr",
     "output_type": "stream",
     "text": [
      "[ERROR 08-22 07:03:56] ax.core.experiment: Discovered Metric fetching Err while attaching data MetricFetchE(message=\"No 'scalar' data found for trial in multiplexer mul=<tensorboard.backend.event_processing.plugin_event_multiplexer.EventMultiplexer object at 0x7f65b827cfa0>\"). Ignoring for now -- will retry query on next call to fetch.\n"
     ]
    },
    {
     "name": "stderr",
     "output_type": "stream",
     "text": [
      "[ERROR 08-22 07:03:56] ax.core.experiment: Discovered Metric fetching Err while attaching data MetricFetchE(message=\"No 'scalar' data found for trial in multiplexer mul=<tensorboard.backend.event_processing.plugin_event_multiplexer.EventMultiplexer object at 0x7f65b827d960>\"). Ignoring for now -- will retry query on next call to fetch.\n"
     ]
    },
    {
     "name": "stderr",
     "output_type": "stream",
     "text": [
      "[ERROR 08-22 07:03:56] ax.core.experiment: Discovered Metric fetching Err while attaching data MetricFetchE(message=\"No 'scalar' data found for trial in multiplexer mul=<tensorboard.backend.event_processing.plugin_event_multiplexer.EventMultiplexer object at 0x7f65b827cbe0>\"). Ignoring for now -- will retry query on next call to fetch.\n"
     ]
    },
    {
     "name": "stderr",
     "output_type": "stream",
     "text": [
      "[WARNING 08-22 07:03:56] Scheduler: Failed to fetch val_acc for trial 8, found MetricFetchE(message=\"No 'scalar' data found for trial in multiplexer mul=<tensorboard.backend.event_processing.plugin_event_multiplexer.EventMultiplexer object at 0x7f65b827cfa0>\").\n"
     ]
    },
    {
     "name": "stderr",
     "output_type": "stream",
     "text": [
      "[INFO 08-22 07:03:56] Scheduler: MetricFetchE INFO: Because val_acc is available_while_running and trial 8 is still RUNNING continuing the experiment and retrying on next poll...\n"
     ]
    },
    {
     "name": "stderr",
     "output_type": "stream",
     "text": [
      "[WARNING 08-22 07:03:56] Scheduler: Failed to fetch val_acc for trial 6, found MetricFetchE(message=\"No 'scalar' data found for trial in multiplexer mul=<tensorboard.backend.event_processing.plugin_event_multiplexer.EventMultiplexer object at 0x7f65b827d960>\").\n"
     ]
    },
    {
     "name": "stderr",
     "output_type": "stream",
     "text": [
      "[INFO 08-22 07:03:56] Scheduler: MetricFetchE INFO: Because val_acc is available_while_running and trial 6 is still RUNNING continuing the experiment and retrying on next poll...\n"
     ]
    },
    {
     "name": "stderr",
     "output_type": "stream",
     "text": [
      "[WARNING 08-22 07:03:56] Scheduler: Failed to fetch val_acc for trial 7, found MetricFetchE(message=\"No 'scalar' data found for trial in multiplexer mul=<tensorboard.backend.event_processing.plugin_event_multiplexer.EventMultiplexer object at 0x7f65b827cbe0>\").\n"
     ]
    },
    {
     "name": "stderr",
     "output_type": "stream",
     "text": [
      "[INFO 08-22 07:03:57] Scheduler: MetricFetchE INFO: Because val_acc is available_while_running and trial 7 is still RUNNING continuing the experiment and retrying on next poll...\n"
     ]
    },
    {
     "name": "stderr",
     "output_type": "stream",
     "text": [
      "/tmp/tmp.oVbuNeLNgw/Ax-main/ax/core/map_data.py:192: FutureWarning: The behavior of DataFrame concatenation with empty or all-NA entries is deprecated. In a future version, this will no longer exclude empty or all-NA columns when determining the result dtypes. To retain the old behavior, exclude the relevant entries before the concat operation.\n",
      "  df = pd.concat(\n",
      "[INFO 08-22 07:03:57] ax.early_stopping.strategies.base: Last progression of any candidate for trial stopping is 0.\n"
     ]
    },
    {
     "name": "stderr",
     "output_type": "stream",
     "text": [
      "[INFO 08-22 07:03:57] ax.early_stopping.strategies.base: No trials have reached 0.3. Not stopping any trials.\n"
     ]
    },
    {
     "name": "stderr",
     "output_type": "stream",
     "text": [
      "[INFO 08-22 07:03:57] Scheduler: Waiting for completed trials (for 10 sec, currently running trials: 3).\n"
     ]
    },
    {
     "name": "stderr",
     "output_type": "stream",
     "text": [
      "[INFO 08-22 07:04:07] Scheduler: Fetching data for newly completed trials: [].\n"
     ]
    },
    {
     "name": "stderr",
     "output_type": "stream",
     "text": [
      "[INFO 08-22 07:04:07] Scheduler: Fetching data for trials: 6 - 8 because some metrics on experiment are available while trials are running.\n"
     ]
    },
    {
     "name": "stderr",
     "output_type": "stream",
     "text": [
      "[INFO 08-22 07:04:07] ax.core.metric: MetricFetchE INFO: Initialized MetricFetchE(message=\"No 'scalar' data found for trial in multiplexer mul=<tensorboard.backend.event_processing.plugin_event_multiplexer.EventMultiplexer object at 0x7f65bb3cf310>\")\n"
     ]
    },
    {
     "name": "stderr",
     "output_type": "stream",
     "text": [
      "[INFO 08-22 07:04:07] ax.core.metric: MetricFetchE INFO: Initialized MetricFetchE(message=\"No 'scalar' data found for trial in multiplexer mul=<tensorboard.backend.event_processing.plugin_event_multiplexer.EventMultiplexer object at 0x7f65bb3cdd50>\")\n"
     ]
    },
    {
     "name": "stderr",
     "output_type": "stream",
     "text": [
      "[INFO 08-22 07:04:07] ax.core.metric: MetricFetchE INFO: Initialized MetricFetchE(message=\"No 'scalar' data found for trial in multiplexer mul=<tensorboard.backend.event_processing.plugin_event_multiplexer.EventMultiplexer object at 0x7f65bb3cc340>\")\n"
     ]
    },
    {
     "name": "stderr",
     "output_type": "stream",
     "text": [
      "[ERROR 08-22 07:04:07] ax.core.experiment: Discovered Metric fetching Err while attaching data MetricFetchE(message=\"No 'scalar' data found for trial in multiplexer mul=<tensorboard.backend.event_processing.plugin_event_multiplexer.EventMultiplexer object at 0x7f65bb3cf310>\"). Ignoring for now -- will retry query on next call to fetch.\n"
     ]
    },
    {
     "name": "stderr",
     "output_type": "stream",
     "text": [
      "[ERROR 08-22 07:04:07] ax.core.experiment: Discovered Metric fetching Err while attaching data MetricFetchE(message=\"No 'scalar' data found for trial in multiplexer mul=<tensorboard.backend.event_processing.plugin_event_multiplexer.EventMultiplexer object at 0x7f65bb3cdd50>\"). Ignoring for now -- will retry query on next call to fetch.\n"
     ]
    },
    {
     "name": "stderr",
     "output_type": "stream",
     "text": [
      "[ERROR 08-22 07:04:07] ax.core.experiment: Discovered Metric fetching Err while attaching data MetricFetchE(message=\"No 'scalar' data found for trial in multiplexer mul=<tensorboard.backend.event_processing.plugin_event_multiplexer.EventMultiplexer object at 0x7f65bb3cc340>\"). Ignoring for now -- will retry query on next call to fetch.\n"
     ]
    },
    {
     "name": "stderr",
     "output_type": "stream",
     "text": [
      "[WARNING 08-22 07:04:07] Scheduler: Failed to fetch val_acc for trial 8, found MetricFetchE(message=\"No 'scalar' data found for trial in multiplexer mul=<tensorboard.backend.event_processing.plugin_event_multiplexer.EventMultiplexer object at 0x7f65bb3cf310>\").\n"
     ]
    },
    {
     "name": "stderr",
     "output_type": "stream",
     "text": [
      "[INFO 08-22 07:04:07] Scheduler: MetricFetchE INFO: Because val_acc is available_while_running and trial 8 is still RUNNING continuing the experiment and retrying on next poll...\n"
     ]
    },
    {
     "name": "stderr",
     "output_type": "stream",
     "text": [
      "[WARNING 08-22 07:04:07] Scheduler: Failed to fetch val_acc for trial 6, found MetricFetchE(message=\"No 'scalar' data found for trial in multiplexer mul=<tensorboard.backend.event_processing.plugin_event_multiplexer.EventMultiplexer object at 0x7f65bb3cdd50>\").\n"
     ]
    },
    {
     "name": "stderr",
     "output_type": "stream",
     "text": [
      "[INFO 08-22 07:04:07] Scheduler: MetricFetchE INFO: Because val_acc is available_while_running and trial 6 is still RUNNING continuing the experiment and retrying on next poll...\n"
     ]
    },
    {
     "name": "stderr",
     "output_type": "stream",
     "text": [
      "[WARNING 08-22 07:04:07] Scheduler: Failed to fetch val_acc for trial 7, found MetricFetchE(message=\"No 'scalar' data found for trial in multiplexer mul=<tensorboard.backend.event_processing.plugin_event_multiplexer.EventMultiplexer object at 0x7f65bb3cc340>\").\n"
     ]
    },
    {
     "name": "stderr",
     "output_type": "stream",
     "text": [
      "[INFO 08-22 07:04:07] Scheduler: MetricFetchE INFO: Because val_acc is available_while_running and trial 7 is still RUNNING continuing the experiment and retrying on next poll...\n"
     ]
    },
    {
     "name": "stderr",
     "output_type": "stream",
     "text": [
      "/tmp/tmp.oVbuNeLNgw/Ax-main/ax/core/map_data.py:192: FutureWarning: The behavior of DataFrame concatenation with empty or all-NA entries is deprecated. In a future version, this will no longer exclude empty or all-NA columns when determining the result dtypes. To retain the old behavior, exclude the relevant entries before the concat operation.\n",
      "  df = pd.concat(\n",
      "[INFO 08-22 07:04:07] ax.early_stopping.strategies.base: Last progression of any candidate for trial stopping is 0.\n"
     ]
    },
    {
     "name": "stderr",
     "output_type": "stream",
     "text": [
      "[INFO 08-22 07:04:07] ax.early_stopping.strategies.base: No trials have reached 0.3. Not stopping any trials.\n"
     ]
    },
    {
     "name": "stderr",
     "output_type": "stream",
     "text": [
      "[INFO 08-22 07:04:07] Scheduler: Waiting for completed trials (for 10 sec, currently running trials: 3).\n"
     ]
    },
    {
     "name": "stderr",
     "output_type": "stream",
     "text": [
      "[INFO 08-22 07:04:17] Scheduler: Fetching data for newly completed trials: [].\n"
     ]
    },
    {
     "name": "stderr",
     "output_type": "stream",
     "text": [
      "[INFO 08-22 07:04:17] Scheduler: Fetching data for trials: 6 - 8 because some metrics on experiment are available while trials are running.\n"
     ]
    },
    {
     "name": "stderr",
     "output_type": "stream",
     "text": [
      "[INFO 08-22 07:04:17] ax.core.metric: MetricFetchE INFO: Initialized MetricFetchE(message=\"No 'scalar' data found for trial in multiplexer mul=<tensorboard.backend.event_processing.plugin_event_multiplexer.EventMultiplexer object at 0x7f65b8337ee0>\")\n"
     ]
    },
    {
     "name": "stderr",
     "output_type": "stream",
     "text": [
      "[INFO 08-22 07:04:17] ax.core.metric: MetricFetchE INFO: Initialized MetricFetchE(message=\"No 'scalar' data found for trial in multiplexer mul=<tensorboard.backend.event_processing.plugin_event_multiplexer.EventMultiplexer object at 0x7f65b8337ee0>\")\n"
     ]
    },
    {
     "name": "stderr",
     "output_type": "stream",
     "text": [
      "[INFO 08-22 07:04:17] ax.core.metric: MetricFetchE INFO: Initialized MetricFetchE(message=\"No 'scalar' data found for trial in multiplexer mul=<tensorboard.backend.event_processing.plugin_event_multiplexer.EventMultiplexer object at 0x7f65b8337ee0>\")\n"
     ]
    },
    {
     "name": "stderr",
     "output_type": "stream",
     "text": [
      "[ERROR 08-22 07:04:17] ax.core.experiment: Discovered Metric fetching Err while attaching data MetricFetchE(message=\"No 'scalar' data found for trial in multiplexer mul=<tensorboard.backend.event_processing.plugin_event_multiplexer.EventMultiplexer object at 0x7f65b8337ee0>\"). Ignoring for now -- will retry query on next call to fetch.\n"
     ]
    },
    {
     "name": "stderr",
     "output_type": "stream",
     "text": [
      "[ERROR 08-22 07:04:17] ax.core.experiment: Discovered Metric fetching Err while attaching data MetricFetchE(message=\"No 'scalar' data found for trial in multiplexer mul=<tensorboard.backend.event_processing.plugin_event_multiplexer.EventMultiplexer object at 0x7f65b8337ee0>\"). Ignoring for now -- will retry query on next call to fetch.\n"
     ]
    },
    {
     "name": "stderr",
     "output_type": "stream",
     "text": [
      "[ERROR 08-22 07:04:17] ax.core.experiment: Discovered Metric fetching Err while attaching data MetricFetchE(message=\"No 'scalar' data found for trial in multiplexer mul=<tensorboard.backend.event_processing.plugin_event_multiplexer.EventMultiplexer object at 0x7f65b8337ee0>\"). Ignoring for now -- will retry query on next call to fetch.\n"
     ]
    },
    {
     "name": "stderr",
     "output_type": "stream",
     "text": [
      "[WARNING 08-22 07:04:17] Scheduler: Failed to fetch val_acc for trial 8, found MetricFetchE(message=\"No 'scalar' data found for trial in multiplexer mul=<tensorboard.backend.event_processing.plugin_event_multiplexer.EventMultiplexer object at 0x7f65b8337ee0>\").\n"
     ]
    },
    {
     "name": "stderr",
     "output_type": "stream",
     "text": [
      "[INFO 08-22 07:04:17] Scheduler: MetricFetchE INFO: Because val_acc is available_while_running and trial 8 is still RUNNING continuing the experiment and retrying on next poll...\n"
     ]
    },
    {
     "name": "stderr",
     "output_type": "stream",
     "text": [
      "[WARNING 08-22 07:04:17] Scheduler: Failed to fetch val_acc for trial 6, found MetricFetchE(message=\"No 'scalar' data found for trial in multiplexer mul=<tensorboard.backend.event_processing.plugin_event_multiplexer.EventMultiplexer object at 0x7f65b8337ee0>\").\n"
     ]
    },
    {
     "name": "stderr",
     "output_type": "stream",
     "text": [
      "[INFO 08-22 07:04:17] Scheduler: MetricFetchE INFO: Because val_acc is available_while_running and trial 6 is still RUNNING continuing the experiment and retrying on next poll...\n"
     ]
    },
    {
     "name": "stderr",
     "output_type": "stream",
     "text": [
      "[WARNING 08-22 07:04:17] Scheduler: Failed to fetch val_acc for trial 7, found MetricFetchE(message=\"No 'scalar' data found for trial in multiplexer mul=<tensorboard.backend.event_processing.plugin_event_multiplexer.EventMultiplexer object at 0x7f65b8337ee0>\").\n"
     ]
    },
    {
     "name": "stderr",
     "output_type": "stream",
     "text": [
      "[INFO 08-22 07:04:17] Scheduler: MetricFetchE INFO: Because val_acc is available_while_running and trial 7 is still RUNNING continuing the experiment and retrying on next poll...\n"
     ]
    },
    {
     "name": "stderr",
     "output_type": "stream",
     "text": [
      "/tmp/tmp.oVbuNeLNgw/Ax-main/ax/core/map_data.py:192: FutureWarning: The behavior of DataFrame concatenation with empty or all-NA entries is deprecated. In a future version, this will no longer exclude empty or all-NA columns when determining the result dtypes. To retain the old behavior, exclude the relevant entries before the concat operation.\n",
      "  df = pd.concat(\n",
      "[INFO 08-22 07:04:17] ax.early_stopping.strategies.base: Last progression of any candidate for trial stopping is 0.\n"
     ]
    },
    {
     "name": "stderr",
     "output_type": "stream",
     "text": [
      "[INFO 08-22 07:04:17] ax.early_stopping.strategies.base: No trials have reached 0.3. Not stopping any trials.\n"
     ]
    },
    {
     "name": "stderr",
     "output_type": "stream",
     "text": [
      "[INFO 08-22 07:04:17] Scheduler: Waiting for completed trials (for 10 sec, currently running trials: 3).\n"
     ]
    },
    {
     "name": "stderr",
     "output_type": "stream",
     "text": [
      "[INFO 08-22 07:04:27] Scheduler: Fetching data for newly completed trials: [].\n"
     ]
    },
    {
     "name": "stderr",
     "output_type": "stream",
     "text": [
      "[INFO 08-22 07:04:27] Scheduler: Fetching data for trials: 6 - 8 because some metrics on experiment are available while trials are running.\n"
     ]
    },
    {
     "name": "stderr",
     "output_type": "stream",
     "text": [
      "[INFO 08-22 07:04:27] ax.core.metric: MetricFetchE INFO: Initialized MetricFetchE(message=\"No 'scalar' data found for trial in multiplexer mul=<tensorboard.backend.event_processing.plugin_event_multiplexer.EventMultiplexer object at 0x7f65bb3ccd60>\")\n"
     ]
    },
    {
     "name": "stderr",
     "output_type": "stream",
     "text": [
      "[INFO 08-22 07:04:27] ax.core.metric: MetricFetchE INFO: Initialized MetricFetchE(message=\"No 'scalar' data found for trial in multiplexer mul=<tensorboard.backend.event_processing.plugin_event_multiplexer.EventMultiplexer object at 0x7f65bb3cdd50>\")\n"
     ]
    },
    {
     "name": "stderr",
     "output_type": "stream",
     "text": [
      "[ERROR 08-22 07:04:27] ax.core.experiment: Discovered Metric fetching Err while attaching data MetricFetchE(message=\"No 'scalar' data found for trial in multiplexer mul=<tensorboard.backend.event_processing.plugin_event_multiplexer.EventMultiplexer object at 0x7f65bb3ccd60>\"). Ignoring for now -- will retry query on next call to fetch.\n"
     ]
    },
    {
     "name": "stderr",
     "output_type": "stream",
     "text": [
      "[ERROR 08-22 07:04:27] ax.core.experiment: Discovered Metric fetching Err while attaching data MetricFetchE(message=\"No 'scalar' data found for trial in multiplexer mul=<tensorboard.backend.event_processing.plugin_event_multiplexer.EventMultiplexer object at 0x7f65bb3cdd50>\"). Ignoring for now -- will retry query on next call to fetch.\n"
     ]
    },
    {
     "name": "stderr",
     "output_type": "stream",
     "text": [
      "/tmp/tmp.oVbuNeLNgw/Ax-main/ax/core/map_data.py:192: FutureWarning: The behavior of DataFrame concatenation with empty or all-NA entries is deprecated. In a future version, this will no longer exclude empty or all-NA columns when determining the result dtypes. To retain the old behavior, exclude the relevant entries before the concat operation.\n",
      "  df = pd.concat(\n",
      "[WARNING 08-22 07:04:27] Scheduler: Failed to fetch val_acc for trial 8, found MetricFetchE(message=\"No 'scalar' data found for trial in multiplexer mul=<tensorboard.backend.event_processing.plugin_event_multiplexer.EventMultiplexer object at 0x7f65bb3ccd60>\").\n"
     ]
    },
    {
     "name": "stderr",
     "output_type": "stream",
     "text": [
      "[INFO 08-22 07:04:27] Scheduler: MetricFetchE INFO: Because val_acc is available_while_running and trial 8 is still RUNNING continuing the experiment and retrying on next poll...\n"
     ]
    },
    {
     "name": "stderr",
     "output_type": "stream",
     "text": [
      "[WARNING 08-22 07:04:27] Scheduler: Failed to fetch val_acc for trial 7, found MetricFetchE(message=\"No 'scalar' data found for trial in multiplexer mul=<tensorboard.backend.event_processing.plugin_event_multiplexer.EventMultiplexer object at 0x7f65bb3cdd50>\").\n"
     ]
    },
    {
     "name": "stderr",
     "output_type": "stream",
     "text": [
      "[INFO 08-22 07:04:27] Scheduler: MetricFetchE INFO: Because val_acc is available_while_running and trial 7 is still RUNNING continuing the experiment and retrying on next poll...\n"
     ]
    },
    {
     "name": "stderr",
     "output_type": "stream",
     "text": [
      "/tmp/tmp.oVbuNeLNgw/Ax-main/ax/core/map_data.py:192: FutureWarning: The behavior of DataFrame concatenation with empty or all-NA entries is deprecated. In a future version, this will no longer exclude empty or all-NA columns when determining the result dtypes. To retain the old behavior, exclude the relevant entries before the concat operation.\n",
      "  df = pd.concat(\n",
      "[INFO 08-22 07:04:27] ax.early_stopping.strategies.base: Last progression of any candidate for trial stopping is 0.09994666666666667.\n"
     ]
    },
    {
     "name": "stderr",
     "output_type": "stream",
     "text": [
      "[INFO 08-22 07:04:27] ax.early_stopping.strategies.base: No trials have reached 0.3. Not stopping any trials.\n"
     ]
    },
    {
     "name": "stderr",
     "output_type": "stream",
     "text": [
      "[INFO 08-22 07:04:27] Scheduler: Waiting for completed trials (for 10 sec, currently running trials: 3).\n"
     ]
    },
    {
     "name": "stderr",
     "output_type": "stream",
     "text": [
      "[INFO 08-22 07:04:37] Scheduler: Fetching data for newly completed trials: [].\n"
     ]
    },
    {
     "name": "stderr",
     "output_type": "stream",
     "text": [
      "[INFO 08-22 07:04:37] Scheduler: Fetching data for trials: 6 - 8 because some metrics on experiment are available while trials are running.\n"
     ]
    },
    {
     "name": "stderr",
     "output_type": "stream",
     "text": [
      "/tmp/tmp.oVbuNeLNgw/Ax-main/ax/core/map_data.py:192: FutureWarning: The behavior of DataFrame concatenation with empty or all-NA entries is deprecated. In a future version, this will no longer exclude empty or all-NA columns when determining the result dtypes. To retain the old behavior, exclude the relevant entries before the concat operation.\n",
      "  df = pd.concat(\n",
      "/tmp/tmp.oVbuNeLNgw/Ax-main/ax/core/map_data.py:192: FutureWarning: The behavior of DataFrame concatenation with empty or all-NA entries is deprecated. In a future version, this will no longer exclude empty or all-NA columns when determining the result dtypes. To retain the old behavior, exclude the relevant entries before the concat operation.\n",
      "  df = pd.concat(\n",
      "[INFO 08-22 07:04:37] ax.early_stopping.strategies.base: Last progression of any candidate for trial stopping is 0.09994666666666667.\n"
     ]
    },
    {
     "name": "stderr",
     "output_type": "stream",
     "text": [
      "[INFO 08-22 07:04:37] ax.early_stopping.strategies.base: No trials have reached 0.3. Not stopping any trials.\n"
     ]
    },
    {
     "name": "stderr",
     "output_type": "stream",
     "text": [
      "[INFO 08-22 07:04:37] Scheduler: Waiting for completed trials (for 10 sec, currently running trials: 3).\n"
     ]
    },
    {
     "name": "stderr",
     "output_type": "stream",
     "text": [
      "[INFO 08-22 07:04:47] Scheduler: Fetching data for newly completed trials: [].\n"
     ]
    },
    {
     "name": "stderr",
     "output_type": "stream",
     "text": [
      "[INFO 08-22 07:04:47] Scheduler: Fetching data for trials: 6 - 8 because some metrics on experiment are available while trials are running.\n"
     ]
    },
    {
     "name": "stderr",
     "output_type": "stream",
     "text": [
      "/tmp/tmp.oVbuNeLNgw/Ax-main/ax/core/map_data.py:192: FutureWarning: The behavior of DataFrame concatenation with empty or all-NA entries is deprecated. In a future version, this will no longer exclude empty or all-NA columns when determining the result dtypes. To retain the old behavior, exclude the relevant entries before the concat operation.\n",
      "  df = pd.concat(\n",
      "/tmp/tmp.oVbuNeLNgw/Ax-main/ax/core/map_data.py:192: FutureWarning: The behavior of DataFrame concatenation with empty or all-NA entries is deprecated. In a future version, this will no longer exclude empty or all-NA columns when determining the result dtypes. To retain the old behavior, exclude the relevant entries before the concat operation.\n",
      "  df = pd.concat(\n",
      "[INFO 08-22 07:04:47] ax.early_stopping.strategies.base: Last progression of any candidate for trial stopping is 0.09994666666666667.\n"
     ]
    },
    {
     "name": "stderr",
     "output_type": "stream",
     "text": [
      "[INFO 08-22 07:04:47] ax.early_stopping.strategies.base: No trials have reached 0.3. Not stopping any trials.\n"
     ]
    },
    {
     "name": "stderr",
     "output_type": "stream",
     "text": [
      "[INFO 08-22 07:04:47] Scheduler: Waiting for completed trials (for 10 sec, currently running trials: 3).\n"
     ]
    },
    {
     "name": "stderr",
     "output_type": "stream",
     "text": [
      "[INFO 08-22 07:04:57] Scheduler: Fetching data for newly completed trials: [].\n"
     ]
    },
    {
     "name": "stderr",
     "output_type": "stream",
     "text": [
      "[INFO 08-22 07:04:57] Scheduler: Fetching data for trials: 6 - 8 because some metrics on experiment are available while trials are running.\n"
     ]
    },
    {
     "name": "stderr",
     "output_type": "stream",
     "text": [
      "/tmp/tmp.oVbuNeLNgw/Ax-main/ax/core/map_data.py:192: FutureWarning: The behavior of DataFrame concatenation with empty or all-NA entries is deprecated. In a future version, this will no longer exclude empty or all-NA columns when determining the result dtypes. To retain the old behavior, exclude the relevant entries before the concat operation.\n",
      "  df = pd.concat(\n",
      "/tmp/tmp.oVbuNeLNgw/Ax-main/ax/core/map_data.py:192: FutureWarning: The behavior of DataFrame concatenation with empty or all-NA entries is deprecated. In a future version, this will no longer exclude empty or all-NA columns when determining the result dtypes. To retain the old behavior, exclude the relevant entries before the concat operation.\n",
      "  df = pd.concat(\n",
      "[INFO 08-22 07:04:57] ax.early_stopping.strategies.base: Last progression of any candidate for trial stopping is 0.09994666666666667.\n"
     ]
    },
    {
     "name": "stderr",
     "output_type": "stream",
     "text": [
      "[INFO 08-22 07:04:57] ax.early_stopping.strategies.base: No trials have reached 0.3. Not stopping any trials.\n"
     ]
    },
    {
     "name": "stderr",
     "output_type": "stream",
     "text": [
      "[INFO 08-22 07:04:57] Scheduler: Waiting for completed trials (for 10 sec, currently running trials: 3).\n"
     ]
    },
    {
     "name": "stderr",
     "output_type": "stream",
     "text": [
      "[INFO 08-22 07:05:07] Scheduler: Fetching data for newly completed trials: [].\n"
     ]
    },
    {
     "name": "stderr",
     "output_type": "stream",
     "text": [
      "[INFO 08-22 07:05:07] Scheduler: Fetching data for trials: 6 - 8 because some metrics on experiment are available while trials are running.\n"
     ]
    },
    {
     "name": "stderr",
     "output_type": "stream",
     "text": [
      "/tmp/tmp.oVbuNeLNgw/Ax-main/ax/core/map_data.py:192: FutureWarning: The behavior of DataFrame concatenation with empty or all-NA entries is deprecated. In a future version, this will no longer exclude empty or all-NA columns when determining the result dtypes. To retain the old behavior, exclude the relevant entries before the concat operation.\n",
      "  df = pd.concat(\n",
      "/tmp/tmp.oVbuNeLNgw/Ax-main/ax/core/map_data.py:192: FutureWarning: The behavior of DataFrame concatenation with empty or all-NA entries is deprecated. In a future version, this will no longer exclude empty or all-NA columns when determining the result dtypes. To retain the old behavior, exclude the relevant entries before the concat operation.\n",
      "  df = pd.concat(\n",
      "[INFO 08-22 07:05:07] ax.early_stopping.strategies.base: Last progression of any candidate for trial stopping is 0.19994666666666666.\n"
     ]
    },
    {
     "name": "stderr",
     "output_type": "stream",
     "text": [
      "[INFO 08-22 07:05:07] ax.early_stopping.strategies.base: No trials have reached 0.3. Not stopping any trials.\n"
     ]
    },
    {
     "name": "stderr",
     "output_type": "stream",
     "text": [
      "[INFO 08-22 07:05:07] Scheduler: Waiting for completed trials (for 10 sec, currently running trials: 3).\n"
     ]
    },
    {
     "name": "stderr",
     "output_type": "stream",
     "text": [
      "[INFO 08-22 07:05:17] Scheduler: Fetching data for newly completed trials: [].\n"
     ]
    },
    {
     "name": "stderr",
     "output_type": "stream",
     "text": [
      "[INFO 08-22 07:05:17] Scheduler: Fetching data for trials: 6 - 8 because some metrics on experiment are available while trials are running.\n"
     ]
    },
    {
     "name": "stderr",
     "output_type": "stream",
     "text": [
      "/tmp/tmp.oVbuNeLNgw/Ax-main/ax/core/map_data.py:192: FutureWarning: The behavior of DataFrame concatenation with empty or all-NA entries is deprecated. In a future version, this will no longer exclude empty or all-NA columns when determining the result dtypes. To retain the old behavior, exclude the relevant entries before the concat operation.\n",
      "  df = pd.concat(\n",
      "/tmp/tmp.oVbuNeLNgw/Ax-main/ax/core/map_data.py:192: FutureWarning: The behavior of DataFrame concatenation with empty or all-NA entries is deprecated. In a future version, this will no longer exclude empty or all-NA columns when determining the result dtypes. To retain the old behavior, exclude the relevant entries before the concat operation.\n",
      "  df = pd.concat(\n",
      "[INFO 08-22 07:05:17] ax.early_stopping.strategies.base: Last progression of any candidate for trial stopping is 0.19994666666666666.\n"
     ]
    },
    {
     "name": "stderr",
     "output_type": "stream",
     "text": [
      "[INFO 08-22 07:05:17] ax.early_stopping.strategies.base: No trials have reached 0.3. Not stopping any trials.\n"
     ]
    },
    {
     "name": "stderr",
     "output_type": "stream",
     "text": [
      "[INFO 08-22 07:05:17] Scheduler: Waiting for completed trials (for 10 sec, currently running trials: 3).\n"
     ]
    },
    {
     "name": "stderr",
     "output_type": "stream",
     "text": [
      "[INFO 08-22 07:05:27] Scheduler: Fetching data for newly completed trials: [].\n"
     ]
    },
    {
     "name": "stderr",
     "output_type": "stream",
     "text": [
      "[INFO 08-22 07:05:27] Scheduler: Fetching data for trials: 6 - 8 because some metrics on experiment are available while trials are running.\n"
     ]
    },
    {
     "name": "stderr",
     "output_type": "stream",
     "text": [
      "/tmp/tmp.oVbuNeLNgw/Ax-main/ax/core/map_data.py:192: FutureWarning: The behavior of DataFrame concatenation with empty or all-NA entries is deprecated. In a future version, this will no longer exclude empty or all-NA columns when determining the result dtypes. To retain the old behavior, exclude the relevant entries before the concat operation.\n",
      "  df = pd.concat(\n",
      "/tmp/tmp.oVbuNeLNgw/Ax-main/ax/core/map_data.py:192: FutureWarning: The behavior of DataFrame concatenation with empty or all-NA entries is deprecated. In a future version, this will no longer exclude empty or all-NA columns when determining the result dtypes. To retain the old behavior, exclude the relevant entries before the concat operation.\n",
      "  df = pd.concat(\n",
      "[INFO 08-22 07:05:28] ax.early_stopping.strategies.base: Last progression of any candidate for trial stopping is 0.19994666666666666.\n"
     ]
    },
    {
     "name": "stderr",
     "output_type": "stream",
     "text": [
      "[INFO 08-22 07:05:28] ax.early_stopping.strategies.base: No trials have reached 0.3. Not stopping any trials.\n"
     ]
    },
    {
     "name": "stderr",
     "output_type": "stream",
     "text": [
      "[INFO 08-22 07:05:28] Scheduler: Waiting for completed trials (for 10 sec, currently running trials: 3).\n"
     ]
    },
    {
     "name": "stderr",
     "output_type": "stream",
     "text": [
      "[INFO 08-22 07:05:38] Scheduler: Fetching data for newly completed trials: [].\n"
     ]
    },
    {
     "name": "stderr",
     "output_type": "stream",
     "text": [
      "[INFO 08-22 07:05:38] Scheduler: Fetching data for trials: 6 - 8 because some metrics on experiment are available while trials are running.\n"
     ]
    },
    {
     "name": "stderr",
     "output_type": "stream",
     "text": [
      "/tmp/tmp.oVbuNeLNgw/Ax-main/ax/core/map_data.py:192: FutureWarning: The behavior of DataFrame concatenation with empty or all-NA entries is deprecated. In a future version, this will no longer exclude empty or all-NA columns when determining the result dtypes. To retain the old behavior, exclude the relevant entries before the concat operation.\n",
      "  df = pd.concat(\n",
      "/tmp/tmp.oVbuNeLNgw/Ax-main/ax/core/map_data.py:192: FutureWarning: The behavior of DataFrame concatenation with empty or all-NA entries is deprecated. In a future version, this will no longer exclude empty or all-NA columns when determining the result dtypes. To retain the old behavior, exclude the relevant entries before the concat operation.\n",
      "  df = pd.concat(\n",
      "[INFO 08-22 07:05:38] ax.early_stopping.strategies.base: Last progression of any candidate for trial stopping is 0.19994666666666666.\n"
     ]
    },
    {
     "name": "stderr",
     "output_type": "stream",
     "text": [
      "[INFO 08-22 07:05:38] ax.early_stopping.strategies.base: No trials have reached 0.3. Not stopping any trials.\n"
     ]
    },
    {
     "name": "stderr",
     "output_type": "stream",
     "text": [
      "[INFO 08-22 07:05:38] Scheduler: Waiting for completed trials (for 10 sec, currently running trials: 3).\n"
     ]
    },
    {
     "name": "stderr",
     "output_type": "stream",
     "text": [
      "[INFO 08-22 07:05:48] Scheduler: Fetching data for newly completed trials: [].\n"
     ]
    },
    {
     "name": "stderr",
     "output_type": "stream",
     "text": [
      "[INFO 08-22 07:05:48] Scheduler: Fetching data for trials: 6 - 8 because some metrics on experiment are available while trials are running.\n"
     ]
    },
    {
     "name": "stderr",
     "output_type": "stream",
     "text": [
      "/tmp/tmp.oVbuNeLNgw/Ax-main/ax/core/map_data.py:192: FutureWarning: The behavior of DataFrame concatenation with empty or all-NA entries is deprecated. In a future version, this will no longer exclude empty or all-NA columns when determining the result dtypes. To retain the old behavior, exclude the relevant entries before the concat operation.\n",
      "  df = pd.concat(\n",
      "/tmp/tmp.oVbuNeLNgw/Ax-main/ax/core/map_data.py:192: FutureWarning: The behavior of DataFrame concatenation with empty or all-NA entries is deprecated. In a future version, this will no longer exclude empty or all-NA columns when determining the result dtypes. To retain the old behavior, exclude the relevant entries before the concat operation.\n",
      "  df = pd.concat(\n",
      "[INFO 08-22 07:05:48] ax.early_stopping.strategies.base: Last progression of any candidate for trial stopping is 0.29994666666666664.\n"
     ]
    },
    {
     "name": "stderr",
     "output_type": "stream",
     "text": [
      "[INFO 08-22 07:05:48] ax.early_stopping.strategies.base: No trials have reached 0.3. Not stopping any trials.\n"
     ]
    },
    {
     "name": "stderr",
     "output_type": "stream",
     "text": [
      "[INFO 08-22 07:05:48] Scheduler: Waiting for completed trials (for 10 sec, currently running trials: 3).\n"
     ]
    },
    {
     "name": "stderr",
     "output_type": "stream",
     "text": [
      "[INFO 08-22 07:05:58] Scheduler: Fetching data for newly completed trials: [].\n"
     ]
    },
    {
     "name": "stderr",
     "output_type": "stream",
     "text": [
      "[INFO 08-22 07:05:58] Scheduler: Fetching data for trials: 6 - 8 because some metrics on experiment are available while trials are running.\n"
     ]
    },
    {
     "name": "stderr",
     "output_type": "stream",
     "text": [
      "/tmp/tmp.oVbuNeLNgw/Ax-main/ax/core/map_data.py:192: FutureWarning: The behavior of DataFrame concatenation with empty or all-NA entries is deprecated. In a future version, this will no longer exclude empty or all-NA columns when determining the result dtypes. To retain the old behavior, exclude the relevant entries before the concat operation.\n",
      "  df = pd.concat(\n",
      "/tmp/tmp.oVbuNeLNgw/Ax-main/ax/core/map_data.py:192: FutureWarning: The behavior of DataFrame concatenation with empty or all-NA entries is deprecated. In a future version, this will no longer exclude empty or all-NA columns when determining the result dtypes. To retain the old behavior, exclude the relevant entries before the concat operation.\n",
      "  df = pd.concat(\n",
      "[INFO 08-22 07:05:58] ax.early_stopping.strategies.base: Last progression of any candidate for trial stopping is 0.29994666666666664.\n"
     ]
    },
    {
     "name": "stderr",
     "output_type": "stream",
     "text": [
      "[INFO 08-22 07:05:58] ax.early_stopping.strategies.base: No trials have reached 0.3. Not stopping any trials.\n"
     ]
    },
    {
     "name": "stderr",
     "output_type": "stream",
     "text": [
      "[INFO 08-22 07:05:58] Scheduler: Waiting for completed trials (for 10 sec, currently running trials: 3).\n"
     ]
    },
    {
     "name": "stderr",
     "output_type": "stream",
     "text": [
      "[INFO 08-22 07:06:08] Scheduler: Fetching data for newly completed trials: [].\n"
     ]
    },
    {
     "name": "stderr",
     "output_type": "stream",
     "text": [
      "[INFO 08-22 07:06:08] Scheduler: Fetching data for trials: 6 - 8 because some metrics on experiment are available while trials are running.\n"
     ]
    },
    {
     "name": "stderr",
     "output_type": "stream",
     "text": [
      "/tmp/tmp.oVbuNeLNgw/Ax-main/ax/core/map_data.py:192: FutureWarning: The behavior of DataFrame concatenation with empty or all-NA entries is deprecated. In a future version, this will no longer exclude empty or all-NA columns when determining the result dtypes. To retain the old behavior, exclude the relevant entries before the concat operation.\n",
      "  df = pd.concat(\n",
      "/tmp/tmp.oVbuNeLNgw/Ax-main/ax/core/map_data.py:192: FutureWarning: The behavior of DataFrame concatenation with empty or all-NA entries is deprecated. In a future version, this will no longer exclude empty or all-NA columns when determining the result dtypes. To retain the old behavior, exclude the relevant entries before the concat operation.\n",
      "  df = pd.concat(\n",
      "[INFO 08-22 07:06:08] ax.early_stopping.strategies.base: Last progression of any candidate for trial stopping is 0.29994666666666664.\n"
     ]
    },
    {
     "name": "stderr",
     "output_type": "stream",
     "text": [
      "[INFO 08-22 07:06:08] ax.early_stopping.strategies.base: No trials have reached 0.3. Not stopping any trials.\n"
     ]
    },
    {
     "name": "stderr",
     "output_type": "stream",
     "text": [
      "[INFO 08-22 07:06:08] Scheduler: Waiting for completed trials (for 10 sec, currently running trials: 3).\n"
     ]
    },
    {
     "name": "stderr",
     "output_type": "stream",
     "text": [
      "[INFO 08-22 07:06:18] Scheduler: Fetching data for newly completed trials: [].\n"
     ]
    },
    {
     "name": "stderr",
     "output_type": "stream",
     "text": [
      "[INFO 08-22 07:06:18] Scheduler: Fetching data for trials: 6 - 8 because some metrics on experiment are available while trials are running.\n"
     ]
    },
    {
     "name": "stderr",
     "output_type": "stream",
     "text": [
      "/tmp/tmp.oVbuNeLNgw/Ax-main/ax/core/map_data.py:192: FutureWarning: The behavior of DataFrame concatenation with empty or all-NA entries is deprecated. In a future version, this will no longer exclude empty or all-NA columns when determining the result dtypes. To retain the old behavior, exclude the relevant entries before the concat operation.\n",
      "  df = pd.concat(\n",
      "/tmp/tmp.oVbuNeLNgw/Ax-main/ax/core/map_data.py:192: FutureWarning: The behavior of DataFrame concatenation with empty or all-NA entries is deprecated. In a future version, this will no longer exclude empty or all-NA columns when determining the result dtypes. To retain the old behavior, exclude the relevant entries before the concat operation.\n",
      "  df = pd.concat(\n",
      "[INFO 08-22 07:06:18] ax.early_stopping.strategies.base: Last progression of any candidate for trial stopping is 0.29994666666666664.\n"
     ]
    },
    {
     "name": "stderr",
     "output_type": "stream",
     "text": [
      "[INFO 08-22 07:06:18] ax.early_stopping.strategies.base: No trials have reached 0.3. Not stopping any trials.\n"
     ]
    },
    {
     "name": "stderr",
     "output_type": "stream",
     "text": [
      "[INFO 08-22 07:06:18] Scheduler: Waiting for completed trials (for 10 sec, currently running trials: 3).\n"
     ]
    },
    {
     "name": "stderr",
     "output_type": "stream",
     "text": [
      "[INFO 08-22 07:06:28] Scheduler: Fetching data for newly completed trials: [].\n"
     ]
    },
    {
     "name": "stderr",
     "output_type": "stream",
     "text": [
      "[INFO 08-22 07:06:28] Scheduler: Fetching data for trials: 6 - 8 because some metrics on experiment are available while trials are running.\n"
     ]
    },
    {
     "name": "stderr",
     "output_type": "stream",
     "text": [
      "/tmp/tmp.oVbuNeLNgw/Ax-main/ax/core/map_data.py:192: FutureWarning: The behavior of DataFrame concatenation with empty or all-NA entries is deprecated. In a future version, this will no longer exclude empty or all-NA columns when determining the result dtypes. To retain the old behavior, exclude the relevant entries before the concat operation.\n",
      "  df = pd.concat(\n",
      "/tmp/tmp.oVbuNeLNgw/Ax-main/ax/core/map_data.py:192: FutureWarning: The behavior of DataFrame concatenation with empty or all-NA entries is deprecated. In a future version, this will no longer exclude empty or all-NA columns when determining the result dtypes. To retain the old behavior, exclude the relevant entries before the concat operation.\n",
      "  df = pd.concat(\n",
      "[INFO 08-22 07:06:28] ax.early_stopping.strategies.base: Last progression of any candidate for trial stopping is 0.3999466666666667.\n"
     ]
    },
    {
     "name": "stderr",
     "output_type": "stream",
     "text": [
      "[INFO 08-22 07:06:28] ax.early_stopping.strategies.percentile: Considering trial 6 for early stopping.\n"
     ]
    },
    {
     "name": "stderr",
     "output_type": "stream",
     "text": [
      "[INFO 08-22 07:06:28] ax.early_stopping.strategies.base: Last progression of Trial 6 is 0.3999466666666667.\n"
     ]
    },
    {
     "name": "stderr",
     "output_type": "stream",
     "text": [
      "[INFO 08-22 07:06:29] ax.early_stopping.strategies.percentile: Early stopping objective at last progression is:\n",
      "1    0.841107\n",
      "2    0.956326\n",
      "3    0.932814\n",
      "4    0.908913\n",
      "5    0.962078\n",
      "6    0.900962\n",
      "Name: 0.3999466666666667, dtype: float64.\n"
     ]
    },
    {
     "name": "stderr",
     "output_type": "stream",
     "text": [
      "[INFO 08-22 07:06:29] ax.early_stopping.strategies.percentile: Early stopping decision for 6: True. Reason: Trial objective value 0.9009616046116271 is worse than 70.0-th percentile (0.9445703655040909) across comparable trials.\n"
     ]
    },
    {
     "name": "stderr",
     "output_type": "stream",
     "text": [
      "[INFO 08-22 07:06:29] ax.early_stopping.strategies.percentile: Considering trial 7 for early stopping.\n"
     ]
    },
    {
     "name": "stderr",
     "output_type": "stream",
     "text": [
      "[INFO 08-22 07:06:29] ax.early_stopping.strategies.base: Last progression of Trial 7 is 0.29994666666666664.\n"
     ]
    },
    {
     "name": "stderr",
     "output_type": "stream",
     "text": [
      "[INFO 08-22 07:06:29] ax.early_stopping.strategies.base: Trial 7's most recent progression (0.29994666666666664) that is available for metric val_acc falls out of the min/max_progression range (0.3, None). Not early stopping this trial.\n"
     ]
    },
    {
     "name": "stderr",
     "output_type": "stream",
     "text": [
      "[INFO 08-22 07:06:29] ax.early_stopping.strategies.percentile: Considering trial 8 for early stopping.\n"
     ]
    },
    {
     "name": "stderr",
     "output_type": "stream",
     "text": [
      "[INFO 08-22 07:06:29] ax.early_stopping.strategies.base: Last progression of Trial 8 is 0.29994666666666664.\n"
     ]
    },
    {
     "name": "stderr",
     "output_type": "stream",
     "text": [
      "[INFO 08-22 07:06:29] ax.early_stopping.strategies.base: Trial 8's most recent progression (0.29994666666666664) that is available for metric val_acc falls out of the min/max_progression range (0.3, None). Not early stopping this trial.\n"
     ]
    },
    {
     "name": "stderr",
     "output_type": "stream",
     "text": [
      "/tmp/tmp.oVbuNeLNgw/Ax-main/ax/core/map_data.py:192: FutureWarning: The behavior of DataFrame concatenation with empty or all-NA entries is deprecated. In a future version, this will no longer exclude empty or all-NA columns when determining the result dtypes. To retain the old behavior, exclude the relevant entries before the concat operation.\n",
      "  df = pd.concat(\n"
     ]
    },
    {
     "name": "stderr",
     "output_type": "stream",
     "text": [
      "[INFO 08-22 07:06:32] Scheduler: Running trials [9]...\n"
     ]
    },
    {
     "name": "stderr",
     "output_type": "stream",
     "text": [
      "/tmp/tmp.oVbuNeLNgw/Ax-main/ax/core/map_data.py:192: FutureWarning: The behavior of DataFrame concatenation with empty or all-NA entries is deprecated. In a future version, this will no longer exclude empty or all-NA columns when determining the result dtypes. To retain the old behavior, exclude the relevant entries before the concat operation.\n",
      "  df = pd.concat(\n"
     ]
    },
    {
     "name": "stderr",
     "output_type": "stream",
     "text": [
      "[INFO 08-22 07:06:34] Scheduler: Generated all trials that can be generated currently. Max parallelism currently reached.\n"
     ]
    },
    {
     "name": "stderr",
     "output_type": "stream",
     "text": [
      "[WARNING 08-22 07:06:34] Scheduler: Both `init_seconds_between_polls` and `early_stopping_strategy supplied. `init_seconds_between_polls=1` will be overrridden by `early_stopping_strategy.seconds_between_polls=10` and polling will take place at a constant rate.\n"
     ]
    },
    {
     "name": "stderr",
     "output_type": "stream",
     "text": [
      "[INFO 08-22 07:06:34] Scheduler: Fetching data for newly completed trials: [].\n"
     ]
    },
    {
     "name": "stderr",
     "output_type": "stream",
     "text": [
      "[INFO 08-22 07:06:34] Scheduler: Fetching data for trials: 7 - 9 because some metrics on experiment are available while trials are running.\n"
     ]
    },
    {
     "name": "stderr",
     "output_type": "stream",
     "text": [
      "[INFO 08-22 07:06:34] ax.core.metric: MetricFetchE INFO: Initialized MetricFetchE(message=\"No 'scalar' data found for trial in multiplexer mul=<tensorboard.backend.event_processing.plugin_event_multiplexer.EventMultiplexer object at 0x7f65b827ffd0>\")\n"
     ]
    },
    {
     "name": "stderr",
     "output_type": "stream",
     "text": [
      "[ERROR 08-22 07:06:34] ax.core.experiment: Discovered Metric fetching Err while attaching data MetricFetchE(message=\"No 'scalar' data found for trial in multiplexer mul=<tensorboard.backend.event_processing.plugin_event_multiplexer.EventMultiplexer object at 0x7f65b827ffd0>\"). Ignoring for now -- will retry query on next call to fetch.\n"
     ]
    },
    {
     "name": "stderr",
     "output_type": "stream",
     "text": [
      "/tmp/tmp.oVbuNeLNgw/Ax-main/ax/core/map_data.py:192: FutureWarning: The behavior of DataFrame concatenation with empty or all-NA entries is deprecated. In a future version, this will no longer exclude empty or all-NA columns when determining the result dtypes. To retain the old behavior, exclude the relevant entries before the concat operation.\n",
      "  df = pd.concat(\n",
      "[WARNING 08-22 07:06:34] Scheduler: Failed to fetch val_acc for trial 9, found MetricFetchE(message=\"No 'scalar' data found for trial in multiplexer mul=<tensorboard.backend.event_processing.plugin_event_multiplexer.EventMultiplexer object at 0x7f65b827ffd0>\").\n"
     ]
    },
    {
     "name": "stderr",
     "output_type": "stream",
     "text": [
      "[INFO 08-22 07:06:34] Scheduler: MetricFetchE INFO: Because val_acc is available_while_running and trial 9 is still RUNNING continuing the experiment and retrying on next poll...\n"
     ]
    },
    {
     "name": "stderr",
     "output_type": "stream",
     "text": [
      "/tmp/tmp.oVbuNeLNgw/Ax-main/ax/core/map_data.py:192: FutureWarning: The behavior of DataFrame concatenation with empty or all-NA entries is deprecated. In a future version, this will no longer exclude empty or all-NA columns when determining the result dtypes. To retain the old behavior, exclude the relevant entries before the concat operation.\n",
      "  df = pd.concat(\n",
      "[INFO 08-22 07:06:34] ax.early_stopping.strategies.base: Last progression of any candidate for trial stopping is 0.29994666666666664.\n"
     ]
    },
    {
     "name": "stderr",
     "output_type": "stream",
     "text": [
      "[INFO 08-22 07:06:34] ax.early_stopping.strategies.base: No trials have reached 0.3. Not stopping any trials.\n"
     ]
    },
    {
     "name": "stderr",
     "output_type": "stream",
     "text": [
      "[INFO 08-22 07:06:34] Scheduler: Waiting for completed trials (for 10 sec, currently running trials: 3).\n"
     ]
    },
    {
     "name": "stderr",
     "output_type": "stream",
     "text": [
      "[INFO 08-22 07:06:44] Scheduler: Fetching data for newly completed trials: [].\n"
     ]
    },
    {
     "name": "stderr",
     "output_type": "stream",
     "text": [
      "[INFO 08-22 07:06:44] Scheduler: Fetching data for trials: 7 - 9 because some metrics on experiment are available while trials are running.\n"
     ]
    },
    {
     "name": "stderr",
     "output_type": "stream",
     "text": [
      "[INFO 08-22 07:06:44] ax.core.metric: MetricFetchE INFO: Initialized MetricFetchE(message=\"No 'scalar' data found for trial in multiplexer mul=<tensorboard.backend.event_processing.plugin_event_multiplexer.EventMultiplexer object at 0x7f65b827d030>\")\n"
     ]
    },
    {
     "name": "stderr",
     "output_type": "stream",
     "text": [
      "[ERROR 08-22 07:06:44] ax.core.experiment: Discovered Metric fetching Err while attaching data MetricFetchE(message=\"No 'scalar' data found for trial in multiplexer mul=<tensorboard.backend.event_processing.plugin_event_multiplexer.EventMultiplexer object at 0x7f65b827d030>\"). Ignoring for now -- will retry query on next call to fetch.\n"
     ]
    },
    {
     "name": "stderr",
     "output_type": "stream",
     "text": [
      "/tmp/tmp.oVbuNeLNgw/Ax-main/ax/core/map_data.py:192: FutureWarning: The behavior of DataFrame concatenation with empty or all-NA entries is deprecated. In a future version, this will no longer exclude empty or all-NA columns when determining the result dtypes. To retain the old behavior, exclude the relevant entries before the concat operation.\n",
      "  df = pd.concat(\n",
      "[WARNING 08-22 07:06:44] Scheduler: Failed to fetch val_acc for trial 9, found MetricFetchE(message=\"No 'scalar' data found for trial in multiplexer mul=<tensorboard.backend.event_processing.plugin_event_multiplexer.EventMultiplexer object at 0x7f65b827d030>\").\n"
     ]
    },
    {
     "name": "stderr",
     "output_type": "stream",
     "text": [
      "[INFO 08-22 07:06:44] Scheduler: MetricFetchE INFO: Because val_acc is available_while_running and trial 9 is still RUNNING continuing the experiment and retrying on next poll...\n"
     ]
    },
    {
     "name": "stderr",
     "output_type": "stream",
     "text": [
      "/tmp/tmp.oVbuNeLNgw/Ax-main/ax/core/map_data.py:192: FutureWarning: The behavior of DataFrame concatenation with empty or all-NA entries is deprecated. In a future version, this will no longer exclude empty or all-NA columns when determining the result dtypes. To retain the old behavior, exclude the relevant entries before the concat operation.\n",
      "  df = pd.concat(\n",
      "[INFO 08-22 07:06:44] ax.early_stopping.strategies.base: Last progression of any candidate for trial stopping is 0.3999466666666667.\n"
     ]
    },
    {
     "name": "stderr",
     "output_type": "stream",
     "text": [
      "[INFO 08-22 07:06:44] ax.early_stopping.strategies.percentile: Considering trial 7 for early stopping.\n"
     ]
    },
    {
     "name": "stderr",
     "output_type": "stream",
     "text": [
      "[INFO 08-22 07:06:44] ax.early_stopping.strategies.base: Last progression of Trial 7 is 0.3999466666666667.\n"
     ]
    },
    {
     "name": "stderr",
     "output_type": "stream",
     "text": [
      "[INFO 08-22 07:06:44] ax.early_stopping.strategies.percentile: Early stopping objective at last progression is:\n",
      "1    0.841107\n",
      "2    0.956326\n",
      "3    0.932814\n",
      "4    0.908913\n",
      "5    0.962078\n",
      "6    0.900962\n",
      "7    0.936396\n",
      "Name: 0.3999466666666667, dtype: float64.\n"
     ]
    },
    {
     "name": "stderr",
     "output_type": "stream",
     "text": [
      "[INFO 08-22 07:06:44] ax.early_stopping.strategies.percentile: Early stopping decision for 7: True. Reason: Trial objective value 0.9363960391782188 is worse than 70.0-th percentile (0.940382089814529) across comparable trials.\n"
     ]
    },
    {
     "name": "stderr",
     "output_type": "stream",
     "text": [
      "[INFO 08-22 07:06:44] ax.early_stopping.strategies.percentile: Considering trial 8 for early stopping.\n"
     ]
    },
    {
     "name": "stderr",
     "output_type": "stream",
     "text": [
      "[INFO 08-22 07:06:45] ax.early_stopping.strategies.base: Last progression of Trial 8 is 0.29994666666666664.\n"
     ]
    },
    {
     "name": "stderr",
     "output_type": "stream",
     "text": [
      "[INFO 08-22 07:06:45] ax.early_stopping.strategies.base: Trial 8's most recent progression (0.29994666666666664) that is available for metric val_acc falls out of the min/max_progression range (0.3, None). Not early stopping this trial.\n"
     ]
    },
    {
     "name": "stderr",
     "output_type": "stream",
     "text": [
      "[INFO 08-22 07:06:45] ax.early_stopping.strategies.percentile: Considering trial 9 for early stopping.\n"
     ]
    },
    {
     "name": "stderr",
     "output_type": "stream",
     "text": [
      "[INFO 08-22 07:06:45] ax.early_stopping.strategies.base: There is not yet any data associated with trial 9 and metric val_acc. Not early stopping this trial.\n"
     ]
    },
    {
     "name": "stderr",
     "output_type": "stream",
     "text": [
      "/tmp/tmp.oVbuNeLNgw/Ax-main/ax/core/map_data.py:192: FutureWarning: The behavior of DataFrame concatenation with empty or all-NA entries is deprecated. In a future version, this will no longer exclude empty or all-NA columns when determining the result dtypes. To retain the old behavior, exclude the relevant entries before the concat operation.\n",
      "  df = pd.concat(\n"
     ]
    },
    {
     "name": "stderr",
     "output_type": "stream",
     "text": [
      "[INFO 08-22 07:06:49] Scheduler: Running trials [10]...\n"
     ]
    },
    {
     "name": "stderr",
     "output_type": "stream",
     "text": [
      "/tmp/tmp.oVbuNeLNgw/Ax-main/ax/core/map_data.py:192: FutureWarning: The behavior of DataFrame concatenation with empty or all-NA entries is deprecated. In a future version, this will no longer exclude empty or all-NA columns when determining the result dtypes. To retain the old behavior, exclude the relevant entries before the concat operation.\n",
      "  df = pd.concat(\n"
     ]
    },
    {
     "name": "stderr",
     "output_type": "stream",
     "text": [
      "[INFO 08-22 07:06:50] Scheduler: Generated all trials that can be generated currently. Max parallelism currently reached.\n"
     ]
    },
    {
     "name": "stderr",
     "output_type": "stream",
     "text": [
      "[WARNING 08-22 07:06:50] Scheduler: Both `init_seconds_between_polls` and `early_stopping_strategy supplied. `init_seconds_between_polls=1` will be overrridden by `early_stopping_strategy.seconds_between_polls=10` and polling will take place at a constant rate.\n"
     ]
    },
    {
     "name": "stderr",
     "output_type": "stream",
     "text": [
      "[INFO 08-22 07:06:50] Scheduler: Fetching data for newly completed trials: [].\n"
     ]
    },
    {
     "name": "stderr",
     "output_type": "stream",
     "text": [
      "[INFO 08-22 07:06:50] Scheduler: Fetching data for trials: 8 - 10 because some metrics on experiment are available while trials are running.\n"
     ]
    },
    {
     "name": "stderr",
     "output_type": "stream",
     "text": [
      "[INFO 08-22 07:06:50] ax.core.metric: MetricFetchE INFO: Initialized MetricFetchE(message=\"No 'scalar' data found for trial in multiplexer mul=<tensorboard.backend.event_processing.plugin_event_multiplexer.EventMultiplexer object at 0x7f65b8293100>\")\n"
     ]
    },
    {
     "name": "stderr",
     "output_type": "stream",
     "text": [
      "[INFO 08-22 07:06:50] ax.core.metric: MetricFetchE INFO: Initialized MetricFetchE(message=\"No 'scalar' data found for trial in multiplexer mul=<tensorboard.backend.event_processing.plugin_event_multiplexer.EventMultiplexer object at 0x7f65b82933a0>\")\n"
     ]
    },
    {
     "name": "stderr",
     "output_type": "stream",
     "text": [
      "[ERROR 08-22 07:06:50] ax.core.experiment: Discovered Metric fetching Err while attaching data MetricFetchE(message=\"No 'scalar' data found for trial in multiplexer mul=<tensorboard.backend.event_processing.plugin_event_multiplexer.EventMultiplexer object at 0x7f65b8293100>\"). Ignoring for now -- will retry query on next call to fetch.\n"
     ]
    },
    {
     "name": "stderr",
     "output_type": "stream",
     "text": [
      "[ERROR 08-22 07:06:50] ax.core.experiment: Discovered Metric fetching Err while attaching data MetricFetchE(message=\"No 'scalar' data found for trial in multiplexer mul=<tensorboard.backend.event_processing.plugin_event_multiplexer.EventMultiplexer object at 0x7f65b82933a0>\"). Ignoring for now -- will retry query on next call to fetch.\n"
     ]
    },
    {
     "name": "stderr",
     "output_type": "stream",
     "text": [
      "/tmp/tmp.oVbuNeLNgw/Ax-main/ax/core/map_data.py:192: FutureWarning: The behavior of DataFrame concatenation with empty or all-NA entries is deprecated. In a future version, this will no longer exclude empty or all-NA columns when determining the result dtypes. To retain the old behavior, exclude the relevant entries before the concat operation.\n",
      "  df = pd.concat(\n",
      "[WARNING 08-22 07:06:50] Scheduler: Failed to fetch val_acc for trial 9, found MetricFetchE(message=\"No 'scalar' data found for trial in multiplexer mul=<tensorboard.backend.event_processing.plugin_event_multiplexer.EventMultiplexer object at 0x7f65b8293100>\").\n"
     ]
    },
    {
     "name": "stderr",
     "output_type": "stream",
     "text": [
      "[INFO 08-22 07:06:50] Scheduler: MetricFetchE INFO: Because val_acc is available_while_running and trial 9 is still RUNNING continuing the experiment and retrying on next poll...\n"
     ]
    },
    {
     "name": "stderr",
     "output_type": "stream",
     "text": [
      "[WARNING 08-22 07:06:50] Scheduler: Failed to fetch val_acc for trial 10, found MetricFetchE(message=\"No 'scalar' data found for trial in multiplexer mul=<tensorboard.backend.event_processing.plugin_event_multiplexer.EventMultiplexer object at 0x7f65b82933a0>\").\n"
     ]
    },
    {
     "name": "stderr",
     "output_type": "stream",
     "text": [
      "[INFO 08-22 07:06:50] Scheduler: MetricFetchE INFO: Because val_acc is available_while_running and trial 10 is still RUNNING continuing the experiment and retrying on next poll...\n"
     ]
    },
    {
     "name": "stderr",
     "output_type": "stream",
     "text": [
      "/tmp/tmp.oVbuNeLNgw/Ax-main/ax/core/map_data.py:192: FutureWarning: The behavior of DataFrame concatenation with empty or all-NA entries is deprecated. In a future version, this will no longer exclude empty or all-NA columns when determining the result dtypes. To retain the old behavior, exclude the relevant entries before the concat operation.\n",
      "  df = pd.concat(\n",
      "[INFO 08-22 07:06:50] ax.early_stopping.strategies.base: Last progression of any candidate for trial stopping is 0.3999466666666667.\n"
     ]
    },
    {
     "name": "stderr",
     "output_type": "stream",
     "text": [
      "[INFO 08-22 07:06:50] ax.early_stopping.strategies.percentile: Considering trial 8 for early stopping.\n"
     ]
    },
    {
     "name": "stderr",
     "output_type": "stream",
     "text": [
      "[INFO 08-22 07:06:50] ax.early_stopping.strategies.base: Last progression of Trial 8 is 0.3999466666666667.\n"
     ]
    },
    {
     "name": "stderr",
     "output_type": "stream",
     "text": [
      "[INFO 08-22 07:06:50] ax.early_stopping.strategies.percentile: Early stopping objective at last progression is:\n",
      "1    0.841107\n",
      "2    0.956326\n",
      "3    0.932814\n",
      "4    0.908913\n",
      "5    0.962078\n",
      "6    0.900962\n",
      "7    0.936396\n",
      "8    0.902637\n",
      "Name: 0.3999466666666667, dtype: float64.\n"
     ]
    },
    {
     "name": "stderr",
     "output_type": "stream",
     "text": [
      "[INFO 08-22 07:06:50] ax.early_stopping.strategies.percentile: Early stopping decision for 8: True. Reason: Trial objective value 0.9026373862632977 is worse than 70.0-th percentile (0.9360378791252381) across comparable trials.\n"
     ]
    },
    {
     "name": "stderr",
     "output_type": "stream",
     "text": [
      "[INFO 08-22 07:06:50] ax.early_stopping.strategies.percentile: Considering trial 9 for early stopping.\n"
     ]
    },
    {
     "name": "stderr",
     "output_type": "stream",
     "text": [
      "[INFO 08-22 07:06:50] ax.early_stopping.strategies.base: There is not yet any data associated with trial 9 and metric val_acc. Not early stopping this trial.\n"
     ]
    },
    {
     "name": "stderr",
     "output_type": "stream",
     "text": [
      "[INFO 08-22 07:06:50] ax.early_stopping.strategies.percentile: Considering trial 10 for early stopping.\n"
     ]
    },
    {
     "name": "stderr",
     "output_type": "stream",
     "text": [
      "[INFO 08-22 07:06:50] ax.early_stopping.strategies.base: There is not yet any data associated with trial 10 and metric val_acc. Not early stopping this trial.\n"
     ]
    },
    {
     "name": "stderr",
     "output_type": "stream",
     "text": [
      "/tmp/tmp.oVbuNeLNgw/Ax-main/ax/core/map_data.py:192: FutureWarning: The behavior of DataFrame concatenation with empty or all-NA entries is deprecated. In a future version, this will no longer exclude empty or all-NA columns when determining the result dtypes. To retain the old behavior, exclude the relevant entries before the concat operation.\n",
      "  df = pd.concat(\n"
     ]
    },
    {
     "name": "stderr",
     "output_type": "stream",
     "text": [
      "[INFO 08-22 07:06:56] Scheduler: Running trials [11]...\n"
     ]
    },
    {
     "name": "stderr",
     "output_type": "stream",
     "text": [
      "/tmp/tmp.oVbuNeLNgw/Ax-main/ax/core/map_data.py:192: FutureWarning: The behavior of DataFrame concatenation with empty or all-NA entries is deprecated. In a future version, this will no longer exclude empty or all-NA columns when determining the result dtypes. To retain the old behavior, exclude the relevant entries before the concat operation.\n",
      "  df = pd.concat(\n"
     ]
    },
    {
     "name": "stderr",
     "output_type": "stream",
     "text": [
      "[INFO 08-22 07:06:57] Scheduler: Generated all trials that can be generated currently. Max parallelism currently reached.\n"
     ]
    },
    {
     "name": "stderr",
     "output_type": "stream",
     "text": [
      "[WARNING 08-22 07:06:57] Scheduler: Both `init_seconds_between_polls` and `early_stopping_strategy supplied. `init_seconds_between_polls=1` will be overrridden by `early_stopping_strategy.seconds_between_polls=10` and polling will take place at a constant rate.\n"
     ]
    },
    {
     "name": "stderr",
     "output_type": "stream",
     "text": [
      "[INFO 08-22 07:06:57] Scheduler: Fetching data for newly completed trials: [].\n"
     ]
    },
    {
     "name": "stderr",
     "output_type": "stream",
     "text": [
      "[INFO 08-22 07:06:57] Scheduler: Fetching data for trials: 9 - 11 because some metrics on experiment are available while trials are running.\n"
     ]
    },
    {
     "name": "stderr",
     "output_type": "stream",
     "text": [
      "[INFO 08-22 07:06:57] ax.core.metric: MetricFetchE INFO: Initialized MetricFetchE(message=\"No 'scalar' data found for trial in multiplexer mul=<tensorboard.backend.event_processing.plugin_event_multiplexer.EventMultiplexer object at 0x7f65b8336b90>\")\n"
     ]
    },
    {
     "name": "stderr",
     "output_type": "stream",
     "text": [
      "[INFO 08-22 07:06:57] ax.core.metric: MetricFetchE INFO: Initialized MetricFetchE(message=\"No 'scalar' data found for trial in multiplexer mul=<tensorboard.backend.event_processing.plugin_event_multiplexer.EventMultiplexer object at 0x7f65b8336e60>\")\n"
     ]
    },
    {
     "name": "stderr",
     "output_type": "stream",
     "text": [
      "[INFO 08-22 07:06:57] ax.core.metric: MetricFetchE INFO: Initialized MetricFetchE(message=\"No 'scalar' data found for trial in multiplexer mul=<tensorboard.backend.event_processing.plugin_event_multiplexer.EventMultiplexer object at 0x7f65b8337850>\")\n"
     ]
    },
    {
     "name": "stderr",
     "output_type": "stream",
     "text": [
      "[ERROR 08-22 07:06:57] ax.core.experiment: Discovered Metric fetching Err while attaching data MetricFetchE(message=\"No 'scalar' data found for trial in multiplexer mul=<tensorboard.backend.event_processing.plugin_event_multiplexer.EventMultiplexer object at 0x7f65b8336b90>\"). Ignoring for now -- will retry query on next call to fetch.\n"
     ]
    },
    {
     "name": "stderr",
     "output_type": "stream",
     "text": [
      "[ERROR 08-22 07:06:57] ax.core.experiment: Discovered Metric fetching Err while attaching data MetricFetchE(message=\"No 'scalar' data found for trial in multiplexer mul=<tensorboard.backend.event_processing.plugin_event_multiplexer.EventMultiplexer object at 0x7f65b8336e60>\"). Ignoring for now -- will retry query on next call to fetch.\n"
     ]
    },
    {
     "name": "stderr",
     "output_type": "stream",
     "text": [
      "[ERROR 08-22 07:06:57] ax.core.experiment: Discovered Metric fetching Err while attaching data MetricFetchE(message=\"No 'scalar' data found for trial in multiplexer mul=<tensorboard.backend.event_processing.plugin_event_multiplexer.EventMultiplexer object at 0x7f65b8337850>\"). Ignoring for now -- will retry query on next call to fetch.\n"
     ]
    },
    {
     "name": "stderr",
     "output_type": "stream",
     "text": [
      "[WARNING 08-22 07:06:57] Scheduler: Failed to fetch val_acc for trial 9, found MetricFetchE(message=\"No 'scalar' data found for trial in multiplexer mul=<tensorboard.backend.event_processing.plugin_event_multiplexer.EventMultiplexer object at 0x7f65b8336b90>\").\n"
     ]
    },
    {
     "name": "stderr",
     "output_type": "stream",
     "text": [
      "[INFO 08-22 07:06:57] Scheduler: MetricFetchE INFO: Because val_acc is available_while_running and trial 9 is still RUNNING continuing the experiment and retrying on next poll...\n"
     ]
    },
    {
     "name": "stderr",
     "output_type": "stream",
     "text": [
      "[WARNING 08-22 07:06:57] Scheduler: Failed to fetch val_acc for trial 10, found MetricFetchE(message=\"No 'scalar' data found for trial in multiplexer mul=<tensorboard.backend.event_processing.plugin_event_multiplexer.EventMultiplexer object at 0x7f65b8336e60>\").\n"
     ]
    },
    {
     "name": "stderr",
     "output_type": "stream",
     "text": [
      "[INFO 08-22 07:06:57] Scheduler: MetricFetchE INFO: Because val_acc is available_while_running and trial 10 is still RUNNING continuing the experiment and retrying on next poll...\n"
     ]
    },
    {
     "name": "stderr",
     "output_type": "stream",
     "text": [
      "[WARNING 08-22 07:06:57] Scheduler: Failed to fetch val_acc for trial 11, found MetricFetchE(message=\"No 'scalar' data found for trial in multiplexer mul=<tensorboard.backend.event_processing.plugin_event_multiplexer.EventMultiplexer object at 0x7f65b8337850>\").\n"
     ]
    },
    {
     "name": "stderr",
     "output_type": "stream",
     "text": [
      "[INFO 08-22 07:06:57] Scheduler: MetricFetchE INFO: Because val_acc is available_while_running and trial 11 is still RUNNING continuing the experiment and retrying on next poll...\n"
     ]
    },
    {
     "name": "stderr",
     "output_type": "stream",
     "text": [
      "/tmp/tmp.oVbuNeLNgw/Ax-main/ax/core/map_data.py:192: FutureWarning: The behavior of DataFrame concatenation with empty or all-NA entries is deprecated. In a future version, this will no longer exclude empty or all-NA columns when determining the result dtypes. To retain the old behavior, exclude the relevant entries before the concat operation.\n",
      "  df = pd.concat(\n",
      "[INFO 08-22 07:06:58] ax.early_stopping.strategies.base: Last progression of any candidate for trial stopping is 0.\n"
     ]
    },
    {
     "name": "stderr",
     "output_type": "stream",
     "text": [
      "[INFO 08-22 07:06:58] ax.early_stopping.strategies.base: No trials have reached 0.3. Not stopping any trials.\n"
     ]
    },
    {
     "name": "stderr",
     "output_type": "stream",
     "text": [
      "[INFO 08-22 07:06:58] Scheduler: Waiting for completed trials (for 10 sec, currently running trials: 3).\n"
     ]
    },
    {
     "name": "stderr",
     "output_type": "stream",
     "text": [
      "[INFO 08-22 07:07:08] Scheduler: Fetching data for newly completed trials: [].\n"
     ]
    },
    {
     "name": "stderr",
     "output_type": "stream",
     "text": [
      "[INFO 08-22 07:07:08] Scheduler: Fetching data for trials: 9 - 11 because some metrics on experiment are available while trials are running.\n"
     ]
    },
    {
     "name": "stderr",
     "output_type": "stream",
     "text": [
      "[INFO 08-22 07:07:08] ax.core.metric: MetricFetchE INFO: Initialized MetricFetchE(message=\"No 'scalar' data found for trial in multiplexer mul=<tensorboard.backend.event_processing.plugin_event_multiplexer.EventMultiplexer object at 0x7f65b8337850>\")\n"
     ]
    },
    {
     "name": "stderr",
     "output_type": "stream",
     "text": [
      "[INFO 08-22 07:07:08] ax.core.metric: MetricFetchE INFO: Initialized MetricFetchE(message=\"No 'scalar' data found for trial in multiplexer mul=<tensorboard.backend.event_processing.plugin_event_multiplexer.EventMultiplexer object at 0x7f65b8337850>\")\n"
     ]
    },
    {
     "name": "stderr",
     "output_type": "stream",
     "text": [
      "[INFO 08-22 07:07:08] ax.core.metric: MetricFetchE INFO: Initialized MetricFetchE(message=\"No 'scalar' data found for trial in multiplexer mul=<tensorboard.backend.event_processing.plugin_event_multiplexer.EventMultiplexer object at 0x7f65b8337850>\")\n"
     ]
    },
    {
     "name": "stderr",
     "output_type": "stream",
     "text": [
      "[ERROR 08-22 07:07:08] ax.core.experiment: Discovered Metric fetching Err while attaching data MetricFetchE(message=\"No 'scalar' data found for trial in multiplexer mul=<tensorboard.backend.event_processing.plugin_event_multiplexer.EventMultiplexer object at 0x7f65b8337850>\"). Ignoring for now -- will retry query on next call to fetch.\n"
     ]
    },
    {
     "name": "stderr",
     "output_type": "stream",
     "text": [
      "[ERROR 08-22 07:07:08] ax.core.experiment: Discovered Metric fetching Err while attaching data MetricFetchE(message=\"No 'scalar' data found for trial in multiplexer mul=<tensorboard.backend.event_processing.plugin_event_multiplexer.EventMultiplexer object at 0x7f65b8337850>\"). Ignoring for now -- will retry query on next call to fetch.\n"
     ]
    },
    {
     "name": "stderr",
     "output_type": "stream",
     "text": [
      "[ERROR 08-22 07:07:08] ax.core.experiment: Discovered Metric fetching Err while attaching data MetricFetchE(message=\"No 'scalar' data found for trial in multiplexer mul=<tensorboard.backend.event_processing.plugin_event_multiplexer.EventMultiplexer object at 0x7f65b8337850>\"). Ignoring for now -- will retry query on next call to fetch.\n"
     ]
    },
    {
     "name": "stderr",
     "output_type": "stream",
     "text": [
      "[WARNING 08-22 07:07:08] Scheduler: Failed to fetch val_acc for trial 9, found MetricFetchE(message=\"No 'scalar' data found for trial in multiplexer mul=<tensorboard.backend.event_processing.plugin_event_multiplexer.EventMultiplexer object at 0x7f65b8337850>\").\n"
     ]
    },
    {
     "name": "stderr",
     "output_type": "stream",
     "text": [
      "[INFO 08-22 07:07:08] Scheduler: MetricFetchE INFO: Because val_acc is available_while_running and trial 9 is still RUNNING continuing the experiment and retrying on next poll...\n"
     ]
    },
    {
     "name": "stderr",
     "output_type": "stream",
     "text": [
      "[WARNING 08-22 07:07:08] Scheduler: Failed to fetch val_acc for trial 10, found MetricFetchE(message=\"No 'scalar' data found for trial in multiplexer mul=<tensorboard.backend.event_processing.plugin_event_multiplexer.EventMultiplexer object at 0x7f65b8337850>\").\n"
     ]
    },
    {
     "name": "stderr",
     "output_type": "stream",
     "text": [
      "[INFO 08-22 07:07:08] Scheduler: MetricFetchE INFO: Because val_acc is available_while_running and trial 10 is still RUNNING continuing the experiment and retrying on next poll...\n"
     ]
    },
    {
     "name": "stderr",
     "output_type": "stream",
     "text": [
      "[WARNING 08-22 07:07:08] Scheduler: Failed to fetch val_acc for trial 11, found MetricFetchE(message=\"No 'scalar' data found for trial in multiplexer mul=<tensorboard.backend.event_processing.plugin_event_multiplexer.EventMultiplexer object at 0x7f65b8337850>\").\n"
     ]
    },
    {
     "name": "stderr",
     "output_type": "stream",
     "text": [
      "[INFO 08-22 07:07:08] Scheduler: MetricFetchE INFO: Because val_acc is available_while_running and trial 11 is still RUNNING continuing the experiment and retrying on next poll...\n"
     ]
    },
    {
     "name": "stderr",
     "output_type": "stream",
     "text": [
      "/tmp/tmp.oVbuNeLNgw/Ax-main/ax/core/map_data.py:192: FutureWarning: The behavior of DataFrame concatenation with empty or all-NA entries is deprecated. In a future version, this will no longer exclude empty or all-NA columns when determining the result dtypes. To retain the old behavior, exclude the relevant entries before the concat operation.\n",
      "  df = pd.concat(\n",
      "[INFO 08-22 07:07:08] ax.early_stopping.strategies.base: Last progression of any candidate for trial stopping is 0.\n"
     ]
    },
    {
     "name": "stderr",
     "output_type": "stream",
     "text": [
      "[INFO 08-22 07:07:08] ax.early_stopping.strategies.base: No trials have reached 0.3. Not stopping any trials.\n"
     ]
    },
    {
     "name": "stderr",
     "output_type": "stream",
     "text": [
      "[INFO 08-22 07:07:08] Scheduler: Waiting for completed trials (for 10 sec, currently running trials: 3).\n"
     ]
    },
    {
     "name": "stderr",
     "output_type": "stream",
     "text": [
      "[INFO 08-22 07:07:18] Scheduler: Fetching data for newly completed trials: [].\n"
     ]
    },
    {
     "name": "stderr",
     "output_type": "stream",
     "text": [
      "[INFO 08-22 07:07:18] Scheduler: Fetching data for trials: 9 - 11 because some metrics on experiment are available while trials are running.\n"
     ]
    },
    {
     "name": "stderr",
     "output_type": "stream",
     "text": [
      "[INFO 08-22 07:07:18] ax.core.metric: MetricFetchE INFO: Initialized MetricFetchE(message=\"No 'scalar' data found for trial in multiplexer mul=<tensorboard.backend.event_processing.plugin_event_multiplexer.EventMultiplexer object at 0x7f65b8335a50>\")\n"
     ]
    },
    {
     "name": "stderr",
     "output_type": "stream",
     "text": [
      "[INFO 08-22 07:07:18] ax.core.metric: MetricFetchE INFO: Initialized MetricFetchE(message=\"No 'scalar' data found for trial in multiplexer mul=<tensorboard.backend.event_processing.plugin_event_multiplexer.EventMultiplexer object at 0x7f65b8335a50>\")\n"
     ]
    },
    {
     "name": "stderr",
     "output_type": "stream",
     "text": [
      "[INFO 08-22 07:07:18] ax.core.metric: MetricFetchE INFO: Initialized MetricFetchE(message=\"No 'scalar' data found for trial in multiplexer mul=<tensorboard.backend.event_processing.plugin_event_multiplexer.EventMultiplexer object at 0x7f65b8335a50>\")\n"
     ]
    },
    {
     "name": "stderr",
     "output_type": "stream",
     "text": [
      "[ERROR 08-22 07:07:18] ax.core.experiment: Discovered Metric fetching Err while attaching data MetricFetchE(message=\"No 'scalar' data found for trial in multiplexer mul=<tensorboard.backend.event_processing.plugin_event_multiplexer.EventMultiplexer object at 0x7f65b8335a50>\"). Ignoring for now -- will retry query on next call to fetch.\n"
     ]
    },
    {
     "name": "stderr",
     "output_type": "stream",
     "text": [
      "[ERROR 08-22 07:07:18] ax.core.experiment: Discovered Metric fetching Err while attaching data MetricFetchE(message=\"No 'scalar' data found for trial in multiplexer mul=<tensorboard.backend.event_processing.plugin_event_multiplexer.EventMultiplexer object at 0x7f65b8335a50>\"). Ignoring for now -- will retry query on next call to fetch.\n"
     ]
    },
    {
     "name": "stderr",
     "output_type": "stream",
     "text": [
      "[ERROR 08-22 07:07:18] ax.core.experiment: Discovered Metric fetching Err while attaching data MetricFetchE(message=\"No 'scalar' data found for trial in multiplexer mul=<tensorboard.backend.event_processing.plugin_event_multiplexer.EventMultiplexer object at 0x7f65b8335a50>\"). Ignoring for now -- will retry query on next call to fetch.\n"
     ]
    },
    {
     "name": "stderr",
     "output_type": "stream",
     "text": [
      "[WARNING 08-22 07:07:18] Scheduler: Failed to fetch val_acc for trial 9, found MetricFetchE(message=\"No 'scalar' data found for trial in multiplexer mul=<tensorboard.backend.event_processing.plugin_event_multiplexer.EventMultiplexer object at 0x7f65b8335a50>\").\n"
     ]
    },
    {
     "name": "stderr",
     "output_type": "stream",
     "text": [
      "[INFO 08-22 07:07:18] Scheduler: MetricFetchE INFO: Because val_acc is available_while_running and trial 9 is still RUNNING continuing the experiment and retrying on next poll...\n"
     ]
    },
    {
     "name": "stderr",
     "output_type": "stream",
     "text": [
      "[WARNING 08-22 07:07:18] Scheduler: Failed to fetch val_acc for trial 10, found MetricFetchE(message=\"No 'scalar' data found for trial in multiplexer mul=<tensorboard.backend.event_processing.plugin_event_multiplexer.EventMultiplexer object at 0x7f65b8335a50>\").\n"
     ]
    },
    {
     "name": "stderr",
     "output_type": "stream",
     "text": [
      "[INFO 08-22 07:07:18] Scheduler: MetricFetchE INFO: Because val_acc is available_while_running and trial 10 is still RUNNING continuing the experiment and retrying on next poll...\n"
     ]
    },
    {
     "name": "stderr",
     "output_type": "stream",
     "text": [
      "[WARNING 08-22 07:07:18] Scheduler: Failed to fetch val_acc for trial 11, found MetricFetchE(message=\"No 'scalar' data found for trial in multiplexer mul=<tensorboard.backend.event_processing.plugin_event_multiplexer.EventMultiplexer object at 0x7f65b8335a50>\").\n"
     ]
    },
    {
     "name": "stderr",
     "output_type": "stream",
     "text": [
      "[INFO 08-22 07:07:18] Scheduler: MetricFetchE INFO: Because val_acc is available_while_running and trial 11 is still RUNNING continuing the experiment and retrying on next poll...\n"
     ]
    },
    {
     "name": "stderr",
     "output_type": "stream",
     "text": [
      "/tmp/tmp.oVbuNeLNgw/Ax-main/ax/core/map_data.py:192: FutureWarning: The behavior of DataFrame concatenation with empty or all-NA entries is deprecated. In a future version, this will no longer exclude empty or all-NA columns when determining the result dtypes. To retain the old behavior, exclude the relevant entries before the concat operation.\n",
      "  df = pd.concat(\n",
      "[INFO 08-22 07:07:18] ax.early_stopping.strategies.base: Last progression of any candidate for trial stopping is 0.\n"
     ]
    },
    {
     "name": "stderr",
     "output_type": "stream",
     "text": [
      "[INFO 08-22 07:07:18] ax.early_stopping.strategies.base: No trials have reached 0.3. Not stopping any trials.\n"
     ]
    },
    {
     "name": "stderr",
     "output_type": "stream",
     "text": [
      "[INFO 08-22 07:07:18] Scheduler: Waiting for completed trials (for 10 sec, currently running trials: 3).\n"
     ]
    },
    {
     "name": "stderr",
     "output_type": "stream",
     "text": [
      "[INFO 08-22 07:07:28] Scheduler: Fetching data for newly completed trials: [].\n"
     ]
    },
    {
     "name": "stderr",
     "output_type": "stream",
     "text": [
      "[INFO 08-22 07:07:28] Scheduler: Fetching data for trials: 9 - 11 because some metrics on experiment are available while trials are running.\n"
     ]
    },
    {
     "name": "stderr",
     "output_type": "stream",
     "text": [
      "[INFO 08-22 07:07:28] ax.core.metric: MetricFetchE INFO: Initialized MetricFetchE(message=\"No 'scalar' data found for trial in multiplexer mul=<tensorboard.backend.event_processing.plugin_event_multiplexer.EventMultiplexer object at 0x7f65b8335a50>\")\n"
     ]
    },
    {
     "name": "stderr",
     "output_type": "stream",
     "text": [
      "[INFO 08-22 07:07:28] ax.core.metric: MetricFetchE INFO: Initialized MetricFetchE(message=\"No 'scalar' data found for trial in multiplexer mul=<tensorboard.backend.event_processing.plugin_event_multiplexer.EventMultiplexer object at 0x7f65b8335a50>\")\n"
     ]
    },
    {
     "name": "stderr",
     "output_type": "stream",
     "text": [
      "[ERROR 08-22 07:07:28] ax.core.experiment: Discovered Metric fetching Err while attaching data MetricFetchE(message=\"No 'scalar' data found for trial in multiplexer mul=<tensorboard.backend.event_processing.plugin_event_multiplexer.EventMultiplexer object at 0x7f65b8335a50>\"). Ignoring for now -- will retry query on next call to fetch.\n"
     ]
    },
    {
     "name": "stderr",
     "output_type": "stream",
     "text": [
      "[ERROR 08-22 07:07:28] ax.core.experiment: Discovered Metric fetching Err while attaching data MetricFetchE(message=\"No 'scalar' data found for trial in multiplexer mul=<tensorboard.backend.event_processing.plugin_event_multiplexer.EventMultiplexer object at 0x7f65b8335a50>\"). Ignoring for now -- will retry query on next call to fetch.\n"
     ]
    },
    {
     "name": "stderr",
     "output_type": "stream",
     "text": [
      "/tmp/tmp.oVbuNeLNgw/Ax-main/ax/core/map_data.py:192: FutureWarning: The behavior of DataFrame concatenation with empty or all-NA entries is deprecated. In a future version, this will no longer exclude empty or all-NA columns when determining the result dtypes. To retain the old behavior, exclude the relevant entries before the concat operation.\n",
      "  df = pd.concat(\n",
      "[WARNING 08-22 07:07:28] Scheduler: Failed to fetch val_acc for trial 10, found MetricFetchE(message=\"No 'scalar' data found for trial in multiplexer mul=<tensorboard.backend.event_processing.plugin_event_multiplexer.EventMultiplexer object at 0x7f65b8335a50>\").\n"
     ]
    },
    {
     "name": "stderr",
     "output_type": "stream",
     "text": [
      "[INFO 08-22 07:07:28] Scheduler: MetricFetchE INFO: Because val_acc is available_while_running and trial 10 is still RUNNING continuing the experiment and retrying on next poll...\n"
     ]
    },
    {
     "name": "stderr",
     "output_type": "stream",
     "text": [
      "[WARNING 08-22 07:07:28] Scheduler: Failed to fetch val_acc for trial 11, found MetricFetchE(message=\"No 'scalar' data found for trial in multiplexer mul=<tensorboard.backend.event_processing.plugin_event_multiplexer.EventMultiplexer object at 0x7f65b8335a50>\").\n"
     ]
    },
    {
     "name": "stderr",
     "output_type": "stream",
     "text": [
      "[INFO 08-22 07:07:28] Scheduler: MetricFetchE INFO: Because val_acc is available_while_running and trial 11 is still RUNNING continuing the experiment and retrying on next poll...\n"
     ]
    },
    {
     "name": "stderr",
     "output_type": "stream",
     "text": [
      "/tmp/tmp.oVbuNeLNgw/Ax-main/ax/core/map_data.py:192: FutureWarning: The behavior of DataFrame concatenation with empty or all-NA entries is deprecated. In a future version, this will no longer exclude empty or all-NA columns when determining the result dtypes. To retain the old behavior, exclude the relevant entries before the concat operation.\n",
      "  df = pd.concat(\n",
      "[INFO 08-22 07:07:28] ax.early_stopping.strategies.base: Last progression of any candidate for trial stopping is 0.09994666666666667.\n"
     ]
    },
    {
     "name": "stderr",
     "output_type": "stream",
     "text": [
      "[INFO 08-22 07:07:28] ax.early_stopping.strategies.base: No trials have reached 0.3. Not stopping any trials.\n"
     ]
    },
    {
     "name": "stderr",
     "output_type": "stream",
     "text": [
      "[INFO 08-22 07:07:28] Scheduler: Waiting for completed trials (for 10 sec, currently running trials: 3).\n"
     ]
    },
    {
     "name": "stderr",
     "output_type": "stream",
     "text": [
      "[INFO 08-22 07:07:38] Scheduler: Fetching data for newly completed trials: [].\n"
     ]
    },
    {
     "name": "stderr",
     "output_type": "stream",
     "text": [
      "[INFO 08-22 07:07:38] Scheduler: Fetching data for trials: 9 - 11 because some metrics on experiment are available while trials are running.\n"
     ]
    },
    {
     "name": "stderr",
     "output_type": "stream",
     "text": [
      "[INFO 08-22 07:07:38] ax.core.metric: MetricFetchE INFO: Initialized MetricFetchE(message=\"No 'scalar' data found for trial in multiplexer mul=<tensorboard.backend.event_processing.plugin_event_multiplexer.EventMultiplexer object at 0x7f65b8336f20>\")\n"
     ]
    },
    {
     "name": "stderr",
     "output_type": "stream",
     "text": [
      "[INFO 08-22 07:07:38] ax.core.metric: MetricFetchE INFO: Initialized MetricFetchE(message=\"No 'scalar' data found for trial in multiplexer mul=<tensorboard.backend.event_processing.plugin_event_multiplexer.EventMultiplexer object at 0x7f65b8336f20>\")\n"
     ]
    },
    {
     "name": "stderr",
     "output_type": "stream",
     "text": [
      "[ERROR 08-22 07:07:38] ax.core.experiment: Discovered Metric fetching Err while attaching data MetricFetchE(message=\"No 'scalar' data found for trial in multiplexer mul=<tensorboard.backend.event_processing.plugin_event_multiplexer.EventMultiplexer object at 0x7f65b8336f20>\"). Ignoring for now -- will retry query on next call to fetch.\n"
     ]
    },
    {
     "name": "stderr",
     "output_type": "stream",
     "text": [
      "[ERROR 08-22 07:07:38] ax.core.experiment: Discovered Metric fetching Err while attaching data MetricFetchE(message=\"No 'scalar' data found for trial in multiplexer mul=<tensorboard.backend.event_processing.plugin_event_multiplexer.EventMultiplexer object at 0x7f65b8336f20>\"). Ignoring for now -- will retry query on next call to fetch.\n"
     ]
    },
    {
     "name": "stderr",
     "output_type": "stream",
     "text": [
      "/tmp/tmp.oVbuNeLNgw/Ax-main/ax/core/map_data.py:192: FutureWarning: The behavior of DataFrame concatenation with empty or all-NA entries is deprecated. In a future version, this will no longer exclude empty or all-NA columns when determining the result dtypes. To retain the old behavior, exclude the relevant entries before the concat operation.\n",
      "  df = pd.concat(\n",
      "[WARNING 08-22 07:07:38] Scheduler: Failed to fetch val_acc for trial 10, found MetricFetchE(message=\"No 'scalar' data found for trial in multiplexer mul=<tensorboard.backend.event_processing.plugin_event_multiplexer.EventMultiplexer object at 0x7f65b8336f20>\").\n"
     ]
    },
    {
     "name": "stderr",
     "output_type": "stream",
     "text": [
      "[INFO 08-22 07:07:38] Scheduler: MetricFetchE INFO: Because val_acc is available_while_running and trial 10 is still RUNNING continuing the experiment and retrying on next poll...\n"
     ]
    },
    {
     "name": "stderr",
     "output_type": "stream",
     "text": [
      "[WARNING 08-22 07:07:38] Scheduler: Failed to fetch val_acc for trial 11, found MetricFetchE(message=\"No 'scalar' data found for trial in multiplexer mul=<tensorboard.backend.event_processing.plugin_event_multiplexer.EventMultiplexer object at 0x7f65b8336f20>\").\n"
     ]
    },
    {
     "name": "stderr",
     "output_type": "stream",
     "text": [
      "[INFO 08-22 07:07:38] Scheduler: MetricFetchE INFO: Because val_acc is available_while_running and trial 11 is still RUNNING continuing the experiment and retrying on next poll...\n"
     ]
    },
    {
     "name": "stderr",
     "output_type": "stream",
     "text": [
      "/tmp/tmp.oVbuNeLNgw/Ax-main/ax/core/map_data.py:192: FutureWarning: The behavior of DataFrame concatenation with empty or all-NA entries is deprecated. In a future version, this will no longer exclude empty or all-NA columns when determining the result dtypes. To retain the old behavior, exclude the relevant entries before the concat operation.\n",
      "  df = pd.concat(\n",
      "[INFO 08-22 07:07:38] ax.early_stopping.strategies.base: Last progression of any candidate for trial stopping is 0.09994666666666667.\n"
     ]
    },
    {
     "name": "stderr",
     "output_type": "stream",
     "text": [
      "[INFO 08-22 07:07:38] ax.early_stopping.strategies.base: No trials have reached 0.3. Not stopping any trials.\n"
     ]
    },
    {
     "name": "stderr",
     "output_type": "stream",
     "text": [
      "[INFO 08-22 07:07:38] Scheduler: Waiting for completed trials (for 10 sec, currently running trials: 3).\n"
     ]
    },
    {
     "name": "stderr",
     "output_type": "stream",
     "text": [
      "[INFO 08-22 07:07:48] Scheduler: Fetching data for newly completed trials: [].\n"
     ]
    },
    {
     "name": "stderr",
     "output_type": "stream",
     "text": [
      "[INFO 08-22 07:07:48] Scheduler: Fetching data for trials: 9 - 11 because some metrics on experiment are available while trials are running.\n"
     ]
    },
    {
     "name": "stderr",
     "output_type": "stream",
     "text": [
      "[INFO 08-22 07:07:48] ax.core.metric: MetricFetchE INFO: Initialized MetricFetchE(message=\"No 'scalar' data found for trial in multiplexer mul=<tensorboard.backend.event_processing.plugin_event_multiplexer.EventMultiplexer object at 0x7f65b8291090>\")\n"
     ]
    },
    {
     "name": "stderr",
     "output_type": "stream",
     "text": [
      "[ERROR 08-22 07:07:48] ax.core.experiment: Discovered Metric fetching Err while attaching data MetricFetchE(message=\"No 'scalar' data found for trial in multiplexer mul=<tensorboard.backend.event_processing.plugin_event_multiplexer.EventMultiplexer object at 0x7f65b8291090>\"). Ignoring for now -- will retry query on next call to fetch.\n"
     ]
    },
    {
     "name": "stderr",
     "output_type": "stream",
     "text": [
      "/tmp/tmp.oVbuNeLNgw/Ax-main/ax/core/map_data.py:192: FutureWarning: The behavior of DataFrame concatenation with empty or all-NA entries is deprecated. In a future version, this will no longer exclude empty or all-NA columns when determining the result dtypes. To retain the old behavior, exclude the relevant entries before the concat operation.\n",
      "  df = pd.concat(\n",
      "[WARNING 08-22 07:07:48] Scheduler: Failed to fetch val_acc for trial 11, found MetricFetchE(message=\"No 'scalar' data found for trial in multiplexer mul=<tensorboard.backend.event_processing.plugin_event_multiplexer.EventMultiplexer object at 0x7f65b8291090>\").\n"
     ]
    },
    {
     "name": "stderr",
     "output_type": "stream",
     "text": [
      "[INFO 08-22 07:07:48] Scheduler: MetricFetchE INFO: Because val_acc is available_while_running and trial 11 is still RUNNING continuing the experiment and retrying on next poll...\n"
     ]
    },
    {
     "name": "stderr",
     "output_type": "stream",
     "text": [
      "/tmp/tmp.oVbuNeLNgw/Ax-main/ax/core/map_data.py:192: FutureWarning: The behavior of DataFrame concatenation with empty or all-NA entries is deprecated. In a future version, this will no longer exclude empty or all-NA columns when determining the result dtypes. To retain the old behavior, exclude the relevant entries before the concat operation.\n",
      "  df = pd.concat(\n",
      "[INFO 08-22 07:07:48] ax.early_stopping.strategies.base: Last progression of any candidate for trial stopping is 0.09994666666666667.\n"
     ]
    },
    {
     "name": "stderr",
     "output_type": "stream",
     "text": [
      "[INFO 08-22 07:07:48] ax.early_stopping.strategies.base: No trials have reached 0.3. Not stopping any trials.\n"
     ]
    },
    {
     "name": "stderr",
     "output_type": "stream",
     "text": [
      "[INFO 08-22 07:07:48] Scheduler: Waiting for completed trials (for 10 sec, currently running trials: 3).\n"
     ]
    },
    {
     "name": "stderr",
     "output_type": "stream",
     "text": [
      "[INFO 08-22 07:07:58] Scheduler: Fetching data for newly completed trials: [].\n"
     ]
    },
    {
     "name": "stderr",
     "output_type": "stream",
     "text": [
      "[INFO 08-22 07:07:58] Scheduler: Fetching data for trials: 9 - 11 because some metrics on experiment are available while trials are running.\n"
     ]
    },
    {
     "name": "stderr",
     "output_type": "stream",
     "text": [
      "/tmp/tmp.oVbuNeLNgw/Ax-main/ax/core/map_data.py:192: FutureWarning: The behavior of DataFrame concatenation with empty or all-NA entries is deprecated. In a future version, this will no longer exclude empty or all-NA columns when determining the result dtypes. To retain the old behavior, exclude the relevant entries before the concat operation.\n",
      "  df = pd.concat(\n",
      "/tmp/tmp.oVbuNeLNgw/Ax-main/ax/core/map_data.py:192: FutureWarning: The behavior of DataFrame concatenation with empty or all-NA entries is deprecated. In a future version, this will no longer exclude empty or all-NA columns when determining the result dtypes. To retain the old behavior, exclude the relevant entries before the concat operation.\n",
      "  df = pd.concat(\n",
      "[INFO 08-22 07:07:58] ax.early_stopping.strategies.base: Last progression of any candidate for trial stopping is 0.09994666666666667.\n"
     ]
    },
    {
     "name": "stderr",
     "output_type": "stream",
     "text": [
      "[INFO 08-22 07:07:58] ax.early_stopping.strategies.base: No trials have reached 0.3. Not stopping any trials.\n"
     ]
    },
    {
     "name": "stderr",
     "output_type": "stream",
     "text": [
      "[INFO 08-22 07:07:58] Scheduler: Waiting for completed trials (for 10 sec, currently running trials: 3).\n"
     ]
    },
    {
     "name": "stderr",
     "output_type": "stream",
     "text": [
      "[INFO 08-22 07:08:08] Scheduler: Fetching data for newly completed trials: [].\n"
     ]
    },
    {
     "name": "stderr",
     "output_type": "stream",
     "text": [
      "[INFO 08-22 07:08:08] Scheduler: Fetching data for trials: 9 - 11 because some metrics on experiment are available while trials are running.\n"
     ]
    },
    {
     "name": "stderr",
     "output_type": "stream",
     "text": [
      "/tmp/tmp.oVbuNeLNgw/Ax-main/ax/core/map_data.py:192: FutureWarning: The behavior of DataFrame concatenation with empty or all-NA entries is deprecated. In a future version, this will no longer exclude empty or all-NA columns when determining the result dtypes. To retain the old behavior, exclude the relevant entries before the concat operation.\n",
      "  df = pd.concat(\n",
      "/tmp/tmp.oVbuNeLNgw/Ax-main/ax/core/map_data.py:192: FutureWarning: The behavior of DataFrame concatenation with empty or all-NA entries is deprecated. In a future version, this will no longer exclude empty or all-NA columns when determining the result dtypes. To retain the old behavior, exclude the relevant entries before the concat operation.\n",
      "  df = pd.concat(\n",
      "[INFO 08-22 07:08:08] ax.early_stopping.strategies.base: Last progression of any candidate for trial stopping is 0.09994666666666667.\n"
     ]
    },
    {
     "name": "stderr",
     "output_type": "stream",
     "text": [
      "[INFO 08-22 07:08:08] ax.early_stopping.strategies.base: No trials have reached 0.3. Not stopping any trials.\n"
     ]
    },
    {
     "name": "stderr",
     "output_type": "stream",
     "text": [
      "[INFO 08-22 07:08:08] Scheduler: Waiting for completed trials (for 10 sec, currently running trials: 3).\n"
     ]
    },
    {
     "name": "stderr",
     "output_type": "stream",
     "text": [
      "[INFO 08-22 07:08:18] Scheduler: Fetching data for newly completed trials: [].\n"
     ]
    },
    {
     "name": "stderr",
     "output_type": "stream",
     "text": [
      "[INFO 08-22 07:08:18] Scheduler: Fetching data for trials: 9 - 11 because some metrics on experiment are available while trials are running.\n"
     ]
    },
    {
     "name": "stderr",
     "output_type": "stream",
     "text": [
      "/tmp/tmp.oVbuNeLNgw/Ax-main/ax/core/map_data.py:192: FutureWarning: The behavior of DataFrame concatenation with empty or all-NA entries is deprecated. In a future version, this will no longer exclude empty or all-NA columns when determining the result dtypes. To retain the old behavior, exclude the relevant entries before the concat operation.\n",
      "  df = pd.concat(\n",
      "/tmp/tmp.oVbuNeLNgw/Ax-main/ax/core/map_data.py:192: FutureWarning: The behavior of DataFrame concatenation with empty or all-NA entries is deprecated. In a future version, this will no longer exclude empty or all-NA columns when determining the result dtypes. To retain the old behavior, exclude the relevant entries before the concat operation.\n",
      "  df = pd.concat(\n",
      "[INFO 08-22 07:08:18] ax.early_stopping.strategies.base: Last progression of any candidate for trial stopping is 0.09994666666666667.\n"
     ]
    },
    {
     "name": "stderr",
     "output_type": "stream",
     "text": [
      "[INFO 08-22 07:08:18] ax.early_stopping.strategies.base: No trials have reached 0.3. Not stopping any trials.\n"
     ]
    },
    {
     "name": "stderr",
     "output_type": "stream",
     "text": [
      "[INFO 08-22 07:08:18] Scheduler: Waiting for completed trials (for 10 sec, currently running trials: 3).\n"
     ]
    },
    {
     "name": "stderr",
     "output_type": "stream",
     "text": [
      "[INFO 08-22 07:08:28] Scheduler: Fetching data for newly completed trials: [].\n"
     ]
    },
    {
     "name": "stderr",
     "output_type": "stream",
     "text": [
      "[INFO 08-22 07:08:28] Scheduler: Fetching data for trials: 9 - 11 because some metrics on experiment are available while trials are running.\n"
     ]
    },
    {
     "name": "stderr",
     "output_type": "stream",
     "text": [
      "/tmp/tmp.oVbuNeLNgw/Ax-main/ax/core/map_data.py:192: FutureWarning: The behavior of DataFrame concatenation with empty or all-NA entries is deprecated. In a future version, this will no longer exclude empty or all-NA columns when determining the result dtypes. To retain the old behavior, exclude the relevant entries before the concat operation.\n",
      "  df = pd.concat(\n",
      "/tmp/tmp.oVbuNeLNgw/Ax-main/ax/core/map_data.py:192: FutureWarning: The behavior of DataFrame concatenation with empty or all-NA entries is deprecated. In a future version, this will no longer exclude empty or all-NA columns when determining the result dtypes. To retain the old behavior, exclude the relevant entries before the concat operation.\n",
      "  df = pd.concat(\n",
      "[INFO 08-22 07:08:29] ax.early_stopping.strategies.base: Last progression of any candidate for trial stopping is 0.19994666666666666.\n"
     ]
    },
    {
     "name": "stderr",
     "output_type": "stream",
     "text": [
      "[INFO 08-22 07:08:29] ax.early_stopping.strategies.base: No trials have reached 0.3. Not stopping any trials.\n"
     ]
    },
    {
     "name": "stderr",
     "output_type": "stream",
     "text": [
      "[INFO 08-22 07:08:29] Scheduler: Waiting for completed trials (for 10 sec, currently running trials: 3).\n"
     ]
    },
    {
     "name": "stderr",
     "output_type": "stream",
     "text": [
      "[INFO 08-22 07:08:39] Scheduler: Fetching data for newly completed trials: [].\n"
     ]
    },
    {
     "name": "stderr",
     "output_type": "stream",
     "text": [
      "[INFO 08-22 07:08:39] Scheduler: Fetching data for trials: 9 - 11 because some metrics on experiment are available while trials are running.\n"
     ]
    },
    {
     "name": "stderr",
     "output_type": "stream",
     "text": [
      "/tmp/tmp.oVbuNeLNgw/Ax-main/ax/core/map_data.py:192: FutureWarning: The behavior of DataFrame concatenation with empty or all-NA entries is deprecated. In a future version, this will no longer exclude empty or all-NA columns when determining the result dtypes. To retain the old behavior, exclude the relevant entries before the concat operation.\n",
      "  df = pd.concat(\n",
      "/tmp/tmp.oVbuNeLNgw/Ax-main/ax/core/map_data.py:192: FutureWarning: The behavior of DataFrame concatenation with empty or all-NA entries is deprecated. In a future version, this will no longer exclude empty or all-NA columns when determining the result dtypes. To retain the old behavior, exclude the relevant entries before the concat operation.\n",
      "  df = pd.concat(\n",
      "[INFO 08-22 07:08:39] ax.early_stopping.strategies.base: Last progression of any candidate for trial stopping is 0.19994666666666666.\n"
     ]
    },
    {
     "name": "stderr",
     "output_type": "stream",
     "text": [
      "[INFO 08-22 07:08:39] ax.early_stopping.strategies.base: No trials have reached 0.3. Not stopping any trials.\n"
     ]
    },
    {
     "name": "stderr",
     "output_type": "stream",
     "text": [
      "[INFO 08-22 07:08:39] Scheduler: Waiting for completed trials (for 10 sec, currently running trials: 3).\n"
     ]
    },
    {
     "name": "stderr",
     "output_type": "stream",
     "text": [
      "[INFO 08-22 07:08:49] Scheduler: Fetching data for newly completed trials: [].\n"
     ]
    },
    {
     "name": "stderr",
     "output_type": "stream",
     "text": [
      "[INFO 08-22 07:08:49] Scheduler: Fetching data for trials: 9 - 11 because some metrics on experiment are available while trials are running.\n"
     ]
    },
    {
     "name": "stderr",
     "output_type": "stream",
     "text": [
      "/tmp/tmp.oVbuNeLNgw/Ax-main/ax/core/map_data.py:192: FutureWarning: The behavior of DataFrame concatenation with empty or all-NA entries is deprecated. In a future version, this will no longer exclude empty or all-NA columns when determining the result dtypes. To retain the old behavior, exclude the relevant entries before the concat operation.\n",
      "  df = pd.concat(\n",
      "/tmp/tmp.oVbuNeLNgw/Ax-main/ax/core/map_data.py:192: FutureWarning: The behavior of DataFrame concatenation with empty or all-NA entries is deprecated. In a future version, this will no longer exclude empty or all-NA columns when determining the result dtypes. To retain the old behavior, exclude the relevant entries before the concat operation.\n",
      "  df = pd.concat(\n",
      "[INFO 08-22 07:08:49] ax.early_stopping.strategies.base: Last progression of any candidate for trial stopping is 0.19994666666666666.\n"
     ]
    },
    {
     "name": "stderr",
     "output_type": "stream",
     "text": [
      "[INFO 08-22 07:08:49] ax.early_stopping.strategies.base: No trials have reached 0.3. Not stopping any trials.\n"
     ]
    },
    {
     "name": "stderr",
     "output_type": "stream",
     "text": [
      "[INFO 08-22 07:08:49] Scheduler: Waiting for completed trials (for 10 sec, currently running trials: 3).\n"
     ]
    },
    {
     "name": "stderr",
     "output_type": "stream",
     "text": [
      "[INFO 08-22 07:08:59] Scheduler: Fetching data for newly completed trials: [].\n"
     ]
    },
    {
     "name": "stderr",
     "output_type": "stream",
     "text": [
      "[INFO 08-22 07:08:59] Scheduler: Fetching data for trials: 9 - 11 because some metrics on experiment are available while trials are running.\n"
     ]
    },
    {
     "name": "stderr",
     "output_type": "stream",
     "text": [
      "/tmp/tmp.oVbuNeLNgw/Ax-main/ax/core/map_data.py:192: FutureWarning: The behavior of DataFrame concatenation with empty or all-NA entries is deprecated. In a future version, this will no longer exclude empty or all-NA columns when determining the result dtypes. To retain the old behavior, exclude the relevant entries before the concat operation.\n",
      "  df = pd.concat(\n",
      "/tmp/tmp.oVbuNeLNgw/Ax-main/ax/core/map_data.py:192: FutureWarning: The behavior of DataFrame concatenation with empty or all-NA entries is deprecated. In a future version, this will no longer exclude empty or all-NA columns when determining the result dtypes. To retain the old behavior, exclude the relevant entries before the concat operation.\n",
      "  df = pd.concat(\n",
      "[INFO 08-22 07:08:59] ax.early_stopping.strategies.base: Last progression of any candidate for trial stopping is 0.19994666666666666.\n"
     ]
    },
    {
     "name": "stderr",
     "output_type": "stream",
     "text": [
      "[INFO 08-22 07:08:59] ax.early_stopping.strategies.base: No trials have reached 0.3. Not stopping any trials.\n"
     ]
    },
    {
     "name": "stderr",
     "output_type": "stream",
     "text": [
      "[INFO 08-22 07:08:59] Scheduler: Waiting for completed trials (for 10 sec, currently running trials: 3).\n"
     ]
    },
    {
     "name": "stderr",
     "output_type": "stream",
     "text": [
      "[INFO 08-22 07:09:09] Scheduler: Fetching data for newly completed trials: [].\n"
     ]
    },
    {
     "name": "stderr",
     "output_type": "stream",
     "text": [
      "[INFO 08-22 07:09:09] Scheduler: Fetching data for trials: 9 - 11 because some metrics on experiment are available while trials are running.\n"
     ]
    },
    {
     "name": "stderr",
     "output_type": "stream",
     "text": [
      "/tmp/tmp.oVbuNeLNgw/Ax-main/ax/core/map_data.py:192: FutureWarning: The behavior of DataFrame concatenation with empty or all-NA entries is deprecated. In a future version, this will no longer exclude empty or all-NA columns when determining the result dtypes. To retain the old behavior, exclude the relevant entries before the concat operation.\n",
      "  df = pd.concat(\n",
      "/tmp/tmp.oVbuNeLNgw/Ax-main/ax/core/map_data.py:192: FutureWarning: The behavior of DataFrame concatenation with empty or all-NA entries is deprecated. In a future version, this will no longer exclude empty or all-NA columns when determining the result dtypes. To retain the old behavior, exclude the relevant entries before the concat operation.\n",
      "  df = pd.concat(\n",
      "[INFO 08-22 07:09:09] ax.early_stopping.strategies.base: Last progression of any candidate for trial stopping is 0.29994666666666664.\n"
     ]
    },
    {
     "name": "stderr",
     "output_type": "stream",
     "text": [
      "[INFO 08-22 07:09:09] ax.early_stopping.strategies.base: No trials have reached 0.3. Not stopping any trials.\n"
     ]
    },
    {
     "name": "stderr",
     "output_type": "stream",
     "text": [
      "[INFO 08-22 07:09:09] Scheduler: Waiting for completed trials (for 10 sec, currently running trials: 3).\n"
     ]
    },
    {
     "name": "stderr",
     "output_type": "stream",
     "text": [
      "[INFO 08-22 07:09:19] Scheduler: Fetching data for newly completed trials: [].\n"
     ]
    },
    {
     "name": "stderr",
     "output_type": "stream",
     "text": [
      "[INFO 08-22 07:09:19] Scheduler: Fetching data for trials: 9 - 11 because some metrics on experiment are available while trials are running.\n"
     ]
    },
    {
     "name": "stderr",
     "output_type": "stream",
     "text": [
      "/tmp/tmp.oVbuNeLNgw/Ax-main/ax/core/map_data.py:192: FutureWarning: The behavior of DataFrame concatenation with empty or all-NA entries is deprecated. In a future version, this will no longer exclude empty or all-NA columns when determining the result dtypes. To retain the old behavior, exclude the relevant entries before the concat operation.\n",
      "  df = pd.concat(\n",
      "/tmp/tmp.oVbuNeLNgw/Ax-main/ax/core/map_data.py:192: FutureWarning: The behavior of DataFrame concatenation with empty or all-NA entries is deprecated. In a future version, this will no longer exclude empty or all-NA columns when determining the result dtypes. To retain the old behavior, exclude the relevant entries before the concat operation.\n",
      "  df = pd.concat(\n",
      "[INFO 08-22 07:09:19] ax.early_stopping.strategies.base: Last progression of any candidate for trial stopping is 0.29994666666666664.\n"
     ]
    },
    {
     "name": "stderr",
     "output_type": "stream",
     "text": [
      "[INFO 08-22 07:09:19] ax.early_stopping.strategies.base: No trials have reached 0.3. Not stopping any trials.\n"
     ]
    },
    {
     "name": "stderr",
     "output_type": "stream",
     "text": [
      "[INFO 08-22 07:09:19] Scheduler: Waiting for completed trials (for 10 sec, currently running trials: 3).\n"
     ]
    },
    {
     "name": "stderr",
     "output_type": "stream",
     "text": [
      "[INFO 08-22 07:09:29] Scheduler: Fetching data for newly completed trials: [].\n"
     ]
    },
    {
     "name": "stderr",
     "output_type": "stream",
     "text": [
      "[INFO 08-22 07:09:29] Scheduler: Fetching data for trials: 9 - 11 because some metrics on experiment are available while trials are running.\n"
     ]
    },
    {
     "name": "stderr",
     "output_type": "stream",
     "text": [
      "/tmp/tmp.oVbuNeLNgw/Ax-main/ax/core/map_data.py:192: FutureWarning: The behavior of DataFrame concatenation with empty or all-NA entries is deprecated. In a future version, this will no longer exclude empty or all-NA columns when determining the result dtypes. To retain the old behavior, exclude the relevant entries before the concat operation.\n",
      "  df = pd.concat(\n",
      "/tmp/tmp.oVbuNeLNgw/Ax-main/ax/core/map_data.py:192: FutureWarning: The behavior of DataFrame concatenation with empty or all-NA entries is deprecated. In a future version, this will no longer exclude empty or all-NA columns when determining the result dtypes. To retain the old behavior, exclude the relevant entries before the concat operation.\n",
      "  df = pd.concat(\n",
      "[INFO 08-22 07:09:30] ax.early_stopping.strategies.base: Last progression of any candidate for trial stopping is 0.29994666666666664.\n"
     ]
    },
    {
     "name": "stderr",
     "output_type": "stream",
     "text": [
      "[INFO 08-22 07:09:30] ax.early_stopping.strategies.base: No trials have reached 0.3. Not stopping any trials.\n"
     ]
    },
    {
     "name": "stderr",
     "output_type": "stream",
     "text": [
      "[INFO 08-22 07:09:30] Scheduler: Waiting for completed trials (for 10 sec, currently running trials: 3).\n"
     ]
    },
    {
     "name": "stderr",
     "output_type": "stream",
     "text": [
      "[INFO 08-22 07:09:40] Scheduler: Fetching data for newly completed trials: [].\n"
     ]
    },
    {
     "name": "stderr",
     "output_type": "stream",
     "text": [
      "[INFO 08-22 07:09:40] Scheduler: Fetching data for trials: 9 - 11 because some metrics on experiment are available while trials are running.\n"
     ]
    },
    {
     "name": "stderr",
     "output_type": "stream",
     "text": [
      "/tmp/tmp.oVbuNeLNgw/Ax-main/ax/core/map_data.py:192: FutureWarning: The behavior of DataFrame concatenation with empty or all-NA entries is deprecated. In a future version, this will no longer exclude empty or all-NA columns when determining the result dtypes. To retain the old behavior, exclude the relevant entries before the concat operation.\n",
      "  df = pd.concat(\n",
      "/tmp/tmp.oVbuNeLNgw/Ax-main/ax/core/map_data.py:192: FutureWarning: The behavior of DataFrame concatenation with empty or all-NA entries is deprecated. In a future version, this will no longer exclude empty or all-NA columns when determining the result dtypes. To retain the old behavior, exclude the relevant entries before the concat operation.\n",
      "  df = pd.concat(\n",
      "[INFO 08-22 07:09:40] ax.early_stopping.strategies.base: Last progression of any candidate for trial stopping is 0.29994666666666664.\n"
     ]
    },
    {
     "name": "stderr",
     "output_type": "stream",
     "text": [
      "[INFO 08-22 07:09:40] ax.early_stopping.strategies.base: No trials have reached 0.3. Not stopping any trials.\n"
     ]
    },
    {
     "name": "stderr",
     "output_type": "stream",
     "text": [
      "[INFO 08-22 07:09:40] Scheduler: Waiting for completed trials (for 10 sec, currently running trials: 3).\n"
     ]
    },
    {
     "name": "stderr",
     "output_type": "stream",
     "text": [
      "[INFO 08-22 07:09:50] Scheduler: Fetching data for newly completed trials: [].\n"
     ]
    },
    {
     "name": "stderr",
     "output_type": "stream",
     "text": [
      "[INFO 08-22 07:09:50] Scheduler: Fetching data for trials: 9 - 11 because some metrics on experiment are available while trials are running.\n"
     ]
    },
    {
     "name": "stderr",
     "output_type": "stream",
     "text": [
      "/tmp/tmp.oVbuNeLNgw/Ax-main/ax/core/map_data.py:192: FutureWarning: The behavior of DataFrame concatenation with empty or all-NA entries is deprecated. In a future version, this will no longer exclude empty or all-NA columns when determining the result dtypes. To retain the old behavior, exclude the relevant entries before the concat operation.\n",
      "  df = pd.concat(\n",
      "/tmp/tmp.oVbuNeLNgw/Ax-main/ax/core/map_data.py:192: FutureWarning: The behavior of DataFrame concatenation with empty or all-NA entries is deprecated. In a future version, this will no longer exclude empty or all-NA columns when determining the result dtypes. To retain the old behavior, exclude the relevant entries before the concat operation.\n",
      "  df = pd.concat(\n",
      "[INFO 08-22 07:09:50] ax.early_stopping.strategies.base: Last progression of any candidate for trial stopping is 0.29994666666666664.\n"
     ]
    },
    {
     "name": "stderr",
     "output_type": "stream",
     "text": [
      "[INFO 08-22 07:09:50] ax.early_stopping.strategies.base: No trials have reached 0.3. Not stopping any trials.\n"
     ]
    },
    {
     "name": "stderr",
     "output_type": "stream",
     "text": [
      "[INFO 08-22 07:09:50] Scheduler: Waiting for completed trials (for 10 sec, currently running trials: 3).\n"
     ]
    },
    {
     "name": "stderr",
     "output_type": "stream",
     "text": [
      "[INFO 08-22 07:10:00] Scheduler: Fetching data for newly completed trials: [].\n"
     ]
    },
    {
     "name": "stderr",
     "output_type": "stream",
     "text": [
      "[INFO 08-22 07:10:00] Scheduler: Fetching data for trials: 9 - 11 because some metrics on experiment are available while trials are running.\n"
     ]
    },
    {
     "name": "stderr",
     "output_type": "stream",
     "text": [
      "/tmp/tmp.oVbuNeLNgw/Ax-main/ax/core/map_data.py:192: FutureWarning: The behavior of DataFrame concatenation with empty or all-NA entries is deprecated. In a future version, this will no longer exclude empty or all-NA columns when determining the result dtypes. To retain the old behavior, exclude the relevant entries before the concat operation.\n",
      "  df = pd.concat(\n",
      "/tmp/tmp.oVbuNeLNgw/Ax-main/ax/core/map_data.py:192: FutureWarning: The behavior of DataFrame concatenation with empty or all-NA entries is deprecated. In a future version, this will no longer exclude empty or all-NA columns when determining the result dtypes. To retain the old behavior, exclude the relevant entries before the concat operation.\n",
      "  df = pd.concat(\n",
      "[INFO 08-22 07:10:00] ax.early_stopping.strategies.base: Last progression of any candidate for trial stopping is 0.3999466666666667.\n"
     ]
    },
    {
     "name": "stderr",
     "output_type": "stream",
     "text": [
      "[INFO 08-22 07:10:00] ax.early_stopping.strategies.percentile: Considering trial 9 for early stopping.\n"
     ]
    },
    {
     "name": "stderr",
     "output_type": "stream",
     "text": [
      "[INFO 08-22 07:10:00] ax.early_stopping.strategies.base: Last progression of Trial 9 is 0.3999466666666667.\n"
     ]
    },
    {
     "name": "stderr",
     "output_type": "stream",
     "text": [
      "[INFO 08-22 07:10:00] ax.early_stopping.strategies.percentile: Early stopping objective at last progression is:\n",
      "1     0.841107\n",
      "2     0.956326\n",
      "3     0.932814\n",
      "4     0.908913\n",
      "5     0.962078\n",
      "6     0.900962\n",
      "7     0.936396\n",
      "8     0.902637\n",
      "9     0.911766\n",
      "10    0.926694\n",
      "Name: 0.3999466666666667, dtype: float64.\n"
     ]
    },
    {
     "name": "stderr",
     "output_type": "stream",
     "text": [
      "[INFO 08-22 07:10:00] ax.early_stopping.strategies.percentile: Early stopping decision for 9: True. Reason: Trial objective value 0.9117658467128359 is worse than 70.0-th percentile (0.9338889188073538) across comparable trials.\n"
     ]
    },
    {
     "name": "stderr",
     "output_type": "stream",
     "text": [
      "[INFO 08-22 07:10:00] ax.early_stopping.strategies.percentile: Considering trial 10 for early stopping.\n"
     ]
    },
    {
     "name": "stderr",
     "output_type": "stream",
     "text": [
      "[INFO 08-22 07:10:00] ax.early_stopping.strategies.base: Last progression of Trial 10 is 0.3999466666666667.\n"
     ]
    },
    {
     "name": "stderr",
     "output_type": "stream",
     "text": [
      "[INFO 08-22 07:10:00] ax.early_stopping.strategies.percentile: Early stopping objective at last progression is:\n",
      "1     0.841107\n",
      "2     0.956326\n",
      "3     0.932814\n",
      "4     0.908913\n",
      "5     0.962078\n",
      "6     0.900962\n",
      "7     0.936396\n",
      "8     0.902637\n",
      "9     0.911766\n",
      "10    0.926694\n",
      "Name: 0.3999466666666667, dtype: float64.\n"
     ]
    },
    {
     "name": "stderr",
     "output_type": "stream",
     "text": [
      "[INFO 08-22 07:10:00] ax.early_stopping.strategies.percentile: Early stopping decision for 10: True. Reason: Trial objective value 0.9266937968178922 is worse than 70.0-th percentile (0.9338889188073538) across comparable trials.\n"
     ]
    },
    {
     "name": "stderr",
     "output_type": "stream",
     "text": [
      "[INFO 08-22 07:10:00] ax.early_stopping.strategies.percentile: Considering trial 11 for early stopping.\n"
     ]
    },
    {
     "name": "stderr",
     "output_type": "stream",
     "text": [
      "[INFO 08-22 07:10:00] ax.early_stopping.strategies.base: Last progression of Trial 11 is 0.29994666666666664.\n"
     ]
    },
    {
     "name": "stderr",
     "output_type": "stream",
     "text": [
      "[INFO 08-22 07:10:00] ax.early_stopping.strategies.base: Trial 11's most recent progression (0.29994666666666664) that is available for metric val_acc falls out of the min/max_progression range (0.3, None). Not early stopping this trial.\n"
     ]
    },
    {
     "name": "stderr",
     "output_type": "stream",
     "text": [
      "/tmp/tmp.oVbuNeLNgw/Ax-main/ax/core/map_data.py:192: FutureWarning: The behavior of DataFrame concatenation with empty or all-NA entries is deprecated. In a future version, this will no longer exclude empty or all-NA columns when determining the result dtypes. To retain the old behavior, exclude the relevant entries before the concat operation.\n",
      "  df = pd.concat(\n"
     ]
    },
    {
     "name": "stderr",
     "output_type": "stream",
     "text": [
      "[INFO 08-22 07:10:03] Scheduler: Running trials [12]...\n"
     ]
    },
    {
     "name": "stderr",
     "output_type": "stream",
     "text": [
      "/tmp/tmp.oVbuNeLNgw/Ax-main/ax/core/map_data.py:192: FutureWarning: The behavior of DataFrame concatenation with empty or all-NA entries is deprecated. In a future version, this will no longer exclude empty or all-NA columns when determining the result dtypes. To retain the old behavior, exclude the relevant entries before the concat operation.\n",
      "  df = pd.concat(\n"
     ]
    },
    {
     "name": "stderr",
     "output_type": "stream",
     "text": [
      "[INFO 08-22 07:10:08] Scheduler: Running trials [13]...\n"
     ]
    },
    {
     "name": "stderr",
     "output_type": "stream",
     "text": [
      "/tmp/tmp.oVbuNeLNgw/Ax-main/ax/core/map_data.py:192: FutureWarning: The behavior of DataFrame concatenation with empty or all-NA entries is deprecated. In a future version, this will no longer exclude empty or all-NA columns when determining the result dtypes. To retain the old behavior, exclude the relevant entries before the concat operation.\n",
      "  df = pd.concat(\n"
     ]
    },
    {
     "name": "stderr",
     "output_type": "stream",
     "text": [
      "[INFO 08-22 07:10:10] Scheduler: Generated all trials that can be generated currently. Max parallelism currently reached.\n"
     ]
    },
    {
     "name": "stderr",
     "output_type": "stream",
     "text": [
      "[WARNING 08-22 07:10:10] Scheduler: Both `init_seconds_between_polls` and `early_stopping_strategy supplied. `init_seconds_between_polls=1` will be overrridden by `early_stopping_strategy.seconds_between_polls=10` and polling will take place at a constant rate.\n"
     ]
    },
    {
     "name": "stderr",
     "output_type": "stream",
     "text": [
      "[INFO 08-22 07:10:10] Scheduler: Fetching data for newly completed trials: [].\n"
     ]
    },
    {
     "name": "stderr",
     "output_type": "stream",
     "text": [
      "[INFO 08-22 07:10:10] Scheduler: Fetching data for trials: 11 - 13 because some metrics on experiment are available while trials are running.\n"
     ]
    },
    {
     "name": "stderr",
     "output_type": "stream",
     "text": [
      "[INFO 08-22 07:10:10] ax.core.metric: MetricFetchE INFO: Initialized MetricFetchE(message=\"No 'scalar' data found for trial in multiplexer mul=<tensorboard.backend.event_processing.plugin_event_multiplexer.EventMultiplexer object at 0x7f65b81b3f10>\")\n"
     ]
    },
    {
     "name": "stderr",
     "output_type": "stream",
     "text": [
      "[INFO 08-22 07:10:10] ax.core.metric: MetricFetchE INFO: Initialized MetricFetchE(message=\"No 'scalar' data found for trial in multiplexer mul=<tensorboard.backend.event_processing.plugin_event_multiplexer.EventMultiplexer object at 0x7f65b81b3f10>\")\n"
     ]
    },
    {
     "name": "stderr",
     "output_type": "stream",
     "text": [
      "[ERROR 08-22 07:10:10] ax.core.experiment: Discovered Metric fetching Err while attaching data MetricFetchE(message=\"No 'scalar' data found for trial in multiplexer mul=<tensorboard.backend.event_processing.plugin_event_multiplexer.EventMultiplexer object at 0x7f65b81b3f10>\"). Ignoring for now -- will retry query on next call to fetch.\n"
     ]
    },
    {
     "name": "stderr",
     "output_type": "stream",
     "text": [
      "[ERROR 08-22 07:10:10] ax.core.experiment: Discovered Metric fetching Err while attaching data MetricFetchE(message=\"No 'scalar' data found for trial in multiplexer mul=<tensorboard.backend.event_processing.plugin_event_multiplexer.EventMultiplexer object at 0x7f65b81b3f10>\"). Ignoring for now -- will retry query on next call to fetch.\n"
     ]
    },
    {
     "name": "stderr",
     "output_type": "stream",
     "text": [
      "/tmp/tmp.oVbuNeLNgw/Ax-main/ax/core/map_data.py:192: FutureWarning: The behavior of DataFrame concatenation with empty or all-NA entries is deprecated. In a future version, this will no longer exclude empty or all-NA columns when determining the result dtypes. To retain the old behavior, exclude the relevant entries before the concat operation.\n",
      "  df = pd.concat(\n",
      "[WARNING 08-22 07:10:10] Scheduler: Failed to fetch val_acc for trial 12, found MetricFetchE(message=\"No 'scalar' data found for trial in multiplexer mul=<tensorboard.backend.event_processing.plugin_event_multiplexer.EventMultiplexer object at 0x7f65b81b3f10>\").\n"
     ]
    },
    {
     "name": "stderr",
     "output_type": "stream",
     "text": [
      "[INFO 08-22 07:10:10] Scheduler: MetricFetchE INFO: Because val_acc is available_while_running and trial 12 is still RUNNING continuing the experiment and retrying on next poll...\n"
     ]
    },
    {
     "name": "stderr",
     "output_type": "stream",
     "text": [
      "[WARNING 08-22 07:10:10] Scheduler: Failed to fetch val_acc for trial 13, found MetricFetchE(message=\"No 'scalar' data found for trial in multiplexer mul=<tensorboard.backend.event_processing.plugin_event_multiplexer.EventMultiplexer object at 0x7f65b81b3f10>\").\n"
     ]
    },
    {
     "name": "stderr",
     "output_type": "stream",
     "text": [
      "[INFO 08-22 07:10:10] Scheduler: MetricFetchE INFO: Because val_acc is available_while_running and trial 13 is still RUNNING continuing the experiment and retrying on next poll...\n"
     ]
    },
    {
     "name": "stderr",
     "output_type": "stream",
     "text": [
      "/tmp/tmp.oVbuNeLNgw/Ax-main/ax/core/map_data.py:192: FutureWarning: The behavior of DataFrame concatenation with empty or all-NA entries is deprecated. In a future version, this will no longer exclude empty or all-NA columns when determining the result dtypes. To retain the old behavior, exclude the relevant entries before the concat operation.\n",
      "  df = pd.concat(\n",
      "[INFO 08-22 07:10:10] ax.early_stopping.strategies.base: Last progression of any candidate for trial stopping is 0.3999466666666667.\n"
     ]
    },
    {
     "name": "stderr",
     "output_type": "stream",
     "text": [
      "[INFO 08-22 07:10:10] ax.early_stopping.strategies.percentile: Considering trial 11 for early stopping.\n"
     ]
    },
    {
     "name": "stderr",
     "output_type": "stream",
     "text": [
      "[INFO 08-22 07:10:10] ax.early_stopping.strategies.base: Last progression of Trial 11 is 0.3999466666666667.\n"
     ]
    },
    {
     "name": "stderr",
     "output_type": "stream",
     "text": [
      "[INFO 08-22 07:10:10] ax.early_stopping.strategies.percentile: Early stopping objective at last progression is:\n",
      "1     0.841107\n",
      "2     0.956326\n",
      "3     0.932814\n",
      "4     0.908913\n",
      "5     0.962078\n",
      "6     0.900962\n",
      "7     0.936396\n",
      "8     0.902637\n",
      "9     0.911766\n",
      "10    0.926694\n",
      "11    0.929368\n",
      "Name: 0.3999466666666667, dtype: float64.\n"
     ]
    },
    {
     "name": "stderr",
     "output_type": "stream",
     "text": [
      "[INFO 08-22 07:10:10] ax.early_stopping.strategies.percentile: Early stopping decision for 11: True. Reason: Trial objective value 0.9293684143150969 is worse than 70.0-th percentile (0.9328144386484117) across comparable trials.\n"
     ]
    },
    {
     "name": "stderr",
     "output_type": "stream",
     "text": [
      "[INFO 08-22 07:10:10] ax.early_stopping.strategies.percentile: Considering trial 12 for early stopping.\n"
     ]
    },
    {
     "name": "stderr",
     "output_type": "stream",
     "text": [
      "[INFO 08-22 07:10:10] ax.early_stopping.strategies.base: There is not yet any data associated with trial 12 and metric val_acc. Not early stopping this trial.\n"
     ]
    },
    {
     "name": "stderr",
     "output_type": "stream",
     "text": [
      "[INFO 08-22 07:10:10] ax.early_stopping.strategies.percentile: Considering trial 13 for early stopping.\n"
     ]
    },
    {
     "name": "stderr",
     "output_type": "stream",
     "text": [
      "[INFO 08-22 07:10:10] ax.early_stopping.strategies.base: There is not yet any data associated with trial 13 and metric val_acc. Not early stopping this trial.\n"
     ]
    },
    {
     "name": "stderr",
     "output_type": "stream",
     "text": [
      "/tmp/tmp.oVbuNeLNgw/Ax-main/ax/core/map_data.py:192: FutureWarning: The behavior of DataFrame concatenation with empty or all-NA entries is deprecated. In a future version, this will no longer exclude empty or all-NA columns when determining the result dtypes. To retain the old behavior, exclude the relevant entries before the concat operation.\n",
      "  df = pd.concat(\n"
     ]
    },
    {
     "name": "stderr",
     "output_type": "stream",
     "text": [
      "[INFO 08-22 07:10:14] Scheduler: Running trials [14]...\n"
     ]
    },
    {
     "name": "stderr",
     "output_type": "stream",
     "text": [
      "[WARNING 08-22 07:10:14] Scheduler: Both `init_seconds_between_polls` and `early_stopping_strategy supplied. `init_seconds_between_polls=1` will be overrridden by `early_stopping_strategy.seconds_between_polls=10` and polling will take place at a constant rate.\n"
     ]
    },
    {
     "name": "stderr",
     "output_type": "stream",
     "text": [
      "[INFO 08-22 07:10:14] Scheduler: Fetching data for newly completed trials: [].\n"
     ]
    },
    {
     "name": "stderr",
     "output_type": "stream",
     "text": [
      "[INFO 08-22 07:10:14] Scheduler: Fetching data for trials: 12 - 14 because some metrics on experiment are available while trials are running.\n"
     ]
    },
    {
     "name": "stderr",
     "output_type": "stream",
     "text": [
      "[INFO 08-22 07:10:14] ax.core.metric: MetricFetchE INFO: Initialized MetricFetchE(message=\"No 'scalar' data found for trial in multiplexer mul=<tensorboard.backend.event_processing.plugin_event_multiplexer.EventMultiplexer object at 0x7f65b81b0a60>\")\n"
     ]
    },
    {
     "name": "stderr",
     "output_type": "stream",
     "text": [
      "[INFO 08-22 07:10:14] ax.core.metric: MetricFetchE INFO: Initialized MetricFetchE(message=\"No 'scalar' data found for trial in multiplexer mul=<tensorboard.backend.event_processing.plugin_event_multiplexer.EventMultiplexer object at 0x7f65b8336740>\")\n"
     ]
    },
    {
     "name": "stderr",
     "output_type": "stream",
     "text": [
      "[INFO 08-22 07:10:14] ax.core.metric: MetricFetchE INFO: Initialized MetricFetchE(message=\"No 'scalar' data found for trial in multiplexer mul=<tensorboard.backend.event_processing.plugin_event_multiplexer.EventMultiplexer object at 0x7f65bb406fe0>\")\n"
     ]
    },
    {
     "name": "stderr",
     "output_type": "stream",
     "text": [
      "[ERROR 08-22 07:10:14] ax.core.experiment: Discovered Metric fetching Err while attaching data MetricFetchE(message=\"No 'scalar' data found for trial in multiplexer mul=<tensorboard.backend.event_processing.plugin_event_multiplexer.EventMultiplexer object at 0x7f65b81b0a60>\"). Ignoring for now -- will retry query on next call to fetch.\n"
     ]
    },
    {
     "name": "stderr",
     "output_type": "stream",
     "text": [
      "[ERROR 08-22 07:10:14] ax.core.experiment: Discovered Metric fetching Err while attaching data MetricFetchE(message=\"No 'scalar' data found for trial in multiplexer mul=<tensorboard.backend.event_processing.plugin_event_multiplexer.EventMultiplexer object at 0x7f65b8336740>\"). Ignoring for now -- will retry query on next call to fetch.\n"
     ]
    },
    {
     "name": "stderr",
     "output_type": "stream",
     "text": [
      "[ERROR 08-22 07:10:14] ax.core.experiment: Discovered Metric fetching Err while attaching data MetricFetchE(message=\"No 'scalar' data found for trial in multiplexer mul=<tensorboard.backend.event_processing.plugin_event_multiplexer.EventMultiplexer object at 0x7f65bb406fe0>\"). Ignoring for now -- will retry query on next call to fetch.\n"
     ]
    },
    {
     "name": "stderr",
     "output_type": "stream",
     "text": [
      "[WARNING 08-22 07:10:14] Scheduler: Failed to fetch val_acc for trial 12, found MetricFetchE(message=\"No 'scalar' data found for trial in multiplexer mul=<tensorboard.backend.event_processing.plugin_event_multiplexer.EventMultiplexer object at 0x7f65b81b0a60>\").\n"
     ]
    },
    {
     "name": "stderr",
     "output_type": "stream",
     "text": [
      "[INFO 08-22 07:10:14] Scheduler: MetricFetchE INFO: Because val_acc is available_while_running and trial 12 is still RUNNING continuing the experiment and retrying on next poll...\n"
     ]
    },
    {
     "name": "stderr",
     "output_type": "stream",
     "text": [
      "[WARNING 08-22 07:10:14] Scheduler: Failed to fetch val_acc for trial 13, found MetricFetchE(message=\"No 'scalar' data found for trial in multiplexer mul=<tensorboard.backend.event_processing.plugin_event_multiplexer.EventMultiplexer object at 0x7f65b8336740>\").\n"
     ]
    },
    {
     "name": "stderr",
     "output_type": "stream",
     "text": [
      "[INFO 08-22 07:10:14] Scheduler: MetricFetchE INFO: Because val_acc is available_while_running and trial 13 is still RUNNING continuing the experiment and retrying on next poll...\n"
     ]
    },
    {
     "name": "stderr",
     "output_type": "stream",
     "text": [
      "[WARNING 08-22 07:10:14] Scheduler: Failed to fetch val_acc for trial 14, found MetricFetchE(message=\"No 'scalar' data found for trial in multiplexer mul=<tensorboard.backend.event_processing.plugin_event_multiplexer.EventMultiplexer object at 0x7f65bb406fe0>\").\n"
     ]
    },
    {
     "name": "stderr",
     "output_type": "stream",
     "text": [
      "[INFO 08-22 07:10:14] Scheduler: MetricFetchE INFO: Because val_acc is available_while_running and trial 14 is still RUNNING continuing the experiment and retrying on next poll...\n"
     ]
    },
    {
     "name": "stderr",
     "output_type": "stream",
     "text": [
      "/tmp/tmp.oVbuNeLNgw/Ax-main/ax/core/map_data.py:192: FutureWarning: The behavior of DataFrame concatenation with empty or all-NA entries is deprecated. In a future version, this will no longer exclude empty or all-NA columns when determining the result dtypes. To retain the old behavior, exclude the relevant entries before the concat operation.\n",
      "  df = pd.concat(\n",
      "[INFO 08-22 07:10:14] ax.early_stopping.strategies.base: Last progression of any candidate for trial stopping is 0.\n"
     ]
    },
    {
     "name": "stderr",
     "output_type": "stream",
     "text": [
      "[INFO 08-22 07:10:14] ax.early_stopping.strategies.base: No trials have reached 0.3. Not stopping any trials.\n"
     ]
    },
    {
     "name": "stderr",
     "output_type": "stream",
     "text": [
      "[INFO 08-22 07:10:14] Scheduler: Waiting for completed trials (for 10 sec, currently running trials: 3).\n"
     ]
    },
    {
     "name": "stderr",
     "output_type": "stream",
     "text": [
      "[INFO 08-22 07:10:24] Scheduler: Fetching data for newly completed trials: [].\n"
     ]
    },
    {
     "name": "stderr",
     "output_type": "stream",
     "text": [
      "[INFO 08-22 07:10:24] Scheduler: Fetching data for trials: 12 - 14 because some metrics on experiment are available while trials are running.\n"
     ]
    },
    {
     "name": "stderr",
     "output_type": "stream",
     "text": [
      "[INFO 08-22 07:10:24] ax.core.metric: MetricFetchE INFO: Initialized MetricFetchE(message=\"No 'scalar' data found for trial in multiplexer mul=<tensorboard.backend.event_processing.plugin_event_multiplexer.EventMultiplexer object at 0x7f65b81b3fa0>\")\n"
     ]
    },
    {
     "name": "stderr",
     "output_type": "stream",
     "text": [
      "[INFO 08-22 07:10:24] ax.core.metric: MetricFetchE INFO: Initialized MetricFetchE(message=\"No 'scalar' data found for trial in multiplexer mul=<tensorboard.backend.event_processing.plugin_event_multiplexer.EventMultiplexer object at 0x7f65b81b0100>\")\n"
     ]
    },
    {
     "name": "stderr",
     "output_type": "stream",
     "text": [
      "[INFO 08-22 07:10:24] ax.core.metric: MetricFetchE INFO: Initialized MetricFetchE(message=\"No 'scalar' data found for trial in multiplexer mul=<tensorboard.backend.event_processing.plugin_event_multiplexer.EventMultiplexer object at 0x7f65b81b0100>\")\n"
     ]
    },
    {
     "name": "stderr",
     "output_type": "stream",
     "text": [
      "[ERROR 08-22 07:10:24] ax.core.experiment: Discovered Metric fetching Err while attaching data MetricFetchE(message=\"No 'scalar' data found for trial in multiplexer mul=<tensorboard.backend.event_processing.plugin_event_multiplexer.EventMultiplexer object at 0x7f65b81b3fa0>\"). Ignoring for now -- will retry query on next call to fetch.\n"
     ]
    },
    {
     "name": "stderr",
     "output_type": "stream",
     "text": [
      "[ERROR 08-22 07:10:24] ax.core.experiment: Discovered Metric fetching Err while attaching data MetricFetchE(message=\"No 'scalar' data found for trial in multiplexer mul=<tensorboard.backend.event_processing.plugin_event_multiplexer.EventMultiplexer object at 0x7f65b81b0100>\"). Ignoring for now -- will retry query on next call to fetch.\n"
     ]
    },
    {
     "name": "stderr",
     "output_type": "stream",
     "text": [
      "[ERROR 08-22 07:10:24] ax.core.experiment: Discovered Metric fetching Err while attaching data MetricFetchE(message=\"No 'scalar' data found for trial in multiplexer mul=<tensorboard.backend.event_processing.plugin_event_multiplexer.EventMultiplexer object at 0x7f65b81b0100>\"). Ignoring for now -- will retry query on next call to fetch.\n"
     ]
    },
    {
     "name": "stderr",
     "output_type": "stream",
     "text": [
      "[WARNING 08-22 07:10:24] Scheduler: Failed to fetch val_acc for trial 12, found MetricFetchE(message=\"No 'scalar' data found for trial in multiplexer mul=<tensorboard.backend.event_processing.plugin_event_multiplexer.EventMultiplexer object at 0x7f65b81b3fa0>\").\n"
     ]
    },
    {
     "name": "stderr",
     "output_type": "stream",
     "text": [
      "[INFO 08-22 07:10:24] Scheduler: MetricFetchE INFO: Because val_acc is available_while_running and trial 12 is still RUNNING continuing the experiment and retrying on next poll...\n"
     ]
    },
    {
     "name": "stderr",
     "output_type": "stream",
     "text": [
      "[WARNING 08-22 07:10:24] Scheduler: Failed to fetch val_acc for trial 13, found MetricFetchE(message=\"No 'scalar' data found for trial in multiplexer mul=<tensorboard.backend.event_processing.plugin_event_multiplexer.EventMultiplexer object at 0x7f65b81b0100>\").\n"
     ]
    },
    {
     "name": "stderr",
     "output_type": "stream",
     "text": [
      "[INFO 08-22 07:10:24] Scheduler: MetricFetchE INFO: Because val_acc is available_while_running and trial 13 is still RUNNING continuing the experiment and retrying on next poll...\n"
     ]
    },
    {
     "name": "stderr",
     "output_type": "stream",
     "text": [
      "[WARNING 08-22 07:10:24] Scheduler: Failed to fetch val_acc for trial 14, found MetricFetchE(message=\"No 'scalar' data found for trial in multiplexer mul=<tensorboard.backend.event_processing.plugin_event_multiplexer.EventMultiplexer object at 0x7f65b81b0100>\").\n"
     ]
    },
    {
     "name": "stderr",
     "output_type": "stream",
     "text": [
      "[INFO 08-22 07:10:24] Scheduler: MetricFetchE INFO: Because val_acc is available_while_running and trial 14 is still RUNNING continuing the experiment and retrying on next poll...\n"
     ]
    },
    {
     "name": "stderr",
     "output_type": "stream",
     "text": [
      "/tmp/tmp.oVbuNeLNgw/Ax-main/ax/core/map_data.py:192: FutureWarning: The behavior of DataFrame concatenation with empty or all-NA entries is deprecated. In a future version, this will no longer exclude empty or all-NA columns when determining the result dtypes. To retain the old behavior, exclude the relevant entries before the concat operation.\n",
      "  df = pd.concat(\n",
      "[INFO 08-22 07:10:24] ax.early_stopping.strategies.base: Last progression of any candidate for trial stopping is 0.\n"
     ]
    },
    {
     "name": "stderr",
     "output_type": "stream",
     "text": [
      "[INFO 08-22 07:10:24] ax.early_stopping.strategies.base: No trials have reached 0.3. Not stopping any trials.\n"
     ]
    },
    {
     "name": "stderr",
     "output_type": "stream",
     "text": [
      "[INFO 08-22 07:10:24] Scheduler: Waiting for completed trials (for 10 sec, currently running trials: 3).\n"
     ]
    },
    {
     "name": "stderr",
     "output_type": "stream",
     "text": [
      "[INFO 08-22 07:10:34] Scheduler: Fetching data for newly completed trials: [].\n"
     ]
    },
    {
     "name": "stderr",
     "output_type": "stream",
     "text": [
      "[INFO 08-22 07:10:34] Scheduler: Fetching data for trials: 12 - 14 because some metrics on experiment are available while trials are running.\n"
     ]
    },
    {
     "name": "stderr",
     "output_type": "stream",
     "text": [
      "[INFO 08-22 07:10:34] ax.core.metric: MetricFetchE INFO: Initialized MetricFetchE(message=\"No 'scalar' data found for trial in multiplexer mul=<tensorboard.backend.event_processing.plugin_event_multiplexer.EventMultiplexer object at 0x7f65b81b3070>\")\n"
     ]
    },
    {
     "name": "stderr",
     "output_type": "stream",
     "text": [
      "[INFO 08-22 07:10:34] ax.core.metric: MetricFetchE INFO: Initialized MetricFetchE(message=\"No 'scalar' data found for trial in multiplexer mul=<tensorboard.backend.event_processing.plugin_event_multiplexer.EventMultiplexer object at 0x7f65b81b3070>\")\n"
     ]
    },
    {
     "name": "stderr",
     "output_type": "stream",
     "text": [
      "[INFO 08-22 07:10:34] ax.core.metric: MetricFetchE INFO: Initialized MetricFetchE(message=\"No 'scalar' data found for trial in multiplexer mul=<tensorboard.backend.event_processing.plugin_event_multiplexer.EventMultiplexer object at 0x7f65b81b3070>\")\n"
     ]
    },
    {
     "name": "stderr",
     "output_type": "stream",
     "text": [
      "[ERROR 08-22 07:10:34] ax.core.experiment: Discovered Metric fetching Err while attaching data MetricFetchE(message=\"No 'scalar' data found for trial in multiplexer mul=<tensorboard.backend.event_processing.plugin_event_multiplexer.EventMultiplexer object at 0x7f65b81b3070>\"). Ignoring for now -- will retry query on next call to fetch.\n"
     ]
    },
    {
     "name": "stderr",
     "output_type": "stream",
     "text": [
      "[ERROR 08-22 07:10:34] ax.core.experiment: Discovered Metric fetching Err while attaching data MetricFetchE(message=\"No 'scalar' data found for trial in multiplexer mul=<tensorboard.backend.event_processing.plugin_event_multiplexer.EventMultiplexer object at 0x7f65b81b3070>\"). Ignoring for now -- will retry query on next call to fetch.\n"
     ]
    },
    {
     "name": "stderr",
     "output_type": "stream",
     "text": [
      "[ERROR 08-22 07:10:34] ax.core.experiment: Discovered Metric fetching Err while attaching data MetricFetchE(message=\"No 'scalar' data found for trial in multiplexer mul=<tensorboard.backend.event_processing.plugin_event_multiplexer.EventMultiplexer object at 0x7f65b81b3070>\"). Ignoring for now -- will retry query on next call to fetch.\n"
     ]
    },
    {
     "name": "stderr",
     "output_type": "stream",
     "text": [
      "[WARNING 08-22 07:10:34] Scheduler: Failed to fetch val_acc for trial 12, found MetricFetchE(message=\"No 'scalar' data found for trial in multiplexer mul=<tensorboard.backend.event_processing.plugin_event_multiplexer.EventMultiplexer object at 0x7f65b81b3070>\").\n"
     ]
    },
    {
     "name": "stderr",
     "output_type": "stream",
     "text": [
      "[INFO 08-22 07:10:34] Scheduler: MetricFetchE INFO: Because val_acc is available_while_running and trial 12 is still RUNNING continuing the experiment and retrying on next poll...\n"
     ]
    },
    {
     "name": "stderr",
     "output_type": "stream",
     "text": [
      "[WARNING 08-22 07:10:34] Scheduler: Failed to fetch val_acc for trial 13, found MetricFetchE(message=\"No 'scalar' data found for trial in multiplexer mul=<tensorboard.backend.event_processing.plugin_event_multiplexer.EventMultiplexer object at 0x7f65b81b3070>\").\n"
     ]
    },
    {
     "name": "stderr",
     "output_type": "stream",
     "text": [
      "[INFO 08-22 07:10:34] Scheduler: MetricFetchE INFO: Because val_acc is available_while_running and trial 13 is still RUNNING continuing the experiment and retrying on next poll...\n"
     ]
    },
    {
     "name": "stderr",
     "output_type": "stream",
     "text": [
      "[WARNING 08-22 07:10:34] Scheduler: Failed to fetch val_acc for trial 14, found MetricFetchE(message=\"No 'scalar' data found for trial in multiplexer mul=<tensorboard.backend.event_processing.plugin_event_multiplexer.EventMultiplexer object at 0x7f65b81b3070>\").\n"
     ]
    },
    {
     "name": "stderr",
     "output_type": "stream",
     "text": [
      "[INFO 08-22 07:10:34] Scheduler: MetricFetchE INFO: Because val_acc is available_while_running and trial 14 is still RUNNING continuing the experiment and retrying on next poll...\n"
     ]
    },
    {
     "name": "stderr",
     "output_type": "stream",
     "text": [
      "/tmp/tmp.oVbuNeLNgw/Ax-main/ax/core/map_data.py:192: FutureWarning: The behavior of DataFrame concatenation with empty or all-NA entries is deprecated. In a future version, this will no longer exclude empty or all-NA columns when determining the result dtypes. To retain the old behavior, exclude the relevant entries before the concat operation.\n",
      "  df = pd.concat(\n",
      "[INFO 08-22 07:10:34] ax.early_stopping.strategies.base: Last progression of any candidate for trial stopping is 0.\n"
     ]
    },
    {
     "name": "stderr",
     "output_type": "stream",
     "text": [
      "[INFO 08-22 07:10:34] ax.early_stopping.strategies.base: No trials have reached 0.3. Not stopping any trials.\n"
     ]
    },
    {
     "name": "stderr",
     "output_type": "stream",
     "text": [
      "[INFO 08-22 07:10:34] Scheduler: Waiting for completed trials (for 10 sec, currently running trials: 3).\n"
     ]
    },
    {
     "name": "stderr",
     "output_type": "stream",
     "text": [
      "[INFO 08-22 07:10:44] Scheduler: Fetching data for newly completed trials: [].\n"
     ]
    },
    {
     "name": "stderr",
     "output_type": "stream",
     "text": [
      "[INFO 08-22 07:10:44] Scheduler: Fetching data for trials: 12 - 14 because some metrics on experiment are available while trials are running.\n"
     ]
    },
    {
     "name": "stderr",
     "output_type": "stream",
     "text": [
      "[INFO 08-22 07:10:44] ax.core.metric: MetricFetchE INFO: Initialized MetricFetchE(message=\"No 'scalar' data found for trial in multiplexer mul=<tensorboard.backend.event_processing.plugin_event_multiplexer.EventMultiplexer object at 0x7f65b81b3520>\")\n"
     ]
    },
    {
     "name": "stderr",
     "output_type": "stream",
     "text": [
      "[INFO 08-22 07:10:44] ax.core.metric: MetricFetchE INFO: Initialized MetricFetchE(message=\"No 'scalar' data found for trial in multiplexer mul=<tensorboard.backend.event_processing.plugin_event_multiplexer.EventMultiplexer object at 0x7f65b81b3520>\")\n"
     ]
    },
    {
     "name": "stderr",
     "output_type": "stream",
     "text": [
      "[INFO 08-22 07:10:44] ax.core.metric: MetricFetchE INFO: Initialized MetricFetchE(message=\"No 'scalar' data found for trial in multiplexer mul=<tensorboard.backend.event_processing.plugin_event_multiplexer.EventMultiplexer object at 0x7f65b81b3520>\")\n"
     ]
    },
    {
     "name": "stderr",
     "output_type": "stream",
     "text": [
      "[ERROR 08-22 07:10:44] ax.core.experiment: Discovered Metric fetching Err while attaching data MetricFetchE(message=\"No 'scalar' data found for trial in multiplexer mul=<tensorboard.backend.event_processing.plugin_event_multiplexer.EventMultiplexer object at 0x7f65b81b3520>\"). Ignoring for now -- will retry query on next call to fetch.\n"
     ]
    },
    {
     "name": "stderr",
     "output_type": "stream",
     "text": [
      "[ERROR 08-22 07:10:44] ax.core.experiment: Discovered Metric fetching Err while attaching data MetricFetchE(message=\"No 'scalar' data found for trial in multiplexer mul=<tensorboard.backend.event_processing.plugin_event_multiplexer.EventMultiplexer object at 0x7f65b81b3520>\"). Ignoring for now -- will retry query on next call to fetch.\n"
     ]
    },
    {
     "name": "stderr",
     "output_type": "stream",
     "text": [
      "[ERROR 08-22 07:10:44] ax.core.experiment: Discovered Metric fetching Err while attaching data MetricFetchE(message=\"No 'scalar' data found for trial in multiplexer mul=<tensorboard.backend.event_processing.plugin_event_multiplexer.EventMultiplexer object at 0x7f65b81b3520>\"). Ignoring for now -- will retry query on next call to fetch.\n"
     ]
    },
    {
     "name": "stderr",
     "output_type": "stream",
     "text": [
      "[WARNING 08-22 07:10:44] Scheduler: Failed to fetch val_acc for trial 12, found MetricFetchE(message=\"No 'scalar' data found for trial in multiplexer mul=<tensorboard.backend.event_processing.plugin_event_multiplexer.EventMultiplexer object at 0x7f65b81b3520>\").\n"
     ]
    },
    {
     "name": "stderr",
     "output_type": "stream",
     "text": [
      "[INFO 08-22 07:10:44] Scheduler: MetricFetchE INFO: Because val_acc is available_while_running and trial 12 is still RUNNING continuing the experiment and retrying on next poll...\n"
     ]
    },
    {
     "name": "stderr",
     "output_type": "stream",
     "text": [
      "[WARNING 08-22 07:10:44] Scheduler: Failed to fetch val_acc for trial 13, found MetricFetchE(message=\"No 'scalar' data found for trial in multiplexer mul=<tensorboard.backend.event_processing.plugin_event_multiplexer.EventMultiplexer object at 0x7f65b81b3520>\").\n"
     ]
    },
    {
     "name": "stderr",
     "output_type": "stream",
     "text": [
      "[INFO 08-22 07:10:44] Scheduler: MetricFetchE INFO: Because val_acc is available_while_running and trial 13 is still RUNNING continuing the experiment and retrying on next poll...\n"
     ]
    },
    {
     "name": "stderr",
     "output_type": "stream",
     "text": [
      "[WARNING 08-22 07:10:44] Scheduler: Failed to fetch val_acc for trial 14, found MetricFetchE(message=\"No 'scalar' data found for trial in multiplexer mul=<tensorboard.backend.event_processing.plugin_event_multiplexer.EventMultiplexer object at 0x7f65b81b3520>\").\n"
     ]
    },
    {
     "name": "stderr",
     "output_type": "stream",
     "text": [
      "[INFO 08-22 07:10:44] Scheduler: MetricFetchE INFO: Because val_acc is available_while_running and trial 14 is still RUNNING continuing the experiment and retrying on next poll...\n"
     ]
    },
    {
     "name": "stderr",
     "output_type": "stream",
     "text": [
      "/tmp/tmp.oVbuNeLNgw/Ax-main/ax/core/map_data.py:192: FutureWarning: The behavior of DataFrame concatenation with empty or all-NA entries is deprecated. In a future version, this will no longer exclude empty or all-NA columns when determining the result dtypes. To retain the old behavior, exclude the relevant entries before the concat operation.\n",
      "  df = pd.concat(\n",
      "[INFO 08-22 07:10:44] ax.early_stopping.strategies.base: Last progression of any candidate for trial stopping is 0.\n"
     ]
    },
    {
     "name": "stderr",
     "output_type": "stream",
     "text": [
      "[INFO 08-22 07:10:44] ax.early_stopping.strategies.base: No trials have reached 0.3. Not stopping any trials.\n"
     ]
    },
    {
     "name": "stderr",
     "output_type": "stream",
     "text": [
      "[INFO 08-22 07:10:44] Scheduler: Waiting for completed trials (for 10 sec, currently running trials: 3).\n"
     ]
    },
    {
     "name": "stderr",
     "output_type": "stream",
     "text": [
      "[INFO 08-22 07:10:54] Scheduler: Fetching data for newly completed trials: [].\n"
     ]
    },
    {
     "name": "stderr",
     "output_type": "stream",
     "text": [
      "[INFO 08-22 07:10:54] Scheduler: Fetching data for trials: 12 - 14 because some metrics on experiment are available while trials are running.\n"
     ]
    },
    {
     "name": "stderr",
     "output_type": "stream",
     "text": [
      "[INFO 08-22 07:10:54] ax.core.metric: MetricFetchE INFO: Initialized MetricFetchE(message=\"No 'scalar' data found for trial in multiplexer mul=<tensorboard.backend.event_processing.plugin_event_multiplexer.EventMultiplexer object at 0x7f65b81b3460>\")\n"
     ]
    },
    {
     "name": "stderr",
     "output_type": "stream",
     "text": [
      "[INFO 08-22 07:10:54] ax.core.metric: MetricFetchE INFO: Initialized MetricFetchE(message=\"No 'scalar' data found for trial in multiplexer mul=<tensorboard.backend.event_processing.plugin_event_multiplexer.EventMultiplexer object at 0x7f65b81b3460>\")\n"
     ]
    },
    {
     "name": "stderr",
     "output_type": "stream",
     "text": [
      "[ERROR 08-22 07:10:54] ax.core.experiment: Discovered Metric fetching Err while attaching data MetricFetchE(message=\"No 'scalar' data found for trial in multiplexer mul=<tensorboard.backend.event_processing.plugin_event_multiplexer.EventMultiplexer object at 0x7f65b81b3460>\"). Ignoring for now -- will retry query on next call to fetch.\n"
     ]
    },
    {
     "name": "stderr",
     "output_type": "stream",
     "text": [
      "[ERROR 08-22 07:10:54] ax.core.experiment: Discovered Metric fetching Err while attaching data MetricFetchE(message=\"No 'scalar' data found for trial in multiplexer mul=<tensorboard.backend.event_processing.plugin_event_multiplexer.EventMultiplexer object at 0x7f65b81b3460>\"). Ignoring for now -- will retry query on next call to fetch.\n"
     ]
    },
    {
     "name": "stderr",
     "output_type": "stream",
     "text": [
      "/tmp/tmp.oVbuNeLNgw/Ax-main/ax/core/map_data.py:192: FutureWarning: The behavior of DataFrame concatenation with empty or all-NA entries is deprecated. In a future version, this will no longer exclude empty or all-NA columns when determining the result dtypes. To retain the old behavior, exclude the relevant entries before the concat operation.\n",
      "  df = pd.concat(\n",
      "[WARNING 08-22 07:10:54] Scheduler: Failed to fetch val_acc for trial 13, found MetricFetchE(message=\"No 'scalar' data found for trial in multiplexer mul=<tensorboard.backend.event_processing.plugin_event_multiplexer.EventMultiplexer object at 0x7f65b81b3460>\").\n"
     ]
    },
    {
     "name": "stderr",
     "output_type": "stream",
     "text": [
      "[INFO 08-22 07:10:54] Scheduler: MetricFetchE INFO: Because val_acc is available_while_running and trial 13 is still RUNNING continuing the experiment and retrying on next poll...\n"
     ]
    },
    {
     "name": "stderr",
     "output_type": "stream",
     "text": [
      "[WARNING 08-22 07:10:54] Scheduler: Failed to fetch val_acc for trial 14, found MetricFetchE(message=\"No 'scalar' data found for trial in multiplexer mul=<tensorboard.backend.event_processing.plugin_event_multiplexer.EventMultiplexer object at 0x7f65b81b3460>\").\n"
     ]
    },
    {
     "name": "stderr",
     "output_type": "stream",
     "text": [
      "[INFO 08-22 07:10:54] Scheduler: MetricFetchE INFO: Because val_acc is available_while_running and trial 14 is still RUNNING continuing the experiment and retrying on next poll...\n"
     ]
    },
    {
     "name": "stderr",
     "output_type": "stream",
     "text": [
      "/tmp/tmp.oVbuNeLNgw/Ax-main/ax/core/map_data.py:192: FutureWarning: The behavior of DataFrame concatenation with empty or all-NA entries is deprecated. In a future version, this will no longer exclude empty or all-NA columns when determining the result dtypes. To retain the old behavior, exclude the relevant entries before the concat operation.\n",
      "  df = pd.concat(\n",
      "[INFO 08-22 07:10:54] ax.early_stopping.strategies.base: Last progression of any candidate for trial stopping is 0.09994666666666667.\n"
     ]
    },
    {
     "name": "stderr",
     "output_type": "stream",
     "text": [
      "[INFO 08-22 07:10:54] ax.early_stopping.strategies.base: No trials have reached 0.3. Not stopping any trials.\n"
     ]
    },
    {
     "name": "stderr",
     "output_type": "stream",
     "text": [
      "[INFO 08-22 07:10:54] Scheduler: Waiting for completed trials (for 10 sec, currently running trials: 3).\n"
     ]
    },
    {
     "name": "stderr",
     "output_type": "stream",
     "text": [
      "[INFO 08-22 07:11:04] Scheduler: Fetching data for newly completed trials: [].\n"
     ]
    },
    {
     "name": "stderr",
     "output_type": "stream",
     "text": [
      "[INFO 08-22 07:11:04] Scheduler: Fetching data for trials: 12 - 14 because some metrics on experiment are available while trials are running.\n"
     ]
    },
    {
     "name": "stderr",
     "output_type": "stream",
     "text": [
      "/tmp/tmp.oVbuNeLNgw/Ax-main/ax/core/map_data.py:192: FutureWarning: The behavior of DataFrame concatenation with empty or all-NA entries is deprecated. In a future version, this will no longer exclude empty or all-NA columns when determining the result dtypes. To retain the old behavior, exclude the relevant entries before the concat operation.\n",
      "  df = pd.concat(\n",
      "/tmp/tmp.oVbuNeLNgw/Ax-main/ax/core/map_data.py:192: FutureWarning: The behavior of DataFrame concatenation with empty or all-NA entries is deprecated. In a future version, this will no longer exclude empty or all-NA columns when determining the result dtypes. To retain the old behavior, exclude the relevant entries before the concat operation.\n",
      "  df = pd.concat(\n",
      "[INFO 08-22 07:11:04] ax.early_stopping.strategies.base: Last progression of any candidate for trial stopping is 0.09994666666666667.\n"
     ]
    },
    {
     "name": "stderr",
     "output_type": "stream",
     "text": [
      "[INFO 08-22 07:11:04] ax.early_stopping.strategies.base: No trials have reached 0.3. Not stopping any trials.\n"
     ]
    },
    {
     "name": "stderr",
     "output_type": "stream",
     "text": [
      "[INFO 08-22 07:11:04] Scheduler: Waiting for completed trials (for 10 sec, currently running trials: 3).\n"
     ]
    },
    {
     "name": "stderr",
     "output_type": "stream",
     "text": [
      "[INFO 08-22 07:11:14] Scheduler: Fetching data for newly completed trials: [].\n"
     ]
    },
    {
     "name": "stderr",
     "output_type": "stream",
     "text": [
      "[INFO 08-22 07:11:14] Scheduler: Fetching data for trials: 12 - 14 because some metrics on experiment are available while trials are running.\n"
     ]
    },
    {
     "name": "stderr",
     "output_type": "stream",
     "text": [
      "/tmp/tmp.oVbuNeLNgw/Ax-main/ax/core/map_data.py:192: FutureWarning: The behavior of DataFrame concatenation with empty or all-NA entries is deprecated. In a future version, this will no longer exclude empty or all-NA columns when determining the result dtypes. To retain the old behavior, exclude the relevant entries before the concat operation.\n",
      "  df = pd.concat(\n",
      "/tmp/tmp.oVbuNeLNgw/Ax-main/ax/core/map_data.py:192: FutureWarning: The behavior of DataFrame concatenation with empty or all-NA entries is deprecated. In a future version, this will no longer exclude empty or all-NA columns when determining the result dtypes. To retain the old behavior, exclude the relevant entries before the concat operation.\n",
      "  df = pd.concat(\n",
      "[INFO 08-22 07:11:14] ax.early_stopping.strategies.base: Last progression of any candidate for trial stopping is 0.09994666666666667.\n"
     ]
    },
    {
     "name": "stderr",
     "output_type": "stream",
     "text": [
      "[INFO 08-22 07:11:14] ax.early_stopping.strategies.base: No trials have reached 0.3. Not stopping any trials.\n"
     ]
    },
    {
     "name": "stderr",
     "output_type": "stream",
     "text": [
      "[INFO 08-22 07:11:14] Scheduler: Waiting for completed trials (for 10 sec, currently running trials: 3).\n"
     ]
    },
    {
     "name": "stderr",
     "output_type": "stream",
     "text": [
      "[INFO 08-22 07:11:24] Scheduler: Fetching data for newly completed trials: [].\n"
     ]
    },
    {
     "name": "stderr",
     "output_type": "stream",
     "text": [
      "[INFO 08-22 07:11:24] Scheduler: Fetching data for trials: 12 - 14 because some metrics on experiment are available while trials are running.\n"
     ]
    },
    {
     "name": "stderr",
     "output_type": "stream",
     "text": [
      "/tmp/tmp.oVbuNeLNgw/Ax-main/ax/core/map_data.py:192: FutureWarning: The behavior of DataFrame concatenation with empty or all-NA entries is deprecated. In a future version, this will no longer exclude empty or all-NA columns when determining the result dtypes. To retain the old behavior, exclude the relevant entries before the concat operation.\n",
      "  df = pd.concat(\n",
      "/tmp/tmp.oVbuNeLNgw/Ax-main/ax/core/map_data.py:192: FutureWarning: The behavior of DataFrame concatenation with empty or all-NA entries is deprecated. In a future version, this will no longer exclude empty or all-NA columns when determining the result dtypes. To retain the old behavior, exclude the relevant entries before the concat operation.\n",
      "  df = pd.concat(\n",
      "[INFO 08-22 07:11:25] ax.early_stopping.strategies.base: Last progression of any candidate for trial stopping is 0.09994666666666667.\n"
     ]
    },
    {
     "name": "stderr",
     "output_type": "stream",
     "text": [
      "[INFO 08-22 07:11:25] ax.early_stopping.strategies.base: No trials have reached 0.3. Not stopping any trials.\n"
     ]
    },
    {
     "name": "stderr",
     "output_type": "stream",
     "text": [
      "[INFO 08-22 07:11:25] Scheduler: Waiting for completed trials (for 10 sec, currently running trials: 3).\n"
     ]
    },
    {
     "name": "stderr",
     "output_type": "stream",
     "text": [
      "[INFO 08-22 07:11:35] Scheduler: Fetching data for newly completed trials: [].\n"
     ]
    },
    {
     "name": "stderr",
     "output_type": "stream",
     "text": [
      "[INFO 08-22 07:11:35] Scheduler: Fetching data for trials: 12 - 14 because some metrics on experiment are available while trials are running.\n"
     ]
    },
    {
     "name": "stderr",
     "output_type": "stream",
     "text": [
      "/tmp/tmp.oVbuNeLNgw/Ax-main/ax/core/map_data.py:192: FutureWarning: The behavior of DataFrame concatenation with empty or all-NA entries is deprecated. In a future version, this will no longer exclude empty or all-NA columns when determining the result dtypes. To retain the old behavior, exclude the relevant entries before the concat operation.\n",
      "  df = pd.concat(\n",
      "/tmp/tmp.oVbuNeLNgw/Ax-main/ax/core/map_data.py:192: FutureWarning: The behavior of DataFrame concatenation with empty or all-NA entries is deprecated. In a future version, this will no longer exclude empty or all-NA columns when determining the result dtypes. To retain the old behavior, exclude the relevant entries before the concat operation.\n",
      "  df = pd.concat(\n",
      "[INFO 08-22 07:11:35] ax.early_stopping.strategies.base: Last progression of any candidate for trial stopping is 0.19994666666666666.\n"
     ]
    },
    {
     "name": "stderr",
     "output_type": "stream",
     "text": [
      "[INFO 08-22 07:11:35] ax.early_stopping.strategies.base: No trials have reached 0.3. Not stopping any trials.\n"
     ]
    },
    {
     "name": "stderr",
     "output_type": "stream",
     "text": [
      "[INFO 08-22 07:11:35] Scheduler: Waiting for completed trials (for 10 sec, currently running trials: 3).\n"
     ]
    },
    {
     "name": "stderr",
     "output_type": "stream",
     "text": [
      "[INFO 08-22 07:11:45] Scheduler: Fetching data for newly completed trials: [].\n"
     ]
    },
    {
     "name": "stderr",
     "output_type": "stream",
     "text": [
      "[INFO 08-22 07:11:45] Scheduler: Fetching data for trials: 12 - 14 because some metrics on experiment are available while trials are running.\n"
     ]
    },
    {
     "name": "stderr",
     "output_type": "stream",
     "text": [
      "/tmp/tmp.oVbuNeLNgw/Ax-main/ax/core/map_data.py:192: FutureWarning: The behavior of DataFrame concatenation with empty or all-NA entries is deprecated. In a future version, this will no longer exclude empty or all-NA columns when determining the result dtypes. To retain the old behavior, exclude the relevant entries before the concat operation.\n",
      "  df = pd.concat(\n",
      "/tmp/tmp.oVbuNeLNgw/Ax-main/ax/core/map_data.py:192: FutureWarning: The behavior of DataFrame concatenation with empty or all-NA entries is deprecated. In a future version, this will no longer exclude empty or all-NA columns when determining the result dtypes. To retain the old behavior, exclude the relevant entries before the concat operation.\n",
      "  df = pd.concat(\n",
      "[INFO 08-22 07:11:45] ax.early_stopping.strategies.base: Last progression of any candidate for trial stopping is 0.19994666666666666.\n"
     ]
    },
    {
     "name": "stderr",
     "output_type": "stream",
     "text": [
      "[INFO 08-22 07:11:45] ax.early_stopping.strategies.base: No trials have reached 0.3. Not stopping any trials.\n"
     ]
    },
    {
     "name": "stderr",
     "output_type": "stream",
     "text": [
      "[INFO 08-22 07:11:45] Scheduler: Waiting for completed trials (for 10 sec, currently running trials: 3).\n"
     ]
    },
    {
     "name": "stderr",
     "output_type": "stream",
     "text": [
      "[INFO 08-22 07:11:55] Scheduler: Fetching data for newly completed trials: [].\n"
     ]
    },
    {
     "name": "stderr",
     "output_type": "stream",
     "text": [
      "[INFO 08-22 07:11:55] Scheduler: Fetching data for trials: 12 - 14 because some metrics on experiment are available while trials are running.\n"
     ]
    },
    {
     "name": "stderr",
     "output_type": "stream",
     "text": [
      "/tmp/tmp.oVbuNeLNgw/Ax-main/ax/core/map_data.py:192: FutureWarning: The behavior of DataFrame concatenation with empty or all-NA entries is deprecated. In a future version, this will no longer exclude empty or all-NA columns when determining the result dtypes. To retain the old behavior, exclude the relevant entries before the concat operation.\n",
      "  df = pd.concat(\n",
      "/tmp/tmp.oVbuNeLNgw/Ax-main/ax/core/map_data.py:192: FutureWarning: The behavior of DataFrame concatenation with empty or all-NA entries is deprecated. In a future version, this will no longer exclude empty or all-NA columns when determining the result dtypes. To retain the old behavior, exclude the relevant entries before the concat operation.\n",
      "  df = pd.concat(\n"
     ]
    },
    {
     "name": "stderr",
     "output_type": "stream",
     "text": [
      "[INFO 08-22 07:11:55] ax.early_stopping.strategies.base: Last progression of any candidate for trial stopping is 0.19994666666666666.\n"
     ]
    },
    {
     "name": "stderr",
     "output_type": "stream",
     "text": [
      "[INFO 08-22 07:11:55] ax.early_stopping.strategies.base: No trials have reached 0.3. Not stopping any trials.\n"
     ]
    },
    {
     "name": "stderr",
     "output_type": "stream",
     "text": [
      "[INFO 08-22 07:11:55] Scheduler: Waiting for completed trials (for 10 sec, currently running trials: 3).\n"
     ]
    },
    {
     "name": "stderr",
     "output_type": "stream",
     "text": [
      "[INFO 08-22 07:12:05] Scheduler: Fetching data for newly completed trials: [].\n"
     ]
    },
    {
     "name": "stderr",
     "output_type": "stream",
     "text": [
      "[INFO 08-22 07:12:05] Scheduler: Fetching data for trials: 12 - 14 because some metrics on experiment are available while trials are running.\n"
     ]
    },
    {
     "name": "stderr",
     "output_type": "stream",
     "text": [
      "/tmp/tmp.oVbuNeLNgw/Ax-main/ax/core/map_data.py:192: FutureWarning: The behavior of DataFrame concatenation with empty or all-NA entries is deprecated. In a future version, this will no longer exclude empty or all-NA columns when determining the result dtypes. To retain the old behavior, exclude the relevant entries before the concat operation.\n",
      "  df = pd.concat(\n",
      "/tmp/tmp.oVbuNeLNgw/Ax-main/ax/core/map_data.py:192: FutureWarning: The behavior of DataFrame concatenation with empty or all-NA entries is deprecated. In a future version, this will no longer exclude empty or all-NA columns when determining the result dtypes. To retain the old behavior, exclude the relevant entries before the concat operation.\n",
      "  df = pd.concat(\n",
      "[INFO 08-22 07:12:05] ax.early_stopping.strategies.base: Last progression of any candidate for trial stopping is 0.19994666666666666.\n"
     ]
    },
    {
     "name": "stderr",
     "output_type": "stream",
     "text": [
      "[INFO 08-22 07:12:05] ax.early_stopping.strategies.base: No trials have reached 0.3. Not stopping any trials.\n"
     ]
    },
    {
     "name": "stderr",
     "output_type": "stream",
     "text": [
      "[INFO 08-22 07:12:05] Scheduler: Waiting for completed trials (for 10 sec, currently running trials: 3).\n"
     ]
    },
    {
     "name": "stderr",
     "output_type": "stream",
     "text": [
      "[INFO 08-22 07:12:15] Scheduler: Fetching data for newly completed trials: [].\n"
     ]
    },
    {
     "name": "stderr",
     "output_type": "stream",
     "text": [
      "[INFO 08-22 07:12:15] Scheduler: Fetching data for trials: 12 - 14 because some metrics on experiment are available while trials are running.\n"
     ]
    },
    {
     "name": "stderr",
     "output_type": "stream",
     "text": [
      "/tmp/tmp.oVbuNeLNgw/Ax-main/ax/core/map_data.py:192: FutureWarning: The behavior of DataFrame concatenation with empty or all-NA entries is deprecated. In a future version, this will no longer exclude empty or all-NA columns when determining the result dtypes. To retain the old behavior, exclude the relevant entries before the concat operation.\n",
      "  df = pd.concat(\n",
      "/tmp/tmp.oVbuNeLNgw/Ax-main/ax/core/map_data.py:192: FutureWarning: The behavior of DataFrame concatenation with empty or all-NA entries is deprecated. In a future version, this will no longer exclude empty or all-NA columns when determining the result dtypes. To retain the old behavior, exclude the relevant entries before the concat operation.\n",
      "  df = pd.concat(\n",
      "[INFO 08-22 07:12:15] ax.early_stopping.strategies.base: Last progression of any candidate for trial stopping is 0.29994666666666664.\n"
     ]
    },
    {
     "name": "stderr",
     "output_type": "stream",
     "text": [
      "[INFO 08-22 07:12:15] ax.early_stopping.strategies.base: No trials have reached 0.3. Not stopping any trials.\n"
     ]
    },
    {
     "name": "stderr",
     "output_type": "stream",
     "text": [
      "[INFO 08-22 07:12:15] Scheduler: Waiting for completed trials (for 10 sec, currently running trials: 3).\n"
     ]
    },
    {
     "name": "stderr",
     "output_type": "stream",
     "text": [
      "[INFO 08-22 07:12:25] Scheduler: Fetching data for newly completed trials: [].\n"
     ]
    },
    {
     "name": "stderr",
     "output_type": "stream",
     "text": [
      "[INFO 08-22 07:12:25] Scheduler: Fetching data for trials: 12 - 14 because some metrics on experiment are available while trials are running.\n"
     ]
    },
    {
     "name": "stderr",
     "output_type": "stream",
     "text": [
      "/tmp/tmp.oVbuNeLNgw/Ax-main/ax/core/map_data.py:192: FutureWarning: The behavior of DataFrame concatenation with empty or all-NA entries is deprecated. In a future version, this will no longer exclude empty or all-NA columns when determining the result dtypes. To retain the old behavior, exclude the relevant entries before the concat operation.\n",
      "  df = pd.concat(\n",
      "/tmp/tmp.oVbuNeLNgw/Ax-main/ax/core/map_data.py:192: FutureWarning: The behavior of DataFrame concatenation with empty or all-NA entries is deprecated. In a future version, this will no longer exclude empty or all-NA columns when determining the result dtypes. To retain the old behavior, exclude the relevant entries before the concat operation.\n",
      "  df = pd.concat(\n",
      "[INFO 08-22 07:12:26] ax.early_stopping.strategies.base: Last progression of any candidate for trial stopping is 0.29994666666666664.\n"
     ]
    },
    {
     "name": "stderr",
     "output_type": "stream",
     "text": [
      "[INFO 08-22 07:12:26] ax.early_stopping.strategies.base: No trials have reached 0.3. Not stopping any trials.\n"
     ]
    },
    {
     "name": "stderr",
     "output_type": "stream",
     "text": [
      "[INFO 08-22 07:12:26] Scheduler: Waiting for completed trials (for 10 sec, currently running trials: 3).\n"
     ]
    },
    {
     "name": "stderr",
     "output_type": "stream",
     "text": [
      "[INFO 08-22 07:12:36] Scheduler: Fetching data for newly completed trials: [].\n"
     ]
    },
    {
     "name": "stderr",
     "output_type": "stream",
     "text": [
      "[INFO 08-22 07:12:36] Scheduler: Fetching data for trials: 12 - 14 because some metrics on experiment are available while trials are running.\n"
     ]
    },
    {
     "name": "stderr",
     "output_type": "stream",
     "text": [
      "/tmp/tmp.oVbuNeLNgw/Ax-main/ax/core/map_data.py:192: FutureWarning: The behavior of DataFrame concatenation with empty or all-NA entries is deprecated. In a future version, this will no longer exclude empty or all-NA columns when determining the result dtypes. To retain the old behavior, exclude the relevant entries before the concat operation.\n",
      "  df = pd.concat(\n",
      "/tmp/tmp.oVbuNeLNgw/Ax-main/ax/core/map_data.py:192: FutureWarning: The behavior of DataFrame concatenation with empty or all-NA entries is deprecated. In a future version, this will no longer exclude empty or all-NA columns when determining the result dtypes. To retain the old behavior, exclude the relevant entries before the concat operation.\n",
      "  df = pd.concat(\n",
      "[INFO 08-22 07:12:36] ax.early_stopping.strategies.base: Last progression of any candidate for trial stopping is 0.29994666666666664.\n"
     ]
    },
    {
     "name": "stderr",
     "output_type": "stream",
     "text": [
      "[INFO 08-22 07:12:36] ax.early_stopping.strategies.base: No trials have reached 0.3. Not stopping any trials.\n"
     ]
    },
    {
     "name": "stderr",
     "output_type": "stream",
     "text": [
      "[INFO 08-22 07:12:36] Scheduler: Waiting for completed trials (for 10 sec, currently running trials: 3).\n"
     ]
    },
    {
     "name": "stderr",
     "output_type": "stream",
     "text": [
      "[INFO 08-22 07:12:46] Scheduler: Fetching data for newly completed trials: [].\n"
     ]
    },
    {
     "name": "stderr",
     "output_type": "stream",
     "text": [
      "[INFO 08-22 07:12:46] Scheduler: Fetching data for trials: 12 - 14 because some metrics on experiment are available while trials are running.\n"
     ]
    },
    {
     "name": "stderr",
     "output_type": "stream",
     "text": [
      "/tmp/tmp.oVbuNeLNgw/Ax-main/ax/core/map_data.py:192: FutureWarning: The behavior of DataFrame concatenation with empty or all-NA entries is deprecated. In a future version, this will no longer exclude empty or all-NA columns when determining the result dtypes. To retain the old behavior, exclude the relevant entries before the concat operation.\n",
      "  df = pd.concat(\n",
      "/tmp/tmp.oVbuNeLNgw/Ax-main/ax/core/map_data.py:192: FutureWarning: The behavior of DataFrame concatenation with empty or all-NA entries is deprecated. In a future version, this will no longer exclude empty or all-NA columns when determining the result dtypes. To retain the old behavior, exclude the relevant entries before the concat operation.\n",
      "  df = pd.concat(\n",
      "[INFO 08-22 07:12:46] ax.early_stopping.strategies.base: Last progression of any candidate for trial stopping is 0.29994666666666664.\n"
     ]
    },
    {
     "name": "stderr",
     "output_type": "stream",
     "text": [
      "[INFO 08-22 07:12:46] ax.early_stopping.strategies.base: No trials have reached 0.3. Not stopping any trials.\n"
     ]
    },
    {
     "name": "stderr",
     "output_type": "stream",
     "text": [
      "[INFO 08-22 07:12:46] Scheduler: Waiting for completed trials (for 10 sec, currently running trials: 3).\n"
     ]
    },
    {
     "name": "stderr",
     "output_type": "stream",
     "text": [
      "[INFO 08-22 07:12:56] Scheduler: Fetching data for newly completed trials: [].\n"
     ]
    },
    {
     "name": "stderr",
     "output_type": "stream",
     "text": [
      "[INFO 08-22 07:12:56] Scheduler: Fetching data for trials: 12 - 14 because some metrics on experiment are available while trials are running.\n"
     ]
    },
    {
     "name": "stderr",
     "output_type": "stream",
     "text": [
      "/tmp/tmp.oVbuNeLNgw/Ax-main/ax/core/map_data.py:192: FutureWarning: The behavior of DataFrame concatenation with empty or all-NA entries is deprecated. In a future version, this will no longer exclude empty or all-NA columns when determining the result dtypes. To retain the old behavior, exclude the relevant entries before the concat operation.\n",
      "  df = pd.concat(\n",
      "/tmp/tmp.oVbuNeLNgw/Ax-main/ax/core/map_data.py:192: FutureWarning: The behavior of DataFrame concatenation with empty or all-NA entries is deprecated. In a future version, this will no longer exclude empty or all-NA columns when determining the result dtypes. To retain the old behavior, exclude the relevant entries before the concat operation.\n",
      "  df = pd.concat(\n",
      "[INFO 08-22 07:12:56] ax.early_stopping.strategies.base: Last progression of any candidate for trial stopping is 0.29994666666666664.\n"
     ]
    },
    {
     "name": "stderr",
     "output_type": "stream",
     "text": [
      "[INFO 08-22 07:12:56] ax.early_stopping.strategies.base: No trials have reached 0.3. Not stopping any trials.\n"
     ]
    },
    {
     "name": "stderr",
     "output_type": "stream",
     "text": [
      "[INFO 08-22 07:12:56] Scheduler: Waiting for completed trials (for 10 sec, currently running trials: 3).\n"
     ]
    },
    {
     "name": "stderr",
     "output_type": "stream",
     "text": [
      "[INFO 08-22 07:13:06] Scheduler: Fetching data for newly completed trials: [].\n"
     ]
    },
    {
     "name": "stderr",
     "output_type": "stream",
     "text": [
      "[INFO 08-22 07:13:06] Scheduler: Fetching data for trials: 12 - 14 because some metrics on experiment are available while trials are running.\n"
     ]
    },
    {
     "name": "stderr",
     "output_type": "stream",
     "text": [
      "/tmp/tmp.oVbuNeLNgw/Ax-main/ax/core/map_data.py:192: FutureWarning: The behavior of DataFrame concatenation with empty or all-NA entries is deprecated. In a future version, this will no longer exclude empty or all-NA columns when determining the result dtypes. To retain the old behavior, exclude the relevant entries before the concat operation.\n",
      "  df = pd.concat(\n",
      "/tmp/tmp.oVbuNeLNgw/Ax-main/ax/core/map_data.py:192: FutureWarning: The behavior of DataFrame concatenation with empty or all-NA entries is deprecated. In a future version, this will no longer exclude empty or all-NA columns when determining the result dtypes. To retain the old behavior, exclude the relevant entries before the concat operation.\n",
      "  df = pd.concat(\n",
      "[INFO 08-22 07:13:06] ax.early_stopping.strategies.base: Last progression of any candidate for trial stopping is 0.3999466666666667.\n"
     ]
    },
    {
     "name": "stderr",
     "output_type": "stream",
     "text": [
      "[INFO 08-22 07:13:06] ax.early_stopping.strategies.percentile: Considering trial 12 for early stopping.\n"
     ]
    },
    {
     "name": "stderr",
     "output_type": "stream",
     "text": [
      "[INFO 08-22 07:13:06] ax.early_stopping.strategies.base: Last progression of Trial 12 is 0.3999466666666667.\n"
     ]
    },
    {
     "name": "stderr",
     "output_type": "stream",
     "text": [
      "[INFO 08-22 07:13:06] ax.early_stopping.strategies.percentile: Early stopping objective at last progression is:\n",
      "1     0.841107\n",
      "2     0.956326\n",
      "3     0.932814\n",
      "4     0.908913\n",
      "5     0.962078\n",
      "6     0.900962\n",
      "7     0.936396\n",
      "8     0.902637\n",
      "9     0.911766\n",
      "10    0.926694\n",
      "11    0.929368\n",
      "12    0.916739\n",
      "Name: 0.3999466666666667, dtype: float64.\n"
     ]
    },
    {
     "name": "stderr",
     "output_type": "stream",
     "text": [
      "[INFO 08-22 07:13:06] ax.early_stopping.strategies.percentile: Early stopping decision for 12: True. Reason: Trial objective value 0.9167390034116546 is worse than 70.0-th percentile (0.9317806313484173) across comparable trials.\n"
     ]
    },
    {
     "name": "stderr",
     "output_type": "stream",
     "text": [
      "[INFO 08-22 07:13:06] ax.early_stopping.strategies.percentile: Considering trial 13 for early stopping.\n"
     ]
    },
    {
     "name": "stderr",
     "output_type": "stream",
     "text": [
      "[INFO 08-22 07:13:06] ax.early_stopping.strategies.base: Last progression of Trial 13 is 0.29994666666666664.\n"
     ]
    },
    {
     "name": "stderr",
     "output_type": "stream",
     "text": [
      "[INFO 08-22 07:13:06] ax.early_stopping.strategies.base: Trial 13's most recent progression (0.29994666666666664) that is available for metric val_acc falls out of the min/max_progression range (0.3, None). Not early stopping this trial.\n"
     ]
    },
    {
     "name": "stderr",
     "output_type": "stream",
     "text": [
      "[INFO 08-22 07:13:06] ax.early_stopping.strategies.percentile: Considering trial 14 for early stopping.\n"
     ]
    },
    {
     "name": "stderr",
     "output_type": "stream",
     "text": [
      "[INFO 08-22 07:13:06] ax.early_stopping.strategies.base: Last progression of Trial 14 is 0.29994666666666664.\n"
     ]
    },
    {
     "name": "stderr",
     "output_type": "stream",
     "text": [
      "[INFO 08-22 07:13:06] ax.early_stopping.strategies.base: Trial 14's most recent progression (0.29994666666666664) that is available for metric val_acc falls out of the min/max_progression range (0.3, None). Not early stopping this trial.\n"
     ]
    },
    {
     "name": "stderr",
     "output_type": "stream",
     "text": [
      "[INFO 08-22 07:13:07] Scheduler: Done submitting trials, waiting for remaining 2 running trials...\n"
     ]
    },
    {
     "name": "stderr",
     "output_type": "stream",
     "text": [
      "[WARNING 08-22 07:13:07] Scheduler: Both `init_seconds_between_polls` and `early_stopping_strategy supplied. `init_seconds_between_polls=1` will be overrridden by `early_stopping_strategy.seconds_between_polls=10` and polling will take place at a constant rate.\n"
     ]
    },
    {
     "name": "stderr",
     "output_type": "stream",
     "text": [
      "[INFO 08-22 07:13:07] Scheduler: Fetching data for newly completed trials: [].\n"
     ]
    },
    {
     "name": "stderr",
     "output_type": "stream",
     "text": [
      "[INFO 08-22 07:13:07] Scheduler: Fetching data for trials: 13 - 14 because some metrics on experiment are available while trials are running.\n"
     ]
    },
    {
     "name": "stderr",
     "output_type": "stream",
     "text": [
      "/tmp/tmp.oVbuNeLNgw/Ax-main/ax/core/map_data.py:192: FutureWarning: The behavior of DataFrame concatenation with empty or all-NA entries is deprecated. In a future version, this will no longer exclude empty or all-NA columns when determining the result dtypes. To retain the old behavior, exclude the relevant entries before the concat operation.\n",
      "  df = pd.concat(\n",
      "/tmp/tmp.oVbuNeLNgw/Ax-main/ax/core/map_data.py:192: FutureWarning: The behavior of DataFrame concatenation with empty or all-NA entries is deprecated. In a future version, this will no longer exclude empty or all-NA columns when determining the result dtypes. To retain the old behavior, exclude the relevant entries before the concat operation.\n",
      "  df = pd.concat(\n",
      "[INFO 08-22 07:13:07] ax.early_stopping.strategies.base: Last progression of any candidate for trial stopping is 0.29994666666666664.\n"
     ]
    },
    {
     "name": "stderr",
     "output_type": "stream",
     "text": [
      "[INFO 08-22 07:13:07] ax.early_stopping.strategies.base: No trials have reached 0.3. Not stopping any trials.\n"
     ]
    },
    {
     "name": "stderr",
     "output_type": "stream",
     "text": [
      "[INFO 08-22 07:13:07] Scheduler: Waiting for completed trials (for 10 sec, currently running trials: 2).\n"
     ]
    },
    {
     "name": "stderr",
     "output_type": "stream",
     "text": [
      "[INFO 08-22 07:13:17] Scheduler: Fetching data for newly completed trials: [].\n"
     ]
    },
    {
     "name": "stderr",
     "output_type": "stream",
     "text": [
      "[INFO 08-22 07:13:17] Scheduler: Fetching data for trials: 13 - 14 because some metrics on experiment are available while trials are running.\n"
     ]
    },
    {
     "name": "stderr",
     "output_type": "stream",
     "text": [
      "/tmp/tmp.oVbuNeLNgw/Ax-main/ax/core/map_data.py:192: FutureWarning: The behavior of DataFrame concatenation with empty or all-NA entries is deprecated. In a future version, this will no longer exclude empty or all-NA columns when determining the result dtypes. To retain the old behavior, exclude the relevant entries before the concat operation.\n",
      "  df = pd.concat(\n",
      "/tmp/tmp.oVbuNeLNgw/Ax-main/ax/core/map_data.py:192: FutureWarning: The behavior of DataFrame concatenation with empty or all-NA entries is deprecated. In a future version, this will no longer exclude empty or all-NA columns when determining the result dtypes. To retain the old behavior, exclude the relevant entries before the concat operation.\n",
      "  df = pd.concat(\n",
      "[INFO 08-22 07:13:17] ax.early_stopping.strategies.base: Last progression of any candidate for trial stopping is 0.3999466666666667.\n"
     ]
    },
    {
     "name": "stderr",
     "output_type": "stream",
     "text": [
      "[INFO 08-22 07:13:18] ax.early_stopping.strategies.percentile: Considering trial 13 for early stopping.\n"
     ]
    },
    {
     "name": "stderr",
     "output_type": "stream",
     "text": [
      "[INFO 08-22 07:13:18] ax.early_stopping.strategies.base: Last progression of Trial 13 is 0.3999466666666667.\n"
     ]
    },
    {
     "name": "stderr",
     "output_type": "stream",
     "text": [
      "[INFO 08-22 07:13:18] ax.early_stopping.strategies.percentile: Early stopping objective at last progression is:\n",
      "1     0.841107\n",
      "2     0.956326\n",
      "3     0.932814\n",
      "4     0.908913\n",
      "5     0.962078\n",
      "6     0.900962\n",
      "7     0.936396\n",
      "8     0.902637\n",
      "9     0.911766\n",
      "10    0.926694\n",
      "11    0.929368\n",
      "12    0.916739\n",
      "13    0.929149\n",
      "14    0.895647\n",
      "Name: 0.3999466666666667, dtype: float64.\n"
     ]
    },
    {
     "name": "stderr",
     "output_type": "stream",
     "text": [
      "[INFO 08-22 07:13:18] ax.early_stopping.strategies.percentile: Early stopping decision for 13: True. Reason: Trial objective value 0.9291485636105091 is worse than 70.0-th percentile (0.9297130167484283) across comparable trials.\n"
     ]
    },
    {
     "name": "stderr",
     "output_type": "stream",
     "text": [
      "[INFO 08-22 07:13:18] ax.early_stopping.strategies.percentile: Considering trial 14 for early stopping.\n"
     ]
    },
    {
     "name": "stderr",
     "output_type": "stream",
     "text": [
      "[INFO 08-22 07:13:18] ax.early_stopping.strategies.base: Last progression of Trial 14 is 0.3999466666666667.\n"
     ]
    },
    {
     "name": "stderr",
     "output_type": "stream",
     "text": [
      "[INFO 08-22 07:13:18] ax.early_stopping.strategies.percentile: Early stopping objective at last progression is:\n",
      "1     0.841107\n",
      "2     0.956326\n",
      "3     0.932814\n",
      "4     0.908913\n",
      "5     0.962078\n",
      "6     0.900962\n",
      "7     0.936396\n",
      "8     0.902637\n",
      "9     0.911766\n",
      "10    0.926694\n",
      "11    0.929368\n",
      "12    0.916739\n",
      "13    0.929149\n",
      "14    0.895647\n",
      "Name: 0.3999466666666667, dtype: float64.\n"
     ]
    },
    {
     "name": "stderr",
     "output_type": "stream",
     "text": [
      "[INFO 08-22 07:13:18] ax.early_stopping.strategies.percentile: Early stopping decision for 14: True. Reason: Trial objective value 0.8956474785147043 is worse than 70.0-th percentile (0.9297130167484283) across comparable trials.\n"
     ]
    },
    {
     "name": "stderr",
     "output_type": "stream",
     "text": [
      "[WARNING 08-22 07:13:19] Scheduler: Both `init_seconds_between_polls` and `early_stopping_strategy supplied. `init_seconds_between_polls=1` will be overrridden by `early_stopping_strategy.seconds_between_polls=10` and polling will take place at a constant rate.\n"
     ]
    },
    {
     "name": "stdout",
     "output_type": "stream",
     "text": [
      "CPU times: user 1min 3s, sys: 1.28 s, total: 1min 4s\n",
      "Wall time: 30min 25s\n"
     ]
    },
    {
     "data": {
      "text/plain": [
       "OptimizationResult()"
      ]
     },
     "execution_count": 14,
     "metadata": {},
     "output_type": "execute_result"
    }
   ],
   "source": [
    "%%time\n",
    "scheduler.run_all_trials()"
   ]
  },
  {
   "attachments": {},
   "cell_type": "markdown",
   "id": "8c5afbe8",
   "metadata": {
    "papermill": {
     "duration": 0.074436,
     "end_time": "2024-08-22T07:13:19.651350",
     "exception": false,
     "start_time": "2024-08-22T07:13:19.576914",
     "status": "completed"
    },
    "tags": []
   },
   "source": [
    "## Results\n",
    "\n",
    "First, we examine the data stored on the experiment. This shows that each trial is associated with an entire learning curve, represented by the column \"steps\"."
   ]
  },
  {
   "cell_type": "code",
   "execution_count": 15,
   "id": "764365f0",
   "metadata": {
    "execution": {
     "iopub.execute_input": "2024-08-22T07:13:19.802188Z",
     "iopub.status.busy": "2024-08-22T07:13:19.801697Z",
     "iopub.status.idle": "2024-08-22T07:13:19.819929Z",
     "shell.execute_reply": "2024-08-22T07:13:19.819198Z"
    },
    "papermill": {
     "duration": 0.094314,
     "end_time": "2024-08-22T07:13:19.821292",
     "exception": false,
     "start_time": "2024-08-22T07:13:19.726978",
     "status": "completed"
    },
    "tags": []
   },
   "outputs": [
    {
     "name": "stderr",
     "output_type": "stream",
     "text": [
      "/tmp/tmp.oVbuNeLNgw/Ax-main/ax/core/map_data.py:192: FutureWarning: The behavior of DataFrame concatenation with empty or all-NA entries is deprecated. In a future version, this will no longer exclude empty or all-NA columns when determining the result dtypes. To retain the old behavior, exclude the relevant entries before the concat operation.\n",
      "  df = pd.concat(\n"
     ]
    },
    {
     "data": {
      "text/html": [
       "<div>\n",
       "<style scoped>\n",
       "    .dataframe tbody tr th:only-of-type {\n",
       "        vertical-align: middle;\n",
       "    }\n",
       "\n",
       "    .dataframe tbody tr th {\n",
       "        vertical-align: top;\n",
       "    }\n",
       "\n",
       "    .dataframe thead th {\n",
       "        text-align: right;\n",
       "    }\n",
       "</style>\n",
       "<table border=\"1\" class=\"dataframe\">\n",
       "  <thead>\n",
       "    <tr style=\"text-align: right;\">\n",
       "      <th></th>\n",
       "      <th>arm_name</th>\n",
       "      <th>metric_name</th>\n",
       "      <th>mean</th>\n",
       "      <th>sem</th>\n",
       "      <th>trial_index</th>\n",
       "      <th>step</th>\n",
       "    </tr>\n",
       "  </thead>\n",
       "  <tbody>\n",
       "    <tr>\n",
       "      <th>0</th>\n",
       "      <td>1_0</td>\n",
       "      <td>val_acc</td>\n",
       "      <td>0.845312</td>\n",
       "      <td>NaN</td>\n",
       "      <td>1</td>\n",
       "      <td>1874.0</td>\n",
       "    </tr>\n",
       "    <tr>\n",
       "      <th>1</th>\n",
       "      <td>1_0</td>\n",
       "      <td>val_acc</td>\n",
       "      <td>0.852619</td>\n",
       "      <td>NaN</td>\n",
       "      <td>1</td>\n",
       "      <td>3749.0</td>\n",
       "    </tr>\n",
       "    <tr>\n",
       "      <th>2</th>\n",
       "      <td>1_0</td>\n",
       "      <td>val_acc</td>\n",
       "      <td>0.840632</td>\n",
       "      <td>NaN</td>\n",
       "      <td>1</td>\n",
       "      <td>5624.0</td>\n",
       "    </tr>\n",
       "    <tr>\n",
       "      <th>3</th>\n",
       "      <td>1_0</td>\n",
       "      <td>val_acc</td>\n",
       "      <td>0.841107</td>\n",
       "      <td>NaN</td>\n",
       "      <td>1</td>\n",
       "      <td>7499.0</td>\n",
       "    </tr>\n",
       "    <tr>\n",
       "      <th>4</th>\n",
       "      <td>1_0</td>\n",
       "      <td>val_acc</td>\n",
       "      <td>0.837934</td>\n",
       "      <td>NaN</td>\n",
       "      <td>1</td>\n",
       "      <td>9374.0</td>\n",
       "    </tr>\n",
       "    <tr>\n",
       "      <th>5</th>\n",
       "      <td>1_0</td>\n",
       "      <td>val_acc</td>\n",
       "      <td>0.745992</td>\n",
       "      <td>NaN</td>\n",
       "      <td>1</td>\n",
       "      <td>11249.0</td>\n",
       "    </tr>\n",
       "    <tr>\n",
       "      <th>6</th>\n",
       "      <td>1_0</td>\n",
       "      <td>val_acc</td>\n",
       "      <td>0.725282</td>\n",
       "      <td>NaN</td>\n",
       "      <td>1</td>\n",
       "      <td>13124.0</td>\n",
       "    </tr>\n",
       "    <tr>\n",
       "      <th>7</th>\n",
       "      <td>1_0</td>\n",
       "      <td>val_acc</td>\n",
       "      <td>0.702855</td>\n",
       "      <td>NaN</td>\n",
       "      <td>1</td>\n",
       "      <td>14999.0</td>\n",
       "    </tr>\n",
       "    <tr>\n",
       "      <th>8</th>\n",
       "      <td>1_0</td>\n",
       "      <td>val_acc</td>\n",
       "      <td>0.691242</td>\n",
       "      <td>NaN</td>\n",
       "      <td>1</td>\n",
       "      <td>16874.0</td>\n",
       "    </tr>\n",
       "    <tr>\n",
       "      <th>9</th>\n",
       "      <td>1_0</td>\n",
       "      <td>val_acc</td>\n",
       "      <td>0.686614</td>\n",
       "      <td>NaN</td>\n",
       "      <td>1</td>\n",
       "      <td>18749.0</td>\n",
       "    </tr>\n",
       "  </tbody>\n",
       "</table>\n",
       "</div>"
      ],
      "text/plain": [
       "  arm_name metric_name      mean  sem  trial_index     step\n",
       "0      1_0     val_acc  0.845312  NaN            1   1874.0\n",
       "1      1_0     val_acc  0.852619  NaN            1   3749.0\n",
       "2      1_0     val_acc  0.840632  NaN            1   5624.0\n",
       "3      1_0     val_acc  0.841107  NaN            1   7499.0\n",
       "4      1_0     val_acc  0.837934  NaN            1   9374.0\n",
       "5      1_0     val_acc  0.745992  NaN            1  11249.0\n",
       "6      1_0     val_acc  0.725282  NaN            1  13124.0\n",
       "7      1_0     val_acc  0.702855  NaN            1  14999.0\n",
       "8      1_0     val_acc  0.691242  NaN            1  16874.0\n",
       "9      1_0     val_acc  0.686614  NaN            1  18749.0"
      ]
     },
     "execution_count": 15,
     "metadata": {},
     "output_type": "execute_result"
    }
   ],
   "source": [
    "experiment.lookup_data().map_df.head(n=10)"
   ]
  },
  {
   "attachments": {},
   "cell_type": "markdown",
   "id": "0033ed2e",
   "metadata": {
    "papermill": {
     "duration": 0.073595,
     "end_time": "2024-08-22T07:13:19.968587",
     "exception": false,
     "start_time": "2024-08-22T07:13:19.894992",
     "status": "completed"
    },
    "tags": []
   },
   "source": [
    "Below is a summary of the experiment, showing that a portion of trials have been early stopped."
   ]
  },
  {
   "cell_type": "code",
   "execution_count": 16,
   "id": "00f2b35f",
   "metadata": {
    "execution": {
     "iopub.execute_input": "2024-08-22T07:13:20.117379Z",
     "iopub.status.busy": "2024-08-22T07:13:20.117094Z",
     "iopub.status.idle": "2024-08-22T07:13:20.151921Z",
     "shell.execute_reply": "2024-08-22T07:13:20.151230Z"
    },
    "papermill": {
     "duration": 0.11015,
     "end_time": "2024-08-22T07:13:20.153366",
     "exception": false,
     "start_time": "2024-08-22T07:13:20.043216",
     "status": "completed"
    },
    "tags": []
   },
   "outputs": [
    {
     "name": "stderr",
     "output_type": "stream",
     "text": [
      "/tmp/tmp.oVbuNeLNgw/Ax-main/ax/core/map_data.py:192: FutureWarning: The behavior of DataFrame concatenation with empty or all-NA entries is deprecated. In a future version, this will no longer exclude empty or all-NA columns when determining the result dtypes. To retain the old behavior, exclude the relevant entries before the concat operation.\n",
      "  df = pd.concat(\n",
      "[WARNING 08-22 07:13:20] ax.service.utils.report_utils: Column reason missing for all trials. Not appending column.\n"
     ]
    },
    {
     "data": {
      "text/html": [
       "<div>\n",
       "<style scoped>\n",
       "    .dataframe tbody tr th:only-of-type {\n",
       "        vertical-align: middle;\n",
       "    }\n",
       "\n",
       "    .dataframe tbody tr th {\n",
       "        vertical-align: top;\n",
       "    }\n",
       "\n",
       "    .dataframe thead th {\n",
       "        text-align: right;\n",
       "    }\n",
       "</style>\n",
       "<table border=\"1\" class=\"dataframe\">\n",
       "  <thead>\n",
       "    <tr style=\"text-align: right;\">\n",
       "      <th></th>\n",
       "      <th>trial_index</th>\n",
       "      <th>arm_name</th>\n",
       "      <th>trial_status</th>\n",
       "      <th>generation_method</th>\n",
       "      <th>val_acc</th>\n",
       "      <th>hidden_size_1</th>\n",
       "      <th>hidden_size_2</th>\n",
       "      <th>learning_rate</th>\n",
       "      <th>dropout</th>\n",
       "    </tr>\n",
       "  </thead>\n",
       "  <tbody>\n",
       "    <tr>\n",
       "      <th>0</th>\n",
       "      <td>0</td>\n",
       "      <td>0_0</td>\n",
       "      <td>FAILED</td>\n",
       "      <td>Sobol</td>\n",
       "      <td>NaN</td>\n",
       "      <td>20</td>\n",
       "      <td>19</td>\n",
       "      <td>0.000644</td>\n",
       "      <td>0.091756</td>\n",
       "    </tr>\n",
       "    <tr>\n",
       "      <th>1</th>\n",
       "      <td>1</td>\n",
       "      <td>1_0</td>\n",
       "      <td>COMPLETED</td>\n",
       "      <td>Sobol</td>\n",
       "      <td>0.684763</td>\n",
       "      <td>48</td>\n",
       "      <td>70</td>\n",
       "      <td>0.009395</td>\n",
       "      <td>0.474556</td>\n",
       "    </tr>\n",
       "    <tr>\n",
       "      <th>2</th>\n",
       "      <td>2</td>\n",
       "      <td>2_0</td>\n",
       "      <td>COMPLETED</td>\n",
       "      <td>Sobol</td>\n",
       "      <td>0.970771</td>\n",
       "      <td>100</td>\n",
       "      <td>35</td>\n",
       "      <td>0.000246</td>\n",
       "      <td>0.135115</td>\n",
       "    </tr>\n",
       "    <tr>\n",
       "      <th>3</th>\n",
       "      <td>3</td>\n",
       "      <td>3_0</td>\n",
       "      <td>COMPLETED</td>\n",
       "      <td>Sobol</td>\n",
       "      <td>0.945010</td>\n",
       "      <td>42</td>\n",
       "      <td>78</td>\n",
       "      <td>0.002092</td>\n",
       "      <td>0.299182</td>\n",
       "    </tr>\n",
       "    <tr>\n",
       "      <th>4</th>\n",
       "      <td>4</td>\n",
       "      <td>4_0</td>\n",
       "      <td>COMPLETED</td>\n",
       "      <td>Sobol</td>\n",
       "      <td>0.922211</td>\n",
       "      <td>31</td>\n",
       "      <td>28</td>\n",
       "      <td>0.004002</td>\n",
       "      <td>0.345025</td>\n",
       "    </tr>\n",
       "    <tr>\n",
       "      <th>5</th>\n",
       "      <td>5</td>\n",
       "      <td>5_0</td>\n",
       "      <td>COMPLETED</td>\n",
       "      <td>Sobol</td>\n",
       "      <td>0.973010</td>\n",
       "      <td>77</td>\n",
       "      <td>105</td>\n",
       "      <td>0.000471</td>\n",
       "      <td>0.212193</td>\n",
       "    </tr>\n",
       "    <tr>\n",
       "      <th>6</th>\n",
       "      <td>6</td>\n",
       "      <td>6_0</td>\n",
       "      <td>EARLY_STOPPED</td>\n",
       "      <td>BoTorch</td>\n",
       "      <td>0.900962</td>\n",
       "      <td>17</td>\n",
       "      <td>35</td>\n",
       "      <td>0.003530</td>\n",
       "      <td>0.266159</td>\n",
       "    </tr>\n",
       "    <tr>\n",
       "      <th>7</th>\n",
       "      <td>7</td>\n",
       "      <td>7_0</td>\n",
       "      <td>EARLY_STOPPED</td>\n",
       "      <td>BoTorch</td>\n",
       "      <td>0.936396</td>\n",
       "      <td>47</td>\n",
       "      <td>16</td>\n",
       "      <td>0.000502</td>\n",
       "      <td>0.323905</td>\n",
       "    </tr>\n",
       "    <tr>\n",
       "      <th>8</th>\n",
       "      <td>8</td>\n",
       "      <td>8_0</td>\n",
       "      <td>EARLY_STOPPED</td>\n",
       "      <td>BoTorch</td>\n",
       "      <td>0.902637</td>\n",
       "      <td>70</td>\n",
       "      <td>25</td>\n",
       "      <td>0.010000</td>\n",
       "      <td>0.276225</td>\n",
       "    </tr>\n",
       "    <tr>\n",
       "      <th>9</th>\n",
       "      <td>9</td>\n",
       "      <td>9_0</td>\n",
       "      <td>EARLY_STOPPED</td>\n",
       "      <td>BoTorch</td>\n",
       "      <td>0.911766</td>\n",
       "      <td>16</td>\n",
       "      <td>32</td>\n",
       "      <td>0.000359</td>\n",
       "      <td>0.171451</td>\n",
       "    </tr>\n",
       "    <tr>\n",
       "      <th>10</th>\n",
       "      <td>10</td>\n",
       "      <td>10_0</td>\n",
       "      <td>EARLY_STOPPED</td>\n",
       "      <td>BoTorch</td>\n",
       "      <td>0.926694</td>\n",
       "      <td>128</td>\n",
       "      <td>38</td>\n",
       "      <td>0.010000</td>\n",
       "      <td>0.150381</td>\n",
       "    </tr>\n",
       "    <tr>\n",
       "      <th>11</th>\n",
       "      <td>11</td>\n",
       "      <td>11_0</td>\n",
       "      <td>EARLY_STOPPED</td>\n",
       "      <td>BoTorch</td>\n",
       "      <td>0.929368</td>\n",
       "      <td>128</td>\n",
       "      <td>16</td>\n",
       "      <td>0.000100</td>\n",
       "      <td>0.228535</td>\n",
       "    </tr>\n",
       "    <tr>\n",
       "      <th>12</th>\n",
       "      <td>12</td>\n",
       "      <td>12_0</td>\n",
       "      <td>EARLY_STOPPED</td>\n",
       "      <td>BoTorch</td>\n",
       "      <td>0.916739</td>\n",
       "      <td>16</td>\n",
       "      <td>77</td>\n",
       "      <td>0.001452</td>\n",
       "      <td>0.149670</td>\n",
       "    </tr>\n",
       "    <tr>\n",
       "      <th>13</th>\n",
       "      <td>13</td>\n",
       "      <td>13_0</td>\n",
       "      <td>EARLY_STOPPED</td>\n",
       "      <td>BoTorch</td>\n",
       "      <td>0.929149</td>\n",
       "      <td>128</td>\n",
       "      <td>18</td>\n",
       "      <td>0.010000</td>\n",
       "      <td>0.158975</td>\n",
       "    </tr>\n",
       "    <tr>\n",
       "      <th>14</th>\n",
       "      <td>14</td>\n",
       "      <td>14_0</td>\n",
       "      <td>EARLY_STOPPED</td>\n",
       "      <td>BoTorch</td>\n",
       "      <td>0.895647</td>\n",
       "      <td>24</td>\n",
       "      <td>16</td>\n",
       "      <td>0.000100</td>\n",
       "      <td>0.213421</td>\n",
       "    </tr>\n",
       "  </tbody>\n",
       "</table>\n",
       "</div>"
      ],
      "text/plain": [
       "    trial_index arm_name   trial_status generation_method   val_acc  \\\n",
       "0             0      0_0         FAILED             Sobol       NaN   \n",
       "1             1      1_0      COMPLETED             Sobol  0.684763   \n",
       "2             2      2_0      COMPLETED             Sobol  0.970771   \n",
       "3             3      3_0      COMPLETED             Sobol  0.945010   \n",
       "4             4      4_0      COMPLETED             Sobol  0.922211   \n",
       "5             5      5_0      COMPLETED             Sobol  0.973010   \n",
       "6             6      6_0  EARLY_STOPPED           BoTorch  0.900962   \n",
       "7             7      7_0  EARLY_STOPPED           BoTorch  0.936396   \n",
       "8             8      8_0  EARLY_STOPPED           BoTorch  0.902637   \n",
       "9             9      9_0  EARLY_STOPPED           BoTorch  0.911766   \n",
       "10           10     10_0  EARLY_STOPPED           BoTorch  0.926694   \n",
       "11           11     11_0  EARLY_STOPPED           BoTorch  0.929368   \n",
       "12           12     12_0  EARLY_STOPPED           BoTorch  0.916739   \n",
       "13           13     13_0  EARLY_STOPPED           BoTorch  0.929149   \n",
       "14           14     14_0  EARLY_STOPPED           BoTorch  0.895647   \n",
       "\n",
       "    hidden_size_1  hidden_size_2  learning_rate   dropout  \n",
       "0              20             19       0.000644  0.091756  \n",
       "1              48             70       0.009395  0.474556  \n",
       "2             100             35       0.000246  0.135115  \n",
       "3              42             78       0.002092  0.299182  \n",
       "4              31             28       0.004002  0.345025  \n",
       "5              77            105       0.000471  0.212193  \n",
       "6              17             35       0.003530  0.266159  \n",
       "7              47             16       0.000502  0.323905  \n",
       "8              70             25       0.010000  0.276225  \n",
       "9              16             32       0.000359  0.171451  \n",
       "10            128             38       0.010000  0.150381  \n",
       "11            128             16       0.000100  0.228535  \n",
       "12             16             77       0.001452  0.149670  \n",
       "13            128             18       0.010000  0.158975  \n",
       "14             24             16       0.000100  0.213421  "
      ]
     },
     "execution_count": 16,
     "metadata": {},
     "output_type": "execute_result"
    }
   ],
   "source": [
    "exp_to_df(experiment)"
   ]
  },
  {
   "attachments": {},
   "cell_type": "markdown",
   "id": "f8909cf2",
   "metadata": {
    "papermill": {
     "duration": 0.072157,
     "end_time": "2024-08-22T07:13:20.300118",
     "exception": false,
     "start_time": "2024-08-22T07:13:20.227961",
     "status": "completed"
    },
    "tags": []
   },
   "source": [
    "We can give a very rough estimate of the amount of computational savings due to early stopping, by looking at the total number of steps used when early stopping is used versus the number of steps used if we ran all trials to completion. Note to do a true comparison, one should run full HPO loops with and without early stopping (as early stopping will influence the model and future points selected by the generation strategy). "
   ]
  },
  {
   "cell_type": "code",
   "execution_count": 17,
   "id": "5abb3ce8",
   "metadata": {
    "execution": {
     "iopub.execute_input": "2024-08-22T07:13:20.499515Z",
     "iopub.status.busy": "2024-08-22T07:13:20.499056Z",
     "iopub.status.idle": "2024-08-22T07:13:20.512592Z",
     "shell.execute_reply": "2024-08-22T07:13:20.511855Z"
    },
    "papermill": {
     "duration": 0.139803,
     "end_time": "2024-08-22T07:13:20.513982",
     "exception": false,
     "start_time": "2024-08-22T07:13:20.374179",
     "status": "completed"
    },
    "tags": []
   },
   "outputs": [
    {
     "name": "stdout",
     "output_type": "stream",
     "text": [
      "A rough estimate of the computational savings is 38.57485714285714%.\n"
     ]
    },
    {
     "name": "stderr",
     "output_type": "stream",
     "text": [
      "/tmp/tmp.oVbuNeLNgw/Ax-main/ax/core/map_data.py:192: FutureWarning: The behavior of DataFrame concatenation with empty or all-NA entries is deprecated. In a future version, this will no longer exclude empty or all-NA columns when determining the result dtypes. To retain the old behavior, exclude the relevant entries before the concat operation.\n",
      "  df = pd.concat(\n"
     ]
    }
   ],
   "source": [
    "map_df = experiment.lookup_data().map_df\n",
    "trial_to_max_steps = map_df.groupby(\"trial_index\")[\"step\"].max()\n",
    "completed_trial_steps = trial_to_max_steps.iloc[0]\n",
    "savings = 1.0 - trial_to_max_steps.sum() / (\n",
    "    completed_trial_steps * len(trial_to_max_steps)\n",
    ")\n",
    "# TODO format nicer\n",
    "print(f\"A rough estimate of the computational savings is {100 * savings}%.\")"
   ]
  },
  {
   "attachments": {},
   "cell_type": "markdown",
   "id": "37df6964",
   "metadata": {
    "papermill": {
     "duration": 0.074447,
     "end_time": "2024-08-22T07:13:20.662357",
     "exception": false,
     "start_time": "2024-08-22T07:13:20.587910",
     "status": "completed"
    },
    "tags": []
   },
   "source": [
    "## Visualizations\n",
    "\n",
    "Finally, we show a visualization of learning curves versus actual elapsed wall time. This helps to illustrate that stopped trials make room for additional trials to be run."
   ]
  },
  {
   "cell_type": "code",
   "execution_count": 18,
   "id": "c88cb8d0",
   "metadata": {
    "execution": {
     "iopub.execute_input": "2024-08-22T07:13:20.814747Z",
     "iopub.status.busy": "2024-08-22T07:13:20.814265Z",
     "iopub.status.idle": "2024-08-22T07:13:20.822320Z",
     "shell.execute_reply": "2024-08-22T07:13:20.821546Z"
    },
    "papermill": {
     "duration": 0.086081,
     "end_time": "2024-08-22T07:13:20.823713",
     "exception": false,
     "start_time": "2024-08-22T07:13:20.737632",
     "status": "completed"
    },
    "tags": []
   },
   "outputs": [],
   "source": [
    "# helper function for getting trial start times\n",
    "def time_started(row):\n",
    "    trial_index = row[\"trial_index\"]\n",
    "    return experiment.trials[trial_index].time_run_started\n",
    "\n",
    "\n",
    "# helper function for getting trial completion times\n",
    "def time_completed(row):\n",
    "    trial_index = row[\"trial_index\"]\n",
    "    return experiment.trials[trial_index].time_completed\n",
    "\n",
    "\n",
    "# helper function for getting relevant data from experiment\n",
    "# with early stopping into useful dfs\n",
    "def early_stopping_exp_to_df(experiment):\n",
    "    trials_df = exp_to_df(experiment)\n",
    "    curve_df = experiment.lookup_data().map_df\n",
    "    training_row_df = (\n",
    "        curve_df.groupby(\"trial_index\").max().reset_index()[[\"trial_index\", \"steps\"]]\n",
    "    )\n",
    "    trials_df = trials_df.merge(training_row_df, on=\"trial_index\")\n",
    "    trials_df[\"time_started\"] = trials_df.apply(func=time_started, axis=1)\n",
    "    trials_df[\"time_completed\"] = trials_df.apply(func=time_completed, axis=1)\n",
    "    start_time = trials_df[\"time_started\"].min()\n",
    "    trials_df[\"time_started_rel\"] = (\n",
    "        trials_df[\"time_started\"] - start_time\n",
    "    ).dt.total_seconds()\n",
    "    trials_df[\"time_completed_rel\"] = (\n",
    "        trials_df[\"time_completed\"] - start_time\n",
    "    ).dt.total_seconds()\n",
    "    return trials_df, curve_df\n",
    "\n",
    "\n",
    "def plot_curves_by_wall_time(trials_df, curve_df):\n",
    "    trials = set(curve_df[\"trial_index\"])\n",
    "    fig, ax = plt.subplots(1, 1, figsize=(10, 6))\n",
    "    ax.set(xlabel=\"seconds since start\", ylabel=\"validation accuracy\")\n",
    "    for trial_index in trials:\n",
    "        this_trial_df = curve_df[curve_df[\"trial_index\"] == trial_index]\n",
    "        start_time_rel = trials_df[\"time_started_rel\"].iloc[trial_index]\n",
    "        completed_time_rel = trials_df[\"time_completed_rel\"].iloc[trial_index]\n",
    "        total_steps = trials_df.loc[trial_index, \"steps\"]\n",
    "        smoothed_curve = this_trial_df[\"mean\"].rolling(window=3).mean()\n",
    "        x = (\n",
    "            start_time_rel\n",
    "            + (completed_time_rel - start_time_rel)\n",
    "            / total_steps\n",
    "            * this_trial_df[\"steps\"]\n",
    "        )\n",
    "        ax.plot(\n",
    "            x,\n",
    "            smoothed_curve,\n",
    "            label=f\"trial #{trial_index}\" if trial_index % 2 == 1 else None,\n",
    "        )\n",
    "    ax.legend()"
   ]
  },
  {
   "cell_type": "code",
   "execution_count": 19,
   "id": "d7f52fed",
   "metadata": {
    "execution": {
     "iopub.execute_input": "2024-08-22T07:13:20.973748Z",
     "iopub.status.busy": "2024-08-22T07:13:20.973243Z",
     "iopub.status.idle": "2024-08-22T07:13:21.009090Z",
     "shell.execute_reply": "2024-08-22T07:13:21.008351Z"
    },
    "papermill": {
     "duration": 0.112387,
     "end_time": "2024-08-22T07:13:21.010548",
     "exception": false,
     "start_time": "2024-08-22T07:13:20.898161",
     "status": "completed"
    },
    "tags": []
   },
   "outputs": [
    {
     "name": "stderr",
     "output_type": "stream",
     "text": [
      "/tmp/tmp.oVbuNeLNgw/Ax-main/ax/core/map_data.py:192: FutureWarning: The behavior of DataFrame concatenation with empty or all-NA entries is deprecated. In a future version, this will no longer exclude empty or all-NA columns when determining the result dtypes. To retain the old behavior, exclude the relevant entries before the concat operation.\n",
      "  df = pd.concat(\n",
      "[WARNING 08-22 07:13:20] ax.service.utils.report_utils: Column reason missing for all trials. Not appending column.\n"
     ]
    },
    {
     "name": "stdout",
     "output_type": "stream",
     "text": [
      "Encountered exception while plotting results: \"['steps'] not in index\"\n"
     ]
    },
    {
     "name": "stderr",
     "output_type": "stream",
     "text": [
      "/tmp/tmp.oVbuNeLNgw/Ax-main/ax/core/map_data.py:192: FutureWarning: The behavior of DataFrame concatenation with empty or all-NA entries is deprecated. In a future version, this will no longer exclude empty or all-NA columns when determining the result dtypes. To retain the old behavior, exclude the relevant entries before the concat operation.\n",
      "  df = pd.concat(\n"
     ]
    }
   ],
   "source": [
    "# wrap in try/except in case of flaky I/O issues\n",
    "try:\n",
    "    trials_df, curve_df = early_stopping_exp_to_df(experiment)\n",
    "    plot_curves_by_wall_time(trials_df, curve_df)\n",
    "except Exception as e:\n",
    "    print(f\"Encountered exception while plotting results: {e}\")"
   ]
  },
  {
   "cell_type": "code",
   "execution_count": null,
   "id": "193e2fc7",
   "metadata": {
    "papermill": {
     "duration": 0.078915,
     "end_time": "2024-08-22T07:13:21.165907",
     "exception": false,
     "start_time": "2024-08-22T07:13:21.086992",
     "status": "completed"
    },
    "tags": []
   },
   "outputs": [],
   "source": []
  }
 ],
 "metadata": {
  "kernelspec": {
   "display_name": "Python 3 (ipykernel)",
   "language": "python",
   "name": "python3"
  },
  "language_info": {
   "codemirror_mode": {
    "name": "ipython",
    "version": 3
   },
   "file_extension": ".py",
   "mimetype": "text/x-python",
   "name": "python",
   "nbconvert_exporter": "python",
   "pygments_lexer": "ipython3",
   "version": "3.10.14"
  },
  "papermill": {
   "default_parameters": {},
   "duration": 1835.573482,
   "end_time": "2024-08-22T07:13:24.051569",
   "environment_variables": {},
   "exception": null,
   "input_path": "/tmp/tmp.oVbuNeLNgw/Ax-main/tutorials/early_stopping/early_stopping.ipynb",
   "output_path": "/tmp/tmp.oVbuNeLNgw/Ax-main/tutorials/early_stopping/early_stopping.ipynb",
   "parameters": {},
   "start_time": "2024-08-22T06:42:48.478087",
   "version": "2.6.0"
  }
 },
 "nbformat": 4,
 "nbformat_minor": 5
}
