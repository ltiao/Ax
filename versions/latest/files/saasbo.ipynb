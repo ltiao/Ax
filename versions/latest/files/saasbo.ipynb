{
 "cells": [
  {
   "cell_type": "markdown",
   "id": "561b3c47",
   "metadata": {
    "originalKey": "1f779465-f9cc-4b17-9b5a-5960cf602273",
    "papermill": {
     "duration": 0.003104,
     "end_time": "2024-08-22T05:36:23.965915",
     "exception": false,
     "start_time": "2024-08-22T05:36:23.962811",
     "status": "completed"
    },
    "tags": []
   },
   "source": [
    "# High-Dimensional Bayesian Optimization with SAASBO\n",
    "\n",
    "This tutorial shows how to use the Sparse Axis-Aligned Subspace Bayesian Optimization (SAASBO) method for high-dimensional Bayesian optimization [1]. SAASBO places strong priors on the inverse lengthscales to avoid overfitting in high-dimensional spaces. Specifically, SAASBO uses a hierarchical sparsity prior consisting of a global shrinkage parameter $\\tau \\sim \\mathcal{HC}(\\beta)$ and inverse lengthscales $\\rho_d \\sim \\mathcal{HC}(\\tau)$ for $d=1, ..., D$, where $\\mathcal{HC}$ is the half-Cauchy distribution. While half-Cauchy priors favor values near zero they also have heavy tails, which allows the inverse lengthscales of the most important parameters to escape zero. To do inference in the SAAS model we use Hamiltonian Monte Carlo (HMC) as we found that to outperform MAP inference.\n",
    "\n",
    "We find that SAASBO performs well on problems with hundreds of dimensions. As we rely on HMC and in particular the No-U-Turn-Sampler (NUTS) for inference, the overhead of SAASBO scales cubically with the number of datapoints. Depending on the problem, using more than $100$ evaluations may not be feasible as SAASBO is designed for problems with a limited evaluation budget.\n",
    "\n",
    "[1] D. Eriksson, M. Jankowiak. High-Dimensional Bayesian Optimization with Sparse Axis-Aligned Subspaces. Proceedings of the Thirty-Seventh Conference on Uncertainty in Artificial Intelligence, 2021."
   ]
  },
  {
   "cell_type": "code",
   "execution_count": 1,
   "id": "e2012f30",
   "metadata": {
    "execution": {
     "iopub.execute_input": "2024-08-22T05:36:23.972940Z",
     "iopub.status.busy": "2024-08-22T05:36:23.972377Z",
     "iopub.status.idle": "2024-08-22T05:36:27.566116Z",
     "shell.execute_reply": "2024-08-22T05:36:27.565424Z"
    },
    "originalKey": "36a4c036-4075-4b15-87b2-a399c318f7b6",
    "papermill": {
     "duration": 3.599088,
     "end_time": "2024-08-22T05:36:27.567734",
     "exception": false,
     "start_time": "2024-08-22T05:36:23.968646",
     "status": "completed"
    },
    "tags": []
   },
   "outputs": [],
   "source": [
    "import os\n",
    "\n",
    "import matplotlib\n",
    "import matplotlib.pyplot as plt\n",
    "import numpy as np\n",
    "import torch\n",
    "\n",
    "from ax import Data, Experiment, ParameterType, RangeParameter, SearchSpace\n",
    "from ax.core.metric import Metric\n",
    "from ax.core.objective import Objective\n",
    "from ax.core.optimization_config import OptimizationConfig\n",
    "from ax.metrics.branin import BraninMetric\n",
    "from ax.modelbridge.cross_validation import cross_validate\n",
    "from ax.modelbridge.registry import Models\n",
    "from ax.models.torch.botorch_modular.surrogate import Surrogate\n",
    "from ax.runners.synthetic import SyntheticRunner\n",
    "from botorch.models.fully_bayesian import SaasFullyBayesianSingleTaskGP"
   ]
  },
  {
   "cell_type": "code",
   "execution_count": 2,
   "id": "183e5a5a",
   "metadata": {
    "execution": {
     "iopub.execute_input": "2024-08-22T05:36:27.574721Z",
     "iopub.status.busy": "2024-08-22T05:36:27.574199Z",
     "iopub.status.idle": "2024-08-22T05:36:27.577334Z",
     "shell.execute_reply": "2024-08-22T05:36:27.576776Z"
    },
    "papermill": {
     "duration": 0.00794,
     "end_time": "2024-08-22T05:36:27.578648",
     "exception": false,
     "start_time": "2024-08-22T05:36:27.570708",
     "status": "completed"
    },
    "tags": []
   },
   "outputs": [],
   "source": [
    "SMOKE_TEST = os.environ.get(\"SMOKE_TEST\")"
   ]
  },
  {
   "cell_type": "code",
   "execution_count": 3,
   "id": "fd4fb5a6",
   "metadata": {
    "execution": {
     "iopub.execute_input": "2024-08-22T05:36:27.584988Z",
     "iopub.status.busy": "2024-08-22T05:36:27.584656Z",
     "iopub.status.idle": "2024-08-22T05:36:27.589504Z",
     "shell.execute_reply": "2024-08-22T05:36:27.588893Z"
    },
    "originalKey": "08bf2c1e-5909-4bde-8829-0fb0d0a29a25",
    "papermill": {
     "duration": 0.009473,
     "end_time": "2024-08-22T05:36:27.590845",
     "exception": false,
     "start_time": "2024-08-22T05:36:27.581372",
     "status": "completed"
    },
    "tags": []
   },
   "outputs": [],
   "source": [
    "torch.manual_seed(12345)  # To always get the same Sobol points\n",
    "tkwargs = {\n",
    "    \"dtype\": torch.double,\n",
    "    \"device\": torch.device(\"cuda\" if torch.cuda.is_available() else \"cpu\"),\n",
    "}"
   ]
  },
  {
   "cell_type": "markdown",
   "id": "b9563d54",
   "metadata": {
    "originalKey": "2f9bd4f6-87d6-42d9-b575-f92cf94de7b0",
    "papermill": {
     "duration": 0.002621,
     "end_time": "2024-08-22T05:36:27.596119",
     "exception": false,
     "start_time": "2024-08-22T05:36:27.593498",
     "status": "completed"
    },
    "tags": []
   },
   "source": [
    "## Setup search space and metric\n",
    "In this simple experiment we use the Branin function embedded in a 30-dimensional space. Additional resources:\n",
    "- To set up a custom metric for your problem, refer to the dedicated section of the Developer API tutorial: https://ax.dev/tutorials/gpei_hartmann_developer.html#8.-Defining-custom-metrics.\n",
    "- To avoid needing to setup up custom metrics by Ax Service API: https://ax.dev/tutorials/gpei_hartmann_service.html."
   ]
  },
  {
   "cell_type": "code",
   "execution_count": 4,
   "id": "f7a0d531",
   "metadata": {
    "execution": {
     "iopub.execute_input": "2024-08-22T05:36:27.602519Z",
     "iopub.status.busy": "2024-08-22T05:36:27.602123Z",
     "iopub.status.idle": "2024-08-22T05:36:27.606808Z",
     "shell.execute_reply": "2024-08-22T05:36:27.606281Z"
    },
    "originalKey": "7697c80d-ab0c-4884-b4c7-c75d24a07e1a",
    "papermill": {
     "duration": 0.009313,
     "end_time": "2024-08-22T05:36:27.608098",
     "exception": false,
     "start_time": "2024-08-22T05:36:27.598785",
     "status": "completed"
    },
    "tags": []
   },
   "outputs": [],
   "source": [
    "search_space = SearchSpace(\n",
    "    parameters=[\n",
    "        RangeParameter(\n",
    "            name=f\"x{i}\", parameter_type=ParameterType.FLOAT, lower=-5.0, upper=10.0\n",
    "        )\n",
    "        for i in range(25)\n",
    "    ]\n",
    "    + [\n",
    "        RangeParameter(\n",
    "            name=f\"x{i + 25}\",\n",
    "            parameter_type=ParameterType.FLOAT,\n",
    "            lower=0.0,\n",
    "            upper=15.0,\n",
    "        )\n",
    "        for i in range(25)\n",
    "    ]\n",
    ")\n",
    "\n",
    "optimization_config = OptimizationConfig(\n",
    "    objective=Objective(\n",
    "        metric=BraninMetric(\n",
    "            name=\"objective\",\n",
    "            param_names=[\"x19\", \"x34\"],\n",
    "             # Set noise_sd=None if you want to learn the noise, set to 0.0 for no noise\n",
    "            noise_sd=1e-4, \n",
    "        ),\n",
    "        minimize=True,\n",
    "    )\n",
    ")"
   ]
  },
  {
   "cell_type": "markdown",
   "id": "997b9a6c",
   "metadata": {
    "originalKey": "379571df-a141-48f7-84de-f75bc6e8e760",
    "papermill": {
     "duration": 0.002617,
     "end_time": "2024-08-22T05:36:27.613500",
     "exception": false,
     "start_time": "2024-08-22T05:36:27.610883",
     "status": "completed"
    },
    "tags": []
   },
   "source": [
    "## Run benchmark"
   ]
  },
  {
   "cell_type": "code",
   "execution_count": 5,
   "id": "e409c22e",
   "metadata": {
    "execution": {
     "iopub.execute_input": "2024-08-22T05:36:27.619898Z",
     "iopub.status.busy": "2024-08-22T05:36:27.619490Z",
     "iopub.status.idle": "2024-08-22T05:36:27.623005Z",
     "shell.execute_reply": "2024-08-22T05:36:27.622342Z"
    },
    "papermill": {
     "duration": 0.008129,
     "end_time": "2024-08-22T05:36:27.624316",
     "exception": false,
     "start_time": "2024-08-22T05:36:27.616187",
     "status": "completed"
    },
    "tags": []
   },
   "outputs": [
    {
     "name": "stdout",
     "output_type": "stream",
     "text": [
      "Doing 40 evaluations\n"
     ]
    }
   ],
   "source": [
    "N_INIT = 10\n",
    "BATCH_SIZE = 3\n",
    "N_BATCHES = 1 if SMOKE_TEST else 10\n",
    "\n",
    "print(f\"Doing {N_INIT + N_BATCHES * BATCH_SIZE} evaluations\")"
   ]
  },
  {
   "cell_type": "code",
   "execution_count": 6,
   "id": "1380a5e9",
   "metadata": {
    "execution": {
     "iopub.execute_input": "2024-08-22T05:36:27.631000Z",
     "iopub.status.busy": "2024-08-22T05:36:27.630576Z",
     "iopub.status.idle": "2024-08-22T05:36:27.633780Z",
     "shell.execute_reply": "2024-08-22T05:36:27.633238Z"
    },
    "papermill": {
     "duration": 0.007904,
     "end_time": "2024-08-22T05:36:27.635056",
     "exception": false,
     "start_time": "2024-08-22T05:36:27.627152",
     "status": "completed"
    },
    "tags": []
   },
   "outputs": [],
   "source": [
    "# Experiment\n",
    "experiment = Experiment(\n",
    "    name=\"saasbo_experiment\",\n",
    "    search_space=search_space,\n",
    "    optimization_config=optimization_config,\n",
    "    runner=SyntheticRunner(),\n",
    ")"
   ]
  },
  {
   "cell_type": "code",
   "execution_count": 7,
   "id": "8d97651b",
   "metadata": {
    "execution": {
     "iopub.execute_input": "2024-08-22T05:36:27.641662Z",
     "iopub.status.busy": "2024-08-22T05:36:27.641264Z",
     "iopub.status.idle": "2024-08-22T05:36:27.671286Z",
     "shell.execute_reply": "2024-08-22T05:36:27.670784Z"
    },
    "papermill": {
     "duration": 0.034686,
     "end_time": "2024-08-22T05:36:27.672586",
     "exception": false,
     "start_time": "2024-08-22T05:36:27.637900",
     "status": "completed"
    },
    "tags": []
   },
   "outputs": [],
   "source": [
    "# Initial Sobol points\n",
    "sobol = Models.SOBOL(search_space=experiment.search_space)\n",
    "for _ in range(N_INIT):\n",
    "    experiment.new_trial(sobol.gen(1)).run()"
   ]
  },
  {
   "cell_type": "code",
   "execution_count": 8,
   "id": "7eea731f",
   "metadata": {
    "execution": {
     "iopub.execute_input": "2024-08-22T05:36:27.679597Z",
     "iopub.status.busy": "2024-08-22T05:36:27.679124Z",
     "iopub.status.idle": "2024-08-22T05:58:40.151356Z",
     "shell.execute_reply": "2024-08-22T05:58:40.150602Z"
    },
    "originalKey": "bdfeea50-c4e6-4ff1-91ae-c8f6c3160d7c",
    "papermill": {
     "duration": 1332.480021,
     "end_time": "2024-08-22T05:58:40.155592",
     "exception": false,
     "start_time": "2024-08-22T05:36:27.675571",
     "status": "completed"
    },
    "tags": []
   },
   "outputs": [
    {
     "name": "stdout",
     "output_type": "stream",
     "text": [
      "Iteration: 0, Best in iteration 8.218, Best so far: 3.963\n"
     ]
    },
    {
     "name": "stdout",
     "output_type": "stream",
     "text": [
      "Iteration: 1, Best in iteration 7.794, Best so far: 3.963\n"
     ]
    },
    {
     "name": "stdout",
     "output_type": "stream",
     "text": [
      "Iteration: 2, Best in iteration 25.383, Best so far: 3.963\n"
     ]
    },
    {
     "name": "stdout",
     "output_type": "stream",
     "text": [
      "Iteration: 3, Best in iteration 10.961, Best so far: 3.963\n"
     ]
    },
    {
     "name": "stdout",
     "output_type": "stream",
     "text": [
      "Iteration: 4, Best in iteration 14.371, Best so far: 3.963\n"
     ]
    },
    {
     "name": "stdout",
     "output_type": "stream",
     "text": [
      "Iteration: 5, Best in iteration 4.536, Best so far: 3.963\n"
     ]
    },
    {
     "name": "stdout",
     "output_type": "stream",
     "text": [
      "Iteration: 6, Best in iteration 10.961, Best so far: 3.963\n"
     ]
    },
    {
     "name": "stdout",
     "output_type": "stream",
     "text": [
      "Iteration: 7, Best in iteration 1.166, Best so far: 1.166\n"
     ]
    },
    {
     "name": "stdout",
     "output_type": "stream",
     "text": [
      "Iteration: 8, Best in iteration 0.421, Best so far: 0.421\n"
     ]
    },
    {
     "name": "stdout",
     "output_type": "stream",
     "text": [
      "Iteration: 9, Best in iteration 0.404, Best so far: 0.404\n",
      "CPU times: user 43min 58s, sys: 26.3 s, total: 44min 24s\n",
      "Wall time: 22min 12s\n"
     ]
    }
   ],
   "source": [
    "%%time\n",
    "# Run SAASBO\n",
    "data = experiment.fetch_data()\n",
    "for i in range(N_BATCHES):\n",
    "    model = Models.SAASBO(experiment=experiment, data=data)\n",
    "    generator_run = model.gen(BATCH_SIZE)\n",
    "    trial = experiment.new_batch_trial(generator_run=generator_run)\n",
    "    trial.run()\n",
    "    data = Data.from_multiple_data([data, trial.fetch_data()])\n",
    "\n",
    "    new_value = trial.fetch_data().df[\"mean\"].min()\n",
    "    print(\n",
    "        f\"Iteration: {i}, Best in iteration {new_value:.3f}, Best so far: {data.df['mean'].min():.3f}\"\n",
    "    )"
   ]
  },
  {
   "cell_type": "markdown",
   "id": "b8384985",
   "metadata": {
    "papermill": {
     "duration": 0.003298,
     "end_time": "2024-08-22T05:58:40.162354",
     "exception": false,
     "start_time": "2024-08-22T05:58:40.159056",
     "status": "completed"
    },
    "tags": []
   },
   "source": [
    "## Plot results\n",
    "SAASBO is able to find a solution close to the global optimal value of 0.398"
   ]
  },
  {
   "cell_type": "code",
   "execution_count": 9,
   "id": "19815057",
   "metadata": {
    "execution": {
     "iopub.execute_input": "2024-08-22T05:58:40.170188Z",
     "iopub.status.busy": "2024-08-22T05:58:40.169724Z",
     "iopub.status.idle": "2024-08-22T05:58:40.320689Z",
     "shell.execute_reply": "2024-08-22T05:58:40.320010Z"
    },
    "originalKey": "5a9b9706-2653-4320-96f3-4bc9fe88bceb",
    "papermill": {
     "duration": 0.156514,
     "end_time": "2024-08-22T05:58:40.322105",
     "exception": false,
     "start_time": "2024-08-22T05:58:40.165591",
     "status": "completed"
    },
    "tags": []
   },
   "outputs": [
    {
     "data": {
      "image/png": "[encoded data removed]",
      "text/plain": [
       "<Figure size 800x600 with 1 Axes>"
      ]
     },
     "metadata": {},
     "output_type": "display_data"
    }
   ],
   "source": [
    "%matplotlib inline\n",
    "matplotlib.rcParams.update({\"font.size\": 16})\n",
    "\n",
    "\n",
    "fig, ax = plt.subplots(figsize=(8, 6))\n",
    "res_saasbo = data.df[\"mean\"]\n",
    "ax.plot(np.minimum.accumulate(res_saasbo), color=\"b\", label=\"SAASBO\")\n",
    "ax.plot([0, len(res_saasbo)], [0.398, 0.398], \"--\", c=\"g\", lw=3, label=\"Optimal value\")\n",
    "ax.grid(True)\n",
    "ax.set_title(\"Branin, D=50\", fontsize=20)\n",
    "ax.set_xlabel(\"Number of evaluations\", fontsize=20)\n",
    "ax.set_xlim([0, len(res_saasbo)])\n",
    "ax.set_ylabel(\"Best value found\", fontsize=20)\n",
    "ax.set_ylim([0, 8])\n",
    "ax.legend(fontsize=18)\n",
    "plt.show()"
   ]
  },
  {
   "cell_type": "markdown",
   "id": "1179292f",
   "metadata": {
    "papermill": {
     "duration": 0.003825,
     "end_time": "2024-08-22T05:58:40.330119",
     "exception": false,
     "start_time": "2024-08-22T05:58:40.326294",
     "status": "completed"
    },
    "tags": []
   },
   "source": [
    "## SAAS model fit"
   ]
  },
  {
   "cell_type": "markdown",
   "id": "857e349f",
   "metadata": {
    "papermill": {
     "duration": 0.003726,
     "end_time": "2024-08-22T05:58:40.337615",
     "exception": false,
     "start_time": "2024-08-22T05:58:40.333889",
     "status": "completed"
    },
    "tags": []
   },
   "source": [
    "We can also instantiate a SAAS model via `Models.BOTORCH_MODULAR` by specifying a `SaasFullyBayesianSingleTaskGP` as the `botorch_model_class`. This also gives us the option to change several Pyro-specific parameters such as `num_samples` and `warmup_steps`."
   ]
  },
  {
   "cell_type": "code",
   "execution_count": 10,
   "id": "e2c45070",
   "metadata": {
    "execution": {
     "iopub.execute_input": "2024-08-22T05:58:40.346633Z",
     "iopub.status.busy": "2024-08-22T05:58:40.346189Z",
     "iopub.status.idle": "2024-08-22T06:00:12.272328Z",
     "shell.execute_reply": "2024-08-22T06:00:12.271584Z"
    },
    "papermill": {
     "duration": 91.932692,
     "end_time": "2024-08-22T06:00:12.274061",
     "exception": false,
     "start_time": "2024-08-22T05:58:40.341369",
     "status": "completed"
    },
    "tags": []
   },
   "outputs": [],
   "source": [
    "model = Models.BOTORCH_MODULAR(\n",
    "    experiment=experiment,\n",
    "    data=data,\n",
    "    surrogate=Surrogate(\n",
    "        botorch_model_class=SaasFullyBayesianSingleTaskGP,\n",
    "        mll_options={\n",
    "            \"num_samples\": 256,  # Increasing this may result in better model fits\n",
    "            \"warmup_steps\": 512,  # Increasing this may result in better model fits\n",
    "        },\n",
    "    )\n",
    ")"
   ]
  },
  {
   "cell_type": "markdown",
   "id": "469e2ace",
   "metadata": {
    "papermill": {
     "duration": 0.0041,
     "end_time": "2024-08-22T06:00:12.282705",
     "exception": false,
     "start_time": "2024-08-22T06:00:12.278605",
     "status": "completed"
    },
    "tags": []
   },
   "source": [
    "### Cross-validation plot \n",
    "We have tools for cross-validation in Ax, but plotly doesn't render on Github so we make a simple plot using Matplotlib here. To use the built-in cross-validation functionality, you can do something like this:\n",
    "\n",
    "```\n",
    "from ax.modelbridge.cross_validation import cross_validate, compute_diagnostics\n",
    "from ax.plot.diagnostic import interact_cross_validation\n",
    "from ax.utils.notebook.plotting import render, init_notebook_plotting\n",
    "\n",
    "\n",
    "cv = cross_validate(model)\n",
    "diagnostics = compute_diagnostics(cv)\n",
    "init_notebook_plotting()\n",
    "plotconfig = interact_cross_validation(cv)\n",
    "render(plotconfig)\n",
    "```"
   ]
  },
  {
   "cell_type": "code",
   "execution_count": 11,
   "id": "9a8b5887",
   "metadata": {
    "execution": {
     "iopub.execute_input": "2024-08-22T06:00:12.291630Z",
     "iopub.status.busy": "2024-08-22T06:00:12.291380Z",
     "iopub.status.idle": "2024-08-22T06:00:12.919599Z",
     "shell.execute_reply": "2024-08-22T06:00:12.918971Z"
    },
    "papermill": {
     "duration": 0.634387,
     "end_time": "2024-08-22T06:00:12.920952",
     "exception": false,
     "start_time": "2024-08-22T06:00:12.286565",
     "status": "completed"
    },
    "tags": []
   },
   "outputs": [
    {
     "data": {
      "image/png": "[encoded data removed]",
      "text/plain": [
       "<Figure size 600x600 with 1 Axes>"
      ]
     },
     "metadata": {},
     "output_type": "display_data"
    }
   ],
   "source": [
    "# Cross-validate model\n",
    "cv = cross_validate(model)\n",
    "y_true = np.stack([cv_.observed.data.means for cv_ in cv]).ravel()\n",
    "y_saas_mean = np.stack([cv_.predicted.means for cv_ in cv]).ravel()\n",
    "y_saas_std = np.stack(\n",
    "    [np.sqrt(np.diag(cv_.predicted.covariance)) for cv_ in cv]\n",
    ").ravel()\n",
    "\n",
    "# Cross-validation plot\n",
    "fig, ax = plt.subplots(1, 1, figsize=(6, 6))\n",
    "min_val, max_val = -5, 120\n",
    "ax.plot([min_val, max_val], [min_val, max_val], \"b--\", lw=2)\n",
    "markers, caps, bars = ax.errorbar(\n",
    "    y_true,\n",
    "    y_saas_mean,\n",
    "    yerr=1.96 * y_saas_std,\n",
    "    fmt=\".\",\n",
    "    capsize=4,\n",
    "    elinewidth=2.0,\n",
    "    ms=14,\n",
    "    c=\"k\",\n",
    "    ecolor=\"gray\",\n",
    ")\n",
    "[bar.set_alpha(0.8) for bar in bars]\n",
    "[cap.set_alpha(0.8) for cap in caps]\n",
    "ax.set_xlim([min_val, max_val])\n",
    "ax.set_ylim([min_val, max_val])\n",
    "ax.set_xlabel(\"True value\", fontsize=20)\n",
    "ax.set_ylabel(\"Predicted value\", fontsize=20)\n",
    "ax.grid(True)"
   ]
  },
  {
   "cell_type": "markdown",
   "id": "23767a20",
   "metadata": {
    "papermill": {
     "duration": 0.004398,
     "end_time": "2024-08-22T06:00:12.930174",
     "exception": false,
     "start_time": "2024-08-22T06:00:12.925776",
     "status": "completed"
    },
    "tags": []
   },
   "source": [
    "### Lengthscales\n",
    "As SAASBO places strong priors on the inverse lengthscales, we only expect parameters 19 and 44 to be identified as important by the model since the other parameters have no effect. We can confirm that this is the case below as the lengthscales of parameters 19 and 44 are close to 1 with all other lengthscales being larger than 1000.  "
   ]
  },
  {
   "cell_type": "code",
   "execution_count": 12,
   "id": "689a18d9",
   "metadata": {
    "execution": {
     "iopub.execute_input": "2024-08-22T06:00:12.940078Z",
     "iopub.status.busy": "2024-08-22T06:00:12.939548Z",
     "iopub.status.idle": "2024-08-22T06:00:12.944617Z",
     "shell.execute_reply": "2024-08-22T06:00:12.944036Z"
    },
    "papermill": {
     "duration": 0.011457,
     "end_time": "2024-08-22T06:00:12.945945",
     "exception": false,
     "start_time": "2024-08-22T06:00:12.934488",
     "status": "completed"
    },
    "tags": []
   },
   "outputs": [
    {
     "name": "stdout",
     "output_type": "stream",
     "text": [
      "Parameter 19) Median lengthscale = 6.27e-01\n",
      "Parameter 34) Median lengthscale = 1.91e+00\n",
      "Parameter 38) Median lengthscale = 5.85e+02\n",
      "Parameter 17) Median lengthscale = 6.21e+02\n",
      "Parameter 30) Median lengthscale = 8.94e+02\n",
      "Parameter 26) Median lengthscale = 9.12e+02\n",
      "Parameter 32) Median lengthscale = 9.66e+02\n",
      "Parameter  2) Median lengthscale = 9.71e+02\n",
      "Parameter 36) Median lengthscale = 9.73e+02\n",
      "Parameter  3) Median lengthscale = 9.82e+02\n"
     ]
    }
   ],
   "source": [
    "median_lengthscales = (\n",
    "    model.model.surrogate.model\n",
    "    .covar_module.base_kernel.lengthscale.squeeze()\n",
    "    .median(axis=0)\n",
    "    .values\n",
    ")\n",
    "for i in median_lengthscales.argsort()[:10]:\n",
    "    print(f\"Parameter {i:2}) Median lengthscale = {median_lengthscales[i]:.2e}\")"
   ]
  },
  {
   "cell_type": "code",
   "execution_count": null,
   "id": "8b0f361c",
   "metadata": {
    "papermill": {
     "duration": 0.004419,
     "end_time": "2024-08-22T06:00:12.954893",
     "exception": false,
     "start_time": "2024-08-22T06:00:12.950474",
     "status": "completed"
    },
    "tags": []
   },
   "outputs": [],
   "source": []
  }
 ],
 "metadata": {
  "kernelspec": {
   "display_name": "Python 3 (ipykernel)",
   "language": "python",
   "name": "python3"
  },
  "language_info": {
   "codemirror_mode": {
    "name": "ipython",
    "version": 3
   },
   "file_extension": ".py",
   "mimetype": "text/x-python",
   "name": "python",
   "nbconvert_exporter": "python",
   "pygments_lexer": "ipython3",
   "version": "3.10.14"
  },
  "papermill": {
   "default_parameters": {},
   "duration": 1432.306635,
   "end_time": "2024-08-22T06:00:15.467878",
   "environment_variables": {},
   "exception": null,
   "input_path": "/tmp/tmp.oVbuNeLNgw/Ax-main/tutorials/saasbo.ipynb",
   "output_path": "/tmp/tmp.oVbuNeLNgw/Ax-main/tutorials/saasbo.ipynb",
   "parameters": {},
   "start_time": "2024-08-22T05:36:23.161243",
   "version": "2.6.0"
  }
 },
 "nbformat": 4,
 "nbformat_minor": 5
}
